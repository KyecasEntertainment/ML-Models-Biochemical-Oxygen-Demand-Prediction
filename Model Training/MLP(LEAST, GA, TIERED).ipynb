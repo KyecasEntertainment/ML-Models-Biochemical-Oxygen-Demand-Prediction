{
 "cells": [
  {
   "cell_type": "code",
   "execution_count": 4,
   "id": "fa8b391e-25ad-4c3e-a83e-f876de58d872",
   "metadata": {},
   "outputs": [
    {
     "name": "stdout",
     "output_type": "stream",
     "text": [
      "Missing values in gunao_surface.csv:\n",
      "Series([], dtype: int64)\n",
      "\n",
      "Missing values in tikub_surface_bottom.csv:\n",
      "Series([], dtype: int64)\n"
     ]
    }
   ],
   "source": [
    "import pandas as pd\n",
    "import numpy as np\n",
    "from sklearn.model_selection import train_test_split\n",
    "from sklearn.preprocessing import StandardScaler\n",
    "from sklearn.metrics import mean_squared_error, mean_absolute_error, r2_score\n",
    "from tensorflow.keras.models import Sequential\n",
    "from tensorflow.keras.layers import Dense\n",
    "\n",
    "# Load the datasets\n",
    "gunao = pd.read_csv('gunao_surface.csv')\n",
    "tikob = pd.read_csv('tikub_surface_bottom.csv')\n",
    "tikob_surface = tikob[tikob['COLLECTION'] == 'Surface']\n",
    "\n",
    "columns_to_exclude = ['DATE', 'MONTH', 'YEAR', 'STATION', 'REPLICATE', 'COLLECTION', 'Latitude', 'Longtitude']\n",
    "tikob_fil = tikob_surface.drop(columns=columns_to_exclude)\n",
    "gunao_fil = gunao.drop(columns=columns_to_exclude)\n",
    "\n",
    "# Check for missing values in gunao\n",
    "missing_values_gunao = gunao_fil.isnull().sum()\n",
    "print(\"Missing values in gunao_surface.csv:\")\n",
    "print(missing_values_gunao[missing_values_gunao > 0])\n",
    "\n",
    "# Check for missing values in tikub\n",
    "missing_values_tikub = tikob_fil.isnull().sum()\n",
    "print(\"\\nMissing values in tikub_surface_bottom.csv:\")\n",
    "print(missing_values_tikub[missing_values_tikub > 0])\n",
    "\n",
    "feature_columns = [\n",
    "    'pH','DO (mg/L)','TDS (mg/L)','Salinity (ppt)','Cond (uS/cm)','Temp (°C)','TSS (mg/L)', 'NO2 (ppm)', 'NO3 (ppm)', 'PO4  (ppm)', 'NH4 (ppm)',\n",
    "    'TN (ppm)', 'TP (ppm)', 'BGA-PC (ug/L)', 'Chlorophyll (ug/L)',\n",
    "    'Turbidity (FNU)', 'Coliform (CFU/100ml)', 'Cu (ppm)', 'Fe (ppm)',\n",
    "    'Mn(ppm)', 'Zn(ppm)', 'Cr(ppm)', 'Cd(ppm)', 'Hg(ppm)', 'As(ppm)', 'Pb(ppm)'\n",
    "]\n",
    "target_column = 'BOD (mg/L)'\n",
    "\n",
    "X_tikob = tikob_fil[feature_columns]\n",
    "y_tikob = tikob_fil[target_column]\n",
    "\n",
    "X_train_tikob, X_test_tikob, y_train_tikob, y_test_tikob = train_test_split(X_tikob, y_tikob, test_size=0.2, random_state=42)\n",
    "\n",
    "X_gunao = gunao_fil[feature_columns]\n",
    "y_gunao = gunao_fil[target_column]\n",
    "\n",
    "X_train_gunao, X_test_gunao, y_train_gunao, y_test_gunao = train_test_split(X_gunao, y_gunao, test_size=0.2, random_state=42)\n",
    "\n",
    "# Combine the datasets\n",
    "X_combined = pd.concat([X_tikob, X_gunao], axis=0)\n",
    "y_combined = pd.concat([y_tikob, y_gunao], axis=0)\n",
    "\n",
    "# Split the combined dataset into training and testing sets\n",
    "X_train, X_test, y_train, y_test = train_test_split(X_combined, y_combined, test_size=0.2, random_state=42)\n",
    "\n",
    "# Standardize the features\n",
    "scaler = StandardScaler()\n",
    "X_train_scaled = scaler.fit_transform(X_train)\n",
    "X_test_scaled = scaler.transform(X_test)"
   ]
  },
  {
   "cell_type": "code",
   "execution_count": null,
   "id": "86092afa-b0c4-4d02-aa76-5c8b97fcf652",
   "metadata": {},
   "outputs": [],
   "source": []
  },
  {
   "cell_type": "code",
   "execution_count": 55,
   "id": "af5e09fd-719a-4b2b-b8a3-4c319fc8439a",
   "metadata": {
    "scrolled": true
   },
   "outputs": [
    {
     "name": "stdout",
     "output_type": "stream",
     "text": [
      "Epoch 1/500\n"
     ]
    },
    {
     "name": "stderr",
     "output_type": "stream",
     "text": [
      "h:\\MODEL\\MLP\\M\\Lib\\site-packages\\keras\\engine\\data_adapter.py:1700: FutureWarning: The behavior of `series[i:j]` with an integer-dtype index is deprecated. In a future version, this will be treated as *label-based* indexing, consistent with e.g. `series[i]` lookups. To retain the old behavior, use `series.iloc[i:j]`. To get the future behavior, use `series.loc[i:j]`.\n",
      "  return t[start:end]\n"
     ]
    },
    {
     "name": "stdout",
     "output_type": "stream",
     "text": [
      "5/5 [==============================] - 1s 44ms/step - loss: 3.0195 - mean_absolute_error: 1.3253 - val_loss: 0.8921 - val_mean_absolute_error: 0.7249\n",
      "Epoch 2/500\n",
      "5/5 [==============================] - 0s 10ms/step - loss: 1.1397 - mean_absolute_error: 0.8224 - val_loss: 0.7905 - val_mean_absolute_error: 0.6759\n",
      "Epoch 3/500\n",
      "5/5 [==============================] - 0s 10ms/step - loss: 0.7696 - mean_absolute_error: 0.6481 - val_loss: 0.6003 - val_mean_absolute_error: 0.5265\n",
      "Epoch 4/500\n",
      "5/5 [==============================] - 0s 10ms/step - loss: 0.6267 - mean_absolute_error: 0.5568 - val_loss: 0.7106 - val_mean_absolute_error: 0.6533\n",
      "Epoch 5/500\n",
      "5/5 [==============================] - 0s 10ms/step - loss: 0.5437 - mean_absolute_error: 0.5268 - val_loss: 0.8090 - val_mean_absolute_error: 0.6871\n",
      "Epoch 6/500\n",
      "5/5 [==============================] - 0s 9ms/step - loss: 0.4334 - mean_absolute_error: 0.4774 - val_loss: 0.5024 - val_mean_absolute_error: 0.5294\n",
      "Epoch 7/500\n",
      "5/5 [==============================] - 0s 11ms/step - loss: 0.4139 - mean_absolute_error: 0.4696 - val_loss: 0.4301 - val_mean_absolute_error: 0.5150\n",
      "Epoch 8/500\n",
      "5/5 [==============================] - 0s 10ms/step - loss: 0.3651 - mean_absolute_error: 0.4426 - val_loss: 0.3365 - val_mean_absolute_error: 0.4604\n",
      "Epoch 9/500\n",
      "5/5 [==============================] - 0s 10ms/step - loss: 0.3405 - mean_absolute_error: 0.4231 - val_loss: 0.2294 - val_mean_absolute_error: 0.3604\n",
      "Epoch 10/500\n",
      "5/5 [==============================] - 0s 9ms/step - loss: 0.2786 - mean_absolute_error: 0.3759 - val_loss: 0.2820 - val_mean_absolute_error: 0.3846\n",
      "Epoch 11/500\n",
      "5/5 [==============================] - 0s 10ms/step - loss: 0.2649 - mean_absolute_error: 0.3633 - val_loss: 0.2819 - val_mean_absolute_error: 0.4348\n",
      "Epoch 12/500\n",
      "5/5 [==============================] - 0s 10ms/step - loss: 0.2317 - mean_absolute_error: 0.3481 - val_loss: 0.2746 - val_mean_absolute_error: 0.3983\n",
      "Epoch 13/500\n",
      "5/5 [==============================] - 0s 10ms/step - loss: 0.2204 - mean_absolute_error: 0.3264 - val_loss: 0.2483 - val_mean_absolute_error: 0.3584\n",
      "Epoch 14/500\n",
      "5/5 [==============================] - 0s 10ms/step - loss: 0.2353 - mean_absolute_error: 0.3431 - val_loss: 0.4001 - val_mean_absolute_error: 0.5165\n",
      "Epoch 15/500\n",
      "5/5 [==============================] - 0s 10ms/step - loss: 0.2473 - mean_absolute_error: 0.3572 - val_loss: 0.2835 - val_mean_absolute_error: 0.3910\n",
      "Epoch 16/500\n",
      "5/5 [==============================] - 0s 11ms/step - loss: 0.2118 - mean_absolute_error: 0.3269 - val_loss: 0.3392 - val_mean_absolute_error: 0.4563\n",
      "Epoch 17/500\n",
      "5/5 [==============================] - 0s 10ms/step - loss: 0.2117 - mean_absolute_error: 0.3226 - val_loss: 0.3541 - val_mean_absolute_error: 0.4602\n",
      "Epoch 18/500\n",
      "5/5 [==============================] - 0s 10ms/step - loss: 0.1898 - mean_absolute_error: 0.3036 - val_loss: 0.3692 - val_mean_absolute_error: 0.4236\n",
      "Epoch 19/500\n",
      "5/5 [==============================] - 0s 11ms/step - loss: 0.1701 - mean_absolute_error: 0.2806 - val_loss: 0.3656 - val_mean_absolute_error: 0.4727\n",
      "Epoch 20/500\n",
      "5/5 [==============================] - 0s 11ms/step - loss: 0.1846 - mean_absolute_error: 0.2915 - val_loss: 0.3402 - val_mean_absolute_error: 0.4121\n",
      "Epoch 21/500\n",
      "5/5 [==============================] - 0s 10ms/step - loss: 0.1600 - mean_absolute_error: 0.2620 - val_loss: 0.3326 - val_mean_absolute_error: 0.4285\n",
      "Epoch 22/500\n",
      "5/5 [==============================] - 0s 12ms/step - loss: 0.1467 - mean_absolute_error: 0.2413 - val_loss: 0.2847 - val_mean_absolute_error: 0.3916\n",
      "Epoch 23/500\n",
      "5/5 [==============================] - 0s 10ms/step - loss: 0.1413 - mean_absolute_error: 0.2396 - val_loss: 0.2803 - val_mean_absolute_error: 0.3879\n",
      "Epoch 24/500\n",
      "5/5 [==============================] - 0s 11ms/step - loss: 0.1287 - mean_absolute_error: 0.2215 - val_loss: 0.2667 - val_mean_absolute_error: 0.3868\n",
      "Epoch 25/500\n",
      "5/5 [==============================] - 0s 12ms/step - loss: 0.1287 - mean_absolute_error: 0.2151 - val_loss: 0.2580 - val_mean_absolute_error: 0.3816\n",
      "Epoch 26/500\n",
      "5/5 [==============================] - 0s 10ms/step - loss: 0.1231 - mean_absolute_error: 0.2225 - val_loss: 0.2412 - val_mean_absolute_error: 0.3638\n",
      "Epoch 27/500\n",
      "5/5 [==============================] - 0s 10ms/step - loss: 0.1173 - mean_absolute_error: 0.2149 - val_loss: 0.3163 - val_mean_absolute_error: 0.4110\n",
      "Epoch 28/500\n",
      "5/5 [==============================] - 0s 9ms/step - loss: 0.1035 - mean_absolute_error: 0.2092 - val_loss: 0.2566 - val_mean_absolute_error: 0.3723\n",
      "Epoch 29/500\n",
      "5/5 [==============================] - 0s 11ms/step - loss: 0.0991 - mean_absolute_error: 0.2049 - val_loss: 0.3229 - val_mean_absolute_error: 0.4073\n",
      "Epoch 30/500\n",
      "5/5 [==============================] - 0s 10ms/step - loss: 0.0943 - mean_absolute_error: 0.2007 - val_loss: 0.2373 - val_mean_absolute_error: 0.3518\n",
      "Epoch 31/500\n",
      "5/5 [==============================] - 0s 10ms/step - loss: 0.0919 - mean_absolute_error: 0.1897 - val_loss: 0.2592 - val_mean_absolute_error: 0.3668\n",
      "Epoch 32/500\n",
      "5/5 [==============================] - 0s 10ms/step - loss: 0.0942 - mean_absolute_error: 0.1993 - val_loss: 0.2681 - val_mean_absolute_error: 0.3814\n",
      "Epoch 33/500\n",
      "5/5 [==============================] - 0s 11ms/step - loss: 0.0777 - mean_absolute_error: 0.1808 - val_loss: 0.2788 - val_mean_absolute_error: 0.3725\n",
      "Epoch 34/500\n",
      "5/5 [==============================] - 0s 10ms/step - loss: 0.0734 - mean_absolute_error: 0.1699 - val_loss: 0.3199 - val_mean_absolute_error: 0.3904\n",
      "Epoch 35/500\n",
      "5/5 [==============================] - 0s 10ms/step - loss: 0.0678 - mean_absolute_error: 0.1602 - val_loss: 0.2899 - val_mean_absolute_error: 0.3761\n",
      "Epoch 36/500\n",
      "5/5 [==============================] - 0s 10ms/step - loss: 0.0810 - mean_absolute_error: 0.1862 - val_loss: 0.3354 - val_mean_absolute_error: 0.4047\n",
      "Epoch 37/500\n",
      "5/5 [==============================] - 0s 10ms/step - loss: 0.0972 - mean_absolute_error: 0.2316 - val_loss: 0.2355 - val_mean_absolute_error: 0.3496\n",
      "Epoch 38/500\n",
      "5/5 [==============================] - 0s 9ms/step - loss: 0.0938 - mean_absolute_error: 0.2335 - val_loss: 0.3208 - val_mean_absolute_error: 0.4034\n",
      "Epoch 39/500\n",
      "5/5 [==============================] - 0s 10ms/step - loss: 0.0788 - mean_absolute_error: 0.1982 - val_loss: 0.3316 - val_mean_absolute_error: 0.4028\n",
      "Epoch 40/500\n",
      "5/5 [==============================] - 0s 11ms/step - loss: 0.0620 - mean_absolute_error: 0.1705 - val_loss: 0.2357 - val_mean_absolute_error: 0.3397\n",
      "Epoch 41/500\n",
      "5/5 [==============================] - 0s 11ms/step - loss: 0.0506 - mean_absolute_error: 0.1550 - val_loss: 0.2767 - val_mean_absolute_error: 0.3523\n",
      "Epoch 42/500\n",
      "5/5 [==============================] - 0s 10ms/step - loss: 0.0496 - mean_absolute_error: 0.1559 - val_loss: 0.2685 - val_mean_absolute_error: 0.3604\n",
      "Epoch 43/500\n",
      "5/5 [==============================] - 0s 10ms/step - loss: 0.0478 - mean_absolute_error: 0.1512 - val_loss: 0.2378 - val_mean_absolute_error: 0.3550\n",
      "Epoch 44/500\n",
      "5/5 [==============================] - 0s 9ms/step - loss: 0.0427 - mean_absolute_error: 0.1474 - val_loss: 0.2573 - val_mean_absolute_error: 0.3518\n",
      "Epoch 45/500\n",
      "5/5 [==============================] - 0s 17ms/step - loss: 0.0435 - mean_absolute_error: 0.1516 - val_loss: 0.3328 - val_mean_absolute_error: 0.4151\n",
      "Epoch 46/500\n",
      "5/5 [==============================] - 0s 13ms/step - loss: 0.0390 - mean_absolute_error: 0.1470 - val_loss: 0.2459 - val_mean_absolute_error: 0.3561\n",
      "Epoch 47/500\n",
      "5/5 [==============================] - 0s 12ms/step - loss: 0.0413 - mean_absolute_error: 0.1464 - val_loss: 0.2608 - val_mean_absolute_error: 0.3676\n",
      "Epoch 48/500\n",
      "5/5 [==============================] - 0s 12ms/step - loss: 0.0407 - mean_absolute_error: 0.1406 - val_loss: 0.1868 - val_mean_absolute_error: 0.3285\n",
      "Epoch 49/500\n",
      "5/5 [==============================] - 0s 10ms/step - loss: 0.0363 - mean_absolute_error: 0.1331 - val_loss: 0.2413 - val_mean_absolute_error: 0.3448\n",
      "Epoch 50/500\n",
      "5/5 [==============================] - 0s 11ms/step - loss: 0.0358 - mean_absolute_error: 0.1344 - val_loss: 0.2828 - val_mean_absolute_error: 0.3701\n",
      "Epoch 51/500\n",
      "5/5 [==============================] - 0s 10ms/step - loss: 0.0337 - mean_absolute_error: 0.1302 - val_loss: 0.2410 - val_mean_absolute_error: 0.3383\n",
      "Epoch 52/500\n",
      "5/5 [==============================] - 0s 13ms/step - loss: 0.0375 - mean_absolute_error: 0.1356 - val_loss: 0.3387 - val_mean_absolute_error: 0.4161\n",
      "Epoch 53/500\n",
      "5/5 [==============================] - 0s 11ms/step - loss: 0.0405 - mean_absolute_error: 0.1465 - val_loss: 0.2119 - val_mean_absolute_error: 0.3522\n",
      "Epoch 54/500\n",
      "5/5 [==============================] - 0s 12ms/step - loss: 0.0438 - mean_absolute_error: 0.1490 - val_loss: 0.2760 - val_mean_absolute_error: 0.3826\n",
      "Epoch 55/500\n",
      "5/5 [==============================] - 0s 11ms/step - loss: 0.0459 - mean_absolute_error: 0.1522 - val_loss: 0.1908 - val_mean_absolute_error: 0.3205\n",
      "Epoch 56/500\n",
      "5/5 [==============================] - 0s 11ms/step - loss: 0.0496 - mean_absolute_error: 0.1680 - val_loss: 0.2856 - val_mean_absolute_error: 0.4045\n",
      "Epoch 57/500\n",
      "5/5 [==============================] - 0s 10ms/step - loss: 0.0492 - mean_absolute_error: 0.1730 - val_loss: 0.2146 - val_mean_absolute_error: 0.3366\n",
      "Epoch 58/500\n",
      "5/5 [==============================] - 0s 10ms/step - loss: 0.0452 - mean_absolute_error: 0.1602 - val_loss: 0.3017 - val_mean_absolute_error: 0.4086\n",
      "Epoch 59/500\n",
      "5/5 [==============================] - 0s 10ms/step - loss: 0.0352 - mean_absolute_error: 0.1414 - val_loss: 0.2070 - val_mean_absolute_error: 0.3152\n",
      "Epoch 60/500\n",
      "5/5 [==============================] - 0s 12ms/step - loss: 0.0360 - mean_absolute_error: 0.1472 - val_loss: 0.2859 - val_mean_absolute_error: 0.3862\n",
      "Epoch 61/500\n",
      "5/5 [==============================] - 0s 10ms/step - loss: 0.0341 - mean_absolute_error: 0.1312 - val_loss: 0.1980 - val_mean_absolute_error: 0.3252\n",
      "Epoch 62/500\n",
      "5/5 [==============================] - 0s 11ms/step - loss: 0.0240 - mean_absolute_error: 0.1131 - val_loss: 0.2067 - val_mean_absolute_error: 0.3228\n",
      "Epoch 63/500\n",
      "5/5 [==============================] - 0s 10ms/step - loss: 0.0243 - mean_absolute_error: 0.1101 - val_loss: 0.2059 - val_mean_absolute_error: 0.3390\n",
      "Epoch 64/500\n",
      "5/5 [==============================] - 0s 11ms/step - loss: 0.0185 - mean_absolute_error: 0.0959 - val_loss: 0.2204 - val_mean_absolute_error: 0.3369\n",
      "Epoch 65/500\n",
      "5/5 [==============================] - 0s 10ms/step - loss: 0.0196 - mean_absolute_error: 0.0978 - val_loss: 0.2185 - val_mean_absolute_error: 0.3446\n",
      "Epoch 66/500\n",
      "5/5 [==============================] - 0s 10ms/step - loss: 0.0201 - mean_absolute_error: 0.1045 - val_loss: 0.2064 - val_mean_absolute_error: 0.3370\n",
      "Epoch 67/500\n",
      "5/5 [==============================] - 0s 10ms/step - loss: 0.0164 - mean_absolute_error: 0.0843 - val_loss: 0.1776 - val_mean_absolute_error: 0.3127\n",
      "Epoch 68/500\n",
      "5/5 [==============================] - 0s 10ms/step - loss: 0.0164 - mean_absolute_error: 0.0910 - val_loss: 0.1704 - val_mean_absolute_error: 0.3074\n",
      "Epoch 69/500\n",
      "5/5 [==============================] - 0s 11ms/step - loss: 0.0136 - mean_absolute_error: 0.0810 - val_loss: 0.2046 - val_mean_absolute_error: 0.3314\n",
      "Epoch 70/500\n",
      "5/5 [==============================] - 0s 10ms/step - loss: 0.0170 - mean_absolute_error: 0.0957 - val_loss: 0.1783 - val_mean_absolute_error: 0.3079\n",
      "Epoch 71/500\n",
      "5/5 [==============================] - 0s 11ms/step - loss: 0.0170 - mean_absolute_error: 0.0963 - val_loss: 0.2231 - val_mean_absolute_error: 0.3493\n",
      "Epoch 72/500\n",
      "5/5 [==============================] - 0s 11ms/step - loss: 0.0154 - mean_absolute_error: 0.0897 - val_loss: 0.2086 - val_mean_absolute_error: 0.3257\n",
      "Epoch 73/500\n",
      "5/5 [==============================] - 0s 11ms/step - loss: 0.0145 - mean_absolute_error: 0.0844 - val_loss: 0.2080 - val_mean_absolute_error: 0.3403\n",
      "Epoch 74/500\n",
      "5/5 [==============================] - 0s 11ms/step - loss: 0.0150 - mean_absolute_error: 0.0856 - val_loss: 0.1614 - val_mean_absolute_error: 0.2908\n",
      "Epoch 75/500\n",
      "5/5 [==============================] - 0s 10ms/step - loss: 0.0175 - mean_absolute_error: 0.0974 - val_loss: 0.1944 - val_mean_absolute_error: 0.3256\n",
      "Epoch 76/500\n",
      "5/5 [==============================] - 0s 9ms/step - loss: 0.0215 - mean_absolute_error: 0.1024 - val_loss: 0.2298 - val_mean_absolute_error: 0.3447\n",
      "Epoch 77/500\n",
      "5/5 [==============================] - 0s 10ms/step - loss: 0.0243 - mean_absolute_error: 0.1085 - val_loss: 0.2546 - val_mean_absolute_error: 0.3605\n",
      "Epoch 78/500\n",
      "5/5 [==============================] - 0s 10ms/step - loss: 0.0290 - mean_absolute_error: 0.1202 - val_loss: 0.2164 - val_mean_absolute_error: 0.3508\n",
      "Epoch 79/500\n",
      "5/5 [==============================] - 0s 10ms/step - loss: 0.0389 - mean_absolute_error: 0.1436 - val_loss: 0.2238 - val_mean_absolute_error: 0.3370\n",
      "Epoch 80/500\n",
      "5/5 [==============================] - 0s 10ms/step - loss: 0.0352 - mean_absolute_error: 0.1428 - val_loss: 0.2500 - val_mean_absolute_error: 0.3408\n",
      "Epoch 81/500\n",
      "5/5 [==============================] - 0s 10ms/step - loss: 0.0269 - mean_absolute_error: 0.1214 - val_loss: 0.2354 - val_mean_absolute_error: 0.3463\n",
      "Epoch 82/500\n",
      "5/5 [==============================] - 0s 10ms/step - loss: 0.0328 - mean_absolute_error: 0.1346 - val_loss: 0.2180 - val_mean_absolute_error: 0.3243\n",
      "Epoch 83/500\n",
      "5/5 [==============================] - 0s 10ms/step - loss: 0.0243 - mean_absolute_error: 0.1134 - val_loss: 0.2489 - val_mean_absolute_error: 0.3541\n",
      "Epoch 84/500\n",
      "5/5 [==============================] - 0s 11ms/step - loss: 0.0240 - mean_absolute_error: 0.1087 - val_loss: 0.2547 - val_mean_absolute_error: 0.3505\n",
      "Epoch 85/500\n",
      "5/5 [==============================] - 0s 12ms/step - loss: 0.0201 - mean_absolute_error: 0.1046 - val_loss: 0.2177 - val_mean_absolute_error: 0.3409\n",
      "Epoch 86/500\n",
      "5/5 [==============================] - 0s 10ms/step - loss: 0.0162 - mean_absolute_error: 0.0918 - val_loss: 0.1904 - val_mean_absolute_error: 0.3065\n",
      "Epoch 87/500\n",
      "5/5 [==============================] - 0s 10ms/step - loss: 0.0177 - mean_absolute_error: 0.0963 - val_loss: 0.2165 - val_mean_absolute_error: 0.3385\n",
      "Epoch 88/500\n",
      "5/5 [==============================] - 0s 10ms/step - loss: 0.0120 - mean_absolute_error: 0.0789 - val_loss: 0.2190 - val_mean_absolute_error: 0.3325\n",
      "Epoch 89/500\n",
      "5/5 [==============================] - 0s 10ms/step - loss: 0.0128 - mean_absolute_error: 0.0802 - val_loss: 0.2371 - val_mean_absolute_error: 0.3488\n",
      "Epoch 90/500\n",
      "5/5 [==============================] - 0s 10ms/step - loss: 0.0124 - mean_absolute_error: 0.0766 - val_loss: 0.2407 - val_mean_absolute_error: 0.3485\n",
      "Epoch 91/500\n",
      "5/5 [==============================] - 0s 10ms/step - loss: 0.0202 - mean_absolute_error: 0.1128 - val_loss: 0.2022 - val_mean_absolute_error: 0.3112\n",
      "Epoch 92/500\n",
      "5/5 [==============================] - 0s 18ms/step - loss: 0.0168 - mean_absolute_error: 0.0995 - val_loss: 0.2272 - val_mean_absolute_error: 0.3477\n",
      "Epoch 93/500\n",
      "5/5 [==============================] - 0s 14ms/step - loss: 0.0213 - mean_absolute_error: 0.1118 - val_loss: 0.2221 - val_mean_absolute_error: 0.3271\n",
      "Epoch 94/500\n",
      "5/5 [==============================] - 0s 12ms/step - loss: 0.0220 - mean_absolute_error: 0.1123 - val_loss: 0.2365 - val_mean_absolute_error: 0.3449\n",
      "Epoch 95/500\n",
      "5/5 [==============================] - 0s 14ms/step - loss: 0.0187 - mean_absolute_error: 0.0957 - val_loss: 0.2163 - val_mean_absolute_error: 0.3234\n",
      "Epoch 96/500\n",
      "5/5 [==============================] - 0s 17ms/step - loss: 0.0177 - mean_absolute_error: 0.0981 - val_loss: 0.2254 - val_mean_absolute_error: 0.3429\n",
      "Epoch 97/500\n",
      "5/5 [==============================] - 0s 9ms/step - loss: 0.0107 - mean_absolute_error: 0.0751 - val_loss: 0.2180 - val_mean_absolute_error: 0.3325\n",
      "Epoch 98/500\n",
      "5/5 [==============================] - 0s 10ms/step - loss: 0.0097 - mean_absolute_error: 0.0687 - val_loss: 0.2120 - val_mean_absolute_error: 0.3301\n",
      "Epoch 99/500\n",
      "5/5 [==============================] - 0s 9ms/step - loss: 0.0126 - mean_absolute_error: 0.0766 - val_loss: 0.2125 - val_mean_absolute_error: 0.3320\n",
      "Epoch 100/500\n",
      "5/5 [==============================] - 0s 9ms/step - loss: 0.0099 - mean_absolute_error: 0.0742 - val_loss: 0.1965 - val_mean_absolute_error: 0.3098\n",
      "Epoch 101/500\n",
      "5/5 [==============================] - 0s 10ms/step - loss: 0.0133 - mean_absolute_error: 0.0855 - val_loss: 0.1998 - val_mean_absolute_error: 0.3300\n",
      "Epoch 102/500\n",
      "5/5 [==============================] - 0s 10ms/step - loss: 0.0150 - mean_absolute_error: 0.0928 - val_loss: 0.1865 - val_mean_absolute_error: 0.3232\n",
      "Epoch 103/500\n",
      "5/5 [==============================] - 0s 10ms/step - loss: 0.0185 - mean_absolute_error: 0.1081 - val_loss: 0.2232 - val_mean_absolute_error: 0.3360\n",
      "Epoch 104/500\n",
      "5/5 [==============================] - 0s 9ms/step - loss: 0.0163 - mean_absolute_error: 0.0971 - val_loss: 0.2199 - val_mean_absolute_error: 0.3354\n",
      "Epoch 105/500\n",
      "5/5 [==============================] - 0s 10ms/step - loss: 0.0135 - mean_absolute_error: 0.0917 - val_loss: 0.1689 - val_mean_absolute_error: 0.2941\n",
      "Epoch 106/500\n",
      "5/5 [==============================] - 0s 9ms/step - loss: 0.0142 - mean_absolute_error: 0.0897 - val_loss: 0.2490 - val_mean_absolute_error: 0.3609\n",
      "Epoch 107/500\n",
      "5/5 [==============================] - 0s 9ms/step - loss: 0.0161 - mean_absolute_error: 0.0957 - val_loss: 0.2512 - val_mean_absolute_error: 0.3514\n",
      "Epoch 108/500\n",
      "5/5 [==============================] - 0s 9ms/step - loss: 0.0150 - mean_absolute_error: 0.0870 - val_loss: 0.2378 - val_mean_absolute_error: 0.3481\n",
      "Epoch 109/500\n",
      "5/5 [==============================] - 0s 9ms/step - loss: 0.0166 - mean_absolute_error: 0.0922 - val_loss: 0.2274 - val_mean_absolute_error: 0.3385\n",
      "Epoch 110/500\n",
      "5/5 [==============================] - 0s 10ms/step - loss: 0.0244 - mean_absolute_error: 0.1244 - val_loss: 0.2148 - val_mean_absolute_error: 0.3372\n",
      "Epoch 111/500\n",
      "5/5 [==============================] - 0s 9ms/step - loss: 0.0201 - mean_absolute_error: 0.1109 - val_loss: 0.2681 - val_mean_absolute_error: 0.3809\n",
      "Epoch 112/500\n",
      "5/5 [==============================] - 0s 11ms/step - loss: 0.0220 - mean_absolute_error: 0.1081 - val_loss: 0.1813 - val_mean_absolute_error: 0.3132\n",
      "Epoch 113/500\n",
      "5/5 [==============================] - 0s 10ms/step - loss: 0.0183 - mean_absolute_error: 0.1016 - val_loss: 0.2368 - val_mean_absolute_error: 0.3488\n",
      "Epoch 114/500\n",
      "5/5 [==============================] - 0s 11ms/step - loss: 0.0179 - mean_absolute_error: 0.1039 - val_loss: 0.1826 - val_mean_absolute_error: 0.3082\n",
      "Epoch 115/500\n",
      "5/5 [==============================] - 0s 9ms/step - loss: 0.0153 - mean_absolute_error: 0.0966 - val_loss: 0.2224 - val_mean_absolute_error: 0.3350\n",
      "Epoch 116/500\n",
      "5/5 [==============================] - 0s 12ms/step - loss: 0.0128 - mean_absolute_error: 0.0819 - val_loss: 0.2241 - val_mean_absolute_error: 0.3291\n",
      "Epoch 117/500\n",
      "5/5 [==============================] - 0s 11ms/step - loss: 0.0088 - mean_absolute_error: 0.0708 - val_loss: 0.2157 - val_mean_absolute_error: 0.3157\n",
      "Epoch 118/500\n",
      "5/5 [==============================] - 0s 9ms/step - loss: 0.0085 - mean_absolute_error: 0.0661 - val_loss: 0.2205 - val_mean_absolute_error: 0.3270\n",
      "Epoch 119/500\n",
      "5/5 [==============================] - 0s 9ms/step - loss: 0.0092 - mean_absolute_error: 0.0657 - val_loss: 0.2296 - val_mean_absolute_error: 0.3322\n",
      "Epoch 120/500\n",
      "5/5 [==============================] - 0s 9ms/step - loss: 0.0090 - mean_absolute_error: 0.0643 - val_loss: 0.2460 - val_mean_absolute_error: 0.3411\n",
      "Epoch 121/500\n",
      "5/5 [==============================] - 0s 10ms/step - loss: 0.0091 - mean_absolute_error: 0.0708 - val_loss: 0.2028 - val_mean_absolute_error: 0.3153\n",
      "Epoch 122/500\n",
      "5/5 [==============================] - 0s 9ms/step - loss: 0.0101 - mean_absolute_error: 0.0667 - val_loss: 0.2024 - val_mean_absolute_error: 0.3268\n",
      "Epoch 123/500\n",
      "5/5 [==============================] - 0s 10ms/step - loss: 0.0115 - mean_absolute_error: 0.0683 - val_loss: 0.2341 - val_mean_absolute_error: 0.3296\n",
      "Epoch 124/500\n",
      "5/5 [==============================] - 0s 9ms/step - loss: 0.0101 - mean_absolute_error: 0.0712 - val_loss: 0.2436 - val_mean_absolute_error: 0.3459\n",
      "Epoch 125/500\n",
      "5/5 [==============================] - 0s 9ms/step - loss: 0.0088 - mean_absolute_error: 0.0691 - val_loss: 0.2490 - val_mean_absolute_error: 0.3493\n",
      "Epoch 126/500\n",
      "5/5 [==============================] - 0s 10ms/step - loss: 0.0085 - mean_absolute_error: 0.0659 - val_loss: 0.2171 - val_mean_absolute_error: 0.3265\n",
      "Epoch 127/500\n",
      "5/5 [==============================] - 0s 15ms/step - loss: 0.0072 - mean_absolute_error: 0.0612 - val_loss: 0.2354 - val_mean_absolute_error: 0.3404\n",
      "Epoch 128/500\n",
      "5/5 [==============================] - 0s 12ms/step - loss: 0.0083 - mean_absolute_error: 0.0715 - val_loss: 0.2300 - val_mean_absolute_error: 0.3342\n",
      "Epoch 129/500\n",
      "5/5 [==============================] - 0s 10ms/step - loss: 0.0092 - mean_absolute_error: 0.0695 - val_loss: 0.2482 - val_mean_absolute_error: 0.3560\n",
      "Epoch 130/500\n",
      "5/5 [==============================] - 0s 9ms/step - loss: 0.0096 - mean_absolute_error: 0.0670 - val_loss: 0.2293 - val_mean_absolute_error: 0.3362\n",
      "Epoch 131/500\n",
      "5/5 [==============================] - 0s 9ms/step - loss: 0.0078 - mean_absolute_error: 0.0603 - val_loss: 0.2364 - val_mean_absolute_error: 0.3384\n",
      "Epoch 132/500\n",
      "5/5 [==============================] - 0s 9ms/step - loss: 0.0071 - mean_absolute_error: 0.0571 - val_loss: 0.2379 - val_mean_absolute_error: 0.3346\n",
      "Epoch 133/500\n",
      "5/5 [==============================] - 0s 9ms/step - loss: 0.0060 - mean_absolute_error: 0.0541 - val_loss: 0.2337 - val_mean_absolute_error: 0.3341\n",
      "Epoch 134/500\n",
      "5/5 [==============================] - 0s 10ms/step - loss: 0.0059 - mean_absolute_error: 0.0517 - val_loss: 0.2360 - val_mean_absolute_error: 0.3375\n",
      "Epoch 135/500\n",
      "5/5 [==============================] - 0s 10ms/step - loss: 0.0062 - mean_absolute_error: 0.0536 - val_loss: 0.2325 - val_mean_absolute_error: 0.3327\n",
      "Epoch 136/500\n",
      "5/5 [==============================] - 0s 10ms/step - loss: 0.0047 - mean_absolute_error: 0.0482 - val_loss: 0.2299 - val_mean_absolute_error: 0.3358\n",
      "Epoch 137/500\n",
      "5/5 [==============================] - 0s 10ms/step - loss: 0.0042 - mean_absolute_error: 0.0437 - val_loss: 0.2244 - val_mean_absolute_error: 0.3359\n",
      "Epoch 138/500\n",
      "5/5 [==============================] - 0s 9ms/step - loss: 0.0039 - mean_absolute_error: 0.0433 - val_loss: 0.2254 - val_mean_absolute_error: 0.3309\n",
      "Epoch 139/500\n",
      "5/5 [==============================] - 0s 11ms/step - loss: 0.0038 - mean_absolute_error: 0.0396 - val_loss: 0.2322 - val_mean_absolute_error: 0.3359\n",
      "Epoch 140/500\n",
      "5/5 [==============================] - 0s 8ms/step - loss: 0.0034 - mean_absolute_error: 0.0390 - val_loss: 0.2152 - val_mean_absolute_error: 0.3202\n",
      "Epoch 141/500\n",
      "5/5 [==============================] - 0s 10ms/step - loss: 0.0037 - mean_absolute_error: 0.0399 - val_loss: 0.2303 - val_mean_absolute_error: 0.3396\n",
      "Epoch 142/500\n",
      "5/5 [==============================] - 0s 9ms/step - loss: 0.0040 - mean_absolute_error: 0.0409 - val_loss: 0.2242 - val_mean_absolute_error: 0.3308\n",
      "Epoch 143/500\n",
      "5/5 [==============================] - 0s 11ms/step - loss: 0.0036 - mean_absolute_error: 0.0397 - val_loss: 0.2218 - val_mean_absolute_error: 0.3294\n",
      "Epoch 144/500\n",
      "5/5 [==============================] - 0s 11ms/step - loss: 0.0042 - mean_absolute_error: 0.0428 - val_loss: 0.2242 - val_mean_absolute_error: 0.3343\n",
      "Epoch 145/500\n",
      "5/5 [==============================] - 0s 11ms/step - loss: 0.0060 - mean_absolute_error: 0.0519 - val_loss: 0.2279 - val_mean_absolute_error: 0.3394\n",
      "Epoch 146/500\n",
      "5/5 [==============================] - 0s 12ms/step - loss: 0.0090 - mean_absolute_error: 0.0622 - val_loss: 0.2172 - val_mean_absolute_error: 0.3347\n",
      "Epoch 147/500\n",
      "5/5 [==============================] - 0s 11ms/step - loss: 0.0093 - mean_absolute_error: 0.0643 - val_loss: 0.2325 - val_mean_absolute_error: 0.3300\n",
      "Epoch 148/500\n",
      "5/5 [==============================] - 0s 11ms/step - loss: 0.0072 - mean_absolute_error: 0.0628 - val_loss: 0.2381 - val_mean_absolute_error: 0.3434\n",
      "Epoch 149/500\n",
      "5/5 [==============================] - 0s 11ms/step - loss: 0.0080 - mean_absolute_error: 0.0700 - val_loss: 0.2190 - val_mean_absolute_error: 0.3234\n",
      "Epoch 150/500\n",
      "5/5 [==============================] - 0s 9ms/step - loss: 0.0078 - mean_absolute_error: 0.0650 - val_loss: 0.2555 - val_mean_absolute_error: 0.3477\n",
      "Epoch 151/500\n",
      "5/5 [==============================] - 0s 10ms/step - loss: 0.0076 - mean_absolute_error: 0.0626 - val_loss: 0.2587 - val_mean_absolute_error: 0.3520\n",
      "Epoch 152/500\n",
      "5/5 [==============================] - 0s 9ms/step - loss: 0.0096 - mean_absolute_error: 0.0713 - val_loss: 0.2310 - val_mean_absolute_error: 0.3372\n",
      "Epoch 153/500\n",
      "5/5 [==============================] - 0s 17ms/step - loss: 0.0116 - mean_absolute_error: 0.0817 - val_loss: 0.2363 - val_mean_absolute_error: 0.3447\n",
      "Epoch 154/500\n",
      "5/5 [==============================] - 0s 12ms/step - loss: 0.0110 - mean_absolute_error: 0.0739 - val_loss: 0.2075 - val_mean_absolute_error: 0.3301\n",
      "Epoch 155/500\n",
      "5/5 [==============================] - 0s 11ms/step - loss: 0.0141 - mean_absolute_error: 0.0882 - val_loss: 0.2082 - val_mean_absolute_error: 0.3311\n",
      "Epoch 156/500\n",
      "5/5 [==============================] - 0s 9ms/step - loss: 0.0137 - mean_absolute_error: 0.0820 - val_loss: 0.2085 - val_mean_absolute_error: 0.3186\n",
      "Epoch 157/500\n",
      "5/5 [==============================] - 0s 11ms/step - loss: 0.0075 - mean_absolute_error: 0.0652 - val_loss: 0.2302 - val_mean_absolute_error: 0.3318\n",
      "Epoch 158/500\n",
      "5/5 [==============================] - 0s 13ms/step - loss: 0.0060 - mean_absolute_error: 0.0560 - val_loss: 0.2332 - val_mean_absolute_error: 0.3362\n",
      "Epoch 159/500\n",
      "5/5 [==============================] - 0s 11ms/step - loss: 0.0066 - mean_absolute_error: 0.0556 - val_loss: 0.2187 - val_mean_absolute_error: 0.3242\n",
      "Epoch 160/500\n",
      "5/5 [==============================] - 0s 11ms/step - loss: 0.0060 - mean_absolute_error: 0.0526 - val_loss: 0.2500 - val_mean_absolute_error: 0.3482\n",
      "Epoch 161/500\n",
      "5/5 [==============================] - 0s 10ms/step - loss: 0.0063 - mean_absolute_error: 0.0571 - val_loss: 0.2280 - val_mean_absolute_error: 0.3353\n",
      "Epoch 162/500\n",
      "5/5 [==============================] - 0s 10ms/step - loss: 0.0061 - mean_absolute_error: 0.0546 - val_loss: 0.2414 - val_mean_absolute_error: 0.3459\n",
      "Epoch 163/500\n",
      "5/5 [==============================] - 0s 11ms/step - loss: 0.0093 - mean_absolute_error: 0.0693 - val_loss: 0.2146 - val_mean_absolute_error: 0.3249\n",
      "Epoch 164/500\n",
      "5/5 [==============================] - 0s 11ms/step - loss: 0.0070 - mean_absolute_error: 0.0626 - val_loss: 0.2468 - val_mean_absolute_error: 0.3417\n",
      "Epoch 165/500\n",
      "5/5 [==============================] - 0s 11ms/step - loss: 0.0098 - mean_absolute_error: 0.0804 - val_loss: 0.2109 - val_mean_absolute_error: 0.3175\n",
      "Epoch 166/500\n",
      "5/5 [==============================] - 0s 10ms/step - loss: 0.0103 - mean_absolute_error: 0.0803 - val_loss: 0.2611 - val_mean_absolute_error: 0.3533\n",
      "Epoch 167/500\n",
      "5/5 [==============================] - 0s 10ms/step - loss: 0.0089 - mean_absolute_error: 0.0735 - val_loss: 0.2401 - val_mean_absolute_error: 0.3348\n",
      "Epoch 168/500\n",
      "5/5 [==============================] - 0s 10ms/step - loss: 0.0088 - mean_absolute_error: 0.0703 - val_loss: 0.2597 - val_mean_absolute_error: 0.3539\n",
      "Epoch 169/500\n",
      "5/5 [==============================] - 0s 10ms/step - loss: 0.0098 - mean_absolute_error: 0.0751 - val_loss: 0.2323 - val_mean_absolute_error: 0.3215\n",
      "Epoch 170/500\n",
      "5/5 [==============================] - 0s 9ms/step - loss: 0.0078 - mean_absolute_error: 0.0659 - val_loss: 0.2353 - val_mean_absolute_error: 0.3366\n",
      "Epoch 171/500\n",
      "5/5 [==============================] - 0s 9ms/step - loss: 0.0068 - mean_absolute_error: 0.0600 - val_loss: 0.2158 - val_mean_absolute_error: 0.3233\n",
      "Epoch 172/500\n",
      "5/5 [==============================] - 0s 9ms/step - loss: 0.0052 - mean_absolute_error: 0.0528 - val_loss: 0.2350 - val_mean_absolute_error: 0.3266\n",
      "Epoch 173/500\n",
      "5/5 [==============================] - 0s 10ms/step - loss: 0.0092 - mean_absolute_error: 0.0648 - val_loss: 0.2498 - val_mean_absolute_error: 0.3496\n",
      "Epoch 174/500\n",
      "5/5 [==============================] - 0s 9ms/step - loss: 0.0067 - mean_absolute_error: 0.0561 - val_loss: 0.2290 - val_mean_absolute_error: 0.3247\n",
      "Epoch 175/500\n",
      "5/5 [==============================] - 0s 9ms/step - loss: 0.0061 - mean_absolute_error: 0.0537 - val_loss: 0.2525 - val_mean_absolute_error: 0.3441\n",
      "Epoch 176/500\n",
      "5/5 [==============================] - 0s 10ms/step - loss: 0.0055 - mean_absolute_error: 0.0522 - val_loss: 0.2357 - val_mean_absolute_error: 0.3351\n",
      "Epoch 177/500\n",
      "5/5 [==============================] - 0s 9ms/step - loss: 0.0050 - mean_absolute_error: 0.0450 - val_loss: 0.2287 - val_mean_absolute_error: 0.3330\n",
      "Epoch 178/500\n",
      "5/5 [==============================] - 0s 10ms/step - loss: 0.0059 - mean_absolute_error: 0.0522 - val_loss: 0.2357 - val_mean_absolute_error: 0.3366\n",
      "Epoch 179/500\n",
      "5/5 [==============================] - 0s 11ms/step - loss: 0.0047 - mean_absolute_error: 0.0503 - val_loss: 0.2297 - val_mean_absolute_error: 0.3332\n",
      "Epoch 180/500\n",
      "5/5 [==============================] - 0s 16ms/step - loss: 0.0043 - mean_absolute_error: 0.0469 - val_loss: 0.2175 - val_mean_absolute_error: 0.3200\n",
      "Epoch 181/500\n",
      "5/5 [==============================] - 0s 14ms/step - loss: 0.0034 - mean_absolute_error: 0.0421 - val_loss: 0.2357 - val_mean_absolute_error: 0.3382\n",
      "Epoch 182/500\n",
      "5/5 [==============================] - 0s 10ms/step - loss: 0.0033 - mean_absolute_error: 0.0392 - val_loss: 0.2308 - val_mean_absolute_error: 0.3299\n",
      "Epoch 183/500\n",
      "5/5 [==============================] - 0s 10ms/step - loss: 0.0041 - mean_absolute_error: 0.0438 - val_loss: 0.2293 - val_mean_absolute_error: 0.3332\n",
      "Epoch 184/500\n",
      "5/5 [==============================] - 0s 9ms/step - loss: 0.0031 - mean_absolute_error: 0.0381 - val_loss: 0.2415 - val_mean_absolute_error: 0.3437\n",
      "Epoch 185/500\n",
      "5/5 [==============================] - 0s 9ms/step - loss: 0.0036 - mean_absolute_error: 0.0401 - val_loss: 0.2216 - val_mean_absolute_error: 0.3214\n",
      "Epoch 186/500\n",
      "5/5 [==============================] - 0s 9ms/step - loss: 0.0045 - mean_absolute_error: 0.0448 - val_loss: 0.2492 - val_mean_absolute_error: 0.3427\n",
      "Epoch 187/500\n",
      "5/5 [==============================] - 0s 9ms/step - loss: 0.0056 - mean_absolute_error: 0.0558 - val_loss: 0.2229 - val_mean_absolute_error: 0.3277\n",
      "Epoch 188/500\n",
      "5/5 [==============================] - 0s 10ms/step - loss: 0.0057 - mean_absolute_error: 0.0584 - val_loss: 0.2272 - val_mean_absolute_error: 0.3383\n",
      "Epoch 189/500\n",
      "5/5 [==============================] - 0s 9ms/step - loss: 0.0065 - mean_absolute_error: 0.0613 - val_loss: 0.2416 - val_mean_absolute_error: 0.3608\n",
      "Epoch 190/500\n",
      "5/5 [==============================] - 0s 10ms/step - loss: 0.0092 - mean_absolute_error: 0.0732 - val_loss: 0.1981 - val_mean_absolute_error: 0.3223\n",
      "Epoch 191/500\n",
      "5/5 [==============================] - 0s 10ms/step - loss: 0.0072 - mean_absolute_error: 0.0628 - val_loss: 0.2338 - val_mean_absolute_error: 0.3316\n",
      "Epoch 192/500\n",
      "5/5 [==============================] - 0s 10ms/step - loss: 0.0046 - mean_absolute_error: 0.0489 - val_loss: 0.2364 - val_mean_absolute_error: 0.3290\n",
      "Epoch 193/500\n",
      "5/5 [==============================] - 0s 9ms/step - loss: 0.0074 - mean_absolute_error: 0.0620 - val_loss: 0.2166 - val_mean_absolute_error: 0.3195\n",
      "Epoch 194/500\n",
      "5/5 [==============================] - 0s 9ms/step - loss: 0.0078 - mean_absolute_error: 0.0669 - val_loss: 0.2258 - val_mean_absolute_error: 0.3334\n",
      "Epoch 195/500\n",
      "5/5 [==============================] - 0s 10ms/step - loss: 0.0053 - mean_absolute_error: 0.0549 - val_loss: 0.2326 - val_mean_absolute_error: 0.3406\n",
      "Epoch 196/500\n",
      "5/5 [==============================] - 0s 10ms/step - loss: 0.0060 - mean_absolute_error: 0.0561 - val_loss: 0.2287 - val_mean_absolute_error: 0.3414\n",
      "Epoch 197/500\n",
      "5/5 [==============================] - 0s 10ms/step - loss: 0.0061 - mean_absolute_error: 0.0561 - val_loss: 0.2263 - val_mean_absolute_error: 0.3374\n",
      "Epoch 198/500\n",
      "5/5 [==============================] - 0s 9ms/step - loss: 0.0046 - mean_absolute_error: 0.0497 - val_loss: 0.2462 - val_mean_absolute_error: 0.3490\n",
      "Epoch 199/500\n",
      "5/5 [==============================] - 0s 10ms/step - loss: 0.0054 - mean_absolute_error: 0.0573 - val_loss: 0.2123 - val_mean_absolute_error: 0.3196\n",
      "Epoch 200/500\n",
      "5/5 [==============================] - 0s 10ms/step - loss: 0.0062 - mean_absolute_error: 0.0581 - val_loss: 0.2475 - val_mean_absolute_error: 0.3506\n",
      "Epoch 201/500\n",
      "5/5 [==============================] - 0s 10ms/step - loss: 0.0061 - mean_absolute_error: 0.0604 - val_loss: 0.2075 - val_mean_absolute_error: 0.3230\n",
      "Epoch 202/500\n",
      "5/5 [==============================] - 0s 10ms/step - loss: 0.0081 - mean_absolute_error: 0.0659 - val_loss: 0.2444 - val_mean_absolute_error: 0.3516\n",
      "Epoch 203/500\n",
      "5/5 [==============================] - 0s 10ms/step - loss: 0.0065 - mean_absolute_error: 0.0579 - val_loss: 0.1969 - val_mean_absolute_error: 0.3153\n",
      "Epoch 204/500\n",
      "5/5 [==============================] - 0s 10ms/step - loss: 0.0063 - mean_absolute_error: 0.0573 - val_loss: 0.2091 - val_mean_absolute_error: 0.3263\n",
      "Epoch 205/500\n",
      "5/5 [==============================] - 0s 10ms/step - loss: 0.0055 - mean_absolute_error: 0.0555 - val_loss: 0.2342 - val_mean_absolute_error: 0.3362\n",
      "Epoch 206/500\n",
      "5/5 [==============================] - 0s 14ms/step - loss: 0.0062 - mean_absolute_error: 0.0570 - val_loss: 0.2278 - val_mean_absolute_error: 0.3282\n",
      "Epoch 207/500\n",
      "5/5 [==============================] - 0s 11ms/step - loss: 0.0046 - mean_absolute_error: 0.0485 - val_loss: 0.2285 - val_mean_absolute_error: 0.3339\n",
      "Epoch 208/500\n",
      "5/5 [==============================] - 0s 10ms/step - loss: 0.0048 - mean_absolute_error: 0.0536 - val_loss: 0.2374 - val_mean_absolute_error: 0.3466\n",
      "Epoch 209/500\n",
      "5/5 [==============================] - 0s 10ms/step - loss: 0.0045 - mean_absolute_error: 0.0470 - val_loss: 0.2475 - val_mean_absolute_error: 0.3478\n",
      "Epoch 210/500\n",
      "5/5 [==============================] - 0s 10ms/step - loss: 0.0087 - mean_absolute_error: 0.0706 - val_loss: 0.2256 - val_mean_absolute_error: 0.3299\n",
      "Epoch 211/500\n",
      "5/5 [==============================] - 0s 9ms/step - loss: 0.0080 - mean_absolute_error: 0.0615 - val_loss: 0.2194 - val_mean_absolute_error: 0.3294\n",
      "Epoch 212/500\n",
      "5/5 [==============================] - 0s 10ms/step - loss: 0.0074 - mean_absolute_error: 0.0654 - val_loss: 0.2420 - val_mean_absolute_error: 0.3317\n",
      "Epoch 213/500\n",
      "5/5 [==============================] - 0s 10ms/step - loss: 0.0110 - mean_absolute_error: 0.0791 - val_loss: 0.2480 - val_mean_absolute_error: 0.3386\n",
      "Epoch 214/500\n",
      "5/5 [==============================] - 0s 9ms/step - loss: 0.0100 - mean_absolute_error: 0.0742 - val_loss: 0.2169 - val_mean_absolute_error: 0.3230\n",
      "Epoch 215/500\n",
      "5/5 [==============================] - 0s 10ms/step - loss: 0.0059 - mean_absolute_error: 0.0578 - val_loss: 0.2292 - val_mean_absolute_error: 0.3366\n",
      "Epoch 216/500\n",
      "5/5 [==============================] - 0s 9ms/step - loss: 0.0069 - mean_absolute_error: 0.0591 - val_loss: 0.2169 - val_mean_absolute_error: 0.3286\n",
      "Epoch 217/500\n",
      "5/5 [==============================] - 0s 9ms/step - loss: 0.0041 - mean_absolute_error: 0.0477 - val_loss: 0.1983 - val_mean_absolute_error: 0.3122\n",
      "Epoch 218/500\n",
      "5/5 [==============================] - 0s 10ms/step - loss: 0.0050 - mean_absolute_error: 0.0498 - val_loss: 0.1989 - val_mean_absolute_error: 0.3083\n",
      "Epoch 219/500\n",
      "5/5 [==============================] - 0s 9ms/step - loss: 0.0057 - mean_absolute_error: 0.0534 - val_loss: 0.2324 - val_mean_absolute_error: 0.3361\n",
      "Epoch 220/500\n",
      "5/5 [==============================] - 0s 10ms/step - loss: 0.0070 - mean_absolute_error: 0.0565 - val_loss: 0.2334 - val_mean_absolute_error: 0.3211\n",
      "Epoch 221/500\n",
      "5/5 [==============================] - 0s 9ms/step - loss: 0.0061 - mean_absolute_error: 0.0609 - val_loss: 0.2209 - val_mean_absolute_error: 0.3252\n",
      "Epoch 222/500\n",
      "5/5 [==============================] - 0s 11ms/step - loss: 0.0070 - mean_absolute_error: 0.0621 - val_loss: 0.2113 - val_mean_absolute_error: 0.3184\n",
      "Epoch 223/500\n",
      "5/5 [==============================] - 0s 11ms/step - loss: 0.0055 - mean_absolute_error: 0.0526 - val_loss: 0.2131 - val_mean_absolute_error: 0.3194\n",
      "Epoch 224/500\n",
      "5/5 [==============================] - 0s 10ms/step - loss: 0.0049 - mean_absolute_error: 0.0506 - val_loss: 0.2410 - val_mean_absolute_error: 0.3490\n",
      "Epoch 225/500\n",
      "5/5 [==============================] - 0s 10ms/step - loss: 0.0056 - mean_absolute_error: 0.0555 - val_loss: 0.2192 - val_mean_absolute_error: 0.3182\n",
      "Epoch 226/500\n",
      "5/5 [==============================] - 0s 9ms/step - loss: 0.0049 - mean_absolute_error: 0.0488 - val_loss: 0.2294 - val_mean_absolute_error: 0.3398\n",
      "Epoch 227/500\n",
      "5/5 [==============================] - 0s 16ms/step - loss: 0.0062 - mean_absolute_error: 0.0603 - val_loss: 0.2011 - val_mean_absolute_error: 0.3202\n",
      "Epoch 228/500\n",
      "5/5 [==============================] - 0s 13ms/step - loss: 0.0052 - mean_absolute_error: 0.0555 - val_loss: 0.2429 - val_mean_absolute_error: 0.3494\n",
      "Epoch 229/500\n",
      "5/5 [==============================] - 0s 9ms/step - loss: 0.0043 - mean_absolute_error: 0.0471 - val_loss: 0.2383 - val_mean_absolute_error: 0.3368\n",
      "Epoch 230/500\n",
      "5/5 [==============================] - 0s 10ms/step - loss: 0.0040 - mean_absolute_error: 0.0450 - val_loss: 0.2529 - val_mean_absolute_error: 0.3476\n",
      "Epoch 231/500\n",
      "5/5 [==============================] - 0s 9ms/step - loss: 0.0031 - mean_absolute_error: 0.0385 - val_loss: 0.2380 - val_mean_absolute_error: 0.3408\n",
      "Epoch 232/500\n",
      "5/5 [==============================] - 0s 9ms/step - loss: 0.0031 - mean_absolute_error: 0.0374 - val_loss: 0.2095 - val_mean_absolute_error: 0.3279\n",
      "Epoch 233/500\n",
      "5/5 [==============================] - 0s 10ms/step - loss: 0.0032 - mean_absolute_error: 0.0387 - val_loss: 0.2090 - val_mean_absolute_error: 0.3268\n",
      "Epoch 234/500\n",
      "5/5 [==============================] - 0s 10ms/step - loss: 0.0025 - mean_absolute_error: 0.0324 - val_loss: 0.2242 - val_mean_absolute_error: 0.3301\n",
      "Epoch 235/500\n",
      "5/5 [==============================] - 0s 11ms/step - loss: 0.0025 - mean_absolute_error: 0.0354 - val_loss: 0.2398 - val_mean_absolute_error: 0.3382\n",
      "Epoch 236/500\n",
      "5/5 [==============================] - 0s 11ms/step - loss: 0.0031 - mean_absolute_error: 0.0366 - val_loss: 0.2374 - val_mean_absolute_error: 0.3278\n",
      "Epoch 237/500\n",
      "5/5 [==============================] - 0s 11ms/step - loss: 0.0040 - mean_absolute_error: 0.0452 - val_loss: 0.2350 - val_mean_absolute_error: 0.3287\n",
      "Epoch 238/500\n",
      "5/5 [==============================] - 0s 10ms/step - loss: 0.0028 - mean_absolute_error: 0.0345 - val_loss: 0.2464 - val_mean_absolute_error: 0.3403\n",
      "Epoch 239/500\n",
      "5/5 [==============================] - 0s 10ms/step - loss: 0.0029 - mean_absolute_error: 0.0372 - val_loss: 0.2550 - val_mean_absolute_error: 0.3474\n",
      "Epoch 240/500\n",
      "5/5 [==============================] - 0s 9ms/step - loss: 0.0034 - mean_absolute_error: 0.0406 - val_loss: 0.2348 - val_mean_absolute_error: 0.3387\n",
      "Epoch 241/500\n",
      "5/5 [==============================] - 0s 9ms/step - loss: 0.0038 - mean_absolute_error: 0.0398 - val_loss: 0.2194 - val_mean_absolute_error: 0.3297\n",
      "Epoch 242/500\n",
      "5/5 [==============================] - 0s 9ms/step - loss: 0.0040 - mean_absolute_error: 0.0416 - val_loss: 0.2154 - val_mean_absolute_error: 0.3221\n",
      "Epoch 243/500\n",
      "5/5 [==============================] - 0s 10ms/step - loss: 0.0039 - mean_absolute_error: 0.0445 - val_loss: 0.2371 - val_mean_absolute_error: 0.3400\n",
      "Epoch 244/500\n",
      "5/5 [==============================] - 0s 10ms/step - loss: 0.0044 - mean_absolute_error: 0.0462 - val_loss: 0.2257 - val_mean_absolute_error: 0.3421\n",
      "Epoch 245/500\n",
      "5/5 [==============================] - 0s 9ms/step - loss: 0.0055 - mean_absolute_error: 0.0546 - val_loss: 0.2201 - val_mean_absolute_error: 0.3291\n",
      "Epoch 246/500\n",
      "5/5 [==============================] - 0s 9ms/step - loss: 0.0053 - mean_absolute_error: 0.0575 - val_loss: 0.2334 - val_mean_absolute_error: 0.3357\n",
      "Epoch 247/500\n",
      "5/5 [==============================] - 0s 10ms/step - loss: 0.0064 - mean_absolute_error: 0.0570 - val_loss: 0.2079 - val_mean_absolute_error: 0.3122\n",
      "Epoch 248/500\n",
      "5/5 [==============================] - 0s 9ms/step - loss: 0.0046 - mean_absolute_error: 0.0515 - val_loss: 0.2349 - val_mean_absolute_error: 0.3423\n",
      "Epoch 249/500\n",
      "5/5 [==============================] - 0s 10ms/step - loss: 0.0062 - mean_absolute_error: 0.0588 - val_loss: 0.2133 - val_mean_absolute_error: 0.3205\n",
      "Epoch 250/500\n",
      "5/5 [==============================] - 0s 20ms/step - loss: 0.0058 - mean_absolute_error: 0.0494 - val_loss: 0.2260 - val_mean_absolute_error: 0.3303\n",
      "Epoch 251/500\n",
      "5/5 [==============================] - 0s 9ms/step - loss: 0.0054 - mean_absolute_error: 0.0504 - val_loss: 0.2278 - val_mean_absolute_error: 0.3327\n",
      "Epoch 252/500\n",
      "5/5 [==============================] - 0s 10ms/step - loss: 0.0057 - mean_absolute_error: 0.0535 - val_loss: 0.2203 - val_mean_absolute_error: 0.3226\n",
      "Epoch 253/500\n",
      "5/5 [==============================] - 0s 10ms/step - loss: 0.0047 - mean_absolute_error: 0.0488 - val_loss: 0.2411 - val_mean_absolute_error: 0.3428\n",
      "Epoch 254/500\n",
      "5/5 [==============================] - 0s 10ms/step - loss: 0.0038 - mean_absolute_error: 0.0421 - val_loss: 0.2228 - val_mean_absolute_error: 0.3300\n",
      "Epoch 255/500\n",
      "5/5 [==============================] - 0s 9ms/step - loss: 0.0041 - mean_absolute_error: 0.0434 - val_loss: 0.2319 - val_mean_absolute_error: 0.3306\n",
      "Epoch 256/500\n",
      "5/5 [==============================] - 0s 9ms/step - loss: 0.0027 - mean_absolute_error: 0.0373 - val_loss: 0.2314 - val_mean_absolute_error: 0.3420\n",
      "Epoch 257/500\n",
      "5/5 [==============================] - 0s 10ms/step - loss: 0.0030 - mean_absolute_error: 0.0398 - val_loss: 0.2406 - val_mean_absolute_error: 0.3302\n",
      "Epoch 258/500\n",
      "5/5 [==============================] - 0s 9ms/step - loss: 0.0031 - mean_absolute_error: 0.0402 - val_loss: 0.2494 - val_mean_absolute_error: 0.3449\n",
      "Epoch 259/500\n",
      "5/5 [==============================] - 0s 10ms/step - loss: 0.0035 - mean_absolute_error: 0.0388 - val_loss: 0.2375 - val_mean_absolute_error: 0.3294\n",
      "Epoch 260/500\n",
      "5/5 [==============================] - 0s 9ms/step - loss: 0.0042 - mean_absolute_error: 0.0443 - val_loss: 0.2373 - val_mean_absolute_error: 0.3315\n",
      "Epoch 261/500\n",
      "5/5 [==============================] - 0s 10ms/step - loss: 0.0034 - mean_absolute_error: 0.0425 - val_loss: 0.2430 - val_mean_absolute_error: 0.3346\n",
      "Epoch 262/500\n",
      "5/5 [==============================] - 0s 9ms/step - loss: 0.0027 - mean_absolute_error: 0.0381 - val_loss: 0.2199 - val_mean_absolute_error: 0.3219\n",
      "Epoch 263/500\n",
      "5/5 [==============================] - 0s 9ms/step - loss: 0.0024 - mean_absolute_error: 0.0324 - val_loss: 0.2304 - val_mean_absolute_error: 0.3398\n",
      "Epoch 264/500\n",
      "5/5 [==============================] - 0s 9ms/step - loss: 0.0027 - mean_absolute_error: 0.0379 - val_loss: 0.2251 - val_mean_absolute_error: 0.3217\n",
      "Epoch 265/500\n",
      "5/5 [==============================] - 0s 9ms/step - loss: 0.0025 - mean_absolute_error: 0.0340 - val_loss: 0.2417 - val_mean_absolute_error: 0.3357\n",
      "Epoch 266/500\n",
      "5/5 [==============================] - 0s 9ms/step - loss: 0.0023 - mean_absolute_error: 0.0326 - val_loss: 0.2494 - val_mean_absolute_error: 0.3285\n",
      "Epoch 267/500\n",
      "5/5 [==============================] - 0s 16ms/step - loss: 0.0031 - mean_absolute_error: 0.0428 - val_loss: 0.2536 - val_mean_absolute_error: 0.3452\n",
      "Epoch 268/500\n",
      "5/5 [==============================] - 0s 12ms/step - loss: 0.0025 - mean_absolute_error: 0.0338 - val_loss: 0.2453 - val_mean_absolute_error: 0.3414\n",
      "Epoch 269/500\n",
      "5/5 [==============================] - 0s 9ms/step - loss: 0.0022 - mean_absolute_error: 0.0325 - val_loss: 0.2247 - val_mean_absolute_error: 0.3262\n",
      "Epoch 270/500\n",
      "5/5 [==============================] - 0s 10ms/step - loss: 0.0032 - mean_absolute_error: 0.0412 - val_loss: 0.2365 - val_mean_absolute_error: 0.3310\n",
      "Epoch 271/500\n",
      "5/5 [==============================] - 0s 9ms/step - loss: 0.0028 - mean_absolute_error: 0.0402 - val_loss: 0.2375 - val_mean_absolute_error: 0.3238\n",
      "Epoch 272/500\n",
      "5/5 [==============================] - 0s 9ms/step - loss: 0.0031 - mean_absolute_error: 0.0389 - val_loss: 0.2612 - val_mean_absolute_error: 0.3463\n",
      "Epoch 273/500\n",
      "5/5 [==============================] - 0s 9ms/step - loss: 0.0025 - mean_absolute_error: 0.0338 - val_loss: 0.2521 - val_mean_absolute_error: 0.3492\n",
      "Epoch 274/500\n",
      "5/5 [==============================] - 0s 9ms/step - loss: 0.0025 - mean_absolute_error: 0.0329 - val_loss: 0.2319 - val_mean_absolute_error: 0.3303\n",
      "Epoch 275/500\n",
      "5/5 [==============================] - 0s 10ms/step - loss: 0.0018 - mean_absolute_error: 0.0287 - val_loss: 0.2269 - val_mean_absolute_error: 0.3280\n",
      "Epoch 276/500\n",
      "5/5 [==============================] - 0s 10ms/step - loss: 0.0015 - mean_absolute_error: 0.0264 - val_loss: 0.2329 - val_mean_absolute_error: 0.3299\n",
      "Epoch 277/500\n",
      "5/5 [==============================] - 0s 9ms/step - loss: 0.0014 - mean_absolute_error: 0.0243 - val_loss: 0.2486 - val_mean_absolute_error: 0.3403\n",
      "Epoch 278/500\n",
      "5/5 [==============================] - 0s 9ms/step - loss: 0.0014 - mean_absolute_error: 0.0268 - val_loss: 0.2505 - val_mean_absolute_error: 0.3450\n",
      "Epoch 279/500\n",
      "5/5 [==============================] - 0s 9ms/step - loss: 0.0014 - mean_absolute_error: 0.0240 - val_loss: 0.2370 - val_mean_absolute_error: 0.3347\n",
      "Epoch 280/500\n",
      "5/5 [==============================] - 0s 10ms/step - loss: 0.0014 - mean_absolute_error: 0.0253 - val_loss: 0.2477 - val_mean_absolute_error: 0.3408\n",
      "Epoch 281/500\n",
      "5/5 [==============================] - 0s 9ms/step - loss: 0.0018 - mean_absolute_error: 0.0306 - val_loss: 0.2383 - val_mean_absolute_error: 0.3309\n",
      "Epoch 282/500\n",
      "5/5 [==============================] - 0s 9ms/step - loss: 0.0030 - mean_absolute_error: 0.0413 - val_loss: 0.2507 - val_mean_absolute_error: 0.3372\n",
      "Epoch 283/500\n",
      "5/5 [==============================] - 0s 9ms/step - loss: 0.0032 - mean_absolute_error: 0.0409 - val_loss: 0.2323 - val_mean_absolute_error: 0.3207\n",
      "Epoch 284/500\n",
      "5/5 [==============================] - 0s 9ms/step - loss: 0.0057 - mean_absolute_error: 0.0459 - val_loss: 0.2417 - val_mean_absolute_error: 0.3353\n",
      "Epoch 285/500\n",
      "5/5 [==============================] - 0s 9ms/step - loss: 0.0052 - mean_absolute_error: 0.0509 - val_loss: 0.2455 - val_mean_absolute_error: 0.3380\n",
      "Epoch 286/500\n",
      "5/5 [==============================] - 0s 15ms/step - loss: 0.0046 - mean_absolute_error: 0.0442 - val_loss: 0.2483 - val_mean_absolute_error: 0.3453\n",
      "Epoch 287/500\n",
      "5/5 [==============================] - 0s 11ms/step - loss: 0.0039 - mean_absolute_error: 0.0464 - val_loss: 0.2444 - val_mean_absolute_error: 0.3315\n",
      "Epoch 288/500\n",
      "5/5 [==============================] - 0s 9ms/step - loss: 0.0032 - mean_absolute_error: 0.0433 - val_loss: 0.2867 - val_mean_absolute_error: 0.3622\n",
      "Epoch 289/500\n",
      "5/5 [==============================] - 0s 10ms/step - loss: 0.0028 - mean_absolute_error: 0.0374 - val_loss: 0.2567 - val_mean_absolute_error: 0.3370\n",
      "Epoch 290/500\n",
      "5/5 [==============================] - 0s 11ms/step - loss: 0.0029 - mean_absolute_error: 0.0381 - val_loss: 0.2606 - val_mean_absolute_error: 0.3516\n",
      "Epoch 291/500\n",
      "5/5 [==============================] - 0s 9ms/step - loss: 0.0033 - mean_absolute_error: 0.0419 - val_loss: 0.2478 - val_mean_absolute_error: 0.3436\n",
      "Epoch 292/500\n",
      "5/5 [==============================] - 0s 9ms/step - loss: 0.0035 - mean_absolute_error: 0.0397 - val_loss: 0.2299 - val_mean_absolute_error: 0.3287\n",
      "Epoch 293/500\n",
      "5/5 [==============================] - 0s 11ms/step - loss: 0.0053 - mean_absolute_error: 0.0493 - val_loss: 0.2664 - val_mean_absolute_error: 0.3460\n",
      "Epoch 294/500\n",
      "5/5 [==============================] - 0s 9ms/step - loss: 0.0065 - mean_absolute_error: 0.0615 - val_loss: 0.2554 - val_mean_absolute_error: 0.3379\n",
      "Epoch 295/500\n",
      "5/5 [==============================] - 0s 9ms/step - loss: 0.0046 - mean_absolute_error: 0.0486 - val_loss: 0.2500 - val_mean_absolute_error: 0.3338\n",
      "Epoch 296/500\n",
      "5/5 [==============================] - 0s 10ms/step - loss: 0.0046 - mean_absolute_error: 0.0486 - val_loss: 0.2707 - val_mean_absolute_error: 0.3571\n",
      "Epoch 297/500\n",
      "5/5 [==============================] - 0s 9ms/step - loss: 0.0036 - mean_absolute_error: 0.0470 - val_loss: 0.2329 - val_mean_absolute_error: 0.3361\n",
      "Epoch 298/500\n",
      "5/5 [==============================] - 0s 12ms/step - loss: 0.0037 - mean_absolute_error: 0.0438 - val_loss: 0.2301 - val_mean_absolute_error: 0.3376\n",
      "Epoch 299/500\n",
      "5/5 [==============================] - 0s 10ms/step - loss: 0.0047 - mean_absolute_error: 0.0430 - val_loss: 0.2497 - val_mean_absolute_error: 0.3378\n",
      "Epoch 300/500\n",
      "5/5 [==============================] - 0s 9ms/step - loss: 0.0036 - mean_absolute_error: 0.0454 - val_loss: 0.2554 - val_mean_absolute_error: 0.3421\n",
      "Epoch 301/500\n",
      "5/5 [==============================] - 0s 9ms/step - loss: 0.0032 - mean_absolute_error: 0.0417 - val_loss: 0.2542 - val_mean_absolute_error: 0.3329\n",
      "Epoch 302/500\n",
      "5/5 [==============================] - 0s 9ms/step - loss: 0.0037 - mean_absolute_error: 0.0444 - val_loss: 0.2510 - val_mean_absolute_error: 0.3351\n",
      "Epoch 303/500\n",
      "5/5 [==============================] - 0s 11ms/step - loss: 0.0030 - mean_absolute_error: 0.0399 - val_loss: 0.2486 - val_mean_absolute_error: 0.3362\n",
      "Epoch 304/500\n",
      "5/5 [==============================] - 0s 18ms/step - loss: 0.0023 - mean_absolute_error: 0.0351 - val_loss: 0.2377 - val_mean_absolute_error: 0.3316\n",
      "Epoch 305/500\n",
      "5/5 [==============================] - 0s 11ms/step - loss: 0.0022 - mean_absolute_error: 0.0347 - val_loss: 0.2428 - val_mean_absolute_error: 0.3345\n",
      "Epoch 306/500\n",
      "5/5 [==============================] - 0s 11ms/step - loss: 0.0020 - mean_absolute_error: 0.0298 - val_loss: 0.2620 - val_mean_absolute_error: 0.3407\n",
      "Epoch 307/500\n",
      "5/5 [==============================] - 0s 9ms/step - loss: 0.0020 - mean_absolute_error: 0.0329 - val_loss: 0.2644 - val_mean_absolute_error: 0.3402\n",
      "Epoch 308/500\n",
      "5/5 [==============================] - 0s 9ms/step - loss: 0.0028 - mean_absolute_error: 0.0400 - val_loss: 0.2475 - val_mean_absolute_error: 0.3285\n",
      "Epoch 309/500\n",
      "5/5 [==============================] - 0s 9ms/step - loss: 0.0021 - mean_absolute_error: 0.0329 - val_loss: 0.2547 - val_mean_absolute_error: 0.3360\n",
      "Epoch 310/500\n",
      "5/5 [==============================] - 0s 10ms/step - loss: 0.0014 - mean_absolute_error: 0.0265 - val_loss: 0.2494 - val_mean_absolute_error: 0.3422\n",
      "Epoch 311/500\n",
      "5/5 [==============================] - 0s 10ms/step - loss: 0.0014 - mean_absolute_error: 0.0280 - val_loss: 0.2470 - val_mean_absolute_error: 0.3423\n",
      "Epoch 312/500\n",
      "5/5 [==============================] - 0s 10ms/step - loss: 0.0021 - mean_absolute_error: 0.0324 - val_loss: 0.2454 - val_mean_absolute_error: 0.3389\n",
      "Epoch 313/500\n",
      "5/5 [==============================] - 0s 9ms/step - loss: 0.0011 - mean_absolute_error: 0.0247 - val_loss: 0.2530 - val_mean_absolute_error: 0.3365\n",
      "Epoch 314/500\n",
      "5/5 [==============================] - 0s 9ms/step - loss: 0.0016 - mean_absolute_error: 0.0276 - val_loss: 0.2484 - val_mean_absolute_error: 0.3386\n",
      "Epoch 315/500\n",
      "5/5 [==============================] - 0s 9ms/step - loss: 0.0016 - mean_absolute_error: 0.0294 - val_loss: 0.2570 - val_mean_absolute_error: 0.3471\n",
      "Epoch 316/500\n",
      "5/5 [==============================] - 0s 9ms/step - loss: 0.0018 - mean_absolute_error: 0.0284 - val_loss: 0.2503 - val_mean_absolute_error: 0.3349\n",
      "Epoch 317/500\n",
      "5/5 [==============================] - 0s 10ms/step - loss: 0.0016 - mean_absolute_error: 0.0283 - val_loss: 0.2587 - val_mean_absolute_error: 0.3469\n",
      "Epoch 318/500\n",
      "5/5 [==============================] - 0s 9ms/step - loss: 0.0015 - mean_absolute_error: 0.0293 - val_loss: 0.2412 - val_mean_absolute_error: 0.3352\n",
      "Epoch 319/500\n",
      "5/5 [==============================] - 0s 9ms/step - loss: 0.0012 - mean_absolute_error: 0.0259 - val_loss: 0.2427 - val_mean_absolute_error: 0.3429\n",
      "Epoch 320/500\n",
      "5/5 [==============================] - 0s 9ms/step - loss: 0.0013 - mean_absolute_error: 0.0256 - val_loss: 0.2535 - val_mean_absolute_error: 0.3441\n",
      "Epoch 321/500\n",
      "5/5 [==============================] - 0s 9ms/step - loss: 0.0011 - mean_absolute_error: 0.0231 - val_loss: 0.2460 - val_mean_absolute_error: 0.3350\n",
      "Epoch 322/500\n",
      "5/5 [==============================] - 0s 18ms/step - loss: 0.0016 - mean_absolute_error: 0.0247 - val_loss: 0.2354 - val_mean_absolute_error: 0.3313\n",
      "Epoch 323/500\n",
      "5/5 [==============================] - 0s 11ms/step - loss: 0.0013 - mean_absolute_error: 0.0233 - val_loss: 0.2449 - val_mean_absolute_error: 0.3396\n",
      "Epoch 324/500\n",
      "5/5 [==============================] - 0s 10ms/step - loss: 0.0012 - mean_absolute_error: 0.0227 - val_loss: 0.2546 - val_mean_absolute_error: 0.3391\n",
      "Epoch 325/500\n",
      "5/5 [==============================] - 0s 9ms/step - loss: 0.0016 - mean_absolute_error: 0.0242 - val_loss: 0.2619 - val_mean_absolute_error: 0.3431\n",
      "Epoch 326/500\n",
      "5/5 [==============================] - 0s 9ms/step - loss: 0.0018 - mean_absolute_error: 0.0315 - val_loss: 0.2488 - val_mean_absolute_error: 0.3371\n",
      "Epoch 327/500\n",
      "5/5 [==============================] - 0s 9ms/step - loss: 0.0029 - mean_absolute_error: 0.0331 - val_loss: 0.2502 - val_mean_absolute_error: 0.3504\n",
      "Epoch 328/500\n",
      "5/5 [==============================] - 0s 9ms/step - loss: 0.0052 - mean_absolute_error: 0.0505 - val_loss: 0.2407 - val_mean_absolute_error: 0.3382\n",
      "Epoch 329/500\n",
      "5/5 [==============================] - 0s 10ms/step - loss: 0.0051 - mean_absolute_error: 0.0580 - val_loss: 0.2746 - val_mean_absolute_error: 0.3499\n",
      "Epoch 330/500\n",
      "5/5 [==============================] - 0s 9ms/step - loss: 0.0059 - mean_absolute_error: 0.0569 - val_loss: 0.2728 - val_mean_absolute_error: 0.3323\n",
      "Epoch 331/500\n",
      "5/5 [==============================] - 0s 9ms/step - loss: 0.0089 - mean_absolute_error: 0.0684 - val_loss: 0.2817 - val_mean_absolute_error: 0.3611\n",
      "Epoch 332/500\n",
      "5/5 [==============================] - 0s 9ms/step - loss: 0.0105 - mean_absolute_error: 0.0777 - val_loss: 0.2842 - val_mean_absolute_error: 0.3422\n",
      "Epoch 333/500\n",
      "5/5 [==============================] - 0s 10ms/step - loss: 0.0101 - mean_absolute_error: 0.0787 - val_loss: 0.2573 - val_mean_absolute_error: 0.3486\n",
      "Epoch 334/500\n",
      "5/5 [==============================] - 0s 10ms/step - loss: 0.0170 - mean_absolute_error: 0.0950 - val_loss: 0.3237 - val_mean_absolute_error: 0.3860\n",
      "Epoch 335/500\n",
      "5/5 [==============================] - 0s 9ms/step - loss: 0.0237 - mean_absolute_error: 0.1101 - val_loss: 0.3040 - val_mean_absolute_error: 0.3694\n",
      "Epoch 336/500\n",
      "5/5 [==============================] - 0s 9ms/step - loss: 0.0201 - mean_absolute_error: 0.1052 - val_loss: 0.3425 - val_mean_absolute_error: 0.3977\n",
      "Epoch 337/500\n",
      "5/5 [==============================] - 0s 9ms/step - loss: 0.0171 - mean_absolute_error: 0.0994 - val_loss: 0.2909 - val_mean_absolute_error: 0.3557\n",
      "Epoch 338/500\n",
      "5/5 [==============================] - 0s 9ms/step - loss: 0.0183 - mean_absolute_error: 0.0994 - val_loss: 0.3930 - val_mean_absolute_error: 0.4040\n",
      "Epoch 339/500\n",
      "5/5 [==============================] - 0s 17ms/step - loss: 0.0131 - mean_absolute_error: 0.0833 - val_loss: 0.2436 - val_mean_absolute_error: 0.3296\n",
      "Epoch 340/500\n",
      "5/5 [==============================] - 0s 12ms/step - loss: 0.0187 - mean_absolute_error: 0.1036 - val_loss: 0.2696 - val_mean_absolute_error: 0.3427\n",
      "Epoch 341/500\n",
      "5/5 [==============================] - 0s 9ms/step - loss: 0.0118 - mean_absolute_error: 0.0854 - val_loss: 0.2259 - val_mean_absolute_error: 0.3129\n",
      "Epoch 342/500\n",
      "5/5 [==============================] - 0s 9ms/step - loss: 0.0122 - mean_absolute_error: 0.0848 - val_loss: 0.2754 - val_mean_absolute_error: 0.3354\n",
      "Epoch 343/500\n",
      "5/5 [==============================] - 0s 11ms/step - loss: 0.0112 - mean_absolute_error: 0.0810 - val_loss: 0.3148 - val_mean_absolute_error: 0.3425\n",
      "Epoch 344/500\n",
      "5/5 [==============================] - 0s 10ms/step - loss: 0.0147 - mean_absolute_error: 0.0970 - val_loss: 0.2556 - val_mean_absolute_error: 0.3488\n",
      "Epoch 345/500\n",
      "5/5 [==============================] - 0s 11ms/step - loss: 0.0106 - mean_absolute_error: 0.0793 - val_loss: 0.2518 - val_mean_absolute_error: 0.3480\n",
      "Epoch 346/500\n",
      "5/5 [==============================] - 0s 11ms/step - loss: 0.0090 - mean_absolute_error: 0.0706 - val_loss: 0.3113 - val_mean_absolute_error: 0.3423\n",
      "Epoch 347/500\n",
      "5/5 [==============================] - 0s 11ms/step - loss: 0.0063 - mean_absolute_error: 0.0598 - val_loss: 0.2997 - val_mean_absolute_error: 0.3522\n",
      "Epoch 348/500\n",
      "5/5 [==============================] - 0s 11ms/step - loss: 0.0047 - mean_absolute_error: 0.0515 - val_loss: 0.2815 - val_mean_absolute_error: 0.3401\n",
      "Epoch 349/500\n",
      "5/5 [==============================] - 0s 11ms/step - loss: 0.0044 - mean_absolute_error: 0.0501 - val_loss: 0.2777 - val_mean_absolute_error: 0.3495\n",
      "Epoch 350/500\n",
      "5/5 [==============================] - 0s 10ms/step - loss: 0.0046 - mean_absolute_error: 0.0471 - val_loss: 0.2496 - val_mean_absolute_error: 0.3262\n",
      "Epoch 351/500\n",
      "5/5 [==============================] - 0s 10ms/step - loss: 0.0028 - mean_absolute_error: 0.0397 - val_loss: 0.2837 - val_mean_absolute_error: 0.3368\n",
      "Epoch 352/500\n",
      "5/5 [==============================] - 0s 9ms/step - loss: 0.0027 - mean_absolute_error: 0.0383 - val_loss: 0.2763 - val_mean_absolute_error: 0.3361\n",
      "Epoch 353/500\n",
      "5/5 [==============================] - 0s 9ms/step - loss: 0.0027 - mean_absolute_error: 0.0364 - val_loss: 0.2549 - val_mean_absolute_error: 0.3323\n",
      "Epoch 354/500\n",
      "5/5 [==============================] - 0s 8ms/step - loss: 0.0027 - mean_absolute_error: 0.0373 - val_loss: 0.2451 - val_mean_absolute_error: 0.3343\n",
      "Epoch 355/500\n",
      "5/5 [==============================] - 0s 9ms/step - loss: 0.0021 - mean_absolute_error: 0.0363 - val_loss: 0.2497 - val_mean_absolute_error: 0.3319\n",
      "Epoch 356/500\n",
      "5/5 [==============================] - 0s 17ms/step - loss: 0.0019 - mean_absolute_error: 0.0313 - val_loss: 0.2613 - val_mean_absolute_error: 0.3245\n",
      "Epoch 357/500\n",
      "5/5 [==============================] - 0s 12ms/step - loss: 0.0015 - mean_absolute_error: 0.0283 - val_loss: 0.2749 - val_mean_absolute_error: 0.3364\n",
      "Epoch 358/500\n",
      "5/5 [==============================] - 0s 9ms/step - loss: 0.0016 - mean_absolute_error: 0.0270 - val_loss: 0.2689 - val_mean_absolute_error: 0.3368\n",
      "Epoch 359/500\n",
      "5/5 [==============================] - 0s 9ms/step - loss: 0.0020 - mean_absolute_error: 0.0312 - val_loss: 0.2793 - val_mean_absolute_error: 0.3467\n",
      "Epoch 360/500\n",
      "5/5 [==============================] - 0s 9ms/step - loss: 0.0032 - mean_absolute_error: 0.0434 - val_loss: 0.2930 - val_mean_absolute_error: 0.3464\n",
      "Epoch 361/500\n",
      "5/5 [==============================] - 0s 10ms/step - loss: 0.0030 - mean_absolute_error: 0.0373 - val_loss: 0.2804 - val_mean_absolute_error: 0.3414\n",
      "Epoch 362/500\n",
      "5/5 [==============================] - 0s 9ms/step - loss: 0.0024 - mean_absolute_error: 0.0351 - val_loss: 0.2845 - val_mean_absolute_error: 0.3473\n",
      "Epoch 363/500\n",
      "5/5 [==============================] - 0s 10ms/step - loss: 0.0029 - mean_absolute_error: 0.0369 - val_loss: 0.2548 - val_mean_absolute_error: 0.3245\n",
      "Epoch 364/500\n",
      "5/5 [==============================] - 0s 9ms/step - loss: 0.0021 - mean_absolute_error: 0.0347 - val_loss: 0.2983 - val_mean_absolute_error: 0.3484\n",
      "Epoch 365/500\n",
      "5/5 [==============================] - 0s 10ms/step - loss: 0.0017 - mean_absolute_error: 0.0307 - val_loss: 0.2901 - val_mean_absolute_error: 0.3366\n",
      "Epoch 366/500\n",
      "5/5 [==============================] - 0s 10ms/step - loss: 0.0018 - mean_absolute_error: 0.0326 - val_loss: 0.3004 - val_mean_absolute_error: 0.3574\n",
      "Epoch 367/500\n",
      "5/5 [==============================] - 0s 8ms/step - loss: 0.0020 - mean_absolute_error: 0.0337 - val_loss: 0.2855 - val_mean_absolute_error: 0.3339\n",
      "Epoch 368/500\n",
      "5/5 [==============================] - 0s 9ms/step - loss: 0.0024 - mean_absolute_error: 0.0339 - val_loss: 0.2994 - val_mean_absolute_error: 0.3477\n",
      "Epoch 369/500\n",
      "5/5 [==============================] - 0s 10ms/step - loss: 0.0030 - mean_absolute_error: 0.0400 - val_loss: 0.2852 - val_mean_absolute_error: 0.3390\n",
      "Epoch 370/500\n",
      "5/5 [==============================] - 0s 10ms/step - loss: 0.0029 - mean_absolute_error: 0.0406 - val_loss: 0.3039 - val_mean_absolute_error: 0.3476\n",
      "Epoch 371/500\n",
      "5/5 [==============================] - 0s 10ms/step - loss: 0.0027 - mean_absolute_error: 0.0382 - val_loss: 0.2738 - val_mean_absolute_error: 0.3238\n",
      "Epoch 372/500\n",
      "5/5 [==============================] - 0s 9ms/step - loss: 0.0037 - mean_absolute_error: 0.0429 - val_loss: 0.3331 - val_mean_absolute_error: 0.3604\n",
      "Epoch 373/500\n",
      "5/5 [==============================] - 0s 16ms/step - loss: 0.0041 - mean_absolute_error: 0.0429 - val_loss: 0.3191 - val_mean_absolute_error: 0.3469\n",
      "Epoch 374/500\n",
      "5/5 [==============================] - 0s 12ms/step - loss: 0.0037 - mean_absolute_error: 0.0447 - val_loss: 0.3242 - val_mean_absolute_error: 0.3569\n",
      "Epoch 375/500\n",
      "5/5 [==============================] - 0s 9ms/step - loss: 0.0036 - mean_absolute_error: 0.0451 - val_loss: 0.2944 - val_mean_absolute_error: 0.3410\n",
      "Epoch 376/500\n",
      "5/5 [==============================] - 0s 9ms/step - loss: 0.0029 - mean_absolute_error: 0.0408 - val_loss: 0.3044 - val_mean_absolute_error: 0.3457\n",
      "Epoch 377/500\n",
      "5/5 [==============================] - 0s 9ms/step - loss: 0.0032 - mean_absolute_error: 0.0396 - val_loss: 0.3092 - val_mean_absolute_error: 0.3462\n",
      "Epoch 378/500\n",
      "5/5 [==============================] - 0s 9ms/step - loss: 0.0024 - mean_absolute_error: 0.0371 - val_loss: 0.2904 - val_mean_absolute_error: 0.3398\n",
      "Epoch 379/500\n",
      "5/5 [==============================] - 0s 9ms/step - loss: 0.0028 - mean_absolute_error: 0.0369 - val_loss: 0.2974 - val_mean_absolute_error: 0.3561\n",
      "Epoch 380/500\n",
      "5/5 [==============================] - 0s 10ms/step - loss: 0.0027 - mean_absolute_error: 0.0390 - val_loss: 0.2977 - val_mean_absolute_error: 0.3479\n",
      "Epoch 381/500\n",
      "5/5 [==============================] - 0s 9ms/step - loss: 0.0029 - mean_absolute_error: 0.0403 - val_loss: 0.3169 - val_mean_absolute_error: 0.3516\n",
      "Epoch 382/500\n",
      "5/5 [==============================] - 0s 10ms/step - loss: 0.0021 - mean_absolute_error: 0.0345 - val_loss: 0.3061 - val_mean_absolute_error: 0.3442\n",
      "Epoch 383/500\n",
      "5/5 [==============================] - 0s 10ms/step - loss: 0.0018 - mean_absolute_error: 0.0311 - val_loss: 0.3039 - val_mean_absolute_error: 0.3415\n",
      "Epoch 384/500\n",
      "5/5 [==============================] - 0s 9ms/step - loss: 0.0026 - mean_absolute_error: 0.0372 - val_loss: 0.2913 - val_mean_absolute_error: 0.3396\n",
      "Epoch 385/500\n",
      "5/5 [==============================] - 0s 9ms/step - loss: 0.0021 - mean_absolute_error: 0.0368 - val_loss: 0.2942 - val_mean_absolute_error: 0.3402\n",
      "Epoch 386/500\n",
      "5/5 [==============================] - 0s 9ms/step - loss: 0.0018 - mean_absolute_error: 0.0316 - val_loss: 0.3065 - val_mean_absolute_error: 0.3572\n",
      "Epoch 387/500\n",
      "5/5 [==============================] - 0s 9ms/step - loss: 0.0019 - mean_absolute_error: 0.0326 - val_loss: 0.2932 - val_mean_absolute_error: 0.3418\n",
      "Epoch 388/500\n",
      "5/5 [==============================] - 0s 10ms/step - loss: 0.0017 - mean_absolute_error: 0.0300 - val_loss: 0.3119 - val_mean_absolute_error: 0.3509\n",
      "Epoch 389/500\n",
      "5/5 [==============================] - 0s 10ms/step - loss: 0.0019 - mean_absolute_error: 0.0293 - val_loss: 0.3088 - val_mean_absolute_error: 0.3363\n",
      "Epoch 390/500\n",
      "5/5 [==============================] - 0s 15ms/step - loss: 0.0045 - mean_absolute_error: 0.0424 - val_loss: 0.2953 - val_mean_absolute_error: 0.3443\n",
      "Epoch 391/500\n",
      "5/5 [==============================] - 0s 12ms/step - loss: 0.0031 - mean_absolute_error: 0.0403 - val_loss: 0.2945 - val_mean_absolute_error: 0.3475\n",
      "Epoch 392/500\n",
      "5/5 [==============================] - 0s 10ms/step - loss: 0.0029 - mean_absolute_error: 0.0385 - val_loss: 0.2814 - val_mean_absolute_error: 0.3367\n",
      "Epoch 393/500\n",
      "5/5 [==============================] - 0s 9ms/step - loss: 0.0023 - mean_absolute_error: 0.0335 - val_loss: 0.3164 - val_mean_absolute_error: 0.3463\n",
      "Epoch 394/500\n",
      "5/5 [==============================] - 0s 9ms/step - loss: 0.0020 - mean_absolute_error: 0.0329 - val_loss: 0.3271 - val_mean_absolute_error: 0.3538\n",
      "Epoch 395/500\n",
      "5/5 [==============================] - 0s 9ms/step - loss: 0.0013 - mean_absolute_error: 0.0253 - val_loss: 0.2923 - val_mean_absolute_error: 0.3377\n",
      "Epoch 396/500\n",
      "5/5 [==============================] - 0s 9ms/step - loss: 9.1405e-04 - mean_absolute_error: 0.0218 - val_loss: 0.2929 - val_mean_absolute_error: 0.3405\n",
      "Epoch 397/500\n",
      "5/5 [==============================] - 0s 9ms/step - loss: 8.0056e-04 - mean_absolute_error: 0.0201 - val_loss: 0.2909 - val_mean_absolute_error: 0.3412\n",
      "Epoch 398/500\n",
      "5/5 [==============================] - 0s 10ms/step - loss: 6.8979e-04 - mean_absolute_error: 0.0189 - val_loss: 0.2917 - val_mean_absolute_error: 0.3412\n",
      "Epoch 399/500\n",
      "5/5 [==============================] - 0s 9ms/step - loss: 5.4084e-04 - mean_absolute_error: 0.0165 - val_loss: 0.2957 - val_mean_absolute_error: 0.3416\n",
      "Epoch 400/500\n",
      "5/5 [==============================] - 0s 10ms/step - loss: 6.5572e-04 - mean_absolute_error: 0.0167 - val_loss: 0.2976 - val_mean_absolute_error: 0.3426\n",
      "Epoch 401/500\n",
      "5/5 [==============================] - 0s 10ms/step - loss: 4.7074e-04 - mean_absolute_error: 0.0162 - val_loss: 0.2982 - val_mean_absolute_error: 0.3420\n",
      "Epoch 402/500\n",
      "5/5 [==============================] - 0s 10ms/step - loss: 6.3981e-04 - mean_absolute_error: 0.0179 - val_loss: 0.2997 - val_mean_absolute_error: 0.3424\n",
      "Epoch 403/500\n",
      "5/5 [==============================] - 0s 11ms/step - loss: 0.0010 - mean_absolute_error: 0.0218 - val_loss: 0.2998 - val_mean_absolute_error: 0.3479\n",
      "Epoch 404/500\n",
      "5/5 [==============================] - 0s 9ms/step - loss: 0.0012 - mean_absolute_error: 0.0240 - val_loss: 0.3056 - val_mean_absolute_error: 0.3411\n",
      "Epoch 405/500\n",
      "5/5 [==============================] - 0s 9ms/step - loss: 0.0022 - mean_absolute_error: 0.0293 - val_loss: 0.3101 - val_mean_absolute_error: 0.3493\n",
      "Epoch 406/500\n",
      "5/5 [==============================] - 0s 10ms/step - loss: 0.0020 - mean_absolute_error: 0.0312 - val_loss: 0.2940 - val_mean_absolute_error: 0.3421\n",
      "Epoch 407/500\n",
      "5/5 [==============================] - 0s 15ms/step - loss: 0.0023 - mean_absolute_error: 0.0347 - val_loss: 0.3031 - val_mean_absolute_error: 0.3428\n",
      "Epoch 408/500\n",
      "5/5 [==============================] - 0s 10ms/step - loss: 0.0017 - mean_absolute_error: 0.0338 - val_loss: 0.3017 - val_mean_absolute_error: 0.3445\n",
      "Epoch 409/500\n",
      "5/5 [==============================] - 0s 10ms/step - loss: 0.0017 - mean_absolute_error: 0.0321 - val_loss: 0.2911 - val_mean_absolute_error: 0.3426\n",
      "Epoch 410/500\n",
      "5/5 [==============================] - 0s 10ms/step - loss: 0.0012 - mean_absolute_error: 0.0262 - val_loss: 0.2977 - val_mean_absolute_error: 0.3346\n",
      "Epoch 411/500\n",
      "5/5 [==============================] - 0s 9ms/step - loss: 0.0012 - mean_absolute_error: 0.0246 - val_loss: 0.3122 - val_mean_absolute_error: 0.3496\n",
      "Epoch 412/500\n",
      "5/5 [==============================] - 0s 9ms/step - loss: 0.0012 - mean_absolute_error: 0.0266 - val_loss: 0.2879 - val_mean_absolute_error: 0.3380\n",
      "Epoch 413/500\n",
      "5/5 [==============================] - 0s 9ms/step - loss: 0.0011 - mean_absolute_error: 0.0227 - val_loss: 0.3068 - val_mean_absolute_error: 0.3447\n",
      "Epoch 414/500\n",
      "5/5 [==============================] - 0s 11ms/step - loss: 0.0013 - mean_absolute_error: 0.0238 - val_loss: 0.2901 - val_mean_absolute_error: 0.3408\n",
      "Epoch 415/500\n",
      "5/5 [==============================] - 0s 11ms/step - loss: 0.0017 - mean_absolute_error: 0.0278 - val_loss: 0.2801 - val_mean_absolute_error: 0.3335\n",
      "Epoch 416/500\n",
      "5/5 [==============================] - 0s 9ms/step - loss: 0.0015 - mean_absolute_error: 0.0291 - val_loss: 0.3139 - val_mean_absolute_error: 0.3556\n",
      "Epoch 417/500\n",
      "5/5 [==============================] - 0s 10ms/step - loss: 0.0017 - mean_absolute_error: 0.0331 - val_loss: 0.2969 - val_mean_absolute_error: 0.3403\n",
      "Epoch 418/500\n",
      "5/5 [==============================] - 0s 9ms/step - loss: 0.0017 - mean_absolute_error: 0.0315 - val_loss: 0.3056 - val_mean_absolute_error: 0.3524\n",
      "Epoch 419/500\n",
      "5/5 [==============================] - 0s 10ms/step - loss: 0.0012 - mean_absolute_error: 0.0269 - val_loss: 0.2859 - val_mean_absolute_error: 0.3304\n",
      "Epoch 420/500\n",
      "5/5 [==============================] - 0s 10ms/step - loss: 0.0012 - mean_absolute_error: 0.0253 - val_loss: 0.3056 - val_mean_absolute_error: 0.3520\n",
      "Epoch 421/500\n",
      "5/5 [==============================] - 0s 10ms/step - loss: 0.0011 - mean_absolute_error: 0.0239 - val_loss: 0.2888 - val_mean_absolute_error: 0.3405\n",
      "Epoch 422/500\n",
      "5/5 [==============================] - 0s 10ms/step - loss: 0.0010 - mean_absolute_error: 0.0235 - val_loss: 0.3021 - val_mean_absolute_error: 0.3418\n",
      "Epoch 423/500\n",
      "5/5 [==============================] - 0s 11ms/step - loss: 9.3561e-04 - mean_absolute_error: 0.0227 - val_loss: 0.3165 - val_mean_absolute_error: 0.3537\n",
      "Epoch 424/500\n",
      "5/5 [==============================] - 0s 22ms/step - loss: 0.0010 - mean_absolute_error: 0.0239 - val_loss: 0.2946 - val_mean_absolute_error: 0.3446\n",
      "Epoch 425/500\n",
      "5/5 [==============================] - 0s 11ms/step - loss: 9.1577e-04 - mean_absolute_error: 0.0237 - val_loss: 0.3019 - val_mean_absolute_error: 0.3500\n",
      "Epoch 426/500\n",
      "5/5 [==============================] - 0s 10ms/step - loss: 9.6863e-04 - mean_absolute_error: 0.0215 - val_loss: 0.3032 - val_mean_absolute_error: 0.3406\n",
      "Epoch 427/500\n",
      "5/5 [==============================] - 0s 14ms/step - loss: 6.9810e-04 - mean_absolute_error: 0.0207 - val_loss: 0.3097 - val_mean_absolute_error: 0.3493\n",
      "Epoch 428/500\n",
      "5/5 [==============================] - 0s 11ms/step - loss: 0.0011 - mean_absolute_error: 0.0229 - val_loss: 0.3058 - val_mean_absolute_error: 0.3439\n",
      "Epoch 429/500\n",
      "5/5 [==============================] - 0s 10ms/step - loss: 7.5311e-04 - mean_absolute_error: 0.0216 - val_loss: 0.2886 - val_mean_absolute_error: 0.3395\n",
      "Epoch 430/500\n",
      "5/5 [==============================] - 0s 11ms/step - loss: 9.6313e-04 - mean_absolute_error: 0.0219 - val_loss: 0.2922 - val_mean_absolute_error: 0.3423\n",
      "Epoch 431/500\n",
      "5/5 [==============================] - 0s 10ms/step - loss: 6.8803e-04 - mean_absolute_error: 0.0194 - val_loss: 0.3091 - val_mean_absolute_error: 0.3527\n",
      "Epoch 432/500\n",
      "5/5 [==============================] - 0s 9ms/step - loss: 7.6878e-04 - mean_absolute_error: 0.0200 - val_loss: 0.2955 - val_mean_absolute_error: 0.3452\n",
      "Epoch 433/500\n",
      "5/5 [==============================] - 0s 10ms/step - loss: 5.5860e-04 - mean_absolute_error: 0.0178 - val_loss: 0.2884 - val_mean_absolute_error: 0.3412\n",
      "Epoch 434/500\n",
      "5/5 [==============================] - 0s 9ms/step - loss: 5.9584e-04 - mean_absolute_error: 0.0180 - val_loss: 0.3044 - val_mean_absolute_error: 0.3444\n",
      "Epoch 435/500\n",
      "5/5 [==============================] - 0s 12ms/step - loss: 6.6992e-04 - mean_absolute_error: 0.0194 - val_loss: 0.2919 - val_mean_absolute_error: 0.3366\n",
      "Epoch 436/500\n",
      "5/5 [==============================] - 0s 10ms/step - loss: 5.4429e-04 - mean_absolute_error: 0.0181 - val_loss: 0.2905 - val_mean_absolute_error: 0.3388\n",
      "Epoch 437/500\n",
      "5/5 [==============================] - 0s 9ms/step - loss: 6.0196e-04 - mean_absolute_error: 0.0173 - val_loss: 0.2893 - val_mean_absolute_error: 0.3433\n",
      "Epoch 438/500\n",
      "5/5 [==============================] - 0s 10ms/step - loss: 5.5429e-04 - mean_absolute_error: 0.0169 - val_loss: 0.2954 - val_mean_absolute_error: 0.3453\n",
      "Epoch 439/500\n",
      "5/5 [==============================] - 0s 11ms/step - loss: 3.8929e-04 - mean_absolute_error: 0.0139 - val_loss: 0.2987 - val_mean_absolute_error: 0.3448\n",
      "Epoch 440/500\n",
      "5/5 [==============================] - 0s 19ms/step - loss: 4.7789e-04 - mean_absolute_error: 0.0154 - val_loss: 0.3036 - val_mean_absolute_error: 0.3428\n",
      "Epoch 441/500\n",
      "5/5 [==============================] - 0s 11ms/step - loss: 4.0938e-04 - mean_absolute_error: 0.0140 - val_loss: 0.3114 - val_mean_absolute_error: 0.3493\n",
      "Epoch 442/500\n",
      "5/5 [==============================] - 0s 10ms/step - loss: 5.4441e-04 - mean_absolute_error: 0.0162 - val_loss: 0.2968 - val_mean_absolute_error: 0.3413\n",
      "Epoch 443/500\n",
      "5/5 [==============================] - 0s 11ms/step - loss: 4.2644e-04 - mean_absolute_error: 0.0144 - val_loss: 0.2975 - val_mean_absolute_error: 0.3458\n",
      "Epoch 444/500\n",
      "5/5 [==============================] - 0s 10ms/step - loss: 2.6790e-04 - mean_absolute_error: 0.0122 - val_loss: 0.3023 - val_mean_absolute_error: 0.3435\n",
      "Epoch 445/500\n",
      "5/5 [==============================] - 0s 9ms/step - loss: 3.2474e-04 - mean_absolute_error: 0.0135 - val_loss: 0.3063 - val_mean_absolute_error: 0.3466\n",
      "Epoch 446/500\n",
      "5/5 [==============================] - 0s 10ms/step - loss: 3.2223e-04 - mean_absolute_error: 0.0130 - val_loss: 0.2978 - val_mean_absolute_error: 0.3460\n",
      "Epoch 447/500\n",
      "5/5 [==============================] - 0s 11ms/step - loss: 3.4930e-04 - mean_absolute_error: 0.0138 - val_loss: 0.2909 - val_mean_absolute_error: 0.3446\n",
      "Epoch 448/500\n",
      "5/5 [==============================] - 0s 10ms/step - loss: 2.8322e-04 - mean_absolute_error: 0.0128 - val_loss: 0.2965 - val_mean_absolute_error: 0.3426\n",
      "Epoch 449/500\n",
      "5/5 [==============================] - 0s 8ms/step - loss: 2.0736e-04 - mean_absolute_error: 0.0105 - val_loss: 0.2972 - val_mean_absolute_error: 0.3448\n",
      "Epoch 450/500\n",
      "5/5 [==============================] - 0s 10ms/step - loss: 1.8783e-04 - mean_absolute_error: 0.0097 - val_loss: 0.2950 - val_mean_absolute_error: 0.3419\n",
      "Epoch 451/500\n",
      "5/5 [==============================] - 0s 9ms/step - loss: 1.8550e-04 - mean_absolute_error: 0.0097 - val_loss: 0.2998 - val_mean_absolute_error: 0.3443\n",
      "Epoch 452/500\n",
      "5/5 [==============================] - 0s 11ms/step - loss: 1.8925e-04 - mean_absolute_error: 0.0089 - val_loss: 0.2953 - val_mean_absolute_error: 0.3434\n",
      "Epoch 453/500\n",
      "5/5 [==============================] - 0s 9ms/step - loss: 2.2993e-04 - mean_absolute_error: 0.0094 - val_loss: 0.2980 - val_mean_absolute_error: 0.3444\n",
      "Epoch 454/500\n",
      "5/5 [==============================] - 0s 9ms/step - loss: 2.1602e-04 - mean_absolute_error: 0.0104 - val_loss: 0.2981 - val_mean_absolute_error: 0.3430\n",
      "Epoch 455/500\n",
      "5/5 [==============================] - 0s 10ms/step - loss: 2.2757e-04 - mean_absolute_error: 0.0107 - val_loss: 0.2966 - val_mean_absolute_error: 0.3431\n",
      "Epoch 456/500\n",
      "5/5 [==============================] - 0s 9ms/step - loss: 2.2256e-04 - mean_absolute_error: 0.0102 - val_loss: 0.3032 - val_mean_absolute_error: 0.3464\n",
      "Epoch 457/500\n",
      "5/5 [==============================] - 0s 10ms/step - loss: 1.7840e-04 - mean_absolute_error: 0.0095 - val_loss: 0.2985 - val_mean_absolute_error: 0.3447\n",
      "Epoch 458/500\n",
      "5/5 [==============================] - 0s 18ms/step - loss: 2.1801e-04 - mean_absolute_error: 0.0106 - val_loss: 0.2953 - val_mean_absolute_error: 0.3459\n",
      "Epoch 459/500\n",
      "5/5 [==============================] - 0s 12ms/step - loss: 2.8042e-04 - mean_absolute_error: 0.0123 - val_loss: 0.2967 - val_mean_absolute_error: 0.3468\n",
      "Epoch 460/500\n",
      "5/5 [==============================] - 0s 10ms/step - loss: 2.5467e-04 - mean_absolute_error: 0.0114 - val_loss: 0.2920 - val_mean_absolute_error: 0.3401\n",
      "Epoch 461/500\n",
      "5/5 [==============================] - 0s 10ms/step - loss: 2.5837e-04 - mean_absolute_error: 0.0120 - val_loss: 0.2976 - val_mean_absolute_error: 0.3432\n",
      "Epoch 462/500\n",
      "5/5 [==============================] - 0s 10ms/step - loss: 2.9797e-04 - mean_absolute_error: 0.0119 - val_loss: 0.3012 - val_mean_absolute_error: 0.3445\n",
      "Epoch 463/500\n",
      "5/5 [==============================] - 0s 10ms/step - loss: 3.5856e-04 - mean_absolute_error: 0.0136 - val_loss: 0.3000 - val_mean_absolute_error: 0.3452\n",
      "Epoch 464/500\n",
      "5/5 [==============================] - 0s 9ms/step - loss: 4.5833e-04 - mean_absolute_error: 0.0139 - val_loss: 0.2976 - val_mean_absolute_error: 0.3435\n",
      "Epoch 465/500\n",
      "5/5 [==============================] - 0s 11ms/step - loss: 5.7345e-04 - mean_absolute_error: 0.0157 - val_loss: 0.2953 - val_mean_absolute_error: 0.3419\n",
      "Epoch 466/500\n",
      "5/5 [==============================] - 0s 10ms/step - loss: 4.4027e-04 - mean_absolute_error: 0.0157 - val_loss: 0.2976 - val_mean_absolute_error: 0.3482\n",
      "Epoch 467/500\n",
      "5/5 [==============================] - 0s 10ms/step - loss: 3.6394e-04 - mean_absolute_error: 0.0136 - val_loss: 0.2987 - val_mean_absolute_error: 0.3434\n",
      "Epoch 468/500\n",
      "5/5 [==============================] - 0s 10ms/step - loss: 3.3417e-04 - mean_absolute_error: 0.0141 - val_loss: 0.2986 - val_mean_absolute_error: 0.3427\n",
      "Epoch 469/500\n",
      "5/5 [==============================] - 0s 9ms/step - loss: 5.0740e-04 - mean_absolute_error: 0.0145 - val_loss: 0.2932 - val_mean_absolute_error: 0.3430\n",
      "Epoch 470/500\n",
      "5/5 [==============================] - 0s 10ms/step - loss: 3.1593e-04 - mean_absolute_error: 0.0134 - val_loss: 0.2930 - val_mean_absolute_error: 0.3387\n",
      "Epoch 471/500\n",
      "5/5 [==============================] - 0s 10ms/step - loss: 3.8508e-04 - mean_absolute_error: 0.0156 - val_loss: 0.3102 - val_mean_absolute_error: 0.3551\n",
      "Epoch 472/500\n",
      "5/5 [==============================] - 0s 10ms/step - loss: 5.0224e-04 - mean_absolute_error: 0.0168 - val_loss: 0.2945 - val_mean_absolute_error: 0.3383\n",
      "Epoch 473/500\n",
      "5/5 [==============================] - 0s 10ms/step - loss: 6.5421e-04 - mean_absolute_error: 0.0179 - val_loss: 0.2983 - val_mean_absolute_error: 0.3454\n",
      "Epoch 474/500\n",
      "5/5 [==============================] - 0s 11ms/step - loss: 8.4307e-04 - mean_absolute_error: 0.0226 - val_loss: 0.3051 - val_mean_absolute_error: 0.3485\n",
      "Epoch 475/500\n",
      "5/5 [==============================] - 0s 14ms/step - loss: 6.8838e-04 - mean_absolute_error: 0.0206 - val_loss: 0.2988 - val_mean_absolute_error: 0.3465\n",
      "Epoch 476/500\n",
      "5/5 [==============================] - 0s 10ms/step - loss: 7.5725e-04 - mean_absolute_error: 0.0207 - val_loss: 0.2934 - val_mean_absolute_error: 0.3442\n",
      "Epoch 477/500\n",
      "5/5 [==============================] - 0s 10ms/step - loss: 5.7384e-04 - mean_absolute_error: 0.0179 - val_loss: 0.2866 - val_mean_absolute_error: 0.3417\n",
      "Epoch 478/500\n",
      "5/5 [==============================] - 0s 10ms/step - loss: 6.3771e-04 - mean_absolute_error: 0.0192 - val_loss: 0.2921 - val_mean_absolute_error: 0.3398\n",
      "Epoch 479/500\n",
      "5/5 [==============================] - 0s 9ms/step - loss: 7.5149e-04 - mean_absolute_error: 0.0207 - val_loss: 0.2938 - val_mean_absolute_error: 0.3432\n",
      "Epoch 480/500\n",
      "5/5 [==============================] - 0s 9ms/step - loss: 7.8373e-04 - mean_absolute_error: 0.0215 - val_loss: 0.2903 - val_mean_absolute_error: 0.3381\n",
      "Epoch 481/500\n",
      "5/5 [==============================] - 0s 9ms/step - loss: 8.6128e-04 - mean_absolute_error: 0.0238 - val_loss: 0.3082 - val_mean_absolute_error: 0.3495\n",
      "Epoch 482/500\n",
      "5/5 [==============================] - 0s 9ms/step - loss: 9.4880e-04 - mean_absolute_error: 0.0233 - val_loss: 0.3136 - val_mean_absolute_error: 0.3382\n",
      "Epoch 483/500\n",
      "5/5 [==============================] - 0s 10ms/step - loss: 0.0011 - mean_absolute_error: 0.0259 - val_loss: 0.3009 - val_mean_absolute_error: 0.3473\n",
      "Epoch 484/500\n",
      "5/5 [==============================] - 0s 9ms/step - loss: 9.0047e-04 - mean_absolute_error: 0.0241 - val_loss: 0.2794 - val_mean_absolute_error: 0.3393\n",
      "Epoch 485/500\n",
      "5/5 [==============================] - 0s 9ms/step - loss: 0.0012 - mean_absolute_error: 0.0270 - val_loss: 0.3045 - val_mean_absolute_error: 0.3503\n",
      "Epoch 486/500\n",
      "5/5 [==============================] - 0s 10ms/step - loss: 0.0016 - mean_absolute_error: 0.0316 - val_loss: 0.2939 - val_mean_absolute_error: 0.3414\n",
      "Epoch 487/500\n",
      "5/5 [==============================] - 0s 9ms/step - loss: 0.0019 - mean_absolute_error: 0.0323 - val_loss: 0.2914 - val_mean_absolute_error: 0.3442\n",
      "Epoch 488/500\n",
      "5/5 [==============================] - 0s 10ms/step - loss: 0.0016 - mean_absolute_error: 0.0288 - val_loss: 0.2699 - val_mean_absolute_error: 0.3369\n",
      "Epoch 489/500\n",
      "5/5 [==============================] - 0s 9ms/step - loss: 0.0016 - mean_absolute_error: 0.0300 - val_loss: 0.2919 - val_mean_absolute_error: 0.3493\n",
      "Epoch 490/500\n",
      "5/5 [==============================] - 0s 9ms/step - loss: 0.0017 - mean_absolute_error: 0.0272 - val_loss: 0.3028 - val_mean_absolute_error: 0.3385\n",
      "Epoch 491/500\n",
      "5/5 [==============================] - 0s 13ms/step - loss: 0.0022 - mean_absolute_error: 0.0306 - val_loss: 0.3063 - val_mean_absolute_error: 0.3472\n",
      "Epoch 492/500\n",
      "5/5 [==============================] - 0s 12ms/step - loss: 0.0029 - mean_absolute_error: 0.0341 - val_loss: 0.2895 - val_mean_absolute_error: 0.3420\n",
      "Epoch 493/500\n",
      "5/5 [==============================] - 0s 10ms/step - loss: 0.0025 - mean_absolute_error: 0.0314 - val_loss: 0.2904 - val_mean_absolute_error: 0.3366\n",
      "Epoch 494/500\n",
      "5/5 [==============================] - 0s 9ms/step - loss: 0.0072 - mean_absolute_error: 0.0435 - val_loss: 0.3133 - val_mean_absolute_error: 0.3478\n",
      "Epoch 495/500\n",
      "5/5 [==============================] - 0s 9ms/step - loss: 0.0031 - mean_absolute_error: 0.0420 - val_loss: 0.2883 - val_mean_absolute_error: 0.3552\n",
      "Epoch 496/500\n",
      "5/5 [==============================] - 0s 10ms/step - loss: 0.0026 - mean_absolute_error: 0.0384 - val_loss: 0.2798 - val_mean_absolute_error: 0.3395\n",
      "Epoch 497/500\n",
      "5/5 [==============================] - 0s 10ms/step - loss: 0.0017 - mean_absolute_error: 0.0311 - val_loss: 0.2901 - val_mean_absolute_error: 0.3354\n",
      "Epoch 498/500\n",
      "5/5 [==============================] - 0s 9ms/step - loss: 0.0020 - mean_absolute_error: 0.0358 - val_loss: 0.3085 - val_mean_absolute_error: 0.3445\n",
      "Epoch 499/500\n",
      "5/5 [==============================] - 0s 9ms/step - loss: 0.0013 - mean_absolute_error: 0.0270 - val_loss: 0.3119 - val_mean_absolute_error: 0.3398\n",
      "Epoch 500/500\n",
      "5/5 [==============================] - 0s 9ms/step - loss: 0.0016 - mean_absolute_error: 0.0274 - val_loss: 0.2818 - val_mean_absolute_error: 0.3370\n",
      "3/3 [==============================] - 0s 2ms/step - loss: 0.4358 - mean_absolute_error: 0.4015\n",
      "Test Loss (MSE): 0.43584463000297546\n",
      "3/3 [==============================] - 0s 999us/step\n",
      "MSE : 0.43584463084196157\n",
      "RMSE: 0.6601853003831285\n",
      "MAE : 0.40151169896125793\n",
      "R2  : 0.8266278884571696\n",
      "MAPE: 29.548322844395642%\n",
      "Model saved to trained_mlp_model(ADAM).h5\n"
     ]
    }
   ],
   "source": [
    "from tensorflow.keras.models import load_model\n",
    "from tensorflow.keras.optimizers import Adam, Adamax, Nadam, Ftrl\n",
    "\n",
    "# Build the MLP model\n",
    "model = Sequential()\n",
    "model.add(Dense(128, input_dim=X_train_scaled.shape[1], activation='relu'))\n",
    "model.add(Dense(64, activation='tanh'))\n",
    "model.add(Dense(64, activation='tanh'))\n",
    "model.add(Dense(16, activation='tanh'))\n",
    "model.add(Dense(8, activation='tanh'))\n",
    "model.add(Dense(1, activation='linear'))\n",
    "\n",
    "# Compile the model using mean squared error loss\n",
    "model.compile(loss='mean_squared_error', optimizer=Adam(learning_rate=0.01, epsilon= 1e-8), metrics=['mean_absolute_error'])\n",
    "\n",
    "# Train the model\n",
    "history = model.fit(X_train_scaled, y_train, epochs=500, batch_size=50, validation_split=0.2)\n",
    "\n",
    "# Evaluate the model\n",
    "loss, mae = model.evaluate(X_test_scaled, y_test)\n",
    "print(f\"Test Loss (MSE): {loss}\")\n",
    "\n",
    "# Predict on test set\n",
    "y_pred = model.predict(X_test_scaled)\n",
    "\n",
    "# Calculate additional metrics\n",
    "mse = mean_squared_error(y_test, y_pred)\n",
    "rmse = np.sqrt(mse)\n",
    "r2 = r2_score(y_test, y_pred)\n",
    "mape = np.mean(np.abs((y_test - y_pred.flatten()) / y_test)) * 100\n",
    "\n",
    "# Print metrics\n",
    "print(f\"MSE : {mse}\")\n",
    "print(f\"RMSE: {rmse}\")\n",
    "print(f\"MAE : {mae}\")\n",
    "print(f\"R2  : {r2}\")\n",
    "print(f\"MAPE: {mape}%\")\n",
    "\n",
    "model.save('trained_mlp_model.h5')\n",
    "print(\"Model saved to trained_mlp_model(ADAM).h5\")"
   ]
  },
  {
   "cell_type": "code",
   "execution_count": 53,
   "id": "9e6d7df6-43f0-4cf6-a0c7-124d5d346316",
   "metadata": {},
   "outputs": [
    {
     "name": "stderr",
     "output_type": "stream",
     "text": [
      "h:\\MODEL\\MLP\\M\\Lib\\site-packages\\deap\\creator.py:185: RuntimeWarning: A class named 'FitnessMin' has already been created and it will be overwritten. Consider deleting previous creation of that class or rename it.\n",
      "  warnings.warn(\"A class named '{0}' has already been created and it \"\n",
      "h:\\MODEL\\MLP\\M\\Lib\\site-packages\\deap\\creator.py:185: RuntimeWarning: A class named 'Individual' has already been created and it will be overwritten. Consider deleting previous creation of that class or rename it.\n",
      "  warnings.warn(\"A class named '{0}' has already been created and it \"\n",
      "h:\\MODEL\\MLP\\M\\Lib\\site-packages\\keras\\engine\\data_adapter.py:1700: FutureWarning: The behavior of `series[i:j]` with an integer-dtype index is deprecated. In a future version, this will be treated as *label-based* indexing, consistent with e.g. `series[i]` lookups. To retain the old behavior, use `series.iloc[i:j]`. To get the future behavior, use `series.loc[i:j]`.\n",
      "  return t[start:end]\n"
     ]
    },
    {
     "name": "stdout",
     "output_type": "stream",
     "text": [
      "3/3 [==============================] - 0s 2ms/step\n"
     ]
    },
    {
     "name": "stderr",
     "output_type": "stream",
     "text": [
      "h:\\MODEL\\MLP\\M\\Lib\\site-packages\\keras\\engine\\data_adapter.py:1700: FutureWarning: The behavior of `series[i:j]` with an integer-dtype index is deprecated. In a future version, this will be treated as *label-based* indexing, consistent with e.g. `series[i]` lookups. To retain the old behavior, use `series.iloc[i:j]`. To get the future behavior, use `series.loc[i:j]`.\n",
      "  return t[start:end]\n"
     ]
    },
    {
     "name": "stdout",
     "output_type": "stream",
     "text": [
      "3/3 [==============================] - 0s 2ms/step\n"
     ]
    },
    {
     "name": "stderr",
     "output_type": "stream",
     "text": [
      "h:\\MODEL\\MLP\\M\\Lib\\site-packages\\keras\\engine\\data_adapter.py:1700: FutureWarning: The behavior of `series[i:j]` with an integer-dtype index is deprecated. In a future version, this will be treated as *label-based* indexing, consistent with e.g. `series[i]` lookups. To retain the old behavior, use `series.iloc[i:j]`. To get the future behavior, use `series.loc[i:j]`.\n",
      "  return t[start:end]\n"
     ]
    },
    {
     "name": "stdout",
     "output_type": "stream",
     "text": [
      "3/3 [==============================] - 0s 1ms/step\n"
     ]
    },
    {
     "name": "stderr",
     "output_type": "stream",
     "text": [
      "h:\\MODEL\\MLP\\M\\Lib\\site-packages\\keras\\engine\\data_adapter.py:1700: FutureWarning: The behavior of `series[i:j]` with an integer-dtype index is deprecated. In a future version, this will be treated as *label-based* indexing, consistent with e.g. `series[i]` lookups. To retain the old behavior, use `series.iloc[i:j]`. To get the future behavior, use `series.loc[i:j]`.\n",
      "  return t[start:end]\n"
     ]
    },
    {
     "name": "stdout",
     "output_type": "stream",
     "text": [
      "3/3 [==============================] - 0s 3ms/step\n"
     ]
    },
    {
     "name": "stderr",
     "output_type": "stream",
     "text": [
      "h:\\MODEL\\MLP\\M\\Lib\\site-packages\\keras\\engine\\data_adapter.py:1700: FutureWarning: The behavior of `series[i:j]` with an integer-dtype index is deprecated. In a future version, this will be treated as *label-based* indexing, consistent with e.g. `series[i]` lookups. To retain the old behavior, use `series.iloc[i:j]`. To get the future behavior, use `series.loc[i:j]`.\n",
      "  return t[start:end]\n"
     ]
    },
    {
     "name": "stdout",
     "output_type": "stream",
     "text": [
      "3/3 [==============================] - 0s 2ms/step\n"
     ]
    },
    {
     "name": "stderr",
     "output_type": "stream",
     "text": [
      "h:\\MODEL\\MLP\\M\\Lib\\site-packages\\keras\\engine\\data_adapter.py:1700: FutureWarning: The behavior of `series[i:j]` with an integer-dtype index is deprecated. In a future version, this will be treated as *label-based* indexing, consistent with e.g. `series[i]` lookups. To retain the old behavior, use `series.iloc[i:j]`. To get the future behavior, use `series.loc[i:j]`.\n",
      "  return t[start:end]\n"
     ]
    },
    {
     "name": "stdout",
     "output_type": "stream",
     "text": [
      "3/3 [==============================] - 0s 2ms/step\n"
     ]
    },
    {
     "name": "stderr",
     "output_type": "stream",
     "text": [
      "h:\\MODEL\\MLP\\M\\Lib\\site-packages\\keras\\engine\\data_adapter.py:1700: FutureWarning: The behavior of `series[i:j]` with an integer-dtype index is deprecated. In a future version, this will be treated as *label-based* indexing, consistent with e.g. `series[i]` lookups. To retain the old behavior, use `series.iloc[i:j]`. To get the future behavior, use `series.loc[i:j]`.\n",
      "  return t[start:end]\n"
     ]
    },
    {
     "name": "stdout",
     "output_type": "stream",
     "text": [
      "3/3 [==============================] - 0s 2ms/step\n"
     ]
    },
    {
     "name": "stderr",
     "output_type": "stream",
     "text": [
      "h:\\MODEL\\MLP\\M\\Lib\\site-packages\\keras\\engine\\data_adapter.py:1700: FutureWarning: The behavior of `series[i:j]` with an integer-dtype index is deprecated. In a future version, this will be treated as *label-based* indexing, consistent with e.g. `series[i]` lookups. To retain the old behavior, use `series.iloc[i:j]`. To get the future behavior, use `series.loc[i:j]`.\n",
      "  return t[start:end]\n"
     ]
    },
    {
     "name": "stdout",
     "output_type": "stream",
     "text": [
      "3/3 [==============================] - 0s 2ms/step\n"
     ]
    },
    {
     "name": "stderr",
     "output_type": "stream",
     "text": [
      "h:\\MODEL\\MLP\\M\\Lib\\site-packages\\keras\\engine\\data_adapter.py:1700: FutureWarning: The behavior of `series[i:j]` with an integer-dtype index is deprecated. In a future version, this will be treated as *label-based* indexing, consistent with e.g. `series[i]` lookups. To retain the old behavior, use `series.iloc[i:j]`. To get the future behavior, use `series.loc[i:j]`.\n",
      "  return t[start:end]\n"
     ]
    },
    {
     "name": "stdout",
     "output_type": "stream",
     "text": [
      "3/3 [==============================] - 0s 1ms/step\n"
     ]
    },
    {
     "name": "stderr",
     "output_type": "stream",
     "text": [
      "h:\\MODEL\\MLP\\M\\Lib\\site-packages\\keras\\engine\\data_adapter.py:1700: FutureWarning: The behavior of `series[i:j]` with an integer-dtype index is deprecated. In a future version, this will be treated as *label-based* indexing, consistent with e.g. `series[i]` lookups. To retain the old behavior, use `series.iloc[i:j]`. To get the future behavior, use `series.loc[i:j]`.\n",
      "  return t[start:end]\n"
     ]
    },
    {
     "name": "stdout",
     "output_type": "stream",
     "text": [
      "3/3 [==============================] - 0s 2ms/step\n"
     ]
    },
    {
     "name": "stderr",
     "output_type": "stream",
     "text": [
      "h:\\MODEL\\MLP\\M\\Lib\\site-packages\\keras\\engine\\data_adapter.py:1700: FutureWarning: The behavior of `series[i:j]` with an integer-dtype index is deprecated. In a future version, this will be treated as *label-based* indexing, consistent with e.g. `series[i]` lookups. To retain the old behavior, use `series.iloc[i:j]`. To get the future behavior, use `series.loc[i:j]`.\n",
      "  return t[start:end]\n"
     ]
    },
    {
     "name": "stdout",
     "output_type": "stream",
     "text": [
      "3/3 [==============================] - 0s 3ms/step\n"
     ]
    },
    {
     "name": "stderr",
     "output_type": "stream",
     "text": [
      "h:\\MODEL\\MLP\\M\\Lib\\site-packages\\keras\\engine\\data_adapter.py:1700: FutureWarning: The behavior of `series[i:j]` with an integer-dtype index is deprecated. In a future version, this will be treated as *label-based* indexing, consistent with e.g. `series[i]` lookups. To retain the old behavior, use `series.iloc[i:j]`. To get the future behavior, use `series.loc[i:j]`.\n",
      "  return t[start:end]\n"
     ]
    },
    {
     "name": "stdout",
     "output_type": "stream",
     "text": [
      "3/3 [==============================] - 0s 2ms/step\n"
     ]
    },
    {
     "name": "stderr",
     "output_type": "stream",
     "text": [
      "h:\\MODEL\\MLP\\M\\Lib\\site-packages\\keras\\engine\\data_adapter.py:1700: FutureWarning: The behavior of `series[i:j]` with an integer-dtype index is deprecated. In a future version, this will be treated as *label-based* indexing, consistent with e.g. `series[i]` lookups. To retain the old behavior, use `series.iloc[i:j]`. To get the future behavior, use `series.loc[i:j]`.\n",
      "  return t[start:end]\n"
     ]
    },
    {
     "name": "stdout",
     "output_type": "stream",
     "text": [
      "3/3 [==============================] - 0s 1ms/step\n"
     ]
    },
    {
     "name": "stderr",
     "output_type": "stream",
     "text": [
      "h:\\MODEL\\MLP\\M\\Lib\\site-packages\\keras\\engine\\data_adapter.py:1700: FutureWarning: The behavior of `series[i:j]` with an integer-dtype index is deprecated. In a future version, this will be treated as *label-based* indexing, consistent with e.g. `series[i]` lookups. To retain the old behavior, use `series.iloc[i:j]`. To get the future behavior, use `series.loc[i:j]`.\n",
      "  return t[start:end]\n"
     ]
    },
    {
     "name": "stdout",
     "output_type": "stream",
     "text": [
      "3/3 [==============================] - 0s 2ms/step\n"
     ]
    },
    {
     "name": "stderr",
     "output_type": "stream",
     "text": [
      "h:\\MODEL\\MLP\\M\\Lib\\site-packages\\keras\\engine\\data_adapter.py:1700: FutureWarning: The behavior of `series[i:j]` with an integer-dtype index is deprecated. In a future version, this will be treated as *label-based* indexing, consistent with e.g. `series[i]` lookups. To retain the old behavior, use `series.iloc[i:j]`. To get the future behavior, use `series.loc[i:j]`.\n",
      "  return t[start:end]\n"
     ]
    },
    {
     "name": "stdout",
     "output_type": "stream",
     "text": [
      "3/3 [==============================] - 0s 2ms/step\n"
     ]
    },
    {
     "name": "stderr",
     "output_type": "stream",
     "text": [
      "h:\\MODEL\\MLP\\M\\Lib\\site-packages\\keras\\engine\\data_adapter.py:1700: FutureWarning: The behavior of `series[i:j]` with an integer-dtype index is deprecated. In a future version, this will be treated as *label-based* indexing, consistent with e.g. `series[i]` lookups. To retain the old behavior, use `series.iloc[i:j]`. To get the future behavior, use `series.loc[i:j]`.\n",
      "  return t[start:end]\n"
     ]
    },
    {
     "name": "stdout",
     "output_type": "stream",
     "text": [
      "3/3 [==============================] - 0s 2ms/step\n"
     ]
    },
    {
     "name": "stderr",
     "output_type": "stream",
     "text": [
      "h:\\MODEL\\MLP\\M\\Lib\\site-packages\\keras\\engine\\data_adapter.py:1700: FutureWarning: The behavior of `series[i:j]` with an integer-dtype index is deprecated. In a future version, this will be treated as *label-based* indexing, consistent with e.g. `series[i]` lookups. To retain the old behavior, use `series.iloc[i:j]`. To get the future behavior, use `series.loc[i:j]`.\n",
      "  return t[start:end]\n"
     ]
    },
    {
     "name": "stdout",
     "output_type": "stream",
     "text": [
      "3/3 [==============================] - 0s 3ms/step\n"
     ]
    },
    {
     "name": "stderr",
     "output_type": "stream",
     "text": [
      "h:\\MODEL\\MLP\\M\\Lib\\site-packages\\keras\\engine\\data_adapter.py:1700: FutureWarning: The behavior of `series[i:j]` with an integer-dtype index is deprecated. In a future version, this will be treated as *label-based* indexing, consistent with e.g. `series[i]` lookups. To retain the old behavior, use `series.iloc[i:j]`. To get the future behavior, use `series.loc[i:j]`.\n",
      "  return t[start:end]\n"
     ]
    },
    {
     "name": "stdout",
     "output_type": "stream",
     "text": [
      "3/3 [==============================] - 0s 2ms/step\n"
     ]
    },
    {
     "name": "stderr",
     "output_type": "stream",
     "text": [
      "h:\\MODEL\\MLP\\M\\Lib\\site-packages\\keras\\engine\\data_adapter.py:1700: FutureWarning: The behavior of `series[i:j]` with an integer-dtype index is deprecated. In a future version, this will be treated as *label-based* indexing, consistent with e.g. `series[i]` lookups. To retain the old behavior, use `series.iloc[i:j]`. To get the future behavior, use `series.loc[i:j]`.\n",
      "  return t[start:end]\n"
     ]
    },
    {
     "name": "stdout",
     "output_type": "stream",
     "text": [
      "3/3 [==============================] - 0s 2ms/step\n"
     ]
    },
    {
     "name": "stderr",
     "output_type": "stream",
     "text": [
      "h:\\MODEL\\MLP\\M\\Lib\\site-packages\\keras\\engine\\data_adapter.py:1700: FutureWarning: The behavior of `series[i:j]` with an integer-dtype index is deprecated. In a future version, this will be treated as *label-based* indexing, consistent with e.g. `series[i]` lookups. To retain the old behavior, use `series.iloc[i:j]`. To get the future behavior, use `series.loc[i:j]`.\n",
      "  return t[start:end]\n"
     ]
    },
    {
     "name": "stdout",
     "output_type": "stream",
     "text": [
      "3/3 [==============================] - 0s 2ms/step\n",
      "gen\tnevals\n",
      "0  \t20    \n"
     ]
    },
    {
     "name": "stderr",
     "output_type": "stream",
     "text": [
      "h:\\MODEL\\MLP\\M\\Lib\\site-packages\\keras\\engine\\data_adapter.py:1700: FutureWarning: The behavior of `series[i:j]` with an integer-dtype index is deprecated. In a future version, this will be treated as *label-based* indexing, consistent with e.g. `series[i]` lookups. To retain the old behavior, use `series.iloc[i:j]`. To get the future behavior, use `series.loc[i:j]`.\n",
      "  return t[start:end]\n"
     ]
    },
    {
     "name": "stdout",
     "output_type": "stream",
     "text": [
      "3/3 [==============================] - 0s 2ms/step\n"
     ]
    },
    {
     "name": "stderr",
     "output_type": "stream",
     "text": [
      "h:\\MODEL\\MLP\\M\\Lib\\site-packages\\keras\\engine\\data_adapter.py:1700: FutureWarning: The behavior of `series[i:j]` with an integer-dtype index is deprecated. In a future version, this will be treated as *label-based* indexing, consistent with e.g. `series[i]` lookups. To retain the old behavior, use `series.iloc[i:j]`. To get the future behavior, use `series.loc[i:j]`.\n",
      "  return t[start:end]\n"
     ]
    },
    {
     "name": "stdout",
     "output_type": "stream",
     "text": [
      "3/3 [==============================] - 0s 3ms/step\n"
     ]
    },
    {
     "name": "stderr",
     "output_type": "stream",
     "text": [
      "h:\\MODEL\\MLP\\M\\Lib\\site-packages\\keras\\engine\\data_adapter.py:1700: FutureWarning: The behavior of `series[i:j]` with an integer-dtype index is deprecated. In a future version, this will be treated as *label-based* indexing, consistent with e.g. `series[i]` lookups. To retain the old behavior, use `series.iloc[i:j]`. To get the future behavior, use `series.loc[i:j]`.\n",
      "  return t[start:end]\n"
     ]
    },
    {
     "name": "stdout",
     "output_type": "stream",
     "text": [
      "3/3 [==============================] - 0s 3ms/step\n"
     ]
    },
    {
     "name": "stderr",
     "output_type": "stream",
     "text": [
      "h:\\MODEL\\MLP\\M\\Lib\\site-packages\\keras\\engine\\data_adapter.py:1700: FutureWarning: The behavior of `series[i:j]` with an integer-dtype index is deprecated. In a future version, this will be treated as *label-based* indexing, consistent with e.g. `series[i]` lookups. To retain the old behavior, use `series.iloc[i:j]`. To get the future behavior, use `series.loc[i:j]`.\n",
      "  return t[start:end]\n"
     ]
    },
    {
     "name": "stdout",
     "output_type": "stream",
     "text": [
      "3/3 [==============================] - 0s 2ms/step\n"
     ]
    },
    {
     "name": "stderr",
     "output_type": "stream",
     "text": [
      "h:\\MODEL\\MLP\\M\\Lib\\site-packages\\keras\\engine\\data_adapter.py:1700: FutureWarning: The behavior of `series[i:j]` with an integer-dtype index is deprecated. In a future version, this will be treated as *label-based* indexing, consistent with e.g. `series[i]` lookups. To retain the old behavior, use `series.iloc[i:j]`. To get the future behavior, use `series.loc[i:j]`.\n",
      "  return t[start:end]\n"
     ]
    },
    {
     "name": "stdout",
     "output_type": "stream",
     "text": [
      "3/3 [==============================] - 0s 2ms/step\n"
     ]
    },
    {
     "name": "stderr",
     "output_type": "stream",
     "text": [
      "h:\\MODEL\\MLP\\M\\Lib\\site-packages\\keras\\engine\\data_adapter.py:1700: FutureWarning: The behavior of `series[i:j]` with an integer-dtype index is deprecated. In a future version, this will be treated as *label-based* indexing, consistent with e.g. `series[i]` lookups. To retain the old behavior, use `series.iloc[i:j]`. To get the future behavior, use `series.loc[i:j]`.\n",
      "  return t[start:end]\n"
     ]
    },
    {
     "name": "stdout",
     "output_type": "stream",
     "text": [
      "3/3 [==============================] - 0s 3ms/step\n"
     ]
    },
    {
     "name": "stderr",
     "output_type": "stream",
     "text": [
      "h:\\MODEL\\MLP\\M\\Lib\\site-packages\\keras\\engine\\data_adapter.py:1700: FutureWarning: The behavior of `series[i:j]` with an integer-dtype index is deprecated. In a future version, this will be treated as *label-based* indexing, consistent with e.g. `series[i]` lookups. To retain the old behavior, use `series.iloc[i:j]`. To get the future behavior, use `series.loc[i:j]`.\n",
      "  return t[start:end]\n"
     ]
    },
    {
     "name": "stdout",
     "output_type": "stream",
     "text": [
      "3/3 [==============================] - 0s 2ms/step\n"
     ]
    },
    {
     "name": "stderr",
     "output_type": "stream",
     "text": [
      "h:\\MODEL\\MLP\\M\\Lib\\site-packages\\keras\\engine\\data_adapter.py:1700: FutureWarning: The behavior of `series[i:j]` with an integer-dtype index is deprecated. In a future version, this will be treated as *label-based* indexing, consistent with e.g. `series[i]` lookups. To retain the old behavior, use `series.iloc[i:j]`. To get the future behavior, use `series.loc[i:j]`.\n",
      "  return t[start:end]\n"
     ]
    },
    {
     "name": "stdout",
     "output_type": "stream",
     "text": [
      "3/3 [==============================] - 0s 2ms/step\n"
     ]
    },
    {
     "name": "stderr",
     "output_type": "stream",
     "text": [
      "h:\\MODEL\\MLP\\M\\Lib\\site-packages\\keras\\engine\\data_adapter.py:1700: FutureWarning: The behavior of `series[i:j]` with an integer-dtype index is deprecated. In a future version, this will be treated as *label-based* indexing, consistent with e.g. `series[i]` lookups. To retain the old behavior, use `series.iloc[i:j]`. To get the future behavior, use `series.loc[i:j]`.\n",
      "  return t[start:end]\n"
     ]
    },
    {
     "name": "stdout",
     "output_type": "stream",
     "text": [
      "3/3 [==============================] - 0s 5ms/step\n"
     ]
    },
    {
     "name": "stderr",
     "output_type": "stream",
     "text": [
      "h:\\MODEL\\MLP\\M\\Lib\\site-packages\\keras\\engine\\data_adapter.py:1700: FutureWarning: The behavior of `series[i:j]` with an integer-dtype index is deprecated. In a future version, this will be treated as *label-based* indexing, consistent with e.g. `series[i]` lookups. To retain the old behavior, use `series.iloc[i:j]`. To get the future behavior, use `series.loc[i:j]`.\n",
      "  return t[start:end]\n"
     ]
    },
    {
     "name": "stdout",
     "output_type": "stream",
     "text": [
      "3/3 [==============================] - 0s 2ms/step\n"
     ]
    },
    {
     "name": "stderr",
     "output_type": "stream",
     "text": [
      "h:\\MODEL\\MLP\\M\\Lib\\site-packages\\keras\\engine\\data_adapter.py:1700: FutureWarning: The behavior of `series[i:j]` with an integer-dtype index is deprecated. In a future version, this will be treated as *label-based* indexing, consistent with e.g. `series[i]` lookups. To retain the old behavior, use `series.iloc[i:j]`. To get the future behavior, use `series.loc[i:j]`.\n",
      "  return t[start:end]\n"
     ]
    },
    {
     "name": "stdout",
     "output_type": "stream",
     "text": [
      "3/3 [==============================] - 0s 2ms/step\n"
     ]
    },
    {
     "name": "stderr",
     "output_type": "stream",
     "text": [
      "h:\\MODEL\\MLP\\M\\Lib\\site-packages\\keras\\engine\\data_adapter.py:1700: FutureWarning: The behavior of `series[i:j]` with an integer-dtype index is deprecated. In a future version, this will be treated as *label-based* indexing, consistent with e.g. `series[i]` lookups. To retain the old behavior, use `series.iloc[i:j]`. To get the future behavior, use `series.loc[i:j]`.\n",
      "  return t[start:end]\n"
     ]
    },
    {
     "name": "stdout",
     "output_type": "stream",
     "text": [
      "3/3 [==============================] - 0s 2ms/step\n"
     ]
    },
    {
     "name": "stderr",
     "output_type": "stream",
     "text": [
      "h:\\MODEL\\MLP\\M\\Lib\\site-packages\\keras\\engine\\data_adapter.py:1700: FutureWarning: The behavior of `series[i:j]` with an integer-dtype index is deprecated. In a future version, this will be treated as *label-based* indexing, consistent with e.g. `series[i]` lookups. To retain the old behavior, use `series.iloc[i:j]`. To get the future behavior, use `series.loc[i:j]`.\n",
      "  return t[start:end]\n"
     ]
    },
    {
     "name": "stdout",
     "output_type": "stream",
     "text": [
      "3/3 [==============================] - 0s 2ms/step\n"
     ]
    },
    {
     "name": "stderr",
     "output_type": "stream",
     "text": [
      "h:\\MODEL\\MLP\\M\\Lib\\site-packages\\keras\\engine\\data_adapter.py:1700: FutureWarning: The behavior of `series[i:j]` with an integer-dtype index is deprecated. In a future version, this will be treated as *label-based* indexing, consistent with e.g. `series[i]` lookups. To retain the old behavior, use `series.iloc[i:j]`. To get the future behavior, use `series.loc[i:j]`.\n",
      "  return t[start:end]\n"
     ]
    },
    {
     "name": "stdout",
     "output_type": "stream",
     "text": [
      "3/3 [==============================] - 0s 1ms/step\n"
     ]
    },
    {
     "name": "stderr",
     "output_type": "stream",
     "text": [
      "h:\\MODEL\\MLP\\M\\Lib\\site-packages\\keras\\engine\\data_adapter.py:1700: FutureWarning: The behavior of `series[i:j]` with an integer-dtype index is deprecated. In a future version, this will be treated as *label-based* indexing, consistent with e.g. `series[i]` lookups. To retain the old behavior, use `series.iloc[i:j]`. To get the future behavior, use `series.loc[i:j]`.\n",
      "  return t[start:end]\n"
     ]
    },
    {
     "name": "stdout",
     "output_type": "stream",
     "text": [
      "3/3 [==============================] - 0s 2ms/step\n"
     ]
    },
    {
     "name": "stderr",
     "output_type": "stream",
     "text": [
      "h:\\MODEL\\MLP\\M\\Lib\\site-packages\\keras\\engine\\data_adapter.py:1700: FutureWarning: The behavior of `series[i:j]` with an integer-dtype index is deprecated. In a future version, this will be treated as *label-based* indexing, consistent with e.g. `series[i]` lookups. To retain the old behavior, use `series.iloc[i:j]`. To get the future behavior, use `series.loc[i:j]`.\n",
      "  return t[start:end]\n"
     ]
    },
    {
     "name": "stdout",
     "output_type": "stream",
     "text": [
      "3/3 [==============================] - 0s 1ms/step\n",
      "1  \t16    \n"
     ]
    },
    {
     "name": "stderr",
     "output_type": "stream",
     "text": [
      "h:\\MODEL\\MLP\\M\\Lib\\site-packages\\keras\\engine\\data_adapter.py:1700: FutureWarning: The behavior of `series[i:j]` with an integer-dtype index is deprecated. In a future version, this will be treated as *label-based* indexing, consistent with e.g. `series[i]` lookups. To retain the old behavior, use `series.iloc[i:j]`. To get the future behavior, use `series.loc[i:j]`.\n",
      "  return t[start:end]\n"
     ]
    },
    {
     "name": "stdout",
     "output_type": "stream",
     "text": [
      "3/3 [==============================] - 0s 2ms/step\n"
     ]
    },
    {
     "name": "stderr",
     "output_type": "stream",
     "text": [
      "h:\\MODEL\\MLP\\M\\Lib\\site-packages\\keras\\engine\\data_adapter.py:1700: FutureWarning: The behavior of `series[i:j]` with an integer-dtype index is deprecated. In a future version, this will be treated as *label-based* indexing, consistent with e.g. `series[i]` lookups. To retain the old behavior, use `series.iloc[i:j]`. To get the future behavior, use `series.loc[i:j]`.\n",
      "  return t[start:end]\n"
     ]
    },
    {
     "name": "stdout",
     "output_type": "stream",
     "text": [
      "3/3 [==============================] - 0s 2ms/step\n"
     ]
    },
    {
     "name": "stderr",
     "output_type": "stream",
     "text": [
      "h:\\MODEL\\MLP\\M\\Lib\\site-packages\\keras\\engine\\data_adapter.py:1700: FutureWarning: The behavior of `series[i:j]` with an integer-dtype index is deprecated. In a future version, this will be treated as *label-based* indexing, consistent with e.g. `series[i]` lookups. To retain the old behavior, use `series.iloc[i:j]`. To get the future behavior, use `series.loc[i:j]`.\n",
      "  return t[start:end]\n"
     ]
    },
    {
     "name": "stdout",
     "output_type": "stream",
     "text": [
      "3/3 [==============================] - 0s 2ms/step\n"
     ]
    },
    {
     "name": "stderr",
     "output_type": "stream",
     "text": [
      "h:\\MODEL\\MLP\\M\\Lib\\site-packages\\keras\\engine\\data_adapter.py:1700: FutureWarning: The behavior of `series[i:j]` with an integer-dtype index is deprecated. In a future version, this will be treated as *label-based* indexing, consistent with e.g. `series[i]` lookups. To retain the old behavior, use `series.iloc[i:j]`. To get the future behavior, use `series.loc[i:j]`.\n",
      "  return t[start:end]\n"
     ]
    },
    {
     "name": "stdout",
     "output_type": "stream",
     "text": [
      "3/3 [==============================] - 0s 2ms/step\n"
     ]
    },
    {
     "name": "stderr",
     "output_type": "stream",
     "text": [
      "h:\\MODEL\\MLP\\M\\Lib\\site-packages\\keras\\engine\\data_adapter.py:1700: FutureWarning: The behavior of `series[i:j]` with an integer-dtype index is deprecated. In a future version, this will be treated as *label-based* indexing, consistent with e.g. `series[i]` lookups. To retain the old behavior, use `series.iloc[i:j]`. To get the future behavior, use `series.loc[i:j]`.\n",
      "  return t[start:end]\n"
     ]
    },
    {
     "name": "stdout",
     "output_type": "stream",
     "text": [
      "3/3 [==============================] - 0s 2ms/step\n"
     ]
    },
    {
     "name": "stderr",
     "output_type": "stream",
     "text": [
      "h:\\MODEL\\MLP\\M\\Lib\\site-packages\\keras\\engine\\data_adapter.py:1700: FutureWarning: The behavior of `series[i:j]` with an integer-dtype index is deprecated. In a future version, this will be treated as *label-based* indexing, consistent with e.g. `series[i]` lookups. To retain the old behavior, use `series.iloc[i:j]`. To get the future behavior, use `series.loc[i:j]`.\n",
      "  return t[start:end]\n"
     ]
    },
    {
     "name": "stdout",
     "output_type": "stream",
     "text": [
      "3/3 [==============================] - 0s 2ms/step\n"
     ]
    },
    {
     "name": "stderr",
     "output_type": "stream",
     "text": [
      "h:\\MODEL\\MLP\\M\\Lib\\site-packages\\keras\\engine\\data_adapter.py:1700: FutureWarning: The behavior of `series[i:j]` with an integer-dtype index is deprecated. In a future version, this will be treated as *label-based* indexing, consistent with e.g. `series[i]` lookups. To retain the old behavior, use `series.iloc[i:j]`. To get the future behavior, use `series.loc[i:j]`.\n",
      "  return t[start:end]\n"
     ]
    },
    {
     "name": "stdout",
     "output_type": "stream",
     "text": [
      "3/3 [==============================] - 0s 2ms/step\n"
     ]
    },
    {
     "name": "stderr",
     "output_type": "stream",
     "text": [
      "h:\\MODEL\\MLP\\M\\Lib\\site-packages\\keras\\engine\\data_adapter.py:1700: FutureWarning: The behavior of `series[i:j]` with an integer-dtype index is deprecated. In a future version, this will be treated as *label-based* indexing, consistent with e.g. `series[i]` lookups. To retain the old behavior, use `series.iloc[i:j]`. To get the future behavior, use `series.loc[i:j]`.\n",
      "  return t[start:end]\n"
     ]
    },
    {
     "name": "stdout",
     "output_type": "stream",
     "text": [
      "3/3 [==============================] - 0s 2ms/step\n"
     ]
    },
    {
     "name": "stderr",
     "output_type": "stream",
     "text": [
      "h:\\MODEL\\MLP\\M\\Lib\\site-packages\\keras\\engine\\data_adapter.py:1700: FutureWarning: The behavior of `series[i:j]` with an integer-dtype index is deprecated. In a future version, this will be treated as *label-based* indexing, consistent with e.g. `series[i]` lookups. To retain the old behavior, use `series.iloc[i:j]`. To get the future behavior, use `series.loc[i:j]`.\n",
      "  return t[start:end]\n"
     ]
    },
    {
     "name": "stdout",
     "output_type": "stream",
     "text": [
      "3/3 [==============================] - 0s 2ms/step\n"
     ]
    },
    {
     "name": "stderr",
     "output_type": "stream",
     "text": [
      "h:\\MODEL\\MLP\\M\\Lib\\site-packages\\keras\\engine\\data_adapter.py:1700: FutureWarning: The behavior of `series[i:j]` with an integer-dtype index is deprecated. In a future version, this will be treated as *label-based* indexing, consistent with e.g. `series[i]` lookups. To retain the old behavior, use `series.iloc[i:j]`. To get the future behavior, use `series.loc[i:j]`.\n",
      "  return t[start:end]\n"
     ]
    },
    {
     "name": "stdout",
     "output_type": "stream",
     "text": [
      "3/3 [==============================] - 0s 1ms/step\n"
     ]
    },
    {
     "name": "stderr",
     "output_type": "stream",
     "text": [
      "h:\\MODEL\\MLP\\M\\Lib\\site-packages\\keras\\engine\\data_adapter.py:1700: FutureWarning: The behavior of `series[i:j]` with an integer-dtype index is deprecated. In a future version, this will be treated as *label-based* indexing, consistent with e.g. `series[i]` lookups. To retain the old behavior, use `series.iloc[i:j]`. To get the future behavior, use `series.loc[i:j]`.\n",
      "  return t[start:end]\n"
     ]
    },
    {
     "name": "stdout",
     "output_type": "stream",
     "text": [
      "3/3 [==============================] - 0s 2ms/step\n"
     ]
    },
    {
     "name": "stderr",
     "output_type": "stream",
     "text": [
      "h:\\MODEL\\MLP\\M\\Lib\\site-packages\\keras\\engine\\data_adapter.py:1700: FutureWarning: The behavior of `series[i:j]` with an integer-dtype index is deprecated. In a future version, this will be treated as *label-based* indexing, consistent with e.g. `series[i]` lookups. To retain the old behavior, use `series.iloc[i:j]`. To get the future behavior, use `series.loc[i:j]`.\n",
      "  return t[start:end]\n"
     ]
    },
    {
     "name": "stdout",
     "output_type": "stream",
     "text": [
      "3/3 [==============================] - 0s 1ms/step\n"
     ]
    },
    {
     "name": "stderr",
     "output_type": "stream",
     "text": [
      "h:\\MODEL\\MLP\\M\\Lib\\site-packages\\keras\\engine\\data_adapter.py:1700: FutureWarning: The behavior of `series[i:j]` with an integer-dtype index is deprecated. In a future version, this will be treated as *label-based* indexing, consistent with e.g. `series[i]` lookups. To retain the old behavior, use `series.iloc[i:j]`. To get the future behavior, use `series.loc[i:j]`.\n",
      "  return t[start:end]\n"
     ]
    },
    {
     "name": "stdout",
     "output_type": "stream",
     "text": [
      "3/3 [==============================] - 0s 2ms/step\n",
      "2  \t13    \n"
     ]
    },
    {
     "name": "stderr",
     "output_type": "stream",
     "text": [
      "h:\\MODEL\\MLP\\M\\Lib\\site-packages\\keras\\engine\\data_adapter.py:1700: FutureWarning: The behavior of `series[i:j]` with an integer-dtype index is deprecated. In a future version, this will be treated as *label-based* indexing, consistent with e.g. `series[i]` lookups. To retain the old behavior, use `series.iloc[i:j]`. To get the future behavior, use `series.loc[i:j]`.\n",
      "  return t[start:end]\n"
     ]
    },
    {
     "name": "stdout",
     "output_type": "stream",
     "text": [
      "3/3 [==============================] - 0s 2ms/step\n"
     ]
    },
    {
     "name": "stderr",
     "output_type": "stream",
     "text": [
      "h:\\MODEL\\MLP\\M\\Lib\\site-packages\\keras\\engine\\data_adapter.py:1700: FutureWarning: The behavior of `series[i:j]` with an integer-dtype index is deprecated. In a future version, this will be treated as *label-based* indexing, consistent with e.g. `series[i]` lookups. To retain the old behavior, use `series.iloc[i:j]`. To get the future behavior, use `series.loc[i:j]`.\n",
      "  return t[start:end]\n"
     ]
    },
    {
     "name": "stdout",
     "output_type": "stream",
     "text": [
      "3/3 [==============================] - 0s 2ms/step\n"
     ]
    },
    {
     "name": "stderr",
     "output_type": "stream",
     "text": [
      "h:\\MODEL\\MLP\\M\\Lib\\site-packages\\keras\\engine\\data_adapter.py:1700: FutureWarning: The behavior of `series[i:j]` with an integer-dtype index is deprecated. In a future version, this will be treated as *label-based* indexing, consistent with e.g. `series[i]` lookups. To retain the old behavior, use `series.iloc[i:j]`. To get the future behavior, use `series.loc[i:j]`.\n",
      "  return t[start:end]\n"
     ]
    },
    {
     "name": "stdout",
     "output_type": "stream",
     "text": [
      "3/3 [==============================] - 0s 1ms/step\n"
     ]
    },
    {
     "name": "stderr",
     "output_type": "stream",
     "text": [
      "h:\\MODEL\\MLP\\M\\Lib\\site-packages\\keras\\engine\\data_adapter.py:1700: FutureWarning: The behavior of `series[i:j]` with an integer-dtype index is deprecated. In a future version, this will be treated as *label-based* indexing, consistent with e.g. `series[i]` lookups. To retain the old behavior, use `series.iloc[i:j]`. To get the future behavior, use `series.loc[i:j]`.\n",
      "  return t[start:end]\n"
     ]
    },
    {
     "name": "stdout",
     "output_type": "stream",
     "text": [
      "3/3 [==============================] - 0s 1ms/step\n"
     ]
    },
    {
     "name": "stderr",
     "output_type": "stream",
     "text": [
      "h:\\MODEL\\MLP\\M\\Lib\\site-packages\\keras\\engine\\data_adapter.py:1700: FutureWarning: The behavior of `series[i:j]` with an integer-dtype index is deprecated. In a future version, this will be treated as *label-based* indexing, consistent with e.g. `series[i]` lookups. To retain the old behavior, use `series.iloc[i:j]`. To get the future behavior, use `series.loc[i:j]`.\n",
      "  return t[start:end]\n"
     ]
    },
    {
     "name": "stdout",
     "output_type": "stream",
     "text": [
      "3/3 [==============================] - 0s 2ms/step\n"
     ]
    },
    {
     "name": "stderr",
     "output_type": "stream",
     "text": [
      "h:\\MODEL\\MLP\\M\\Lib\\site-packages\\keras\\engine\\data_adapter.py:1700: FutureWarning: The behavior of `series[i:j]` with an integer-dtype index is deprecated. In a future version, this will be treated as *label-based* indexing, consistent with e.g. `series[i]` lookups. To retain the old behavior, use `series.iloc[i:j]`. To get the future behavior, use `series.loc[i:j]`.\n",
      "  return t[start:end]\n"
     ]
    },
    {
     "name": "stdout",
     "output_type": "stream",
     "text": [
      "3/3 [==============================] - 0s 2ms/step\n"
     ]
    },
    {
     "name": "stderr",
     "output_type": "stream",
     "text": [
      "h:\\MODEL\\MLP\\M\\Lib\\site-packages\\keras\\engine\\data_adapter.py:1700: FutureWarning: The behavior of `series[i:j]` with an integer-dtype index is deprecated. In a future version, this will be treated as *label-based* indexing, consistent with e.g. `series[i]` lookups. To retain the old behavior, use `series.iloc[i:j]`. To get the future behavior, use `series.loc[i:j]`.\n",
      "  return t[start:end]\n"
     ]
    },
    {
     "name": "stdout",
     "output_type": "stream",
     "text": [
      "3/3 [==============================] - 0s 2ms/step\n"
     ]
    },
    {
     "name": "stderr",
     "output_type": "stream",
     "text": [
      "h:\\MODEL\\MLP\\M\\Lib\\site-packages\\keras\\engine\\data_adapter.py:1700: FutureWarning: The behavior of `series[i:j]` with an integer-dtype index is deprecated. In a future version, this will be treated as *label-based* indexing, consistent with e.g. `series[i]` lookups. To retain the old behavior, use `series.iloc[i:j]`. To get the future behavior, use `series.loc[i:j]`.\n",
      "  return t[start:end]\n"
     ]
    },
    {
     "name": "stdout",
     "output_type": "stream",
     "text": [
      "3/3 [==============================] - 0s 3ms/step\n"
     ]
    },
    {
     "name": "stderr",
     "output_type": "stream",
     "text": [
      "h:\\MODEL\\MLP\\M\\Lib\\site-packages\\keras\\engine\\data_adapter.py:1700: FutureWarning: The behavior of `series[i:j]` with an integer-dtype index is deprecated. In a future version, this will be treated as *label-based* indexing, consistent with e.g. `series[i]` lookups. To retain the old behavior, use `series.iloc[i:j]`. To get the future behavior, use `series.loc[i:j]`.\n",
      "  return t[start:end]\n"
     ]
    },
    {
     "name": "stdout",
     "output_type": "stream",
     "text": [
      "3/3 [==============================] - 0s 1ms/step\n"
     ]
    },
    {
     "name": "stderr",
     "output_type": "stream",
     "text": [
      "h:\\MODEL\\MLP\\M\\Lib\\site-packages\\keras\\engine\\data_adapter.py:1700: FutureWarning: The behavior of `series[i:j]` with an integer-dtype index is deprecated. In a future version, this will be treated as *label-based* indexing, consistent with e.g. `series[i]` lookups. To retain the old behavior, use `series.iloc[i:j]`. To get the future behavior, use `series.loc[i:j]`.\n",
      "  return t[start:end]\n"
     ]
    },
    {
     "name": "stdout",
     "output_type": "stream",
     "text": [
      "3/3 [==============================] - 0s 1ms/step\n"
     ]
    },
    {
     "name": "stderr",
     "output_type": "stream",
     "text": [
      "h:\\MODEL\\MLP\\M\\Lib\\site-packages\\keras\\engine\\data_adapter.py:1700: FutureWarning: The behavior of `series[i:j]` with an integer-dtype index is deprecated. In a future version, this will be treated as *label-based* indexing, consistent with e.g. `series[i]` lookups. To retain the old behavior, use `series.iloc[i:j]`. To get the future behavior, use `series.loc[i:j]`.\n",
      "  return t[start:end]\n"
     ]
    },
    {
     "name": "stdout",
     "output_type": "stream",
     "text": [
      "3/3 [==============================] - 0s 999us/step\n"
     ]
    },
    {
     "name": "stderr",
     "output_type": "stream",
     "text": [
      "h:\\MODEL\\MLP\\M\\Lib\\site-packages\\keras\\engine\\data_adapter.py:1700: FutureWarning: The behavior of `series[i:j]` with an integer-dtype index is deprecated. In a future version, this will be treated as *label-based* indexing, consistent with e.g. `series[i]` lookups. To retain the old behavior, use `series.iloc[i:j]`. To get the future behavior, use `series.loc[i:j]`.\n",
      "  return t[start:end]\n"
     ]
    },
    {
     "name": "stdout",
     "output_type": "stream",
     "text": [
      "3/3 [==============================] - 0s 1ms/step\n"
     ]
    },
    {
     "name": "stderr",
     "output_type": "stream",
     "text": [
      "h:\\MODEL\\MLP\\M\\Lib\\site-packages\\keras\\engine\\data_adapter.py:1700: FutureWarning: The behavior of `series[i:j]` with an integer-dtype index is deprecated. In a future version, this will be treated as *label-based* indexing, consistent with e.g. `series[i]` lookups. To retain the old behavior, use `series.iloc[i:j]`. To get the future behavior, use `series.loc[i:j]`.\n",
      "  return t[start:end]\n"
     ]
    },
    {
     "name": "stdout",
     "output_type": "stream",
     "text": [
      "3/3 [==============================] - 0s 2ms/step\n"
     ]
    },
    {
     "name": "stderr",
     "output_type": "stream",
     "text": [
      "h:\\MODEL\\MLP\\M\\Lib\\site-packages\\keras\\engine\\data_adapter.py:1700: FutureWarning: The behavior of `series[i:j]` with an integer-dtype index is deprecated. In a future version, this will be treated as *label-based* indexing, consistent with e.g. `series[i]` lookups. To retain the old behavior, use `series.iloc[i:j]`. To get the future behavior, use `series.loc[i:j]`.\n",
      "  return t[start:end]\n"
     ]
    },
    {
     "name": "stdout",
     "output_type": "stream",
     "text": [
      "3/3 [==============================] - 0s 2ms/step\n"
     ]
    },
    {
     "name": "stderr",
     "output_type": "stream",
     "text": [
      "h:\\MODEL\\MLP\\M\\Lib\\site-packages\\keras\\engine\\data_adapter.py:1700: FutureWarning: The behavior of `series[i:j]` with an integer-dtype index is deprecated. In a future version, this will be treated as *label-based* indexing, consistent with e.g. `series[i]` lookups. To retain the old behavior, use `series.iloc[i:j]`. To get the future behavior, use `series.loc[i:j]`.\n",
      "  return t[start:end]\n"
     ]
    },
    {
     "name": "stdout",
     "output_type": "stream",
     "text": [
      "3/3 [==============================] - 0s 1ms/step\n"
     ]
    },
    {
     "name": "stderr",
     "output_type": "stream",
     "text": [
      "h:\\MODEL\\MLP\\M\\Lib\\site-packages\\keras\\engine\\data_adapter.py:1700: FutureWarning: The behavior of `series[i:j]` with an integer-dtype index is deprecated. In a future version, this will be treated as *label-based* indexing, consistent with e.g. `series[i]` lookups. To retain the old behavior, use `series.iloc[i:j]`. To get the future behavior, use `series.loc[i:j]`.\n",
      "  return t[start:end]\n"
     ]
    },
    {
     "name": "stdout",
     "output_type": "stream",
     "text": [
      "3/3 [==============================] - 0s 2ms/step\n",
      "3  \t16    \n"
     ]
    },
    {
     "name": "stderr",
     "output_type": "stream",
     "text": [
      "h:\\MODEL\\MLP\\M\\Lib\\site-packages\\keras\\engine\\data_adapter.py:1700: FutureWarning: The behavior of `series[i:j]` with an integer-dtype index is deprecated. In a future version, this will be treated as *label-based* indexing, consistent with e.g. `series[i]` lookups. To retain the old behavior, use `series.iloc[i:j]`. To get the future behavior, use `series.loc[i:j]`.\n",
      "  return t[start:end]\n"
     ]
    },
    {
     "name": "stdout",
     "output_type": "stream",
     "text": [
      "3/3 [==============================] - 0s 3ms/step\n"
     ]
    },
    {
     "name": "stderr",
     "output_type": "stream",
     "text": [
      "h:\\MODEL\\MLP\\M\\Lib\\site-packages\\keras\\engine\\data_adapter.py:1700: FutureWarning: The behavior of `series[i:j]` with an integer-dtype index is deprecated. In a future version, this will be treated as *label-based* indexing, consistent with e.g. `series[i]` lookups. To retain the old behavior, use `series.iloc[i:j]`. To get the future behavior, use `series.loc[i:j]`.\n",
      "  return t[start:end]\n"
     ]
    },
    {
     "name": "stdout",
     "output_type": "stream",
     "text": [
      "3/3 [==============================] - 0s 4ms/step\n"
     ]
    },
    {
     "name": "stderr",
     "output_type": "stream",
     "text": [
      "h:\\MODEL\\MLP\\M\\Lib\\site-packages\\keras\\engine\\data_adapter.py:1700: FutureWarning: The behavior of `series[i:j]` with an integer-dtype index is deprecated. In a future version, this will be treated as *label-based* indexing, consistent with e.g. `series[i]` lookups. To retain the old behavior, use `series.iloc[i:j]`. To get the future behavior, use `series.loc[i:j]`.\n",
      "  return t[start:end]\n"
     ]
    },
    {
     "name": "stdout",
     "output_type": "stream",
     "text": [
      "3/3 [==============================] - 0s 2ms/step\n"
     ]
    },
    {
     "name": "stderr",
     "output_type": "stream",
     "text": [
      "h:\\MODEL\\MLP\\M\\Lib\\site-packages\\keras\\engine\\data_adapter.py:1700: FutureWarning: The behavior of `series[i:j]` with an integer-dtype index is deprecated. In a future version, this will be treated as *label-based* indexing, consistent with e.g. `series[i]` lookups. To retain the old behavior, use `series.iloc[i:j]`. To get the future behavior, use `series.loc[i:j]`.\n",
      "  return t[start:end]\n"
     ]
    },
    {
     "name": "stdout",
     "output_type": "stream",
     "text": [
      "3/3 [==============================] - 0s 2ms/step\n"
     ]
    },
    {
     "name": "stderr",
     "output_type": "stream",
     "text": [
      "h:\\MODEL\\MLP\\M\\Lib\\site-packages\\keras\\engine\\data_adapter.py:1700: FutureWarning: The behavior of `series[i:j]` with an integer-dtype index is deprecated. In a future version, this will be treated as *label-based* indexing, consistent with e.g. `series[i]` lookups. To retain the old behavior, use `series.iloc[i:j]`. To get the future behavior, use `series.loc[i:j]`.\n",
      "  return t[start:end]\n"
     ]
    },
    {
     "name": "stdout",
     "output_type": "stream",
     "text": [
      "3/3 [==============================] - 0s 2ms/step\n"
     ]
    },
    {
     "name": "stderr",
     "output_type": "stream",
     "text": [
      "h:\\MODEL\\MLP\\M\\Lib\\site-packages\\keras\\engine\\data_adapter.py:1700: FutureWarning: The behavior of `series[i:j]` with an integer-dtype index is deprecated. In a future version, this will be treated as *label-based* indexing, consistent with e.g. `series[i]` lookups. To retain the old behavior, use `series.iloc[i:j]`. To get the future behavior, use `series.loc[i:j]`.\n",
      "  return t[start:end]\n"
     ]
    },
    {
     "name": "stdout",
     "output_type": "stream",
     "text": [
      "3/3 [==============================] - 0s 2ms/step\n"
     ]
    },
    {
     "name": "stderr",
     "output_type": "stream",
     "text": [
      "h:\\MODEL\\MLP\\M\\Lib\\site-packages\\keras\\engine\\data_adapter.py:1700: FutureWarning: The behavior of `series[i:j]` with an integer-dtype index is deprecated. In a future version, this will be treated as *label-based* indexing, consistent with e.g. `series[i]` lookups. To retain the old behavior, use `series.iloc[i:j]`. To get the future behavior, use `series.loc[i:j]`.\n",
      "  return t[start:end]\n"
     ]
    },
    {
     "name": "stdout",
     "output_type": "stream",
     "text": [
      "3/3 [==============================] - 0s 1ms/step\n"
     ]
    },
    {
     "name": "stderr",
     "output_type": "stream",
     "text": [
      "h:\\MODEL\\MLP\\M\\Lib\\site-packages\\keras\\engine\\data_adapter.py:1700: FutureWarning: The behavior of `series[i:j]` with an integer-dtype index is deprecated. In a future version, this will be treated as *label-based* indexing, consistent with e.g. `series[i]` lookups. To retain the old behavior, use `series.iloc[i:j]`. To get the future behavior, use `series.loc[i:j]`.\n",
      "  return t[start:end]\n"
     ]
    },
    {
     "name": "stdout",
     "output_type": "stream",
     "text": [
      "3/3 [==============================] - 0s 1ms/step\n"
     ]
    },
    {
     "name": "stderr",
     "output_type": "stream",
     "text": [
      "h:\\MODEL\\MLP\\M\\Lib\\site-packages\\keras\\engine\\data_adapter.py:1700: FutureWarning: The behavior of `series[i:j]` with an integer-dtype index is deprecated. In a future version, this will be treated as *label-based* indexing, consistent with e.g. `series[i]` lookups. To retain the old behavior, use `series.iloc[i:j]`. To get the future behavior, use `series.loc[i:j]`.\n",
      "  return t[start:end]\n"
     ]
    },
    {
     "name": "stdout",
     "output_type": "stream",
     "text": [
      "3/3 [==============================] - 0s 3ms/step\n"
     ]
    },
    {
     "name": "stderr",
     "output_type": "stream",
     "text": [
      "h:\\MODEL\\MLP\\M\\Lib\\site-packages\\keras\\engine\\data_adapter.py:1700: FutureWarning: The behavior of `series[i:j]` with an integer-dtype index is deprecated. In a future version, this will be treated as *label-based* indexing, consistent with e.g. `series[i]` lookups. To retain the old behavior, use `series.iloc[i:j]`. To get the future behavior, use `series.loc[i:j]`.\n",
      "  return t[start:end]\n"
     ]
    },
    {
     "name": "stdout",
     "output_type": "stream",
     "text": [
      "3/3 [==============================] - 0s 1ms/step\n"
     ]
    },
    {
     "name": "stderr",
     "output_type": "stream",
     "text": [
      "h:\\MODEL\\MLP\\M\\Lib\\site-packages\\keras\\engine\\data_adapter.py:1700: FutureWarning: The behavior of `series[i:j]` with an integer-dtype index is deprecated. In a future version, this will be treated as *label-based* indexing, consistent with e.g. `series[i]` lookups. To retain the old behavior, use `series.iloc[i:j]`. To get the future behavior, use `series.loc[i:j]`.\n",
      "  return t[start:end]\n"
     ]
    },
    {
     "name": "stdout",
     "output_type": "stream",
     "text": [
      "3/3 [==============================] - 0s 1ms/step\n"
     ]
    },
    {
     "name": "stderr",
     "output_type": "stream",
     "text": [
      "h:\\MODEL\\MLP\\M\\Lib\\site-packages\\keras\\engine\\data_adapter.py:1700: FutureWarning: The behavior of `series[i:j]` with an integer-dtype index is deprecated. In a future version, this will be treated as *label-based* indexing, consistent with e.g. `series[i]` lookups. To retain the old behavior, use `series.iloc[i:j]`. To get the future behavior, use `series.loc[i:j]`.\n",
      "  return t[start:end]\n"
     ]
    },
    {
     "name": "stdout",
     "output_type": "stream",
     "text": [
      "3/3 [==============================] - 0s 2ms/step\n",
      "4  \t12    \n"
     ]
    },
    {
     "name": "stderr",
     "output_type": "stream",
     "text": [
      "h:\\MODEL\\MLP\\M\\Lib\\site-packages\\keras\\engine\\data_adapter.py:1700: FutureWarning: The behavior of `series[i:j]` with an integer-dtype index is deprecated. In a future version, this will be treated as *label-based* indexing, consistent with e.g. `series[i]` lookups. To retain the old behavior, use `series.iloc[i:j]`. To get the future behavior, use `series.loc[i:j]`.\n",
      "  return t[start:end]\n"
     ]
    },
    {
     "name": "stdout",
     "output_type": "stream",
     "text": [
      "3/3 [==============================] - 0s 11ms/step\n"
     ]
    },
    {
     "name": "stderr",
     "output_type": "stream",
     "text": [
      "h:\\MODEL\\MLP\\M\\Lib\\site-packages\\keras\\engine\\data_adapter.py:1700: FutureWarning: The behavior of `series[i:j]` with an integer-dtype index is deprecated. In a future version, this will be treated as *label-based* indexing, consistent with e.g. `series[i]` lookups. To retain the old behavior, use `series.iloc[i:j]`. To get the future behavior, use `series.loc[i:j]`.\n",
      "  return t[start:end]\n"
     ]
    },
    {
     "name": "stdout",
     "output_type": "stream",
     "text": [
      "3/3 [==============================] - 0s 1ms/step\n"
     ]
    },
    {
     "name": "stderr",
     "output_type": "stream",
     "text": [
      "h:\\MODEL\\MLP\\M\\Lib\\site-packages\\keras\\engine\\data_adapter.py:1700: FutureWarning: The behavior of `series[i:j]` with an integer-dtype index is deprecated. In a future version, this will be treated as *label-based* indexing, consistent with e.g. `series[i]` lookups. To retain the old behavior, use `series.iloc[i:j]`. To get the future behavior, use `series.loc[i:j]`.\n",
      "  return t[start:end]\n"
     ]
    },
    {
     "name": "stdout",
     "output_type": "stream",
     "text": [
      "3/3 [==============================] - 0s 2ms/step\n"
     ]
    },
    {
     "name": "stderr",
     "output_type": "stream",
     "text": [
      "h:\\MODEL\\MLP\\M\\Lib\\site-packages\\keras\\engine\\data_adapter.py:1700: FutureWarning: The behavior of `series[i:j]` with an integer-dtype index is deprecated. In a future version, this will be treated as *label-based* indexing, consistent with e.g. `series[i]` lookups. To retain the old behavior, use `series.iloc[i:j]`. To get the future behavior, use `series.loc[i:j]`.\n",
      "  return t[start:end]\n"
     ]
    },
    {
     "name": "stdout",
     "output_type": "stream",
     "text": [
      "3/3 [==============================] - 0s 2ms/step\n"
     ]
    },
    {
     "name": "stderr",
     "output_type": "stream",
     "text": [
      "h:\\MODEL\\MLP\\M\\Lib\\site-packages\\keras\\engine\\data_adapter.py:1700: FutureWarning: The behavior of `series[i:j]` with an integer-dtype index is deprecated. In a future version, this will be treated as *label-based* indexing, consistent with e.g. `series[i]` lookups. To retain the old behavior, use `series.iloc[i:j]`. To get the future behavior, use `series.loc[i:j]`.\n",
      "  return t[start:end]\n"
     ]
    },
    {
     "name": "stdout",
     "output_type": "stream",
     "text": [
      "3/3 [==============================] - 0s 3ms/step\n"
     ]
    },
    {
     "name": "stderr",
     "output_type": "stream",
     "text": [
      "h:\\MODEL\\MLP\\M\\Lib\\site-packages\\keras\\engine\\data_adapter.py:1700: FutureWarning: The behavior of `series[i:j]` with an integer-dtype index is deprecated. In a future version, this will be treated as *label-based* indexing, consistent with e.g. `series[i]` lookups. To retain the old behavior, use `series.iloc[i:j]`. To get the future behavior, use `series.loc[i:j]`.\n",
      "  return t[start:end]\n"
     ]
    },
    {
     "name": "stdout",
     "output_type": "stream",
     "text": [
      "3/3 [==============================] - 0s 3ms/step\n"
     ]
    },
    {
     "name": "stderr",
     "output_type": "stream",
     "text": [
      "h:\\MODEL\\MLP\\M\\Lib\\site-packages\\keras\\engine\\data_adapter.py:1700: FutureWarning: The behavior of `series[i:j]` with an integer-dtype index is deprecated. In a future version, this will be treated as *label-based* indexing, consistent with e.g. `series[i]` lookups. To retain the old behavior, use `series.iloc[i:j]`. To get the future behavior, use `series.loc[i:j]`.\n",
      "  return t[start:end]\n"
     ]
    },
    {
     "name": "stdout",
     "output_type": "stream",
     "text": [
      "3/3 [==============================] - 0s 1ms/step\n"
     ]
    },
    {
     "name": "stderr",
     "output_type": "stream",
     "text": [
      "h:\\MODEL\\MLP\\M\\Lib\\site-packages\\keras\\engine\\data_adapter.py:1700: FutureWarning: The behavior of `series[i:j]` with an integer-dtype index is deprecated. In a future version, this will be treated as *label-based* indexing, consistent with e.g. `series[i]` lookups. To retain the old behavior, use `series.iloc[i:j]`. To get the future behavior, use `series.loc[i:j]`.\n",
      "  return t[start:end]\n"
     ]
    },
    {
     "name": "stdout",
     "output_type": "stream",
     "text": [
      "3/3 [==============================] - 0s 1ms/step\n"
     ]
    },
    {
     "name": "stderr",
     "output_type": "stream",
     "text": [
      "h:\\MODEL\\MLP\\M\\Lib\\site-packages\\keras\\engine\\data_adapter.py:1700: FutureWarning: The behavior of `series[i:j]` with an integer-dtype index is deprecated. In a future version, this will be treated as *label-based* indexing, consistent with e.g. `series[i]` lookups. To retain the old behavior, use `series.iloc[i:j]`. To get the future behavior, use `series.loc[i:j]`.\n",
      "  return t[start:end]\n"
     ]
    },
    {
     "name": "stdout",
     "output_type": "stream",
     "text": [
      "3/3 [==============================] - 0s 4ms/step\n"
     ]
    },
    {
     "name": "stderr",
     "output_type": "stream",
     "text": [
      "h:\\MODEL\\MLP\\M\\Lib\\site-packages\\keras\\engine\\data_adapter.py:1700: FutureWarning: The behavior of `series[i:j]` with an integer-dtype index is deprecated. In a future version, this will be treated as *label-based* indexing, consistent with e.g. `series[i]` lookups. To retain the old behavior, use `series.iloc[i:j]`. To get the future behavior, use `series.loc[i:j]`.\n",
      "  return t[start:end]\n"
     ]
    },
    {
     "name": "stdout",
     "output_type": "stream",
     "text": [
      "3/3 [==============================] - 0s 2ms/step\n"
     ]
    },
    {
     "name": "stderr",
     "output_type": "stream",
     "text": [
      "h:\\MODEL\\MLP\\M\\Lib\\site-packages\\keras\\engine\\data_adapter.py:1700: FutureWarning: The behavior of `series[i:j]` with an integer-dtype index is deprecated. In a future version, this will be treated as *label-based* indexing, consistent with e.g. `series[i]` lookups. To retain the old behavior, use `series.iloc[i:j]`. To get the future behavior, use `series.loc[i:j]`.\n",
      "  return t[start:end]\n"
     ]
    },
    {
     "name": "stdout",
     "output_type": "stream",
     "text": [
      "3/3 [==============================] - 0s 3ms/step\n"
     ]
    },
    {
     "name": "stderr",
     "output_type": "stream",
     "text": [
      "h:\\MODEL\\MLP\\M\\Lib\\site-packages\\keras\\engine\\data_adapter.py:1700: FutureWarning: The behavior of `series[i:j]` with an integer-dtype index is deprecated. In a future version, this will be treated as *label-based* indexing, consistent with e.g. `series[i]` lookups. To retain the old behavior, use `series.iloc[i:j]`. To get the future behavior, use `series.loc[i:j]`.\n",
      "  return t[start:end]\n"
     ]
    },
    {
     "name": "stdout",
     "output_type": "stream",
     "text": [
      "3/3 [==============================] - 0s 2ms/step\n"
     ]
    },
    {
     "name": "stderr",
     "output_type": "stream",
     "text": [
      "h:\\MODEL\\MLP\\M\\Lib\\site-packages\\keras\\engine\\data_adapter.py:1700: FutureWarning: The behavior of `series[i:j]` with an integer-dtype index is deprecated. In a future version, this will be treated as *label-based* indexing, consistent with e.g. `series[i]` lookups. To retain the old behavior, use `series.iloc[i:j]`. To get the future behavior, use `series.loc[i:j]`.\n",
      "  return t[start:end]\n"
     ]
    },
    {
     "name": "stdout",
     "output_type": "stream",
     "text": [
      "3/3 [==============================] - 0s 2ms/step\n",
      "5  \t13    \n"
     ]
    },
    {
     "name": "stderr",
     "output_type": "stream",
     "text": [
      "h:\\MODEL\\MLP\\M\\Lib\\site-packages\\keras\\engine\\data_adapter.py:1700: FutureWarning: The behavior of `series[i:j]` with an integer-dtype index is deprecated. In a future version, this will be treated as *label-based* indexing, consistent with e.g. `series[i]` lookups. To retain the old behavior, use `series.iloc[i:j]`. To get the future behavior, use `series.loc[i:j]`.\n",
      "  return t[start:end]\n"
     ]
    },
    {
     "name": "stdout",
     "output_type": "stream",
     "text": [
      "3/3 [==============================] - 0s 1ms/step\n"
     ]
    },
    {
     "name": "stderr",
     "output_type": "stream",
     "text": [
      "h:\\MODEL\\MLP\\M\\Lib\\site-packages\\keras\\engine\\data_adapter.py:1700: FutureWarning: The behavior of `series[i:j]` with an integer-dtype index is deprecated. In a future version, this will be treated as *label-based* indexing, consistent with e.g. `series[i]` lookups. To retain the old behavior, use `series.iloc[i:j]`. To get the future behavior, use `series.loc[i:j]`.\n",
      "  return t[start:end]\n"
     ]
    },
    {
     "name": "stdout",
     "output_type": "stream",
     "text": [
      "3/3 [==============================] - 0s 2ms/step\n"
     ]
    },
    {
     "name": "stderr",
     "output_type": "stream",
     "text": [
      "h:\\MODEL\\MLP\\M\\Lib\\site-packages\\keras\\engine\\data_adapter.py:1700: FutureWarning: The behavior of `series[i:j]` with an integer-dtype index is deprecated. In a future version, this will be treated as *label-based* indexing, consistent with e.g. `series[i]` lookups. To retain the old behavior, use `series.iloc[i:j]`. To get the future behavior, use `series.loc[i:j]`.\n",
      "  return t[start:end]\n"
     ]
    },
    {
     "name": "stdout",
     "output_type": "stream",
     "text": [
      "3/3 [==============================] - 0s 2ms/step\n"
     ]
    },
    {
     "name": "stderr",
     "output_type": "stream",
     "text": [
      "h:\\MODEL\\MLP\\M\\Lib\\site-packages\\keras\\engine\\data_adapter.py:1700: FutureWarning: The behavior of `series[i:j]` with an integer-dtype index is deprecated. In a future version, this will be treated as *label-based* indexing, consistent with e.g. `series[i]` lookups. To retain the old behavior, use `series.iloc[i:j]`. To get the future behavior, use `series.loc[i:j]`.\n",
      "  return t[start:end]\n"
     ]
    },
    {
     "name": "stdout",
     "output_type": "stream",
     "text": [
      "3/3 [==============================] - 0s 2ms/step\n"
     ]
    },
    {
     "name": "stderr",
     "output_type": "stream",
     "text": [
      "h:\\MODEL\\MLP\\M\\Lib\\site-packages\\keras\\engine\\data_adapter.py:1700: FutureWarning: The behavior of `series[i:j]` with an integer-dtype index is deprecated. In a future version, this will be treated as *label-based* indexing, consistent with e.g. `series[i]` lookups. To retain the old behavior, use `series.iloc[i:j]`. To get the future behavior, use `series.loc[i:j]`.\n",
      "  return t[start:end]\n"
     ]
    },
    {
     "name": "stdout",
     "output_type": "stream",
     "text": [
      "3/3 [==============================] - 0s 2ms/step\n"
     ]
    },
    {
     "name": "stderr",
     "output_type": "stream",
     "text": [
      "h:\\MODEL\\MLP\\M\\Lib\\site-packages\\keras\\engine\\data_adapter.py:1700: FutureWarning: The behavior of `series[i:j]` with an integer-dtype index is deprecated. In a future version, this will be treated as *label-based* indexing, consistent with e.g. `series[i]` lookups. To retain the old behavior, use `series.iloc[i:j]`. To get the future behavior, use `series.loc[i:j]`.\n",
      "  return t[start:end]\n"
     ]
    },
    {
     "name": "stdout",
     "output_type": "stream",
     "text": [
      "3/3 [==============================] - 0s 2ms/step\n"
     ]
    },
    {
     "name": "stderr",
     "output_type": "stream",
     "text": [
      "h:\\MODEL\\MLP\\M\\Lib\\site-packages\\keras\\engine\\data_adapter.py:1700: FutureWarning: The behavior of `series[i:j]` with an integer-dtype index is deprecated. In a future version, this will be treated as *label-based* indexing, consistent with e.g. `series[i]` lookups. To retain the old behavior, use `series.iloc[i:j]`. To get the future behavior, use `series.loc[i:j]`.\n",
      "  return t[start:end]\n"
     ]
    },
    {
     "name": "stdout",
     "output_type": "stream",
     "text": [
      "3/3 [==============================] - 0s 1ms/step\n"
     ]
    },
    {
     "name": "stderr",
     "output_type": "stream",
     "text": [
      "h:\\MODEL\\MLP\\M\\Lib\\site-packages\\keras\\engine\\data_adapter.py:1700: FutureWarning: The behavior of `series[i:j]` with an integer-dtype index is deprecated. In a future version, this will be treated as *label-based* indexing, consistent with e.g. `series[i]` lookups. To retain the old behavior, use `series.iloc[i:j]`. To get the future behavior, use `series.loc[i:j]`.\n",
      "  return t[start:end]\n"
     ]
    },
    {
     "name": "stdout",
     "output_type": "stream",
     "text": [
      "3/3 [==============================] - 0s 1ms/step\n"
     ]
    },
    {
     "name": "stderr",
     "output_type": "stream",
     "text": [
      "h:\\MODEL\\MLP\\M\\Lib\\site-packages\\keras\\engine\\data_adapter.py:1700: FutureWarning: The behavior of `series[i:j]` with an integer-dtype index is deprecated. In a future version, this will be treated as *label-based* indexing, consistent with e.g. `series[i]` lookups. To retain the old behavior, use `series.iloc[i:j]`. To get the future behavior, use `series.loc[i:j]`.\n",
      "  return t[start:end]\n"
     ]
    },
    {
     "name": "stdout",
     "output_type": "stream",
     "text": [
      "3/3 [==============================] - 0s 3ms/step\n",
      "6  \t9     \n"
     ]
    },
    {
     "name": "stderr",
     "output_type": "stream",
     "text": [
      "h:\\MODEL\\MLP\\M\\Lib\\site-packages\\keras\\engine\\data_adapter.py:1700: FutureWarning: The behavior of `series[i:j]` with an integer-dtype index is deprecated. In a future version, this will be treated as *label-based* indexing, consistent with e.g. `series[i]` lookups. To retain the old behavior, use `series.iloc[i:j]`. To get the future behavior, use `series.loc[i:j]`.\n",
      "  return t[start:end]\n"
     ]
    },
    {
     "name": "stdout",
     "output_type": "stream",
     "text": [
      "3/3 [==============================] - 0s 2ms/step\n"
     ]
    },
    {
     "name": "stderr",
     "output_type": "stream",
     "text": [
      "h:\\MODEL\\MLP\\M\\Lib\\site-packages\\keras\\engine\\data_adapter.py:1700: FutureWarning: The behavior of `series[i:j]` with an integer-dtype index is deprecated. In a future version, this will be treated as *label-based* indexing, consistent with e.g. `series[i]` lookups. To retain the old behavior, use `series.iloc[i:j]`. To get the future behavior, use `series.loc[i:j]`.\n",
      "  return t[start:end]\n"
     ]
    },
    {
     "name": "stdout",
     "output_type": "stream",
     "text": [
      "3/3 [==============================] - 0s 3ms/step\n"
     ]
    },
    {
     "name": "stderr",
     "output_type": "stream",
     "text": [
      "h:\\MODEL\\MLP\\M\\Lib\\site-packages\\keras\\engine\\data_adapter.py:1700: FutureWarning: The behavior of `series[i:j]` with an integer-dtype index is deprecated. In a future version, this will be treated as *label-based* indexing, consistent with e.g. `series[i]` lookups. To retain the old behavior, use `series.iloc[i:j]`. To get the future behavior, use `series.loc[i:j]`.\n",
      "  return t[start:end]\n"
     ]
    },
    {
     "name": "stdout",
     "output_type": "stream",
     "text": [
      "3/3 [==============================] - 0s 2ms/step\n"
     ]
    },
    {
     "name": "stderr",
     "output_type": "stream",
     "text": [
      "h:\\MODEL\\MLP\\M\\Lib\\site-packages\\keras\\engine\\data_adapter.py:1700: FutureWarning: The behavior of `series[i:j]` with an integer-dtype index is deprecated. In a future version, this will be treated as *label-based* indexing, consistent with e.g. `series[i]` lookups. To retain the old behavior, use `series.iloc[i:j]`. To get the future behavior, use `series.loc[i:j]`.\n",
      "  return t[start:end]\n"
     ]
    },
    {
     "name": "stdout",
     "output_type": "stream",
     "text": [
      "3/3 [==============================] - 0s 1ms/step\n"
     ]
    },
    {
     "name": "stderr",
     "output_type": "stream",
     "text": [
      "h:\\MODEL\\MLP\\M\\Lib\\site-packages\\keras\\engine\\data_adapter.py:1700: FutureWarning: The behavior of `series[i:j]` with an integer-dtype index is deprecated. In a future version, this will be treated as *label-based* indexing, consistent with e.g. `series[i]` lookups. To retain the old behavior, use `series.iloc[i:j]`. To get the future behavior, use `series.loc[i:j]`.\n",
      "  return t[start:end]\n"
     ]
    },
    {
     "name": "stdout",
     "output_type": "stream",
     "text": [
      "3/3 [==============================] - 0s 3ms/step\n"
     ]
    },
    {
     "name": "stderr",
     "output_type": "stream",
     "text": [
      "h:\\MODEL\\MLP\\M\\Lib\\site-packages\\keras\\engine\\data_adapter.py:1700: FutureWarning: The behavior of `series[i:j]` with an integer-dtype index is deprecated. In a future version, this will be treated as *label-based* indexing, consistent with e.g. `series[i]` lookups. To retain the old behavior, use `series.iloc[i:j]`. To get the future behavior, use `series.loc[i:j]`.\n",
      "  return t[start:end]\n"
     ]
    },
    {
     "name": "stdout",
     "output_type": "stream",
     "text": [
      "3/3 [==============================] - 0s 2ms/step\n"
     ]
    },
    {
     "name": "stderr",
     "output_type": "stream",
     "text": [
      "h:\\MODEL\\MLP\\M\\Lib\\site-packages\\keras\\engine\\data_adapter.py:1700: FutureWarning: The behavior of `series[i:j]` with an integer-dtype index is deprecated. In a future version, this will be treated as *label-based* indexing, consistent with e.g. `series[i]` lookups. To retain the old behavior, use `series.iloc[i:j]`. To get the future behavior, use `series.loc[i:j]`.\n",
      "  return t[start:end]\n"
     ]
    },
    {
     "name": "stdout",
     "output_type": "stream",
     "text": [
      "3/3 [==============================] - 0s 2ms/step\n"
     ]
    },
    {
     "name": "stderr",
     "output_type": "stream",
     "text": [
      "h:\\MODEL\\MLP\\M\\Lib\\site-packages\\keras\\engine\\data_adapter.py:1700: FutureWarning: The behavior of `series[i:j]` with an integer-dtype index is deprecated. In a future version, this will be treated as *label-based* indexing, consistent with e.g. `series[i]` lookups. To retain the old behavior, use `series.iloc[i:j]`. To get the future behavior, use `series.loc[i:j]`.\n",
      "  return t[start:end]\n"
     ]
    },
    {
     "name": "stdout",
     "output_type": "stream",
     "text": [
      "3/3 [==============================] - 0s 3ms/step\n",
      "7  \t8     \n"
     ]
    },
    {
     "name": "stderr",
     "output_type": "stream",
     "text": [
      "h:\\MODEL\\MLP\\M\\Lib\\site-packages\\keras\\engine\\data_adapter.py:1700: FutureWarning: The behavior of `series[i:j]` with an integer-dtype index is deprecated. In a future version, this will be treated as *label-based* indexing, consistent with e.g. `series[i]` lookups. To retain the old behavior, use `series.iloc[i:j]`. To get the future behavior, use `series.loc[i:j]`.\n",
      "  return t[start:end]\n"
     ]
    },
    {
     "name": "stdout",
     "output_type": "stream",
     "text": [
      "3/3 [==============================] - 0s 2ms/step\n"
     ]
    },
    {
     "name": "stderr",
     "output_type": "stream",
     "text": [
      "h:\\MODEL\\MLP\\M\\Lib\\site-packages\\keras\\engine\\data_adapter.py:1700: FutureWarning: The behavior of `series[i:j]` with an integer-dtype index is deprecated. In a future version, this will be treated as *label-based* indexing, consistent with e.g. `series[i]` lookups. To retain the old behavior, use `series.iloc[i:j]`. To get the future behavior, use `series.loc[i:j]`.\n",
      "  return t[start:end]\n"
     ]
    },
    {
     "name": "stdout",
     "output_type": "stream",
     "text": [
      "3/3 [==============================] - 0s 2ms/step\n"
     ]
    },
    {
     "name": "stderr",
     "output_type": "stream",
     "text": [
      "h:\\MODEL\\MLP\\M\\Lib\\site-packages\\keras\\engine\\data_adapter.py:1700: FutureWarning: The behavior of `series[i:j]` with an integer-dtype index is deprecated. In a future version, this will be treated as *label-based* indexing, consistent with e.g. `series[i]` lookups. To retain the old behavior, use `series.iloc[i:j]`. To get the future behavior, use `series.loc[i:j]`.\n",
      "  return t[start:end]\n"
     ]
    },
    {
     "name": "stdout",
     "output_type": "stream",
     "text": [
      "3/3 [==============================] - 0s 2ms/step\n"
     ]
    },
    {
     "name": "stderr",
     "output_type": "stream",
     "text": [
      "h:\\MODEL\\MLP\\M\\Lib\\site-packages\\keras\\engine\\data_adapter.py:1700: FutureWarning: The behavior of `series[i:j]` with an integer-dtype index is deprecated. In a future version, this will be treated as *label-based* indexing, consistent with e.g. `series[i]` lookups. To retain the old behavior, use `series.iloc[i:j]`. To get the future behavior, use `series.loc[i:j]`.\n",
      "  return t[start:end]\n"
     ]
    },
    {
     "name": "stdout",
     "output_type": "stream",
     "text": [
      "3/3 [==============================] - 0s 2ms/step\n"
     ]
    },
    {
     "name": "stderr",
     "output_type": "stream",
     "text": [
      "h:\\MODEL\\MLP\\M\\Lib\\site-packages\\keras\\engine\\data_adapter.py:1700: FutureWarning: The behavior of `series[i:j]` with an integer-dtype index is deprecated. In a future version, this will be treated as *label-based* indexing, consistent with e.g. `series[i]` lookups. To retain the old behavior, use `series.iloc[i:j]`. To get the future behavior, use `series.loc[i:j]`.\n",
      "  return t[start:end]\n"
     ]
    },
    {
     "name": "stdout",
     "output_type": "stream",
     "text": [
      "3/3 [==============================] - 0s 1ms/step\n"
     ]
    },
    {
     "name": "stderr",
     "output_type": "stream",
     "text": [
      "h:\\MODEL\\MLP\\M\\Lib\\site-packages\\keras\\engine\\data_adapter.py:1700: FutureWarning: The behavior of `series[i:j]` with an integer-dtype index is deprecated. In a future version, this will be treated as *label-based* indexing, consistent with e.g. `series[i]` lookups. To retain the old behavior, use `series.iloc[i:j]`. To get the future behavior, use `series.loc[i:j]`.\n",
      "  return t[start:end]\n"
     ]
    },
    {
     "name": "stdout",
     "output_type": "stream",
     "text": [
      "3/3 [==============================] - 0s 2ms/step\n"
     ]
    },
    {
     "name": "stderr",
     "output_type": "stream",
     "text": [
      "h:\\MODEL\\MLP\\M\\Lib\\site-packages\\keras\\engine\\data_adapter.py:1700: FutureWarning: The behavior of `series[i:j]` with an integer-dtype index is deprecated. In a future version, this will be treated as *label-based* indexing, consistent with e.g. `series[i]` lookups. To retain the old behavior, use `series.iloc[i:j]`. To get the future behavior, use `series.loc[i:j]`.\n",
      "  return t[start:end]\n"
     ]
    },
    {
     "name": "stdout",
     "output_type": "stream",
     "text": [
      "3/3 [==============================] - 0s 2ms/step\n"
     ]
    },
    {
     "name": "stderr",
     "output_type": "stream",
     "text": [
      "h:\\MODEL\\MLP\\M\\Lib\\site-packages\\keras\\engine\\data_adapter.py:1700: FutureWarning: The behavior of `series[i:j]` with an integer-dtype index is deprecated. In a future version, this will be treated as *label-based* indexing, consistent with e.g. `series[i]` lookups. To retain the old behavior, use `series.iloc[i:j]`. To get the future behavior, use `series.loc[i:j]`.\n",
      "  return t[start:end]\n"
     ]
    },
    {
     "name": "stdout",
     "output_type": "stream",
     "text": [
      "3/3 [==============================] - 0s 1ms/step\n"
     ]
    },
    {
     "name": "stderr",
     "output_type": "stream",
     "text": [
      "h:\\MODEL\\MLP\\M\\Lib\\site-packages\\keras\\engine\\data_adapter.py:1700: FutureWarning: The behavior of `series[i:j]` with an integer-dtype index is deprecated. In a future version, this will be treated as *label-based* indexing, consistent with e.g. `series[i]` lookups. To retain the old behavior, use `series.iloc[i:j]`. To get the future behavior, use `series.loc[i:j]`.\n",
      "  return t[start:end]\n"
     ]
    },
    {
     "name": "stdout",
     "output_type": "stream",
     "text": [
      "3/3 [==============================] - 0s 1ms/step\n"
     ]
    },
    {
     "name": "stderr",
     "output_type": "stream",
     "text": [
      "h:\\MODEL\\MLP\\M\\Lib\\site-packages\\keras\\engine\\data_adapter.py:1700: FutureWarning: The behavior of `series[i:j]` with an integer-dtype index is deprecated. In a future version, this will be treated as *label-based* indexing, consistent with e.g. `series[i]` lookups. To retain the old behavior, use `series.iloc[i:j]`. To get the future behavior, use `series.loc[i:j]`.\n",
      "  return t[start:end]\n"
     ]
    },
    {
     "name": "stdout",
     "output_type": "stream",
     "text": [
      "3/3 [==============================] - 0s 1000us/step\n"
     ]
    },
    {
     "name": "stderr",
     "output_type": "stream",
     "text": [
      "h:\\MODEL\\MLP\\M\\Lib\\site-packages\\keras\\engine\\data_adapter.py:1700: FutureWarning: The behavior of `series[i:j]` with an integer-dtype index is deprecated. In a future version, this will be treated as *label-based* indexing, consistent with e.g. `series[i]` lookups. To retain the old behavior, use `series.iloc[i:j]`. To get the future behavior, use `series.loc[i:j]`.\n",
      "  return t[start:end]\n"
     ]
    },
    {
     "name": "stdout",
     "output_type": "stream",
     "text": [
      "3/3 [==============================] - 0s 2ms/step\n"
     ]
    },
    {
     "name": "stderr",
     "output_type": "stream",
     "text": [
      "h:\\MODEL\\MLP\\M\\Lib\\site-packages\\keras\\engine\\data_adapter.py:1700: FutureWarning: The behavior of `series[i:j]` with an integer-dtype index is deprecated. In a future version, this will be treated as *label-based* indexing, consistent with e.g. `series[i]` lookups. To retain the old behavior, use `series.iloc[i:j]`. To get the future behavior, use `series.loc[i:j]`.\n",
      "  return t[start:end]\n"
     ]
    },
    {
     "name": "stdout",
     "output_type": "stream",
     "text": [
      "3/3 [==============================] - 0s 2ms/step\n"
     ]
    },
    {
     "name": "stderr",
     "output_type": "stream",
     "text": [
      "h:\\MODEL\\MLP\\M\\Lib\\site-packages\\keras\\engine\\data_adapter.py:1700: FutureWarning: The behavior of `series[i:j]` with an integer-dtype index is deprecated. In a future version, this will be treated as *label-based* indexing, consistent with e.g. `series[i]` lookups. To retain the old behavior, use `series.iloc[i:j]`. To get the future behavior, use `series.loc[i:j]`.\n",
      "  return t[start:end]\n"
     ]
    },
    {
     "name": "stdout",
     "output_type": "stream",
     "text": [
      "3/3 [==============================] - 0s 3ms/step\n"
     ]
    },
    {
     "name": "stderr",
     "output_type": "stream",
     "text": [
      "h:\\MODEL\\MLP\\M\\Lib\\site-packages\\keras\\engine\\data_adapter.py:1700: FutureWarning: The behavior of `series[i:j]` with an integer-dtype index is deprecated. In a future version, this will be treated as *label-based* indexing, consistent with e.g. `series[i]` lookups. To retain the old behavior, use `series.iloc[i:j]`. To get the future behavior, use `series.loc[i:j]`.\n",
      "  return t[start:end]\n"
     ]
    },
    {
     "name": "stdout",
     "output_type": "stream",
     "text": [
      "3/3 [==============================] - 0s 2ms/step\n",
      "8  \t14    \n"
     ]
    },
    {
     "name": "stderr",
     "output_type": "stream",
     "text": [
      "h:\\MODEL\\MLP\\M\\Lib\\site-packages\\keras\\engine\\data_adapter.py:1700: FutureWarning: The behavior of `series[i:j]` with an integer-dtype index is deprecated. In a future version, this will be treated as *label-based* indexing, consistent with e.g. `series[i]` lookups. To retain the old behavior, use `series.iloc[i:j]`. To get the future behavior, use `series.loc[i:j]`.\n",
      "  return t[start:end]\n"
     ]
    },
    {
     "name": "stdout",
     "output_type": "stream",
     "text": [
      "3/3 [==============================] - 0s 1ms/step\n"
     ]
    },
    {
     "name": "stderr",
     "output_type": "stream",
     "text": [
      "h:\\MODEL\\MLP\\M\\Lib\\site-packages\\keras\\engine\\data_adapter.py:1700: FutureWarning: The behavior of `series[i:j]` with an integer-dtype index is deprecated. In a future version, this will be treated as *label-based* indexing, consistent with e.g. `series[i]` lookups. To retain the old behavior, use `series.iloc[i:j]`. To get the future behavior, use `series.loc[i:j]`.\n",
      "  return t[start:end]\n"
     ]
    },
    {
     "name": "stdout",
     "output_type": "stream",
     "text": [
      "3/3 [==============================] - 0s 2ms/step\n"
     ]
    },
    {
     "name": "stderr",
     "output_type": "stream",
     "text": [
      "h:\\MODEL\\MLP\\M\\Lib\\site-packages\\keras\\engine\\data_adapter.py:1700: FutureWarning: The behavior of `series[i:j]` with an integer-dtype index is deprecated. In a future version, this will be treated as *label-based* indexing, consistent with e.g. `series[i]` lookups. To retain the old behavior, use `series.iloc[i:j]`. To get the future behavior, use `series.loc[i:j]`.\n",
      "  return t[start:end]\n"
     ]
    },
    {
     "name": "stdout",
     "output_type": "stream",
     "text": [
      "3/3 [==============================] - 0s 1ms/step\n"
     ]
    },
    {
     "name": "stderr",
     "output_type": "stream",
     "text": [
      "h:\\MODEL\\MLP\\M\\Lib\\site-packages\\keras\\engine\\data_adapter.py:1700: FutureWarning: The behavior of `series[i:j]` with an integer-dtype index is deprecated. In a future version, this will be treated as *label-based* indexing, consistent with e.g. `series[i]` lookups. To retain the old behavior, use `series.iloc[i:j]`. To get the future behavior, use `series.loc[i:j]`.\n",
      "  return t[start:end]\n"
     ]
    },
    {
     "name": "stdout",
     "output_type": "stream",
     "text": [
      "3/3 [==============================] - 0s 1ms/step\n"
     ]
    },
    {
     "name": "stderr",
     "output_type": "stream",
     "text": [
      "h:\\MODEL\\MLP\\M\\Lib\\site-packages\\keras\\engine\\data_adapter.py:1700: FutureWarning: The behavior of `series[i:j]` with an integer-dtype index is deprecated. In a future version, this will be treated as *label-based* indexing, consistent with e.g. `series[i]` lookups. To retain the old behavior, use `series.iloc[i:j]`. To get the future behavior, use `series.loc[i:j]`.\n",
      "  return t[start:end]\n"
     ]
    },
    {
     "name": "stdout",
     "output_type": "stream",
     "text": [
      "3/3 [==============================] - 0s 2ms/step\n"
     ]
    },
    {
     "name": "stderr",
     "output_type": "stream",
     "text": [
      "h:\\MODEL\\MLP\\M\\Lib\\site-packages\\keras\\engine\\data_adapter.py:1700: FutureWarning: The behavior of `series[i:j]` with an integer-dtype index is deprecated. In a future version, this will be treated as *label-based* indexing, consistent with e.g. `series[i]` lookups. To retain the old behavior, use `series.iloc[i:j]`. To get the future behavior, use `series.loc[i:j]`.\n",
      "  return t[start:end]\n"
     ]
    },
    {
     "name": "stdout",
     "output_type": "stream",
     "text": [
      "3/3 [==============================] - 0s 1ms/step\n"
     ]
    },
    {
     "name": "stderr",
     "output_type": "stream",
     "text": [
      "h:\\MODEL\\MLP\\M\\Lib\\site-packages\\keras\\engine\\data_adapter.py:1700: FutureWarning: The behavior of `series[i:j]` with an integer-dtype index is deprecated. In a future version, this will be treated as *label-based* indexing, consistent with e.g. `series[i]` lookups. To retain the old behavior, use `series.iloc[i:j]`. To get the future behavior, use `series.loc[i:j]`.\n",
      "  return t[start:end]\n"
     ]
    },
    {
     "name": "stdout",
     "output_type": "stream",
     "text": [
      "3/3 [==============================] - 0s 1ms/step\n"
     ]
    },
    {
     "name": "stderr",
     "output_type": "stream",
     "text": [
      "h:\\MODEL\\MLP\\M\\Lib\\site-packages\\keras\\engine\\data_adapter.py:1700: FutureWarning: The behavior of `series[i:j]` with an integer-dtype index is deprecated. In a future version, this will be treated as *label-based* indexing, consistent with e.g. `series[i]` lookups. To retain the old behavior, use `series.iloc[i:j]`. To get the future behavior, use `series.loc[i:j]`.\n",
      "  return t[start:end]\n"
     ]
    },
    {
     "name": "stdout",
     "output_type": "stream",
     "text": [
      "3/3 [==============================] - 0s 1ms/step\n"
     ]
    },
    {
     "name": "stderr",
     "output_type": "stream",
     "text": [
      "h:\\MODEL\\MLP\\M\\Lib\\site-packages\\keras\\engine\\data_adapter.py:1700: FutureWarning: The behavior of `series[i:j]` with an integer-dtype index is deprecated. In a future version, this will be treated as *label-based* indexing, consistent with e.g. `series[i]` lookups. To retain the old behavior, use `series.iloc[i:j]`. To get the future behavior, use `series.loc[i:j]`.\n",
      "  return t[start:end]\n"
     ]
    },
    {
     "name": "stdout",
     "output_type": "stream",
     "text": [
      "3/3 [==============================] - 0s 2ms/step\n"
     ]
    },
    {
     "name": "stderr",
     "output_type": "stream",
     "text": [
      "h:\\MODEL\\MLP\\M\\Lib\\site-packages\\keras\\engine\\data_adapter.py:1700: FutureWarning: The behavior of `series[i:j]` with an integer-dtype index is deprecated. In a future version, this will be treated as *label-based* indexing, consistent with e.g. `series[i]` lookups. To retain the old behavior, use `series.iloc[i:j]`. To get the future behavior, use `series.loc[i:j]`.\n",
      "  return t[start:end]\n"
     ]
    },
    {
     "name": "stdout",
     "output_type": "stream",
     "text": [
      "3/3 [==============================] - 0s 2ms/step\n"
     ]
    },
    {
     "name": "stderr",
     "output_type": "stream",
     "text": [
      "h:\\MODEL\\MLP\\M\\Lib\\site-packages\\keras\\engine\\data_adapter.py:1700: FutureWarning: The behavior of `series[i:j]` with an integer-dtype index is deprecated. In a future version, this will be treated as *label-based* indexing, consistent with e.g. `series[i]` lookups. To retain the old behavior, use `series.iloc[i:j]`. To get the future behavior, use `series.loc[i:j]`.\n",
      "  return t[start:end]\n"
     ]
    },
    {
     "name": "stdout",
     "output_type": "stream",
     "text": [
      "3/3 [==============================] - 0s 2ms/step\n"
     ]
    },
    {
     "name": "stderr",
     "output_type": "stream",
     "text": [
      "h:\\MODEL\\MLP\\M\\Lib\\site-packages\\keras\\engine\\data_adapter.py:1700: FutureWarning: The behavior of `series[i:j]` with an integer-dtype index is deprecated. In a future version, this will be treated as *label-based* indexing, consistent with e.g. `series[i]` lookups. To retain the old behavior, use `series.iloc[i:j]`. To get the future behavior, use `series.loc[i:j]`.\n",
      "  return t[start:end]\n"
     ]
    },
    {
     "name": "stdout",
     "output_type": "stream",
     "text": [
      "3/3 [==============================] - 0s 2ms/step\n"
     ]
    },
    {
     "name": "stderr",
     "output_type": "stream",
     "text": [
      "h:\\MODEL\\MLP\\M\\Lib\\site-packages\\keras\\engine\\data_adapter.py:1700: FutureWarning: The behavior of `series[i:j]` with an integer-dtype index is deprecated. In a future version, this will be treated as *label-based* indexing, consistent with e.g. `series[i]` lookups. To retain the old behavior, use `series.iloc[i:j]`. To get the future behavior, use `series.loc[i:j]`.\n",
      "  return t[start:end]\n"
     ]
    },
    {
     "name": "stdout",
     "output_type": "stream",
     "text": [
      "3/3 [==============================] - 0s 3ms/step\n",
      "9  \t13    \n"
     ]
    },
    {
     "name": "stderr",
     "output_type": "stream",
     "text": [
      "h:\\MODEL\\MLP\\M\\Lib\\site-packages\\keras\\engine\\data_adapter.py:1700: FutureWarning: The behavior of `series[i:j]` with an integer-dtype index is deprecated. In a future version, this will be treated as *label-based* indexing, consistent with e.g. `series[i]` lookups. To retain the old behavior, use `series.iloc[i:j]`. To get the future behavior, use `series.loc[i:j]`.\n",
      "  return t[start:end]\n"
     ]
    },
    {
     "name": "stdout",
     "output_type": "stream",
     "text": [
      "3/3 [==============================] - 0s 2ms/step\n"
     ]
    },
    {
     "name": "stderr",
     "output_type": "stream",
     "text": [
      "h:\\MODEL\\MLP\\M\\Lib\\site-packages\\keras\\engine\\data_adapter.py:1700: FutureWarning: The behavior of `series[i:j]` with an integer-dtype index is deprecated. In a future version, this will be treated as *label-based* indexing, consistent with e.g. `series[i]` lookups. To retain the old behavior, use `series.iloc[i:j]`. To get the future behavior, use `series.loc[i:j]`.\n",
      "  return t[start:end]\n"
     ]
    },
    {
     "name": "stdout",
     "output_type": "stream",
     "text": [
      "3/3 [==============================] - 0s 3ms/step\n"
     ]
    },
    {
     "name": "stderr",
     "output_type": "stream",
     "text": [
      "h:\\MODEL\\MLP\\M\\Lib\\site-packages\\keras\\engine\\data_adapter.py:1700: FutureWarning: The behavior of `series[i:j]` with an integer-dtype index is deprecated. In a future version, this will be treated as *label-based* indexing, consistent with e.g. `series[i]` lookups. To retain the old behavior, use `series.iloc[i:j]`. To get the future behavior, use `series.loc[i:j]`.\n",
      "  return t[start:end]\n"
     ]
    },
    {
     "name": "stdout",
     "output_type": "stream",
     "text": [
      "3/3 [==============================] - 0s 2ms/step\n"
     ]
    },
    {
     "name": "stderr",
     "output_type": "stream",
     "text": [
      "h:\\MODEL\\MLP\\M\\Lib\\site-packages\\keras\\engine\\data_adapter.py:1700: FutureWarning: The behavior of `series[i:j]` with an integer-dtype index is deprecated. In a future version, this will be treated as *label-based* indexing, consistent with e.g. `series[i]` lookups. To retain the old behavior, use `series.iloc[i:j]`. To get the future behavior, use `series.loc[i:j]`.\n",
      "  return t[start:end]\n"
     ]
    },
    {
     "name": "stdout",
     "output_type": "stream",
     "text": [
      "3/3 [==============================] - 0s 2ms/step\n"
     ]
    },
    {
     "name": "stderr",
     "output_type": "stream",
     "text": [
      "h:\\MODEL\\MLP\\M\\Lib\\site-packages\\keras\\engine\\data_adapter.py:1700: FutureWarning: The behavior of `series[i:j]` with an integer-dtype index is deprecated. In a future version, this will be treated as *label-based* indexing, consistent with e.g. `series[i]` lookups. To retain the old behavior, use `series.iloc[i:j]`. To get the future behavior, use `series.loc[i:j]`.\n",
      "  return t[start:end]\n"
     ]
    },
    {
     "name": "stdout",
     "output_type": "stream",
     "text": [
      "3/3 [==============================] - 0s 3ms/step\n"
     ]
    },
    {
     "name": "stderr",
     "output_type": "stream",
     "text": [
      "h:\\MODEL\\MLP\\M\\Lib\\site-packages\\keras\\engine\\data_adapter.py:1700: FutureWarning: The behavior of `series[i:j]` with an integer-dtype index is deprecated. In a future version, this will be treated as *label-based* indexing, consistent with e.g. `series[i]` lookups. To retain the old behavior, use `series.iloc[i:j]`. To get the future behavior, use `series.loc[i:j]`.\n",
      "  return t[start:end]\n"
     ]
    },
    {
     "name": "stdout",
     "output_type": "stream",
     "text": [
      "3/3 [==============================] - 0s 2ms/step\n"
     ]
    },
    {
     "name": "stderr",
     "output_type": "stream",
     "text": [
      "h:\\MODEL\\MLP\\M\\Lib\\site-packages\\keras\\engine\\data_adapter.py:1700: FutureWarning: The behavior of `series[i:j]` with an integer-dtype index is deprecated. In a future version, this will be treated as *label-based* indexing, consistent with e.g. `series[i]` lookups. To retain the old behavior, use `series.iloc[i:j]`. To get the future behavior, use `series.loc[i:j]`.\n",
      "  return t[start:end]\n"
     ]
    },
    {
     "name": "stdout",
     "output_type": "stream",
     "text": [
      "3/3 [==============================] - 0s 2ms/step\n"
     ]
    },
    {
     "name": "stderr",
     "output_type": "stream",
     "text": [
      "h:\\MODEL\\MLP\\M\\Lib\\site-packages\\keras\\engine\\data_adapter.py:1700: FutureWarning: The behavior of `series[i:j]` with an integer-dtype index is deprecated. In a future version, this will be treated as *label-based* indexing, consistent with e.g. `series[i]` lookups. To retain the old behavior, use `series.iloc[i:j]`. To get the future behavior, use `series.loc[i:j]`.\n",
      "  return t[start:end]\n"
     ]
    },
    {
     "name": "stdout",
     "output_type": "stream",
     "text": [
      "3/3 [==============================] - 0s 2ms/step\n"
     ]
    },
    {
     "name": "stderr",
     "output_type": "stream",
     "text": [
      "h:\\MODEL\\MLP\\M\\Lib\\site-packages\\keras\\engine\\data_adapter.py:1700: FutureWarning: The behavior of `series[i:j]` with an integer-dtype index is deprecated. In a future version, this will be treated as *label-based* indexing, consistent with e.g. `series[i]` lookups. To retain the old behavior, use `series.iloc[i:j]`. To get the future behavior, use `series.loc[i:j]`.\n",
      "  return t[start:end]\n"
     ]
    },
    {
     "name": "stdout",
     "output_type": "stream",
     "text": [
      "3/3 [==============================] - 0s 2ms/step\n"
     ]
    },
    {
     "name": "stderr",
     "output_type": "stream",
     "text": [
      "h:\\MODEL\\MLP\\M\\Lib\\site-packages\\keras\\engine\\data_adapter.py:1700: FutureWarning: The behavior of `series[i:j]` with an integer-dtype index is deprecated. In a future version, this will be treated as *label-based* indexing, consistent with e.g. `series[i]` lookups. To retain the old behavior, use `series.iloc[i:j]`. To get the future behavior, use `series.loc[i:j]`.\n",
      "  return t[start:end]\n"
     ]
    },
    {
     "name": "stdout",
     "output_type": "stream",
     "text": [
      "3/3 [==============================] - 0s 3ms/step\n",
      "10 \t10    \n",
      "Best parameters: {'learning_rate': 0.01710532214541082, 'layers': [125, 123, 36, 102, 63]}\n"
     ]
    },
    {
     "name": "stderr",
     "output_type": "stream",
     "text": [
      "h:\\MODEL\\MLP\\M\\Lib\\site-packages\\keras\\engine\\data_adapter.py:1700: FutureWarning: The behavior of `series[i:j]` with an integer-dtype index is deprecated. In a future version, this will be treated as *label-based* indexing, consistent with e.g. `series[i]` lookups. To retain the old behavior, use `series.iloc[i:j]`. To get the future behavior, use `series.loc[i:j]`.\n",
      "  return t[start:end]\n"
     ]
    },
    {
     "name": "stdout",
     "output_type": "stream",
     "text": [
      "Epoch 1/500\n",
      "5/5 [==============================] - 1s 45ms/step - loss: 21.4859 - mean_absolute_error: 3.6449 - val_loss: 3.6762 - val_mean_absolute_error: 1.6915\n",
      "Epoch 2/500\n",
      "5/5 [==============================] - 0s 10ms/step - loss: 3.1800 - mean_absolute_error: 1.4041 - val_loss: 1.4828 - val_mean_absolute_error: 0.9195\n",
      "Epoch 3/500\n",
      "5/5 [==============================] - 0s 10ms/step - loss: 2.0555 - mean_absolute_error: 1.1931 - val_loss: 1.7005 - val_mean_absolute_error: 1.1483\n",
      "Epoch 4/500\n",
      "5/5 [==============================] - 0s 14ms/step - loss: 2.1246 - mean_absolute_error: 1.2330 - val_loss: 1.3116 - val_mean_absolute_error: 0.9427\n",
      "Epoch 5/500\n",
      "5/5 [==============================] - 0s 14ms/step - loss: 2.0082 - mean_absolute_error: 1.1407 - val_loss: 1.3016 - val_mean_absolute_error: 0.9443\n",
      "Epoch 6/500\n",
      "5/5 [==============================] - 0s 15ms/step - loss: 1.9515 - mean_absolute_error: 1.1542 - val_loss: 1.3609 - val_mean_absolute_error: 0.9981\n",
      "Epoch 7/500\n",
      "5/5 [==============================] - 0s 14ms/step - loss: 1.9655 - mean_absolute_error: 1.1872 - val_loss: 1.2711 - val_mean_absolute_error: 0.9449\n",
      "Epoch 8/500\n",
      "5/5 [==============================] - 0s 11ms/step - loss: 1.9264 - mean_absolute_error: 1.1143 - val_loss: 1.1839 - val_mean_absolute_error: 0.8812\n",
      "Epoch 9/500\n",
      "5/5 [==============================] - 0s 10ms/step - loss: 1.7902 - mean_absolute_error: 1.0987 - val_loss: 1.1363 - val_mean_absolute_error: 0.8943\n",
      "Epoch 10/500\n",
      "5/5 [==============================] - 0s 10ms/step - loss: 1.4417 - mean_absolute_error: 0.9434 - val_loss: 0.8536 - val_mean_absolute_error: 0.7048\n",
      "Epoch 11/500\n",
      "5/5 [==============================] - 0s 12ms/step - loss: 1.0943 - mean_absolute_error: 0.8092 - val_loss: 0.6829 - val_mean_absolute_error: 0.6289\n",
      "Epoch 12/500\n",
      "5/5 [==============================] - 0s 11ms/step - loss: 0.7636 - mean_absolute_error: 0.6678 - val_loss: 0.6944 - val_mean_absolute_error: 0.6106\n",
      "Epoch 13/500\n",
      "5/5 [==============================] - 0s 13ms/step - loss: 0.6357 - mean_absolute_error: 0.6108 - val_loss: 0.5265 - val_mean_absolute_error: 0.5244\n",
      "Epoch 14/500\n",
      "5/5 [==============================] - 0s 15ms/step - loss: 0.6594 - mean_absolute_error: 0.6271 - val_loss: 0.8358 - val_mean_absolute_error: 0.6264\n",
      "Epoch 15/500\n",
      "5/5 [==============================] - 0s 13ms/step - loss: 0.6299 - mean_absolute_error: 0.6032 - val_loss: 0.7059 - val_mean_absolute_error: 0.6925\n",
      "Epoch 16/500\n",
      "5/5 [==============================] - 0s 11ms/step - loss: 0.5168 - mean_absolute_error: 0.5446 - val_loss: 0.7810 - val_mean_absolute_error: 0.6685\n",
      "Epoch 17/500\n",
      "5/5 [==============================] - 0s 10ms/step - loss: 0.5058 - mean_absolute_error: 0.5171 - val_loss: 0.3781 - val_mean_absolute_error: 0.4887\n",
      "Epoch 18/500\n",
      "5/5 [==============================] - 0s 12ms/step - loss: 0.4101 - mean_absolute_error: 0.4747 - val_loss: 0.5739 - val_mean_absolute_error: 0.6250\n",
      "Epoch 19/500\n",
      "5/5 [==============================] - 0s 10ms/step - loss: 0.4250 - mean_absolute_error: 0.4982 - val_loss: 0.5067 - val_mean_absolute_error: 0.5327\n",
      "Epoch 20/500\n",
      "5/5 [==============================] - 0s 11ms/step - loss: 0.3552 - mean_absolute_error: 0.4473 - val_loss: 0.8108 - val_mean_absolute_error: 0.6276\n",
      "Epoch 21/500\n",
      "5/5 [==============================] - 0s 11ms/step - loss: 0.3999 - mean_absolute_error: 0.4888 - val_loss: 0.7103 - val_mean_absolute_error: 0.6825\n",
      "Epoch 22/500\n",
      "5/5 [==============================] - 0s 10ms/step - loss: 0.3918 - mean_absolute_error: 0.4790 - val_loss: 0.4734 - val_mean_absolute_error: 0.4969\n",
      "Epoch 23/500\n",
      "5/5 [==============================] - 0s 10ms/step - loss: 0.3759 - mean_absolute_error: 0.4909 - val_loss: 0.5493 - val_mean_absolute_error: 0.5194\n",
      "Epoch 24/500\n",
      "5/5 [==============================] - 0s 11ms/step - loss: 0.3387 - mean_absolute_error: 0.4534 - val_loss: 0.4127 - val_mean_absolute_error: 0.5147\n",
      "Epoch 25/500\n",
      "5/5 [==============================] - 0s 11ms/step - loss: 0.3096 - mean_absolute_error: 0.4200 - val_loss: 0.4255 - val_mean_absolute_error: 0.4558\n",
      "Epoch 26/500\n",
      "5/5 [==============================] - 0s 17ms/step - loss: 0.2942 - mean_absolute_error: 0.4130 - val_loss: 0.5009 - val_mean_absolute_error: 0.5330\n",
      "Epoch 27/500\n",
      "5/5 [==============================] - 0s 17ms/step - loss: 0.2625 - mean_absolute_error: 0.3718 - val_loss: 0.4089 - val_mean_absolute_error: 0.4679\n",
      "Epoch 28/500\n",
      "5/5 [==============================] - 0s 13ms/step - loss: 0.2401 - mean_absolute_error: 0.3531 - val_loss: 0.4301 - val_mean_absolute_error: 0.4382\n",
      "Epoch 29/500\n",
      "5/5 [==============================] - 0s 11ms/step - loss: 0.2148 - mean_absolute_error: 0.3359 - val_loss: 0.3397 - val_mean_absolute_error: 0.4285\n",
      "Epoch 30/500\n",
      "5/5 [==============================] - 0s 11ms/step - loss: 0.2226 - mean_absolute_error: 0.3372 - val_loss: 0.3642 - val_mean_absolute_error: 0.4297\n",
      "Epoch 31/500\n",
      "5/5 [==============================] - 0s 11ms/step - loss: 0.1973 - mean_absolute_error: 0.3123 - val_loss: 0.3475 - val_mean_absolute_error: 0.3968\n",
      "Epoch 32/500\n",
      "5/5 [==============================] - 0s 11ms/step - loss: 0.1995 - mean_absolute_error: 0.3095 - val_loss: 0.3419 - val_mean_absolute_error: 0.3954\n",
      "Epoch 33/500\n",
      "5/5 [==============================] - 0s 11ms/step - loss: 0.1700 - mean_absolute_error: 0.2821 - val_loss: 0.4052 - val_mean_absolute_error: 0.4851\n",
      "Epoch 34/500\n",
      "5/5 [==============================] - 0s 11ms/step - loss: 0.1855 - mean_absolute_error: 0.3028 - val_loss: 0.3799 - val_mean_absolute_error: 0.4202\n",
      "Epoch 35/500\n",
      "5/5 [==============================] - 0s 24ms/step - loss: 0.1444 - mean_absolute_error: 0.2607 - val_loss: 0.3144 - val_mean_absolute_error: 0.3575\n",
      "Epoch 36/500\n",
      "5/5 [==============================] - 0s 17ms/step - loss: 0.1412 - mean_absolute_error: 0.2592 - val_loss: 0.3681 - val_mean_absolute_error: 0.4160\n",
      "Epoch 37/500\n",
      "5/5 [==============================] - 0s 14ms/step - loss: 0.1596 - mean_absolute_error: 0.2715 - val_loss: 0.3021 - val_mean_absolute_error: 0.4071\n",
      "Epoch 38/500\n",
      "5/5 [==============================] - 0s 17ms/step - loss: 0.1376 - mean_absolute_error: 0.2654 - val_loss: 0.3182 - val_mean_absolute_error: 0.3816\n",
      "Epoch 39/500\n",
      "5/5 [==============================] - 0s 17ms/step - loss: 0.1255 - mean_absolute_error: 0.2598 - val_loss: 0.3483 - val_mean_absolute_error: 0.3806\n",
      "Epoch 40/500\n",
      "5/5 [==============================] - 0s 15ms/step - loss: 0.1307 - mean_absolute_error: 0.2659 - val_loss: 0.3468 - val_mean_absolute_error: 0.3936\n",
      "Epoch 41/500\n",
      "5/5 [==============================] - 0s 16ms/step - loss: 0.1117 - mean_absolute_error: 0.2297 - val_loss: 0.3197 - val_mean_absolute_error: 0.3774\n",
      "Epoch 42/500\n",
      "5/5 [==============================] - 0s 15ms/step - loss: 0.1004 - mean_absolute_error: 0.2221 - val_loss: 0.3044 - val_mean_absolute_error: 0.3613\n",
      "Epoch 43/500\n",
      "5/5 [==============================] - 0s 13ms/step - loss: 0.1171 - mean_absolute_error: 0.2452 - val_loss: 0.2744 - val_mean_absolute_error: 0.3517\n",
      "Epoch 44/500\n",
      "5/5 [==============================] - 0s 10ms/step - loss: 0.1087 - mean_absolute_error: 0.2452 - val_loss: 0.2976 - val_mean_absolute_error: 0.3564\n",
      "Epoch 45/500\n",
      "5/5 [==============================] - 0s 10ms/step - loss: 0.0961 - mean_absolute_error: 0.2227 - val_loss: 0.2321 - val_mean_absolute_error: 0.3280\n",
      "Epoch 46/500\n",
      "5/5 [==============================] - 0s 9ms/step - loss: 0.0977 - mean_absolute_error: 0.2339 - val_loss: 0.2694 - val_mean_absolute_error: 0.3707\n",
      "Epoch 47/500\n",
      "5/5 [==============================] - 0s 11ms/step - loss: 0.0847 - mean_absolute_error: 0.2116 - val_loss: 0.2090 - val_mean_absolute_error: 0.3337\n",
      "Epoch 48/500\n",
      "5/5 [==============================] - 0s 11ms/step - loss: 0.0929 - mean_absolute_error: 0.2244 - val_loss: 0.2342 - val_mean_absolute_error: 0.3552\n",
      "Epoch 49/500\n",
      "5/5 [==============================] - 0s 12ms/step - loss: 0.0854 - mean_absolute_error: 0.2103 - val_loss: 0.2560 - val_mean_absolute_error: 0.3452\n",
      "Epoch 50/500\n",
      "5/5 [==============================] - 0s 14ms/step - loss: 0.0786 - mean_absolute_error: 0.2024 - val_loss: 0.3633 - val_mean_absolute_error: 0.3814\n",
      "Epoch 51/500\n",
      "5/5 [==============================] - 0s 15ms/step - loss: 0.0670 - mean_absolute_error: 0.1843 - val_loss: 0.3763 - val_mean_absolute_error: 0.4028\n",
      "Epoch 52/500\n",
      "5/5 [==============================] - 0s 19ms/step - loss: 0.0709 - mean_absolute_error: 0.1859 - val_loss: 0.2498 - val_mean_absolute_error: 0.3360\n",
      "Epoch 53/500\n",
      "5/5 [==============================] - 0s 18ms/step - loss: 0.0703 - mean_absolute_error: 0.1950 - val_loss: 0.3651 - val_mean_absolute_error: 0.4356\n",
      "Epoch 54/500\n",
      "5/5 [==============================] - 0s 14ms/step - loss: 0.0860 - mean_absolute_error: 0.2160 - val_loss: 0.2294 - val_mean_absolute_error: 0.3230\n",
      "Epoch 55/500\n",
      "5/5 [==============================] - 0s 15ms/step - loss: 0.0721 - mean_absolute_error: 0.1924 - val_loss: 0.4111 - val_mean_absolute_error: 0.4167\n",
      "Epoch 56/500\n",
      "5/5 [==============================] - 0s 15ms/step - loss: 0.0766 - mean_absolute_error: 0.1987 - val_loss: 0.2977 - val_mean_absolute_error: 0.3579\n",
      "Epoch 57/500\n",
      "5/5 [==============================] - 0s 17ms/step - loss: 0.0757 - mean_absolute_error: 0.2030 - val_loss: 0.2695 - val_mean_absolute_error: 0.3395\n",
      "Epoch 58/500\n",
      "5/5 [==============================] - 0s 16ms/step - loss: 0.0578 - mean_absolute_error: 0.1857 - val_loss: 0.2938 - val_mean_absolute_error: 0.3714\n",
      "Epoch 59/500\n",
      "5/5 [==============================] - 0s 13ms/step - loss: 0.0642 - mean_absolute_error: 0.1880 - val_loss: 0.2643 - val_mean_absolute_error: 0.3328\n",
      "Epoch 60/500\n",
      "5/5 [==============================] - 0s 16ms/step - loss: 0.0466 - mean_absolute_error: 0.1546 - val_loss: 0.2692 - val_mean_absolute_error: 0.3331\n",
      "Epoch 61/500\n",
      "5/5 [==============================] - 0s 17ms/step - loss: 0.0435 - mean_absolute_error: 0.1497 - val_loss: 0.2721 - val_mean_absolute_error: 0.3485\n",
      "Epoch 62/500\n",
      "5/5 [==============================] - 0s 17ms/step - loss: 0.0448 - mean_absolute_error: 0.1503 - val_loss: 0.2278 - val_mean_absolute_error: 0.3052\n",
      "Epoch 63/500\n",
      "5/5 [==============================] - 0s 17ms/step - loss: 0.0494 - mean_absolute_error: 0.1714 - val_loss: 0.2772 - val_mean_absolute_error: 0.3646\n",
      "Epoch 64/500\n",
      "5/5 [==============================] - 0s 22ms/step - loss: 0.0449 - mean_absolute_error: 0.1609 - val_loss: 0.2321 - val_mean_absolute_error: 0.3064\n",
      "Epoch 65/500\n",
      "5/5 [==============================] - 0s 16ms/step - loss: 0.0408 - mean_absolute_error: 0.1477 - val_loss: 0.2570 - val_mean_absolute_error: 0.3381\n",
      "Epoch 66/500\n",
      "5/5 [==============================] - 0s 16ms/step - loss: 0.0389 - mean_absolute_error: 0.1436 - val_loss: 0.2673 - val_mean_absolute_error: 0.3366\n",
      "Epoch 67/500\n",
      "5/5 [==============================] - 0s 13ms/step - loss: 0.0317 - mean_absolute_error: 0.1263 - val_loss: 0.2488 - val_mean_absolute_error: 0.3373\n",
      "Epoch 68/500\n",
      "5/5 [==============================] - 0s 16ms/step - loss: 0.0383 - mean_absolute_error: 0.1316 - val_loss: 0.2366 - val_mean_absolute_error: 0.3269\n",
      "Epoch 69/500\n",
      "5/5 [==============================] - 0s 18ms/step - loss: 0.0500 - mean_absolute_error: 0.1771 - val_loss: 0.3093 - val_mean_absolute_error: 0.3994\n",
      "Epoch 70/500\n",
      "5/5 [==============================] - 0s 25ms/step - loss: 0.0573 - mean_absolute_error: 0.1834 - val_loss: 0.2802 - val_mean_absolute_error: 0.3573\n",
      "Epoch 71/500\n",
      "5/5 [==============================] - 0s 21ms/step - loss: 0.0573 - mean_absolute_error: 0.1896 - val_loss: 0.2402 - val_mean_absolute_error: 0.3177\n",
      "Epoch 72/500\n",
      "5/5 [==============================] - 0s 17ms/step - loss: 0.0579 - mean_absolute_error: 0.1896 - val_loss: 0.2380 - val_mean_absolute_error: 0.3249\n",
      "Epoch 73/500\n",
      "5/5 [==============================] - 0s 17ms/step - loss: 0.0524 - mean_absolute_error: 0.1719 - val_loss: 0.2859 - val_mean_absolute_error: 0.3563\n",
      "Epoch 74/500\n",
      "5/5 [==============================] - 0s 14ms/step - loss: 0.0438 - mean_absolute_error: 0.1482 - val_loss: 0.2187 - val_mean_absolute_error: 0.3210\n",
      "Epoch 75/500\n",
      "5/5 [==============================] - 0s 17ms/step - loss: 0.0430 - mean_absolute_error: 0.1476 - val_loss: 0.2274 - val_mean_absolute_error: 0.3382\n",
      "Epoch 76/500\n",
      "5/5 [==============================] - 0s 18ms/step - loss: 0.0388 - mean_absolute_error: 0.1448 - val_loss: 0.2300 - val_mean_absolute_error: 0.3342\n",
      "Epoch 77/500\n",
      "5/5 [==============================] - 0s 19ms/step - loss: 0.0348 - mean_absolute_error: 0.1296 - val_loss: 0.2224 - val_mean_absolute_error: 0.3334\n",
      "Epoch 78/500\n",
      "5/5 [==============================] - 0s 17ms/step - loss: 0.0411 - mean_absolute_error: 0.1430 - val_loss: 0.2335 - val_mean_absolute_error: 0.3464\n",
      "Epoch 79/500\n",
      "5/5 [==============================] - 0s 20ms/step - loss: 0.0632 - mean_absolute_error: 0.1834 - val_loss: 0.2106 - val_mean_absolute_error: 0.3432\n",
      "Epoch 80/500\n",
      "5/5 [==============================] - 0s 17ms/step - loss: 0.0483 - mean_absolute_error: 0.1599 - val_loss: 0.1807 - val_mean_absolute_error: 0.3081\n",
      "Epoch 81/500\n",
      "5/5 [==============================] - 0s 14ms/step - loss: 0.0417 - mean_absolute_error: 0.1444 - val_loss: 0.2307 - val_mean_absolute_error: 0.3332\n",
      "Epoch 82/500\n",
      "5/5 [==============================] - 0s 17ms/step - loss: 0.0429 - mean_absolute_error: 0.1483 - val_loss: 0.2008 - val_mean_absolute_error: 0.2946\n",
      "Epoch 83/500\n",
      "5/5 [==============================] - 0s 15ms/step - loss: 0.0426 - mean_absolute_error: 0.1512 - val_loss: 0.2165 - val_mean_absolute_error: 0.3052\n",
      "Epoch 84/500\n",
      "5/5 [==============================] - 0s 33ms/step - loss: 0.0386 - mean_absolute_error: 0.1501 - val_loss: 0.2633 - val_mean_absolute_error: 0.3662\n",
      "Epoch 85/500\n",
      "5/5 [==============================] - 0s 18ms/step - loss: 0.0501 - mean_absolute_error: 0.1742 - val_loss: 0.1663 - val_mean_absolute_error: 0.2943\n",
      "Epoch 86/500\n",
      "5/5 [==============================] - 0s 19ms/step - loss: 0.0512 - mean_absolute_error: 0.1546 - val_loss: 0.2216 - val_mean_absolute_error: 0.3334\n",
      "Epoch 87/500\n",
      "5/5 [==============================] - 0s 23ms/step - loss: 0.0541 - mean_absolute_error: 0.1544 - val_loss: 0.2443 - val_mean_absolute_error: 0.3523\n",
      "Epoch 88/500\n",
      "5/5 [==============================] - 0s 22ms/step - loss: 0.0527 - mean_absolute_error: 0.1637 - val_loss: 0.2248 - val_mean_absolute_error: 0.3397\n",
      "Epoch 89/500\n",
      "5/5 [==============================] - 0s 13ms/step - loss: 0.0491 - mean_absolute_error: 0.1695 - val_loss: 0.2713 - val_mean_absolute_error: 0.3613\n",
      "Epoch 90/500\n",
      "5/5 [==============================] - 0s 14ms/step - loss: 0.0424 - mean_absolute_error: 0.1503 - val_loss: 0.2027 - val_mean_absolute_error: 0.3155\n",
      "Epoch 91/500\n",
      "5/5 [==============================] - 0s 14ms/step - loss: 0.0356 - mean_absolute_error: 0.1377 - val_loss: 0.2507 - val_mean_absolute_error: 0.3482\n",
      "Epoch 92/500\n",
      "5/5 [==============================] - 0s 15ms/step - loss: 0.0297 - mean_absolute_error: 0.1223 - val_loss: 0.1938 - val_mean_absolute_error: 0.2932\n",
      "Epoch 93/500\n",
      "5/5 [==============================] - 0s 18ms/step - loss: 0.0331 - mean_absolute_error: 0.1379 - val_loss: 0.2165 - val_mean_absolute_error: 0.3227\n",
      "Epoch 94/500\n",
      "5/5 [==============================] - 0s 17ms/step - loss: 0.0315 - mean_absolute_error: 0.1289 - val_loss: 0.1960 - val_mean_absolute_error: 0.2978\n",
      "Epoch 95/500\n",
      "5/5 [==============================] - 0s 18ms/step - loss: 0.0282 - mean_absolute_error: 0.1171 - val_loss: 0.2344 - val_mean_absolute_error: 0.3286\n",
      "Epoch 96/500\n",
      "5/5 [==============================] - 0s 16ms/step - loss: 0.0343 - mean_absolute_error: 0.1280 - val_loss: 0.2202 - val_mean_absolute_error: 0.3108\n",
      "Epoch 97/500\n",
      "5/5 [==============================] - 0s 19ms/step - loss: 0.0263 - mean_absolute_error: 0.1168 - val_loss: 0.2525 - val_mean_absolute_error: 0.3376\n",
      "Epoch 98/500\n",
      "5/5 [==============================] - 0s 13ms/step - loss: 0.0319 - mean_absolute_error: 0.1226 - val_loss: 0.2069 - val_mean_absolute_error: 0.3225\n",
      "Epoch 99/500\n",
      "5/5 [==============================] - 0s 15ms/step - loss: 0.0259 - mean_absolute_error: 0.1123 - val_loss: 0.2192 - val_mean_absolute_error: 0.3396\n",
      "Epoch 100/500\n",
      "5/5 [==============================] - 0s 13ms/step - loss: 0.0278 - mean_absolute_error: 0.1215 - val_loss: 0.2734 - val_mean_absolute_error: 0.3602\n",
      "Epoch 101/500\n",
      "5/5 [==============================] - 0s 12ms/step - loss: 0.0330 - mean_absolute_error: 0.1311 - val_loss: 0.2810 - val_mean_absolute_error: 0.3776\n",
      "Epoch 102/500\n",
      "5/5 [==============================] - 0s 12ms/step - loss: 0.0347 - mean_absolute_error: 0.1404 - val_loss: 0.2181 - val_mean_absolute_error: 0.3348\n",
      "Epoch 103/500\n",
      "5/5 [==============================] - 0s 11ms/step - loss: 0.0303 - mean_absolute_error: 0.1298 - val_loss: 0.2392 - val_mean_absolute_error: 0.3437\n",
      "Epoch 104/500\n",
      "5/5 [==============================] - 0s 12ms/step - loss: 0.0248 - mean_absolute_error: 0.1095 - val_loss: 0.2188 - val_mean_absolute_error: 0.3212\n",
      "Epoch 105/500\n",
      "5/5 [==============================] - 0s 13ms/step - loss: 0.0224 - mean_absolute_error: 0.1059 - val_loss: 0.2290 - val_mean_absolute_error: 0.3223\n",
      "Epoch 106/500\n",
      "5/5 [==============================] - 0s 13ms/step - loss: 0.0220 - mean_absolute_error: 0.0959 - val_loss: 0.2177 - val_mean_absolute_error: 0.3200\n",
      "Epoch 107/500\n",
      "5/5 [==============================] - 0s 33ms/step - loss: 0.0173 - mean_absolute_error: 0.0847 - val_loss: 0.2080 - val_mean_absolute_error: 0.3171\n",
      "Epoch 108/500\n",
      "5/5 [==============================] - 0s 13ms/step - loss: 0.0162 - mean_absolute_error: 0.0828 - val_loss: 0.2147 - val_mean_absolute_error: 0.3101\n",
      "Epoch 109/500\n",
      "5/5 [==============================] - 0s 14ms/step - loss: 0.0179 - mean_absolute_error: 0.0927 - val_loss: 0.2414 - val_mean_absolute_error: 0.3266\n",
      "Epoch 110/500\n",
      "5/5 [==============================] - 0s 13ms/step - loss: 0.0176 - mean_absolute_error: 0.0935 - val_loss: 0.2284 - val_mean_absolute_error: 0.3187\n",
      "Epoch 111/500\n",
      "5/5 [==============================] - 0s 9ms/step - loss: 0.0165 - mean_absolute_error: 0.0860 - val_loss: 0.2541 - val_mean_absolute_error: 0.3348\n",
      "Epoch 112/500\n",
      "5/5 [==============================] - 0s 10ms/step - loss: 0.0153 - mean_absolute_error: 0.0814 - val_loss: 0.2252 - val_mean_absolute_error: 0.3260\n",
      "Epoch 113/500\n",
      "5/5 [==============================] - 0s 10ms/step - loss: 0.0163 - mean_absolute_error: 0.0874 - val_loss: 0.2318 - val_mean_absolute_error: 0.3250\n",
      "Epoch 114/500\n",
      "5/5 [==============================] - 0s 11ms/step - loss: 0.0184 - mean_absolute_error: 0.0943 - val_loss: 0.2176 - val_mean_absolute_error: 0.3256\n",
      "Epoch 115/500\n",
      "5/5 [==============================] - 0s 10ms/step - loss: 0.0226 - mean_absolute_error: 0.1089 - val_loss: 0.2368 - val_mean_absolute_error: 0.3432\n",
      "Epoch 116/500\n",
      "5/5 [==============================] - 0s 10ms/step - loss: 0.0267 - mean_absolute_error: 0.1276 - val_loss: 0.2369 - val_mean_absolute_error: 0.3296\n",
      "Epoch 117/500\n",
      "5/5 [==============================] - 0s 14ms/step - loss: 0.0257 - mean_absolute_error: 0.1174 - val_loss: 0.2427 - val_mean_absolute_error: 0.3361\n",
      "Epoch 118/500\n",
      "5/5 [==============================] - 0s 14ms/step - loss: 0.0272 - mean_absolute_error: 0.1133 - val_loss: 0.2494 - val_mean_absolute_error: 0.3419\n",
      "Epoch 119/500\n",
      "5/5 [==============================] - 0s 11ms/step - loss: 0.0237 - mean_absolute_error: 0.0998 - val_loss: 0.1880 - val_mean_absolute_error: 0.3055\n",
      "Epoch 120/500\n",
      "5/5 [==============================] - 0s 10ms/step - loss: 0.0379 - mean_absolute_error: 0.1336 - val_loss: 0.2775 - val_mean_absolute_error: 0.3958\n",
      "Epoch 121/500\n",
      "5/5 [==============================] - 0s 10ms/step - loss: 0.0563 - mean_absolute_error: 0.1846 - val_loss: 0.1640 - val_mean_absolute_error: 0.2916\n",
      "Epoch 122/500\n",
      "5/5 [==============================] - 0s 11ms/step - loss: 0.0451 - mean_absolute_error: 0.1555 - val_loss: 0.1484 - val_mean_absolute_error: 0.2735\n",
      "Epoch 123/500\n",
      "5/5 [==============================] - 0s 10ms/step - loss: 0.0304 - mean_absolute_error: 0.1309 - val_loss: 0.1806 - val_mean_absolute_error: 0.3147\n",
      "Epoch 124/500\n",
      "5/5 [==============================] - 0s 10ms/step - loss: 0.0378 - mean_absolute_error: 0.1473 - val_loss: 0.1815 - val_mean_absolute_error: 0.3048\n",
      "Epoch 125/500\n",
      "5/5 [==============================] - 0s 10ms/step - loss: 0.0519 - mean_absolute_error: 0.1575 - val_loss: 0.1968 - val_mean_absolute_error: 0.3083\n",
      "Epoch 126/500\n",
      "5/5 [==============================] - 0s 11ms/step - loss: 0.0491 - mean_absolute_error: 0.1622 - val_loss: 0.1786 - val_mean_absolute_error: 0.2871\n",
      "Epoch 127/500\n",
      "5/5 [==============================] - 0s 10ms/step - loss: 0.0408 - mean_absolute_error: 0.1443 - val_loss: 0.2053 - val_mean_absolute_error: 0.3125\n",
      "Epoch 128/500\n",
      "5/5 [==============================] - 0s 10ms/step - loss: 0.0304 - mean_absolute_error: 0.1249 - val_loss: 0.2596 - val_mean_absolute_error: 0.3463\n",
      "Epoch 129/500\n",
      "5/5 [==============================] - 0s 10ms/step - loss: 0.0267 - mean_absolute_error: 0.1103 - val_loss: 0.2373 - val_mean_absolute_error: 0.3379\n",
      "Epoch 130/500\n",
      "5/5 [==============================] - 0s 10ms/step - loss: 0.0237 - mean_absolute_error: 0.1108 - val_loss: 0.2304 - val_mean_absolute_error: 0.3131\n",
      "Epoch 131/500\n",
      "5/5 [==============================] - 0s 11ms/step - loss: 0.0270 - mean_absolute_error: 0.1213 - val_loss: 0.2421 - val_mean_absolute_error: 0.3331\n",
      "Epoch 132/500\n",
      "5/5 [==============================] - 0s 10ms/step - loss: 0.0259 - mean_absolute_error: 0.1163 - val_loss: 0.2042 - val_mean_absolute_error: 0.3024\n",
      "Epoch 133/500\n",
      "5/5 [==============================] - 0s 10ms/step - loss: 0.0309 - mean_absolute_error: 0.1248 - val_loss: 0.2366 - val_mean_absolute_error: 0.3318\n",
      "Epoch 134/500\n",
      "5/5 [==============================] - 0s 11ms/step - loss: 0.0189 - mean_absolute_error: 0.0999 - val_loss: 0.2158 - val_mean_absolute_error: 0.3077\n",
      "Epoch 135/500\n",
      "5/5 [==============================] - 0s 10ms/step - loss: 0.0224 - mean_absolute_error: 0.1063 - val_loss: 0.1992 - val_mean_absolute_error: 0.3038\n",
      "Epoch 136/500\n",
      "5/5 [==============================] - 0s 11ms/step - loss: 0.0189 - mean_absolute_error: 0.0989 - val_loss: 0.2623 - val_mean_absolute_error: 0.3354\n",
      "Epoch 137/500\n",
      "5/5 [==============================] - 0s 13ms/step - loss: 0.0181 - mean_absolute_error: 0.0922 - val_loss: 0.2416 - val_mean_absolute_error: 0.3161\n",
      "Epoch 138/500\n",
      "5/5 [==============================] - 0s 13ms/step - loss: 0.0183 - mean_absolute_error: 0.0920 - val_loss: 0.2308 - val_mean_absolute_error: 0.3237\n",
      "Epoch 139/500\n",
      "5/5 [==============================] - 0s 16ms/step - loss: 0.0180 - mean_absolute_error: 0.0972 - val_loss: 0.2420 - val_mean_absolute_error: 0.3270\n",
      "Epoch 140/500\n",
      "5/5 [==============================] - 0s 18ms/step - loss: 0.0183 - mean_absolute_error: 0.1040 - val_loss: 0.2151 - val_mean_absolute_error: 0.3036\n",
      "Epoch 141/500\n",
      "5/5 [==============================] - 0s 29ms/step - loss: 0.0203 - mean_absolute_error: 0.1006 - val_loss: 0.2284 - val_mean_absolute_error: 0.3217\n",
      "Epoch 142/500\n",
      "5/5 [==============================] - 0s 16ms/step - loss: 0.0187 - mean_absolute_error: 0.0859 - val_loss: 0.2195 - val_mean_absolute_error: 0.3194\n",
      "Epoch 143/500\n",
      "5/5 [==============================] - 0s 16ms/step - loss: 0.0224 - mean_absolute_error: 0.1090 - val_loss: 0.2386 - val_mean_absolute_error: 0.3314\n",
      "Epoch 144/500\n",
      "5/5 [==============================] - 0s 15ms/step - loss: 0.0200 - mean_absolute_error: 0.1044 - val_loss: 0.1900 - val_mean_absolute_error: 0.2931\n",
      "Epoch 145/500\n",
      "5/5 [==============================] - 0s 28ms/step - loss: 0.0189 - mean_absolute_error: 0.0946 - val_loss: 0.2063 - val_mean_absolute_error: 0.3072\n",
      "Epoch 146/500\n",
      "5/5 [==============================] - 0s 20ms/step - loss: 0.0139 - mean_absolute_error: 0.0774 - val_loss: 0.2047 - val_mean_absolute_error: 0.3009\n",
      "Epoch 147/500\n",
      "5/5 [==============================] - 0s 18ms/step - loss: 0.0128 - mean_absolute_error: 0.0734 - val_loss: 0.2232 - val_mean_absolute_error: 0.3157\n",
      "Epoch 148/500\n",
      "5/5 [==============================] - 0s 21ms/step - loss: 0.0129 - mean_absolute_error: 0.0754 - val_loss: 0.2244 - val_mean_absolute_error: 0.3227\n",
      "Epoch 149/500\n",
      "5/5 [==============================] - 0s 19ms/step - loss: 0.0123 - mean_absolute_error: 0.0800 - val_loss: 0.2144 - val_mean_absolute_error: 0.3054\n",
      "Epoch 150/500\n",
      "5/5 [==============================] - 0s 21ms/step - loss: 0.0182 - mean_absolute_error: 0.0864 - val_loss: 0.2140 - val_mean_absolute_error: 0.3130\n",
      "Epoch 151/500\n",
      "5/5 [==============================] - 0s 34ms/step - loss: 0.0459 - mean_absolute_error: 0.1495 - val_loss: 0.2460 - val_mean_absolute_error: 0.3496\n",
      "Epoch 152/500\n",
      "5/5 [==============================] - 0s 19ms/step - loss: 0.0527 - mean_absolute_error: 0.1829 - val_loss: 0.2084 - val_mean_absolute_error: 0.3057\n",
      "Epoch 153/500\n",
      "5/5 [==============================] - 0s 17ms/step - loss: 0.0333 - mean_absolute_error: 0.1253 - val_loss: 0.2041 - val_mean_absolute_error: 0.3061\n",
      "Epoch 154/500\n",
      "5/5 [==============================] - 0s 24ms/step - loss: 0.0273 - mean_absolute_error: 0.1208 - val_loss: 0.2048 - val_mean_absolute_error: 0.3131\n",
      "Epoch 155/500\n",
      "5/5 [==============================] - 0s 18ms/step - loss: 0.0237 - mean_absolute_error: 0.1113 - val_loss: 0.1917 - val_mean_absolute_error: 0.3041\n",
      "Epoch 156/500\n",
      "5/5 [==============================] - 0s 15ms/step - loss: 0.0219 - mean_absolute_error: 0.1034 - val_loss: 0.1675 - val_mean_absolute_error: 0.2755\n",
      "Epoch 157/500\n",
      "5/5 [==============================] - 0s 11ms/step - loss: 0.0212 - mean_absolute_error: 0.0968 - val_loss: 0.1637 - val_mean_absolute_error: 0.2705\n",
      "Epoch 158/500\n",
      "5/5 [==============================] - 0s 18ms/step - loss: 0.0249 - mean_absolute_error: 0.1088 - val_loss: 0.2076 - val_mean_absolute_error: 0.3180\n",
      "Epoch 159/500\n",
      "5/5 [==============================] - 0s 33ms/step - loss: 0.0298 - mean_absolute_error: 0.1289 - val_loss: 0.1726 - val_mean_absolute_error: 0.2962\n",
      "Epoch 160/500\n",
      "5/5 [==============================] - 0s 14ms/step - loss: 0.0223 - mean_absolute_error: 0.1061 - val_loss: 0.1763 - val_mean_absolute_error: 0.3053\n",
      "Epoch 161/500\n",
      "5/5 [==============================] - 0s 14ms/step - loss: 0.0257 - mean_absolute_error: 0.1133 - val_loss: 0.2014 - val_mean_absolute_error: 0.3134\n",
      "Epoch 162/500\n",
      "5/5 [==============================] - 0s 15ms/step - loss: 0.0221 - mean_absolute_error: 0.1005 - val_loss: 0.1583 - val_mean_absolute_error: 0.2766\n",
      "Epoch 163/500\n",
      "5/5 [==============================] - 0s 15ms/step - loss: 0.0238 - mean_absolute_error: 0.0974 - val_loss: 0.1848 - val_mean_absolute_error: 0.2930\n",
      "Epoch 164/500\n",
      "5/5 [==============================] - 0s 13ms/step - loss: 0.0222 - mean_absolute_error: 0.0999 - val_loss: 0.1675 - val_mean_absolute_error: 0.2812\n",
      "Epoch 165/500\n",
      "5/5 [==============================] - 0s 12ms/step - loss: 0.0189 - mean_absolute_error: 0.0919 - val_loss: 0.1873 - val_mean_absolute_error: 0.2943\n",
      "Epoch 166/500\n",
      "5/5 [==============================] - 0s 14ms/step - loss: 0.0177 - mean_absolute_error: 0.0943 - val_loss: 0.1707 - val_mean_absolute_error: 0.2909\n",
      "Epoch 167/500\n",
      "5/5 [==============================] - 0s 15ms/step - loss: 0.0204 - mean_absolute_error: 0.0934 - val_loss: 0.1941 - val_mean_absolute_error: 0.3116\n",
      "Epoch 168/500\n",
      "5/5 [==============================] - 0s 10ms/step - loss: 0.0172 - mean_absolute_error: 0.0973 - val_loss: 0.1891 - val_mean_absolute_error: 0.3122\n",
      "Epoch 169/500\n",
      "5/5 [==============================] - 0s 10ms/step - loss: 0.0186 - mean_absolute_error: 0.1061 - val_loss: 0.1808 - val_mean_absolute_error: 0.2891\n",
      "Epoch 170/500\n",
      "5/5 [==============================] - 0s 12ms/step - loss: 0.0196 - mean_absolute_error: 0.1084 - val_loss: 0.1847 - val_mean_absolute_error: 0.2938\n",
      "Epoch 171/500\n",
      "5/5 [==============================] - 0s 10ms/step - loss: 0.0224 - mean_absolute_error: 0.1080 - val_loss: 0.1847 - val_mean_absolute_error: 0.2945\n",
      "Epoch 172/500\n",
      "5/5 [==============================] - 0s 9ms/step - loss: 0.0249 - mean_absolute_error: 0.1180 - val_loss: 0.1786 - val_mean_absolute_error: 0.2973\n",
      "Epoch 173/500\n",
      "5/5 [==============================] - 0s 10ms/step - loss: 0.0251 - mean_absolute_error: 0.1211 - val_loss: 0.1497 - val_mean_absolute_error: 0.2732\n",
      "Epoch 174/500\n",
      "5/5 [==============================] - 0s 11ms/step - loss: 0.0263 - mean_absolute_error: 0.1202 - val_loss: 0.1497 - val_mean_absolute_error: 0.2787\n",
      "Epoch 175/500\n",
      "5/5 [==============================] - 0s 10ms/step - loss: 0.0259 - mean_absolute_error: 0.1180 - val_loss: 0.1519 - val_mean_absolute_error: 0.2759\n",
      "Epoch 176/500\n",
      "5/5 [==============================] - 0s 11ms/step - loss: 0.0222 - mean_absolute_error: 0.1095 - val_loss: 0.1900 - val_mean_absolute_error: 0.3058\n",
      "Epoch 177/500\n",
      "5/5 [==============================] - 0s 10ms/step - loss: 0.0210 - mean_absolute_error: 0.1031 - val_loss: 0.1887 - val_mean_absolute_error: 0.3147\n",
      "Epoch 178/500\n",
      "5/5 [==============================] - 0s 10ms/step - loss: 0.0187 - mean_absolute_error: 0.0965 - val_loss: 0.2166 - val_mean_absolute_error: 0.3354\n",
      "Epoch 179/500\n",
      "5/5 [==============================] - 0s 11ms/step - loss: 0.0179 - mean_absolute_error: 0.0985 - val_loss: 0.1846 - val_mean_absolute_error: 0.2905\n",
      "Epoch 180/500\n",
      "5/5 [==============================] - 0s 10ms/step - loss: 0.0153 - mean_absolute_error: 0.0892 - val_loss: 0.2261 - val_mean_absolute_error: 0.3090\n",
      "Epoch 181/500\n",
      "5/5 [==============================] - 0s 10ms/step - loss: 0.0161 - mean_absolute_error: 0.0859 - val_loss: 0.2056 - val_mean_absolute_error: 0.2944\n",
      "Epoch 182/500\n",
      "5/5 [==============================] - 0s 10ms/step - loss: 0.0124 - mean_absolute_error: 0.0789 - val_loss: 0.1876 - val_mean_absolute_error: 0.2822\n",
      "Epoch 183/500\n",
      "5/5 [==============================] - 0s 11ms/step - loss: 0.0162 - mean_absolute_error: 0.0909 - val_loss: 0.1951 - val_mean_absolute_error: 0.2905\n",
      "Epoch 184/500\n",
      "5/5 [==============================] - 0s 12ms/step - loss: 0.0136 - mean_absolute_error: 0.0771 - val_loss: 0.2088 - val_mean_absolute_error: 0.3072\n",
      "Epoch 185/500\n",
      "5/5 [==============================] - 0s 10ms/step - loss: 0.0106 - mean_absolute_error: 0.0677 - val_loss: 0.1870 - val_mean_absolute_error: 0.2826\n",
      "Epoch 186/500\n",
      "5/5 [==============================] - 0s 10ms/step - loss: 0.0117 - mean_absolute_error: 0.0714 - val_loss: 0.1943 - val_mean_absolute_error: 0.2913\n",
      "Epoch 187/500\n",
      "5/5 [==============================] - 0s 12ms/step - loss: 0.0101 - mean_absolute_error: 0.0679 - val_loss: 0.2029 - val_mean_absolute_error: 0.2961\n",
      "Epoch 188/500\n",
      "5/5 [==============================] - 0s 16ms/step - loss: 0.0112 - mean_absolute_error: 0.0712 - val_loss: 0.1995 - val_mean_absolute_error: 0.2912\n",
      "Epoch 189/500\n",
      "5/5 [==============================] - 0s 12ms/step - loss: 0.0100 - mean_absolute_error: 0.0712 - val_loss: 0.1949 - val_mean_absolute_error: 0.2944\n",
      "Epoch 190/500\n",
      "5/5 [==============================] - 0s 10ms/step - loss: 0.0115 - mean_absolute_error: 0.0751 - val_loss: 0.1836 - val_mean_absolute_error: 0.2799\n",
      "Epoch 191/500\n",
      "5/5 [==============================] - 0s 10ms/step - loss: 0.0115 - mean_absolute_error: 0.0768 - val_loss: 0.2199 - val_mean_absolute_error: 0.3080\n",
      "Epoch 192/500\n",
      "5/5 [==============================] - 0s 10ms/step - loss: 0.0151 - mean_absolute_error: 0.0986 - val_loss: 0.2260 - val_mean_absolute_error: 0.3208\n",
      "Epoch 193/500\n",
      "5/5 [==============================] - 0s 10ms/step - loss: 0.0148 - mean_absolute_error: 0.0977 - val_loss: 0.2128 - val_mean_absolute_error: 0.2920\n",
      "Epoch 194/500\n",
      "5/5 [==============================] - 0s 9ms/step - loss: 0.0169 - mean_absolute_error: 0.0992 - val_loss: 0.2208 - val_mean_absolute_error: 0.3129\n",
      "Epoch 195/500\n",
      "5/5 [==============================] - 0s 10ms/step - loss: 0.0195 - mean_absolute_error: 0.1087 - val_loss: 0.1824 - val_mean_absolute_error: 0.2895\n",
      "Epoch 196/500\n",
      "5/5 [==============================] - 0s 10ms/step - loss: 0.0186 - mean_absolute_error: 0.1029 - val_loss: 0.1887 - val_mean_absolute_error: 0.2885\n",
      "Epoch 197/500\n",
      "5/5 [==============================] - 0s 10ms/step - loss: 0.0302 - mean_absolute_error: 0.1210 - val_loss: 0.2368 - val_mean_absolute_error: 0.3313\n",
      "Epoch 198/500\n",
      "5/5 [==============================] - 0s 10ms/step - loss: 0.0214 - mean_absolute_error: 0.1152 - val_loss: 0.1743 - val_mean_absolute_error: 0.2810\n",
      "Epoch 199/500\n",
      "5/5 [==============================] - 0s 10ms/step - loss: 0.0193 - mean_absolute_error: 0.0999 - val_loss: 0.1701 - val_mean_absolute_error: 0.2907\n",
      "Epoch 200/500\n",
      "5/5 [==============================] - 0s 9ms/step - loss: 0.0343 - mean_absolute_error: 0.1294 - val_loss: 0.1909 - val_mean_absolute_error: 0.3088\n",
      "Epoch 201/500\n",
      "5/5 [==============================] - 0s 10ms/step - loss: 0.0322 - mean_absolute_error: 0.1405 - val_loss: 0.1893 - val_mean_absolute_error: 0.2943\n",
      "Epoch 202/500\n",
      "5/5 [==============================] - 0s 10ms/step - loss: 0.0281 - mean_absolute_error: 0.1254 - val_loss: 0.1766 - val_mean_absolute_error: 0.2849\n",
      "Epoch 203/500\n",
      "5/5 [==============================] - 0s 11ms/step - loss: 0.0372 - mean_absolute_error: 0.1517 - val_loss: 0.2336 - val_mean_absolute_error: 0.3614\n",
      "Epoch 204/500\n",
      "5/5 [==============================] - 0s 11ms/step - loss: 0.0256 - mean_absolute_error: 0.1195 - val_loss: 0.1838 - val_mean_absolute_error: 0.2890\n",
      "Epoch 205/500\n",
      "5/5 [==============================] - 0s 10ms/step - loss: 0.0280 - mean_absolute_error: 0.1173 - val_loss: 0.1981 - val_mean_absolute_error: 0.3098\n",
      "Epoch 206/500\n",
      "5/5 [==============================] - 0s 10ms/step - loss: 0.0205 - mean_absolute_error: 0.1062 - val_loss: 0.2145 - val_mean_absolute_error: 0.3039\n",
      "Epoch 207/500\n",
      "5/5 [==============================] - 0s 9ms/step - loss: 0.0242 - mean_absolute_error: 0.1104 - val_loss: 0.2310 - val_mean_absolute_error: 0.3165\n",
      "Epoch 208/500\n",
      "5/5 [==============================] - 0s 21ms/step - loss: 0.0240 - mean_absolute_error: 0.1220 - val_loss: 0.2317 - val_mean_absolute_error: 0.3095\n",
      "Epoch 209/500\n",
      "5/5 [==============================] - 0s 11ms/step - loss: 0.0237 - mean_absolute_error: 0.1164 - val_loss: 0.1931 - val_mean_absolute_error: 0.2867\n",
      "Epoch 210/500\n",
      "5/5 [==============================] - 0s 10ms/step - loss: 0.0198 - mean_absolute_error: 0.1005 - val_loss: 0.1900 - val_mean_absolute_error: 0.2858\n",
      "Epoch 211/500\n",
      "5/5 [==============================] - 0s 10ms/step - loss: 0.0168 - mean_absolute_error: 0.0958 - val_loss: 0.2124 - val_mean_absolute_error: 0.2991\n",
      "Epoch 212/500\n",
      "5/5 [==============================] - 0s 11ms/step - loss: 0.0130 - mean_absolute_error: 0.0841 - val_loss: 0.1925 - val_mean_absolute_error: 0.2805\n",
      "Epoch 213/500\n",
      "5/5 [==============================] - 0s 10ms/step - loss: 0.0115 - mean_absolute_error: 0.0763 - val_loss: 0.1874 - val_mean_absolute_error: 0.2775\n",
      "Epoch 214/500\n",
      "5/5 [==============================] - 0s 10ms/step - loss: 0.0221 - mean_absolute_error: 0.1017 - val_loss: 0.2590 - val_mean_absolute_error: 0.3533\n",
      "Epoch 215/500\n",
      "5/5 [==============================] - 0s 9ms/step - loss: 0.0334 - mean_absolute_error: 0.1332 - val_loss: 0.2322 - val_mean_absolute_error: 0.3062\n",
      "Epoch 216/500\n",
      "5/5 [==============================] - 0s 11ms/step - loss: 0.0257 - mean_absolute_error: 0.1220 - val_loss: 0.2654 - val_mean_absolute_error: 0.3267\n",
      "Epoch 217/500\n",
      "5/5 [==============================] - 0s 11ms/step - loss: 0.0700 - mean_absolute_error: 0.1663 - val_loss: 0.3148 - val_mean_absolute_error: 0.3995\n",
      "Epoch 218/500\n",
      "5/5 [==============================] - 0s 10ms/step - loss: 0.1214 - mean_absolute_error: 0.2809 - val_loss: 0.2869 - val_mean_absolute_error: 0.3996\n",
      "Epoch 219/500\n",
      "5/5 [==============================] - 0s 10ms/step - loss: 0.1611 - mean_absolute_error: 0.3184 - val_loss: 0.4182 - val_mean_absolute_error: 0.4629\n",
      "Epoch 220/500\n",
      "5/5 [==============================] - 0s 9ms/step - loss: 0.1331 - mean_absolute_error: 0.2890 - val_loss: 0.3741 - val_mean_absolute_error: 0.4263\n",
      "Epoch 221/500\n",
      "5/5 [==============================] - 0s 11ms/step - loss: 0.1123 - mean_absolute_error: 0.2568 - val_loss: 0.3513 - val_mean_absolute_error: 0.3973\n",
      "Epoch 222/500\n",
      "5/5 [==============================] - 0s 10ms/step - loss: 0.1003 - mean_absolute_error: 0.2382 - val_loss: 0.3573 - val_mean_absolute_error: 0.3713\n",
      "Epoch 223/500\n",
      "5/5 [==============================] - 0s 10ms/step - loss: 0.1470 - mean_absolute_error: 0.2710 - val_loss: 0.3377 - val_mean_absolute_error: 0.3700\n",
      "Epoch 224/500\n",
      "5/5 [==============================] - 0s 10ms/step - loss: 0.0968 - mean_absolute_error: 0.2338 - val_loss: 0.4106 - val_mean_absolute_error: 0.4861\n",
      "Epoch 225/500\n",
      "5/5 [==============================] - 0s 11ms/step - loss: 0.1272 - mean_absolute_error: 0.2688 - val_loss: 0.5345 - val_mean_absolute_error: 0.4763\n",
      "Epoch 226/500\n",
      "5/5 [==============================] - 0s 18ms/step - loss: 0.1577 - mean_absolute_error: 0.2960 - val_loss: 0.4626 - val_mean_absolute_error: 0.4082\n",
      "Epoch 227/500\n",
      "5/5 [==============================] - 0s 13ms/step - loss: 0.1291 - mean_absolute_error: 0.2649 - val_loss: 0.3520 - val_mean_absolute_error: 0.3682\n",
      "Epoch 228/500\n",
      "5/5 [==============================] - 0s 10ms/step - loss: 0.1797 - mean_absolute_error: 0.2514 - val_loss: 0.2638 - val_mean_absolute_error: 0.3747\n",
      "Epoch 229/500\n",
      "5/5 [==============================] - 0s 9ms/step - loss: 0.1454 - mean_absolute_error: 0.2975 - val_loss: 0.2935 - val_mean_absolute_error: 0.4093\n",
      "Epoch 230/500\n",
      "5/5 [==============================] - 0s 10ms/step - loss: 0.1545 - mean_absolute_error: 0.2680 - val_loss: 0.3823 - val_mean_absolute_error: 0.3977\n",
      "Epoch 231/500\n",
      "5/5 [==============================] - 0s 10ms/step - loss: 0.2093 - mean_absolute_error: 0.3537 - val_loss: 0.5376 - val_mean_absolute_error: 0.5017\n",
      "Epoch 232/500\n",
      "5/5 [==============================] - 0s 10ms/step - loss: 0.1726 - mean_absolute_error: 0.3280 - val_loss: 0.4296 - val_mean_absolute_error: 0.4461\n",
      "Epoch 233/500\n",
      "5/5 [==============================] - 0s 11ms/step - loss: 0.1721 - mean_absolute_error: 0.3318 - val_loss: 0.6262 - val_mean_absolute_error: 0.5800\n",
      "Epoch 234/500\n",
      "5/5 [==============================] - 0s 10ms/step - loss: 0.1675 - mean_absolute_error: 0.3232 - val_loss: 0.4109 - val_mean_absolute_error: 0.4498\n",
      "Epoch 235/500\n",
      "5/5 [==============================] - 0s 10ms/step - loss: 0.1508 - mean_absolute_error: 0.3058 - val_loss: 0.4716 - val_mean_absolute_error: 0.4195\n",
      "Epoch 236/500\n",
      "5/5 [==============================] - 0s 10ms/step - loss: 0.1171 - mean_absolute_error: 0.2539 - val_loss: 0.4024 - val_mean_absolute_error: 0.3839\n",
      "Epoch 237/500\n",
      "5/5 [==============================] - 0s 11ms/step - loss: 0.0928 - mean_absolute_error: 0.2302 - val_loss: 0.4250 - val_mean_absolute_error: 0.3712\n",
      "Epoch 238/500\n",
      "5/5 [==============================] - 0s 10ms/step - loss: 0.0720 - mean_absolute_error: 0.2032 - val_loss: 0.4744 - val_mean_absolute_error: 0.4215\n",
      "Epoch 239/500\n",
      "5/5 [==============================] - 0s 10ms/step - loss: 0.1037 - mean_absolute_error: 0.2236 - val_loss: 0.5015 - val_mean_absolute_error: 0.4237\n",
      "Epoch 240/500\n",
      "5/5 [==============================] - 0s 9ms/step - loss: 0.0930 - mean_absolute_error: 0.2095 - val_loss: 0.4237 - val_mean_absolute_error: 0.3988\n",
      "Epoch 241/500\n",
      "5/5 [==============================] - 0s 9ms/step - loss: 0.0902 - mean_absolute_error: 0.2101 - val_loss: 0.3837 - val_mean_absolute_error: 0.3974\n",
      "Epoch 242/500\n",
      "5/5 [==============================] - 0s 10ms/step - loss: 0.0777 - mean_absolute_error: 0.1952 - val_loss: 0.3219 - val_mean_absolute_error: 0.3518\n",
      "Epoch 243/500\n",
      "5/5 [==============================] - 0s 16ms/step - loss: 0.0669 - mean_absolute_error: 0.1875 - val_loss: 0.3230 - val_mean_absolute_error: 0.3603\n",
      "Epoch 244/500\n",
      "5/5 [==============================] - 0s 10ms/step - loss: 0.0613 - mean_absolute_error: 0.1796 - val_loss: 0.4454 - val_mean_absolute_error: 0.4043\n",
      "Epoch 245/500\n",
      "5/5 [==============================] - 0s 14ms/step - loss: 0.0604 - mean_absolute_error: 0.1737 - val_loss: 0.4623 - val_mean_absolute_error: 0.4261\n",
      "Epoch 246/500\n",
      "5/5 [==============================] - 0s 10ms/step - loss: 0.0602 - mean_absolute_error: 0.1803 - val_loss: 0.4404 - val_mean_absolute_error: 0.3866\n",
      "Epoch 247/500\n",
      "5/5 [==============================] - 0s 10ms/step - loss: 0.0560 - mean_absolute_error: 0.1746 - val_loss: 0.5066 - val_mean_absolute_error: 0.4120\n",
      "Epoch 248/500\n",
      "5/5 [==============================] - 0s 10ms/step - loss: 0.0565 - mean_absolute_error: 0.1773 - val_loss: 0.4358 - val_mean_absolute_error: 0.3826\n",
      "Epoch 249/500\n",
      "5/5 [==============================] - 0s 10ms/step - loss: 0.0526 - mean_absolute_error: 0.1746 - val_loss: 0.3965 - val_mean_absolute_error: 0.4204\n",
      "Epoch 250/500\n",
      "5/5 [==============================] - 0s 10ms/step - loss: 0.0667 - mean_absolute_error: 0.1908 - val_loss: 0.4146 - val_mean_absolute_error: 0.4488\n",
      "Epoch 251/500\n",
      "5/5 [==============================] - 0s 10ms/step - loss: 0.0696 - mean_absolute_error: 0.2081 - val_loss: 0.4635 - val_mean_absolute_error: 0.4183\n",
      "Epoch 252/500\n",
      "5/5 [==============================] - 0s 10ms/step - loss: 0.0606 - mean_absolute_error: 0.1867 - val_loss: 0.4552 - val_mean_absolute_error: 0.4048\n",
      "Epoch 253/500\n",
      "5/5 [==============================] - 0s 10ms/step - loss: 0.0585 - mean_absolute_error: 0.1800 - val_loss: 0.3889 - val_mean_absolute_error: 0.3964\n",
      "Epoch 254/500\n",
      "5/5 [==============================] - 0s 11ms/step - loss: 0.0573 - mean_absolute_error: 0.1857 - val_loss: 0.3275 - val_mean_absolute_error: 0.4092\n",
      "Epoch 255/500\n",
      "5/5 [==============================] - 0s 9ms/step - loss: 0.0538 - mean_absolute_error: 0.1818 - val_loss: 0.3651 - val_mean_absolute_error: 0.3878\n",
      "Epoch 256/500\n",
      "5/5 [==============================] - 0s 9ms/step - loss: 0.0429 - mean_absolute_error: 0.1539 - val_loss: 0.3824 - val_mean_absolute_error: 0.3823\n",
      "Epoch 257/500\n",
      "5/5 [==============================] - 0s 10ms/step - loss: 0.0391 - mean_absolute_error: 0.1445 - val_loss: 0.3540 - val_mean_absolute_error: 0.3484\n",
      "Epoch 258/500\n",
      "5/5 [==============================] - 0s 11ms/step - loss: 0.0371 - mean_absolute_error: 0.1399 - val_loss: 0.3199 - val_mean_absolute_error: 0.3553\n",
      "Epoch 259/500\n",
      "5/5 [==============================] - 0s 11ms/step - loss: 0.0333 - mean_absolute_error: 0.1314 - val_loss: 0.3235 - val_mean_absolute_error: 0.3360\n",
      "Epoch 260/500\n",
      "5/5 [==============================] - 0s 21ms/step - loss: 0.0321 - mean_absolute_error: 0.1329 - val_loss: 0.3310 - val_mean_absolute_error: 0.3589\n",
      "Epoch 261/500\n",
      "5/5 [==============================] - 0s 13ms/step - loss: 0.0312 - mean_absolute_error: 0.1304 - val_loss: 0.3295 - val_mean_absolute_error: 0.3575\n",
      "Epoch 262/500\n",
      "5/5 [==============================] - 0s 13ms/step - loss: 0.0295 - mean_absolute_error: 0.1252 - val_loss: 0.3241 - val_mean_absolute_error: 0.3474\n",
      "Epoch 263/500\n",
      "5/5 [==============================] - 0s 10ms/step - loss: 0.0283 - mean_absolute_error: 0.1243 - val_loss: 0.3374 - val_mean_absolute_error: 0.3714\n",
      "Epoch 264/500\n",
      "5/5 [==============================] - 0s 10ms/step - loss: 0.0317 - mean_absolute_error: 0.1328 - val_loss: 0.3359 - val_mean_absolute_error: 0.3642\n",
      "Epoch 265/500\n",
      "5/5 [==============================] - 0s 10ms/step - loss: 0.0267 - mean_absolute_error: 0.1157 - val_loss: 0.3935 - val_mean_absolute_error: 0.3973\n",
      "Epoch 266/500\n",
      "5/5 [==============================] - 0s 11ms/step - loss: 0.0261 - mean_absolute_error: 0.1204 - val_loss: 0.3713 - val_mean_absolute_error: 0.3755\n",
      "Epoch 267/500\n",
      "5/5 [==============================] - 0s 10ms/step - loss: 0.0233 - mean_absolute_error: 0.1113 - val_loss: 0.3596 - val_mean_absolute_error: 0.3667\n",
      "Epoch 268/500\n",
      "5/5 [==============================] - 0s 10ms/step - loss: 0.0208 - mean_absolute_error: 0.1003 - val_loss: 0.3425 - val_mean_absolute_error: 0.3732\n",
      "Epoch 269/500\n",
      "5/5 [==============================] - 0s 10ms/step - loss: 0.0219 - mean_absolute_error: 0.1068 - val_loss: 0.3212 - val_mean_absolute_error: 0.3607\n",
      "Epoch 270/500\n",
      "5/5 [==============================] - 0s 11ms/step - loss: 0.0218 - mean_absolute_error: 0.1069 - val_loss: 0.3378 - val_mean_absolute_error: 0.3693\n",
      "Epoch 271/500\n",
      "5/5 [==============================] - 0s 10ms/step - loss: 0.0236 - mean_absolute_error: 0.1114 - val_loss: 0.3203 - val_mean_absolute_error: 0.3658\n",
      "Epoch 272/500\n",
      "5/5 [==============================] - 0s 10ms/step - loss: 0.0233 - mean_absolute_error: 0.1107 - val_loss: 0.3269 - val_mean_absolute_error: 0.3581\n",
      "Epoch 273/500\n",
      "5/5 [==============================] - 0s 10ms/step - loss: 0.0248 - mean_absolute_error: 0.1160 - val_loss: 0.3475 - val_mean_absolute_error: 0.3882\n",
      "Epoch 274/500\n",
      "5/5 [==============================] - 0s 10ms/step - loss: 0.0230 - mean_absolute_error: 0.1125 - val_loss: 0.3682 - val_mean_absolute_error: 0.3755\n",
      "Epoch 275/500\n",
      "5/5 [==============================] - 0s 20ms/step - loss: 0.0216 - mean_absolute_error: 0.1041 - val_loss: 0.3232 - val_mean_absolute_error: 0.3525\n",
      "Epoch 276/500\n",
      "5/5 [==============================] - 0s 14ms/step - loss: 0.0174 - mean_absolute_error: 0.0962 - val_loss: 0.3261 - val_mean_absolute_error: 0.3599\n",
      "Epoch 277/500\n",
      "5/5 [==============================] - 0s 11ms/step - loss: 0.0185 - mean_absolute_error: 0.1009 - val_loss: 0.2969 - val_mean_absolute_error: 0.3389\n",
      "Epoch 278/500\n",
      "5/5 [==============================] - 0s 11ms/step - loss: 0.0189 - mean_absolute_error: 0.0984 - val_loss: 0.3645 - val_mean_absolute_error: 0.3897\n",
      "Epoch 279/500\n",
      "5/5 [==============================] - 0s 10ms/step - loss: 0.0194 - mean_absolute_error: 0.1027 - val_loss: 0.3412 - val_mean_absolute_error: 0.3598\n",
      "Epoch 280/500\n",
      "5/5 [==============================] - 0s 11ms/step - loss: 0.0182 - mean_absolute_error: 0.0959 - val_loss: 0.3371 - val_mean_absolute_error: 0.3679\n",
      "Epoch 281/500\n",
      "5/5 [==============================] - 0s 10ms/step - loss: 0.0206 - mean_absolute_error: 0.0995 - val_loss: 0.3711 - val_mean_absolute_error: 0.3784\n",
      "Epoch 282/500\n",
      "5/5 [==============================] - 0s 12ms/step - loss: 0.0238 - mean_absolute_error: 0.1068 - val_loss: 0.3807 - val_mean_absolute_error: 0.3944\n",
      "Epoch 283/500\n",
      "5/5 [==============================] - 0s 10ms/step - loss: 0.0211 - mean_absolute_error: 0.1054 - val_loss: 0.3590 - val_mean_absolute_error: 0.3611\n",
      "Epoch 284/500\n",
      "5/5 [==============================] - 0s 10ms/step - loss: 0.0203 - mean_absolute_error: 0.1035 - val_loss: 0.3502 - val_mean_absolute_error: 0.3924\n",
      "Epoch 285/500\n",
      "5/5 [==============================] - 0s 10ms/step - loss: 0.0206 - mean_absolute_error: 0.1015 - val_loss: 0.2994 - val_mean_absolute_error: 0.3356\n",
      "Epoch 286/500\n",
      "5/5 [==============================] - 0s 11ms/step - loss: 0.0222 - mean_absolute_error: 0.1068 - val_loss: 0.3501 - val_mean_absolute_error: 0.3684\n",
      "Epoch 287/500\n",
      "5/5 [==============================] - 0s 11ms/step - loss: 0.0197 - mean_absolute_error: 0.0976 - val_loss: 0.3346 - val_mean_absolute_error: 0.3548\n",
      "Epoch 288/500\n",
      "5/5 [==============================] - 0s 10ms/step - loss: 0.0208 - mean_absolute_error: 0.1001 - val_loss: 0.3226 - val_mean_absolute_error: 0.3461\n",
      "Epoch 289/500\n",
      "5/5 [==============================] - 0s 10ms/step - loss: 0.0190 - mean_absolute_error: 0.0980 - val_loss: 0.3376 - val_mean_absolute_error: 0.3553\n",
      "Epoch 290/500\n",
      "5/5 [==============================] - 0s 10ms/step - loss: 0.0188 - mean_absolute_error: 0.0997 - val_loss: 0.3785 - val_mean_absolute_error: 0.3966\n",
      "Epoch 291/500\n",
      "5/5 [==============================] - 0s 13ms/step - loss: 0.0226 - mean_absolute_error: 0.1109 - val_loss: 0.3053 - val_mean_absolute_error: 0.3336\n",
      "Epoch 292/500\n",
      "5/5 [==============================] - 0s 11ms/step - loss: 0.0203 - mean_absolute_error: 0.1031 - val_loss: 0.3277 - val_mean_absolute_error: 0.3624\n",
      "Epoch 293/500\n",
      "5/5 [==============================] - 0s 11ms/step - loss: 0.0193 - mean_absolute_error: 0.0991 - val_loss: 0.2950 - val_mean_absolute_error: 0.3446\n",
      "Epoch 294/500\n",
      "5/5 [==============================] - 0s 11ms/step - loss: 0.0158 - mean_absolute_error: 0.0946 - val_loss: 0.2661 - val_mean_absolute_error: 0.3220\n",
      "Epoch 295/500\n",
      "5/5 [==============================] - 0s 11ms/step - loss: 0.0226 - mean_absolute_error: 0.1076 - val_loss: 0.3398 - val_mean_absolute_error: 0.3977\n",
      "Epoch 296/500\n",
      "5/5 [==============================] - 0s 10ms/step - loss: 0.0229 - mean_absolute_error: 0.1115 - val_loss: 0.2795 - val_mean_absolute_error: 0.3536\n",
      "Epoch 297/500\n",
      "5/5 [==============================] - 0s 11ms/step - loss: 0.0270 - mean_absolute_error: 0.1316 - val_loss: 0.3366 - val_mean_absolute_error: 0.3715\n",
      "Epoch 298/500\n",
      "5/5 [==============================] - 0s 12ms/step - loss: 0.0192 - mean_absolute_error: 0.1056 - val_loss: 0.3154 - val_mean_absolute_error: 0.3561\n",
      "Epoch 299/500\n",
      "5/5 [==============================] - 0s 11ms/step - loss: 0.0161 - mean_absolute_error: 0.0972 - val_loss: 0.3219 - val_mean_absolute_error: 0.3830\n",
      "Epoch 300/500\n",
      "5/5 [==============================] - 0s 10ms/step - loss: 0.0159 - mean_absolute_error: 0.0938 - val_loss: 0.2819 - val_mean_absolute_error: 0.3401\n",
      "Epoch 301/500\n",
      "5/5 [==============================] - 0s 9ms/step - loss: 0.0139 - mean_absolute_error: 0.0863 - val_loss: 0.3117 - val_mean_absolute_error: 0.3636\n",
      "Epoch 302/500\n",
      "5/5 [==============================] - 0s 11ms/step - loss: 0.0142 - mean_absolute_error: 0.0872 - val_loss: 0.2804 - val_mean_absolute_error: 0.3297\n",
      "Epoch 303/500\n",
      "5/5 [==============================] - 0s 10ms/step - loss: 0.0105 - mean_absolute_error: 0.0728 - val_loss: 0.2844 - val_mean_absolute_error: 0.3451\n",
      "Epoch 304/500\n",
      "5/5 [==============================] - 0s 9ms/step - loss: 0.0119 - mean_absolute_error: 0.0782 - val_loss: 0.2891 - val_mean_absolute_error: 0.3312\n",
      "Epoch 305/500\n",
      "5/5 [==============================] - 0s 11ms/step - loss: 0.0171 - mean_absolute_error: 0.0920 - val_loss: 0.3403 - val_mean_absolute_error: 0.3648\n",
      "Epoch 306/500\n",
      "5/5 [==============================] - 0s 20ms/step - loss: 0.0169 - mean_absolute_error: 0.1000 - val_loss: 0.3242 - val_mean_absolute_error: 0.3468\n",
      "Epoch 307/500\n",
      "5/5 [==============================] - 0s 13ms/step - loss: 0.0126 - mean_absolute_error: 0.0831 - val_loss: 0.3500 - val_mean_absolute_error: 0.3676\n",
      "Epoch 308/500\n",
      "5/5 [==============================] - 0s 11ms/step - loss: 0.0132 - mean_absolute_error: 0.0825 - val_loss: 0.3378 - val_mean_absolute_error: 0.3684\n",
      "Epoch 309/500\n",
      "5/5 [==============================] - 0s 10ms/step - loss: 0.0149 - mean_absolute_error: 0.0899 - val_loss: 0.3440 - val_mean_absolute_error: 0.3719\n",
      "Epoch 310/500\n",
      "5/5 [==============================] - 0s 11ms/step - loss: 0.0146 - mean_absolute_error: 0.0932 - val_loss: 0.3071 - val_mean_absolute_error: 0.3436\n",
      "Epoch 311/500\n",
      "5/5 [==============================] - 0s 10ms/step - loss: 0.0227 - mean_absolute_error: 0.1100 - val_loss: 0.3499 - val_mean_absolute_error: 0.3609\n",
      "Epoch 312/500\n",
      "5/5 [==============================] - 0s 9ms/step - loss: 0.0214 - mean_absolute_error: 0.1121 - val_loss: 0.3258 - val_mean_absolute_error: 0.3531\n",
      "Epoch 313/500\n",
      "5/5 [==============================] - 0s 10ms/step - loss: 0.0165 - mean_absolute_error: 0.0965 - val_loss: 0.2941 - val_mean_absolute_error: 0.3352\n",
      "Epoch 314/500\n",
      "5/5 [==============================] - 0s 11ms/step - loss: 0.0158 - mean_absolute_error: 0.0935 - val_loss: 0.3140 - val_mean_absolute_error: 0.3547\n",
      "Epoch 315/500\n",
      "5/5 [==============================] - 0s 11ms/step - loss: 0.0203 - mean_absolute_error: 0.1146 - val_loss: 0.2952 - val_mean_absolute_error: 0.3380\n",
      "Epoch 316/500\n",
      "5/5 [==============================] - 0s 11ms/step - loss: 0.0161 - mean_absolute_error: 0.0954 - val_loss: 0.3314 - val_mean_absolute_error: 0.3502\n",
      "Epoch 317/500\n",
      "5/5 [==============================] - 0s 10ms/step - loss: 0.0134 - mean_absolute_error: 0.0838 - val_loss: 0.2997 - val_mean_absolute_error: 0.3425\n",
      "Epoch 318/500\n",
      "5/5 [==============================] - 0s 10ms/step - loss: 0.0138 - mean_absolute_error: 0.0883 - val_loss: 0.3258 - val_mean_absolute_error: 0.3547\n",
      "Epoch 319/500\n",
      "5/5 [==============================] - 0s 11ms/step - loss: 0.0135 - mean_absolute_error: 0.0832 - val_loss: 0.3117 - val_mean_absolute_error: 0.3524\n",
      "Epoch 320/500\n",
      "5/5 [==============================] - 0s 9ms/step - loss: 0.0103 - mean_absolute_error: 0.0727 - val_loss: 0.3184 - val_mean_absolute_error: 0.3490\n",
      "Epoch 321/500\n",
      "5/5 [==============================] - 0s 9ms/step - loss: 0.0091 - mean_absolute_error: 0.0676 - val_loss: 0.3511 - val_mean_absolute_error: 0.3754\n",
      "Epoch 322/500\n",
      "5/5 [==============================] - 0s 10ms/step - loss: 0.0093 - mean_absolute_error: 0.0697 - val_loss: 0.3164 - val_mean_absolute_error: 0.3422\n",
      "Epoch 323/500\n",
      "5/5 [==============================] - 0s 10ms/step - loss: 0.0106 - mean_absolute_error: 0.0741 - val_loss: 0.3164 - val_mean_absolute_error: 0.3562\n",
      "Epoch 324/500\n",
      "5/5 [==============================] - 0s 9ms/step - loss: 0.0131 - mean_absolute_error: 0.0775 - val_loss: 0.3371 - val_mean_absolute_error: 0.3814\n",
      "Epoch 325/500\n",
      "5/5 [==============================] - 0s 10ms/step - loss: 0.0142 - mean_absolute_error: 0.0881 - val_loss: 0.2931 - val_mean_absolute_error: 0.3421\n",
      "Epoch 326/500\n",
      "5/5 [==============================] - 0s 9ms/step - loss: 0.0147 - mean_absolute_error: 0.0853 - val_loss: 0.3404 - val_mean_absolute_error: 0.3473\n",
      "Epoch 327/500\n",
      "5/5 [==============================] - 0s 10ms/step - loss: 0.0136 - mean_absolute_error: 0.0883 - val_loss: 0.3843 - val_mean_absolute_error: 0.3869\n",
      "Epoch 328/500\n",
      "5/5 [==============================] - 0s 11ms/step - loss: 0.0161 - mean_absolute_error: 0.0995 - val_loss: 0.3383 - val_mean_absolute_error: 0.3522\n",
      "Epoch 329/500\n",
      "5/5 [==============================] - 0s 9ms/step - loss: 0.0171 - mean_absolute_error: 0.0987 - val_loss: 0.3526 - val_mean_absolute_error: 0.3897\n",
      "Epoch 330/500\n",
      "5/5 [==============================] - 0s 10ms/step - loss: 0.0126 - mean_absolute_error: 0.0827 - val_loss: 0.3008 - val_mean_absolute_error: 0.3251\n",
      "Epoch 331/500\n",
      "5/5 [==============================] - 0s 9ms/step - loss: 0.0143 - mean_absolute_error: 0.0912 - val_loss: 0.3627 - val_mean_absolute_error: 0.3645\n",
      "Epoch 332/500\n",
      "5/5 [==============================] - 0s 11ms/step - loss: 0.0106 - mean_absolute_error: 0.0729 - val_loss: 0.3232 - val_mean_absolute_error: 0.3306\n",
      "Epoch 333/500\n",
      "5/5 [==============================] - 0s 10ms/step - loss: 0.0095 - mean_absolute_error: 0.0696 - val_loss: 0.3291 - val_mean_absolute_error: 0.3413\n",
      "Epoch 334/500\n",
      "5/5 [==============================] - 0s 10ms/step - loss: 0.0081 - mean_absolute_error: 0.0602 - val_loss: 0.3196 - val_mean_absolute_error: 0.3414\n",
      "Epoch 335/500\n",
      "5/5 [==============================] - 0s 9ms/step - loss: 0.0081 - mean_absolute_error: 0.0611 - val_loss: 0.3046 - val_mean_absolute_error: 0.3332\n",
      "Epoch 336/500\n",
      "5/5 [==============================] - 0s 11ms/step - loss: 0.0098 - mean_absolute_error: 0.0697 - val_loss: 0.3496 - val_mean_absolute_error: 0.3559\n",
      "Epoch 337/500\n",
      "5/5 [==============================] - 0s 11ms/step - loss: 0.0111 - mean_absolute_error: 0.0745 - val_loss: 0.3014 - val_mean_absolute_error: 0.3497\n",
      "Epoch 338/500\n",
      "5/5 [==============================] - 0s 10ms/step - loss: 0.0117 - mean_absolute_error: 0.0822 - val_loss: 0.3118 - val_mean_absolute_error: 0.3374\n",
      "Epoch 339/500\n",
      "5/5 [==============================] - 0s 9ms/step - loss: 0.0135 - mean_absolute_error: 0.0815 - val_loss: 0.2958 - val_mean_absolute_error: 0.3364\n",
      "Epoch 340/500\n",
      "5/5 [==============================] - 0s 10ms/step - loss: 0.0109 - mean_absolute_error: 0.0703 - val_loss: 0.3460 - val_mean_absolute_error: 0.3474\n",
      "Epoch 341/500\n",
      "5/5 [==============================] - 0s 11ms/step - loss: 0.0093 - mean_absolute_error: 0.0638 - val_loss: 0.3251 - val_mean_absolute_error: 0.3389\n",
      "Epoch 342/500\n",
      "5/5 [==============================] - 0s 11ms/step - loss: 0.0099 - mean_absolute_error: 0.0693 - val_loss: 0.3528 - val_mean_absolute_error: 0.3578\n",
      "Epoch 343/500\n",
      "5/5 [==============================] - 0s 10ms/step - loss: 0.0077 - mean_absolute_error: 0.0649 - val_loss: 0.3450 - val_mean_absolute_error: 0.3653\n",
      "Epoch 344/500\n",
      "5/5 [==============================] - 0s 9ms/step - loss: 0.0115 - mean_absolute_error: 0.0790 - val_loss: 0.3230 - val_mean_absolute_error: 0.3619\n",
      "Epoch 345/500\n",
      "5/5 [==============================] - 0s 10ms/step - loss: 0.0105 - mean_absolute_error: 0.0794 - val_loss: 0.3496 - val_mean_absolute_error: 0.3797\n",
      "Epoch 346/500\n",
      "5/5 [==============================] - 0s 10ms/step - loss: 0.0138 - mean_absolute_error: 0.0889 - val_loss: 0.2964 - val_mean_absolute_error: 0.3293\n",
      "Epoch 347/500\n",
      "5/5 [==============================] - 0s 10ms/step - loss: 0.0173 - mean_absolute_error: 0.1054 - val_loss: 0.3868 - val_mean_absolute_error: 0.3738\n",
      "Epoch 348/500\n",
      "5/5 [==============================] - 0s 10ms/step - loss: 0.0184 - mean_absolute_error: 0.1101 - val_loss: 0.3726 - val_mean_absolute_error: 0.3676\n",
      "Epoch 349/500\n",
      "5/5 [==============================] - 0s 11ms/step - loss: 0.0138 - mean_absolute_error: 0.0876 - val_loss: 0.2924 - val_mean_absolute_error: 0.3248\n",
      "Epoch 350/500\n",
      "5/5 [==============================] - 0s 11ms/step - loss: 0.0154 - mean_absolute_error: 0.0884 - val_loss: 0.3669 - val_mean_absolute_error: 0.3684\n",
      "Epoch 351/500\n",
      "5/5 [==============================] - 0s 10ms/step - loss: 0.0134 - mean_absolute_error: 0.0892 - val_loss: 0.3350 - val_mean_absolute_error: 0.3435\n",
      "Epoch 352/500\n",
      "5/5 [==============================] - 0s 10ms/step - loss: 0.0093 - mean_absolute_error: 0.0734 - val_loss: 0.3253 - val_mean_absolute_error: 0.3379\n",
      "Epoch 353/500\n",
      "5/5 [==============================] - 0s 10ms/step - loss: 0.0078 - mean_absolute_error: 0.0654 - val_loss: 0.3404 - val_mean_absolute_error: 0.3437\n",
      "Epoch 354/500\n",
      "5/5 [==============================] - 0s 10ms/step - loss: 0.0065 - mean_absolute_error: 0.0558 - val_loss: 0.3521 - val_mean_absolute_error: 0.3557\n",
      "Epoch 355/500\n",
      "5/5 [==============================] - 0s 10ms/step - loss: 0.0074 - mean_absolute_error: 0.0621 - val_loss: 0.3746 - val_mean_absolute_error: 0.3844\n",
      "Epoch 356/500\n",
      "5/5 [==============================] - 0s 10ms/step - loss: 0.0088 - mean_absolute_error: 0.0705 - val_loss: 0.3328 - val_mean_absolute_error: 0.3422\n",
      "Epoch 357/500\n",
      "5/5 [==============================] - 0s 10ms/step - loss: 0.0069 - mean_absolute_error: 0.0598 - val_loss: 0.3324 - val_mean_absolute_error: 0.3580\n",
      "Epoch 358/500\n",
      "5/5 [==============================] - 0s 9ms/step - loss: 0.0068 - mean_absolute_error: 0.0577 - val_loss: 0.3636 - val_mean_absolute_error: 0.3690\n",
      "Epoch 359/500\n",
      "5/5 [==============================] - 0s 11ms/step - loss: 0.0071 - mean_absolute_error: 0.0635 - val_loss: 0.3408 - val_mean_absolute_error: 0.3587\n",
      "Epoch 360/500\n",
      "5/5 [==============================] - 0s 9ms/step - loss: 0.0075 - mean_absolute_error: 0.0672 - val_loss: 0.3511 - val_mean_absolute_error: 0.3673\n",
      "Epoch 361/500\n",
      "5/5 [==============================] - 0s 10ms/step - loss: 0.0078 - mean_absolute_error: 0.0640 - val_loss: 0.3897 - val_mean_absolute_error: 0.3929\n",
      "Epoch 362/500\n",
      "5/5 [==============================] - 0s 11ms/step - loss: 0.0074 - mean_absolute_error: 0.0614 - val_loss: 0.3576 - val_mean_absolute_error: 0.3629\n",
      "Epoch 363/500\n",
      "5/5 [==============================] - 0s 11ms/step - loss: 0.0071 - mean_absolute_error: 0.0596 - val_loss: 0.3718 - val_mean_absolute_error: 0.3685\n",
      "Epoch 364/500\n",
      "5/5 [==============================] - 0s 11ms/step - loss: 0.0085 - mean_absolute_error: 0.0652 - val_loss: 0.3636 - val_mean_absolute_error: 0.3726\n",
      "Epoch 365/500\n",
      "5/5 [==============================] - 0s 9ms/step - loss: 0.0066 - mean_absolute_error: 0.0581 - val_loss: 0.3471 - val_mean_absolute_error: 0.3681\n",
      "Epoch 366/500\n",
      "5/5 [==============================] - 0s 9ms/step - loss: 0.0064 - mean_absolute_error: 0.0568 - val_loss: 0.3584 - val_mean_absolute_error: 0.3722\n",
      "Epoch 367/500\n",
      "5/5 [==============================] - 0s 10ms/step - loss: 0.0075 - mean_absolute_error: 0.0643 - val_loss: 0.3458 - val_mean_absolute_error: 0.3588\n",
      "Epoch 368/500\n",
      "5/5 [==============================] - 0s 10ms/step - loss: 0.0085 - mean_absolute_error: 0.0716 - val_loss: 0.3708 - val_mean_absolute_error: 0.3742\n",
      "Epoch 369/500\n",
      "5/5 [==============================] - 0s 10ms/step - loss: 0.0097 - mean_absolute_error: 0.0755 - val_loss: 0.4173 - val_mean_absolute_error: 0.4088\n",
      "Epoch 370/500\n",
      "5/5 [==============================] - 0s 10ms/step - loss: 0.0095 - mean_absolute_error: 0.0763 - val_loss: 0.3631 - val_mean_absolute_error: 0.3469\n",
      "Epoch 371/500\n",
      "5/5 [==============================] - 0s 10ms/step - loss: 0.0077 - mean_absolute_error: 0.0658 - val_loss: 0.3554 - val_mean_absolute_error: 0.3557\n",
      "Epoch 372/500\n",
      "5/5 [==============================] - 0s 11ms/step - loss: 0.0078 - mean_absolute_error: 0.0678 - val_loss: 0.3891 - val_mean_absolute_error: 0.3662\n",
      "Epoch 373/500\n",
      "5/5 [==============================] - 0s 10ms/step - loss: 0.0071 - mean_absolute_error: 0.0618 - val_loss: 0.3467 - val_mean_absolute_error: 0.3565\n",
      "Epoch 374/500\n",
      "5/5 [==============================] - 0s 10ms/step - loss: 0.0062 - mean_absolute_error: 0.0588 - val_loss: 0.3248 - val_mean_absolute_error: 0.3408\n",
      "Epoch 375/500\n",
      "5/5 [==============================] - 0s 9ms/step - loss: 0.0066 - mean_absolute_error: 0.0612 - val_loss: 0.3584 - val_mean_absolute_error: 0.3742\n",
      "Epoch 376/500\n",
      "5/5 [==============================] - 0s 9ms/step - loss: 0.0077 - mean_absolute_error: 0.0625 - val_loss: 0.3601 - val_mean_absolute_error: 0.3576\n",
      "Epoch 377/500\n",
      "5/5 [==============================] - 0s 11ms/step - loss: 0.0084 - mean_absolute_error: 0.0659 - val_loss: 0.3531 - val_mean_absolute_error: 0.3580\n",
      "Epoch 378/500\n",
      "5/5 [==============================] - 0s 17ms/step - loss: 0.0070 - mean_absolute_error: 0.0582 - val_loss: 0.3699 - val_mean_absolute_error: 0.3646\n",
      "Epoch 379/500\n",
      "5/5 [==============================] - 0s 13ms/step - loss: 0.0076 - mean_absolute_error: 0.0609 - val_loss: 0.3545 - val_mean_absolute_error: 0.3613\n",
      "Epoch 380/500\n",
      "5/5 [==============================] - 0s 13ms/step - loss: 0.0047 - mean_absolute_error: 0.0453 - val_loss: 0.3678 - val_mean_absolute_error: 0.3749\n",
      "Epoch 381/500\n",
      "5/5 [==============================] - 0s 10ms/step - loss: 0.0061 - mean_absolute_error: 0.0532 - val_loss: 0.3528 - val_mean_absolute_error: 0.3594\n",
      "Epoch 382/500\n",
      "5/5 [==============================] - 0s 10ms/step - loss: 0.0062 - mean_absolute_error: 0.0604 - val_loss: 0.3740 - val_mean_absolute_error: 0.3766\n",
      "Epoch 383/500\n",
      "5/5 [==============================] - 0s 10ms/step - loss: 0.0058 - mean_absolute_error: 0.0567 - val_loss: 0.3342 - val_mean_absolute_error: 0.3467\n",
      "Epoch 384/500\n",
      "5/5 [==============================] - 0s 11ms/step - loss: 0.0065 - mean_absolute_error: 0.0536 - val_loss: 0.3615 - val_mean_absolute_error: 0.3596\n",
      "Epoch 385/500\n",
      "5/5 [==============================] - 0s 11ms/step - loss: 0.0058 - mean_absolute_error: 0.0538 - val_loss: 0.3719 - val_mean_absolute_error: 0.3715\n",
      "Epoch 386/500\n",
      "5/5 [==============================] - 0s 9ms/step - loss: 0.0060 - mean_absolute_error: 0.0578 - val_loss: 0.3460 - val_mean_absolute_error: 0.3605\n",
      "Epoch 387/500\n",
      "5/5 [==============================] - 0s 10ms/step - loss: 0.0050 - mean_absolute_error: 0.0496 - val_loss: 0.3404 - val_mean_absolute_error: 0.3632\n",
      "Epoch 388/500\n",
      "5/5 [==============================] - 0s 10ms/step - loss: 0.0043 - mean_absolute_error: 0.0434 - val_loss: 0.3790 - val_mean_absolute_error: 0.3881\n",
      "Epoch 389/500\n",
      "5/5 [==============================] - 0s 11ms/step - loss: 0.0063 - mean_absolute_error: 0.0541 - val_loss: 0.3527 - val_mean_absolute_error: 0.3772\n",
      "Epoch 390/500\n",
      "5/5 [==============================] - 0s 10ms/step - loss: 0.0079 - mean_absolute_error: 0.0694 - val_loss: 0.3741 - val_mean_absolute_error: 0.3808\n",
      "Epoch 391/500\n",
      "5/5 [==============================] - 0s 9ms/step - loss: 0.0083 - mean_absolute_error: 0.0700 - val_loss: 0.3614 - val_mean_absolute_error: 0.3752\n",
      "Epoch 392/500\n",
      "5/5 [==============================] - 0s 10ms/step - loss: 0.0084 - mean_absolute_error: 0.0698 - val_loss: 0.3558 - val_mean_absolute_error: 0.3577\n",
      "Epoch 393/500\n",
      "5/5 [==============================] - 0s 10ms/step - loss: 0.0074 - mean_absolute_error: 0.0615 - val_loss: 0.3719 - val_mean_absolute_error: 0.3874\n",
      "Epoch 394/500\n",
      "5/5 [==============================] - 0s 10ms/step - loss: 0.0064 - mean_absolute_error: 0.0559 - val_loss: 0.3328 - val_mean_absolute_error: 0.3531\n",
      "Epoch 395/500\n",
      "5/5 [==============================] - 0s 10ms/step - loss: 0.0061 - mean_absolute_error: 0.0584 - val_loss: 0.3364 - val_mean_absolute_error: 0.3527\n",
      "Epoch 396/500\n",
      "5/5 [==============================] - 0s 11ms/step - loss: 0.0062 - mean_absolute_error: 0.0566 - val_loss: 0.3807 - val_mean_absolute_error: 0.3809\n",
      "Epoch 397/500\n",
      "5/5 [==============================] - 0s 11ms/step - loss: 0.0059 - mean_absolute_error: 0.0544 - val_loss: 0.3479 - val_mean_absolute_error: 0.3544\n",
      "Epoch 398/500\n",
      "5/5 [==============================] - 0s 11ms/step - loss: 0.0072 - mean_absolute_error: 0.0592 - val_loss: 0.3468 - val_mean_absolute_error: 0.3510\n",
      "Epoch 399/500\n",
      "5/5 [==============================] - 0s 9ms/step - loss: 0.0064 - mean_absolute_error: 0.0591 - val_loss: 0.3774 - val_mean_absolute_error: 0.3898\n",
      "Epoch 400/500\n",
      "5/5 [==============================] - 0s 10ms/step - loss: 0.0093 - mean_absolute_error: 0.0700 - val_loss: 0.3509 - val_mean_absolute_error: 0.3687\n",
      "Epoch 401/500\n",
      "5/5 [==============================] - 0s 10ms/step - loss: 0.0089 - mean_absolute_error: 0.0727 - val_loss: 0.3640 - val_mean_absolute_error: 0.3664\n",
      "Epoch 402/500\n",
      "5/5 [==============================] - 0s 9ms/step - loss: 0.0078 - mean_absolute_error: 0.0666 - val_loss: 0.3753 - val_mean_absolute_error: 0.3892\n",
      "Epoch 403/500\n",
      "5/5 [==============================] - 0s 10ms/step - loss: 0.0066 - mean_absolute_error: 0.0584 - val_loss: 0.3708 - val_mean_absolute_error: 0.3795\n",
      "Epoch 404/500\n",
      "5/5 [==============================] - 0s 8ms/step - loss: 0.0073 - mean_absolute_error: 0.0613 - val_loss: 0.3806 - val_mean_absolute_error: 0.3790\n",
      "Epoch 405/500\n",
      "5/5 [==============================] - 0s 11ms/step - loss: 0.0059 - mean_absolute_error: 0.0547 - val_loss: 0.3917 - val_mean_absolute_error: 0.3706\n",
      "Epoch 406/500\n",
      "5/5 [==============================] - 0s 10ms/step - loss: 0.0074 - mean_absolute_error: 0.0647 - val_loss: 0.3990 - val_mean_absolute_error: 0.3936\n",
      "Epoch 407/500\n",
      "5/5 [==============================] - 0s 10ms/step - loss: 0.0075 - mean_absolute_error: 0.0657 - val_loss: 0.3839 - val_mean_absolute_error: 0.3713\n",
      "Epoch 408/500\n",
      "5/5 [==============================] - 0s 10ms/step - loss: 0.0070 - mean_absolute_error: 0.0626 - val_loss: 0.3718 - val_mean_absolute_error: 0.3702\n",
      "Epoch 409/500\n",
      "5/5 [==============================] - 0s 10ms/step - loss: 0.0064 - mean_absolute_error: 0.0579 - val_loss: 0.3806 - val_mean_absolute_error: 0.3708\n",
      "Epoch 410/500\n",
      "5/5 [==============================] - 0s 10ms/step - loss: 0.0055 - mean_absolute_error: 0.0527 - val_loss: 0.3734 - val_mean_absolute_error: 0.3658\n",
      "Epoch 411/500\n",
      "5/5 [==============================] - 0s 10ms/step - loss: 0.0054 - mean_absolute_error: 0.0531 - val_loss: 0.3793 - val_mean_absolute_error: 0.3677\n",
      "Epoch 412/500\n",
      "5/5 [==============================] - 0s 10ms/step - loss: 0.0047 - mean_absolute_error: 0.0473 - val_loss: 0.4259 - val_mean_absolute_error: 0.4013\n",
      "Epoch 413/500\n",
      "5/5 [==============================] - 0s 9ms/step - loss: 0.0057 - mean_absolute_error: 0.0556 - val_loss: 0.3912 - val_mean_absolute_error: 0.3774\n",
      "Epoch 414/500\n",
      "5/5 [==============================] - 0s 10ms/step - loss: 0.0046 - mean_absolute_error: 0.0473 - val_loss: 0.3795 - val_mean_absolute_error: 0.3683\n",
      "Epoch 415/500\n",
      "5/5 [==============================] - 0s 10ms/step - loss: 0.0045 - mean_absolute_error: 0.0474 - val_loss: 0.3973 - val_mean_absolute_error: 0.3852\n",
      "Epoch 416/500\n",
      "5/5 [==============================] - 0s 10ms/step - loss: 0.0053 - mean_absolute_error: 0.0546 - val_loss: 0.3862 - val_mean_absolute_error: 0.3764\n",
      "Epoch 417/500\n",
      "5/5 [==============================] - 0s 10ms/step - loss: 0.0043 - mean_absolute_error: 0.0461 - val_loss: 0.3767 - val_mean_absolute_error: 0.3708\n",
      "Epoch 418/500\n",
      "5/5 [==============================] - 0s 10ms/step - loss: 0.0042 - mean_absolute_error: 0.0455 - val_loss: 0.4077 - val_mean_absolute_error: 0.3883\n",
      "Epoch 419/500\n",
      "5/5 [==============================] - 0s 10ms/step - loss: 0.0046 - mean_absolute_error: 0.0445 - val_loss: 0.3978 - val_mean_absolute_error: 0.3773\n",
      "Epoch 420/500\n",
      "5/5 [==============================] - 0s 10ms/step - loss: 0.0048 - mean_absolute_error: 0.0476 - val_loss: 0.3850 - val_mean_absolute_error: 0.3732\n",
      "Epoch 421/500\n",
      "5/5 [==============================] - 0s 10ms/step - loss: 0.0047 - mean_absolute_error: 0.0469 - val_loss: 0.3854 - val_mean_absolute_error: 0.3685\n",
      "Epoch 422/500\n",
      "5/5 [==============================] - 0s 10ms/step - loss: 0.0045 - mean_absolute_error: 0.0472 - val_loss: 0.3753 - val_mean_absolute_error: 0.3718\n",
      "Epoch 423/500\n",
      "5/5 [==============================] - 0s 9ms/step - loss: 0.0047 - mean_absolute_error: 0.0480 - val_loss: 0.3958 - val_mean_absolute_error: 0.3702\n",
      "Epoch 424/500\n",
      "5/5 [==============================] - 0s 10ms/step - loss: 0.0044 - mean_absolute_error: 0.0477 - val_loss: 0.3966 - val_mean_absolute_error: 0.3851\n",
      "Epoch 425/500\n",
      "5/5 [==============================] - 0s 10ms/step - loss: 0.0038 - mean_absolute_error: 0.0440 - val_loss: 0.3972 - val_mean_absolute_error: 0.3735\n",
      "Epoch 426/500\n",
      "5/5 [==============================] - 0s 10ms/step - loss: 0.0041 - mean_absolute_error: 0.0440 - val_loss: 0.3765 - val_mean_absolute_error: 0.3787\n",
      "Epoch 427/500\n",
      "5/5 [==============================] - 0s 10ms/step - loss: 0.0060 - mean_absolute_error: 0.0549 - val_loss: 0.3919 - val_mean_absolute_error: 0.3775\n",
      "Epoch 428/500\n",
      "5/5 [==============================] - 0s 9ms/step - loss: 0.0061 - mean_absolute_error: 0.0575 - val_loss: 0.4069 - val_mean_absolute_error: 0.4013\n",
      "Epoch 429/500\n",
      "5/5 [==============================] - 0s 10ms/step - loss: 0.0074 - mean_absolute_error: 0.0647 - val_loss: 0.3671 - val_mean_absolute_error: 0.3568\n",
      "Epoch 430/500\n",
      "5/5 [==============================] - 0s 10ms/step - loss: 0.0079 - mean_absolute_error: 0.0629 - val_loss: 0.3701 - val_mean_absolute_error: 0.3698\n",
      "Epoch 431/500\n",
      "5/5 [==============================] - 0s 9ms/step - loss: 0.0054 - mean_absolute_error: 0.0557 - val_loss: 0.4030 - val_mean_absolute_error: 0.3874\n",
      "Epoch 432/500\n",
      "5/5 [==============================] - 0s 10ms/step - loss: 0.0061 - mean_absolute_error: 0.0540 - val_loss: 0.3916 - val_mean_absolute_error: 0.3889\n",
      "Epoch 433/500\n",
      "5/5 [==============================] - 0s 9ms/step - loss: 0.0080 - mean_absolute_error: 0.0653 - val_loss: 0.3815 - val_mean_absolute_error: 0.3787\n",
      "Epoch 434/500\n",
      "5/5 [==============================] - 0s 10ms/step - loss: 0.0071 - mean_absolute_error: 0.0652 - val_loss: 0.3601 - val_mean_absolute_error: 0.3721\n",
      "Epoch 435/500\n",
      "5/5 [==============================] - 0s 10ms/step - loss: 0.0093 - mean_absolute_error: 0.0733 - val_loss: 0.4102 - val_mean_absolute_error: 0.3959\n",
      "Epoch 436/500\n",
      "5/5 [==============================] - 0s 10ms/step - loss: 0.0062 - mean_absolute_error: 0.0598 - val_loss: 0.3736 - val_mean_absolute_error: 0.3637\n",
      "Epoch 437/500\n",
      "5/5 [==============================] - 0s 11ms/step - loss: 0.0051 - mean_absolute_error: 0.0536 - val_loss: 0.3936 - val_mean_absolute_error: 0.3751\n",
      "Epoch 438/500\n",
      "5/5 [==============================] - 0s 9ms/step - loss: 0.0053 - mean_absolute_error: 0.0546 - val_loss: 0.4045 - val_mean_absolute_error: 0.3970\n",
      "Epoch 439/500\n",
      "5/5 [==============================] - 0s 10ms/step - loss: 0.0076 - mean_absolute_error: 0.0603 - val_loss: 0.4085 - val_mean_absolute_error: 0.3792\n",
      "Epoch 440/500\n",
      "5/5 [==============================] - 0s 9ms/step - loss: 0.0103 - mean_absolute_error: 0.0694 - val_loss: 0.3800 - val_mean_absolute_error: 0.3727\n",
      "Epoch 441/500\n",
      "5/5 [==============================] - 0s 9ms/step - loss: 0.0075 - mean_absolute_error: 0.0621 - val_loss: 0.3876 - val_mean_absolute_error: 0.3625\n",
      "Epoch 442/500\n",
      "5/5 [==============================] - 0s 10ms/step - loss: 0.0080 - mean_absolute_error: 0.0669 - val_loss: 0.3619 - val_mean_absolute_error: 0.3634\n",
      "Epoch 443/500\n",
      "5/5 [==============================] - 0s 11ms/step - loss: 0.0064 - mean_absolute_error: 0.0567 - val_loss: 0.3668 - val_mean_absolute_error: 0.3600\n",
      "Epoch 444/500\n",
      "5/5 [==============================] - 0s 9ms/step - loss: 0.0061 - mean_absolute_error: 0.0576 - val_loss: 0.3639 - val_mean_absolute_error: 0.3625\n",
      "Epoch 445/500\n",
      "5/5 [==============================] - 0s 9ms/step - loss: 0.0053 - mean_absolute_error: 0.0506 - val_loss: 0.3450 - val_mean_absolute_error: 0.3519\n",
      "Epoch 446/500\n",
      "5/5 [==============================] - 0s 10ms/step - loss: 0.0053 - mean_absolute_error: 0.0510 - val_loss: 0.3750 - val_mean_absolute_error: 0.3783\n",
      "Epoch 447/500\n",
      "5/5 [==============================] - 0s 10ms/step - loss: 0.0059 - mean_absolute_error: 0.0540 - val_loss: 0.3708 - val_mean_absolute_error: 0.3651\n",
      "Epoch 448/500\n",
      "5/5 [==============================] - 0s 10ms/step - loss: 0.0045 - mean_absolute_error: 0.0458 - val_loss: 0.3569 - val_mean_absolute_error: 0.3695\n",
      "Epoch 449/500\n",
      "5/5 [==============================] - 0s 9ms/step - loss: 0.0061 - mean_absolute_error: 0.0559 - val_loss: 0.3809 - val_mean_absolute_error: 0.3760\n",
      "Epoch 450/500\n",
      "5/5 [==============================] - 0s 11ms/step - loss: 0.0053 - mean_absolute_error: 0.0553 - val_loss: 0.3598 - val_mean_absolute_error: 0.3525\n",
      "Epoch 451/500\n",
      "5/5 [==============================] - 0s 10ms/step - loss: 0.0048 - mean_absolute_error: 0.0529 - val_loss: 0.3671 - val_mean_absolute_error: 0.3575\n",
      "Epoch 452/500\n",
      "5/5 [==============================] - 0s 10ms/step - loss: 0.0044 - mean_absolute_error: 0.0462 - val_loss: 0.3645 - val_mean_absolute_error: 0.3611\n",
      "Epoch 453/500\n",
      "5/5 [==============================] - 0s 9ms/step - loss: 0.0050 - mean_absolute_error: 0.0489 - val_loss: 0.3688 - val_mean_absolute_error: 0.3620\n",
      "Epoch 454/500\n",
      "5/5 [==============================] - 0s 10ms/step - loss: 0.0041 - mean_absolute_error: 0.0457 - val_loss: 0.3722 - val_mean_absolute_error: 0.3598\n",
      "Epoch 455/500\n",
      "5/5 [==============================] - 0s 10ms/step - loss: 0.0064 - mean_absolute_error: 0.0581 - val_loss: 0.3940 - val_mean_absolute_error: 0.3757\n",
      "Epoch 456/500\n",
      "5/5 [==============================] - 0s 9ms/step - loss: 0.0054 - mean_absolute_error: 0.0528 - val_loss: 0.4053 - val_mean_absolute_error: 0.3878\n",
      "Epoch 457/500\n",
      "5/5 [==============================] - 0s 10ms/step - loss: 0.0058 - mean_absolute_error: 0.0568 - val_loss: 0.3818 - val_mean_absolute_error: 0.3618\n",
      "Epoch 458/500\n",
      "5/5 [==============================] - 0s 14ms/step - loss: 0.0055 - mean_absolute_error: 0.0557 - val_loss: 0.3928 - val_mean_absolute_error: 0.3840\n",
      "Epoch 459/500\n",
      "5/5 [==============================] - 0s 12ms/step - loss: 0.0066 - mean_absolute_error: 0.0607 - val_loss: 0.3947 - val_mean_absolute_error: 0.3609\n",
      "Epoch 460/500\n",
      "5/5 [==============================] - 0s 13ms/step - loss: 0.0094 - mean_absolute_error: 0.0766 - val_loss: 0.4401 - val_mean_absolute_error: 0.4214\n",
      "Epoch 461/500\n",
      "5/5 [==============================] - 0s 9ms/step - loss: 0.0112 - mean_absolute_error: 0.0808 - val_loss: 0.3836 - val_mean_absolute_error: 0.3527\n",
      "Epoch 462/500\n",
      "5/5 [==============================] - 0s 9ms/step - loss: 0.0096 - mean_absolute_error: 0.0778 - val_loss: 0.3686 - val_mean_absolute_error: 0.3688\n",
      "Epoch 463/500\n",
      "5/5 [==============================] - 0s 10ms/step - loss: 0.0136 - mean_absolute_error: 0.0872 - val_loss: 0.4665 - val_mean_absolute_error: 0.4315\n",
      "Epoch 464/500\n",
      "5/5 [==============================] - 0s 9ms/step - loss: 0.0162 - mean_absolute_error: 0.1007 - val_loss: 0.3688 - val_mean_absolute_error: 0.3831\n",
      "Epoch 465/500\n",
      "5/5 [==============================] - 0s 11ms/step - loss: 0.0179 - mean_absolute_error: 0.0970 - val_loss: 0.3421 - val_mean_absolute_error: 0.3282\n",
      "Epoch 466/500\n",
      "5/5 [==============================] - 0s 10ms/step - loss: 0.0147 - mean_absolute_error: 0.0951 - val_loss: 0.3617 - val_mean_absolute_error: 0.3782\n",
      "Epoch 467/500\n",
      "5/5 [==============================] - 0s 9ms/step - loss: 0.0134 - mean_absolute_error: 0.0865 - val_loss: 0.3633 - val_mean_absolute_error: 0.3709\n",
      "Epoch 468/500\n",
      "5/5 [==============================] - 0s 10ms/step - loss: 0.0200 - mean_absolute_error: 0.1041 - val_loss: 0.2914 - val_mean_absolute_error: 0.3258\n",
      "Epoch 469/500\n",
      "5/5 [==============================] - 0s 11ms/step - loss: 0.0173 - mean_absolute_error: 0.0987 - val_loss: 0.3352 - val_mean_absolute_error: 0.3423\n",
      "Epoch 470/500\n",
      "5/5 [==============================] - 0s 10ms/step - loss: 0.0163 - mean_absolute_error: 0.0968 - val_loss: 0.2737 - val_mean_absolute_error: 0.3528\n",
      "Epoch 471/500\n",
      "5/5 [==============================] - 0s 10ms/step - loss: 0.0148 - mean_absolute_error: 0.0946 - val_loss: 0.2994 - val_mean_absolute_error: 0.3478\n",
      "Epoch 472/500\n",
      "5/5 [==============================] - 0s 10ms/step - loss: 0.0118 - mean_absolute_error: 0.0837 - val_loss: 0.3461 - val_mean_absolute_error: 0.3648\n",
      "Epoch 473/500\n",
      "5/5 [==============================] - 0s 10ms/step - loss: 0.0116 - mean_absolute_error: 0.0796 - val_loss: 0.2961 - val_mean_absolute_error: 0.3318\n",
      "Epoch 474/500\n",
      "5/5 [==============================] - 0s 12ms/step - loss: 0.0125 - mean_absolute_error: 0.0811 - val_loss: 0.2813 - val_mean_absolute_error: 0.3333\n",
      "Epoch 475/500\n",
      "5/5 [==============================] - 0s 11ms/step - loss: 0.0080 - mean_absolute_error: 0.0685 - val_loss: 0.3383 - val_mean_absolute_error: 0.3595\n",
      "Epoch 476/500\n",
      "5/5 [==============================] - 0s 12ms/step - loss: 0.0077 - mean_absolute_error: 0.0650 - val_loss: 0.3328 - val_mean_absolute_error: 0.3709\n",
      "Epoch 477/500\n",
      "5/5 [==============================] - 0s 12ms/step - loss: 0.0090 - mean_absolute_error: 0.0744 - val_loss: 0.3298 - val_mean_absolute_error: 0.3327\n",
      "Epoch 478/500\n",
      "5/5 [==============================] - 0s 12ms/step - loss: 0.0092 - mean_absolute_error: 0.0738 - val_loss: 0.3459 - val_mean_absolute_error: 0.3629\n",
      "Epoch 479/500\n",
      "5/5 [==============================] - 0s 12ms/step - loss: 0.0086 - mean_absolute_error: 0.0706 - val_loss: 0.3463 - val_mean_absolute_error: 0.3671\n",
      "Epoch 480/500\n",
      "5/5 [==============================] - 0s 12ms/step - loss: 0.0122 - mean_absolute_error: 0.0897 - val_loss: 0.2852 - val_mean_absolute_error: 0.3269\n",
      "Epoch 481/500\n",
      "5/5 [==============================] - 0s 11ms/step - loss: 0.0119 - mean_absolute_error: 0.0874 - val_loss: 0.3696 - val_mean_absolute_error: 0.3664\n",
      "Epoch 482/500\n",
      "5/5 [==============================] - 0s 11ms/step - loss: 0.0145 - mean_absolute_error: 0.0899 - val_loss: 0.3548 - val_mean_absolute_error: 0.3521\n",
      "Epoch 483/500\n",
      "5/5 [==============================] - 0s 10ms/step - loss: 0.0116 - mean_absolute_error: 0.0851 - val_loss: 0.3258 - val_mean_absolute_error: 0.3390\n",
      "Epoch 484/500\n",
      "5/5 [==============================] - 0s 9ms/step - loss: 0.0141 - mean_absolute_error: 0.0824 - val_loss: 0.3461 - val_mean_absolute_error: 0.3494\n",
      "Epoch 485/500\n",
      "5/5 [==============================] - 0s 10ms/step - loss: 0.0139 - mean_absolute_error: 0.0925 - val_loss: 0.4010 - val_mean_absolute_error: 0.4021\n",
      "Epoch 486/500\n",
      "5/5 [==============================] - 0s 11ms/step - loss: 0.0200 - mean_absolute_error: 0.1113 - val_loss: 0.3193 - val_mean_absolute_error: 0.3283\n",
      "Epoch 487/500\n",
      "5/5 [==============================] - 0s 9ms/step - loss: 0.0135 - mean_absolute_error: 0.0842 - val_loss: 0.3393 - val_mean_absolute_error: 0.3481\n",
      "Epoch 488/500\n",
      "5/5 [==============================] - 0s 10ms/step - loss: 0.0111 - mean_absolute_error: 0.0744 - val_loss: 0.3663 - val_mean_absolute_error: 0.3798\n",
      "Epoch 489/500\n",
      "5/5 [==============================] - 0s 10ms/step - loss: 0.0128 - mean_absolute_error: 0.0839 - val_loss: 0.3633 - val_mean_absolute_error: 0.3699\n",
      "Epoch 490/500\n",
      "5/5 [==============================] - 0s 23ms/step - loss: 0.0135 - mean_absolute_error: 0.0895 - val_loss: 0.3895 - val_mean_absolute_error: 0.3724\n",
      "Epoch 491/500\n",
      "5/5 [==============================] - 0s 11ms/step - loss: 0.0109 - mean_absolute_error: 0.0774 - val_loss: 0.4201 - val_mean_absolute_error: 0.3900\n",
      "Epoch 492/500\n",
      "5/5 [==============================] - 0s 10ms/step - loss: 0.0107 - mean_absolute_error: 0.0790 - val_loss: 0.3713 - val_mean_absolute_error: 0.3437\n",
      "Epoch 493/500\n",
      "5/5 [==============================] - 0s 10ms/step - loss: 0.0081 - mean_absolute_error: 0.0666 - val_loss: 0.4022 - val_mean_absolute_error: 0.3756\n",
      "Epoch 494/500\n",
      "5/5 [==============================] - 0s 12ms/step - loss: 0.0067 - mean_absolute_error: 0.0620 - val_loss: 0.4091 - val_mean_absolute_error: 0.3793\n",
      "Epoch 495/500\n",
      "5/5 [==============================] - 0s 10ms/step - loss: 0.0079 - mean_absolute_error: 0.0653 - val_loss: 0.4068 - val_mean_absolute_error: 0.3779\n",
      "Epoch 496/500\n",
      "5/5 [==============================] - 0s 10ms/step - loss: 0.0080 - mean_absolute_error: 0.0650 - val_loss: 0.3996 - val_mean_absolute_error: 0.3675\n",
      "Epoch 497/500\n",
      "5/5 [==============================] - 0s 10ms/step - loss: 0.0065 - mean_absolute_error: 0.0594 - val_loss: 0.3898 - val_mean_absolute_error: 0.3688\n",
      "Epoch 498/500\n",
      "5/5 [==============================] - 0s 10ms/step - loss: 0.0063 - mean_absolute_error: 0.0575 - val_loss: 0.3808 - val_mean_absolute_error: 0.3702\n",
      "Epoch 499/500\n",
      "5/5 [==============================] - 0s 11ms/step - loss: 0.0066 - mean_absolute_error: 0.0598 - val_loss: 0.4026 - val_mean_absolute_error: 0.3767\n",
      "Epoch 500/500\n",
      "5/5 [==============================] - 0s 11ms/step - loss: 0.0049 - mean_absolute_error: 0.0489 - val_loss: 0.4090 - val_mean_absolute_error: 0.3777\n",
      "3/3 [==============================] - 0s 3ms/step - loss: 0.3434 - mean_absolute_error: 0.4056\n",
      "Test Loss (MSE): 0.3433769643306732\n",
      "3/3 [==============================] - 0s 3ms/step\n",
      "MSE : 0.34337691204517246\n",
      "RMSE: 0.5859837131227902\n",
      "MAE : 0.4055634140968323\n",
      "R2  : 0.8634100867978461\n",
      "MAPE: 27.45430958267821%\n",
      "Model saved to trained_mlp_model_ga.h5\n"
     ]
    }
   ],
   "source": [
    "import numpy as np\n",
    "import pandas as pd\n",
    "from deap import base, creator, tools, algorithms\n",
    "from tensorflow.keras.models import Sequential\n",
    "from tensorflow.keras.layers import Dense\n",
    "from sklearn.metrics import mean_squared_error, r2_score\n",
    "\n",
    "# Load and preprocess your data\n",
    "# Assume X_train_scaled, X_test_scaled, y_train, y_test are already defined\n",
    "\n",
    "def create_model(params):\n",
    "    learning_rate = params['learning_rate']\n",
    "    layers = params['layers']\n",
    "    \n",
    "    model = Sequential()\n",
    "    model.add(Dense(layers[0], input_dim=X_train_scaled.shape[1], activation='relu'))\n",
    "    for units in layers[1:]:\n",
    "        model.add(Dense(units, activation='tanh'))\n",
    "    model.add(Dense(1, activation='linear'))\n",
    "    \n",
    "    model.compile(loss='mean_squared_error', optimizer=Adam(learning_rate=learning_rate), metrics=['mean_absolute_error'])\n",
    "    return model\n",
    "\n",
    "def evaluate_model(individual):\n",
    "    params = {\n",
    "        'learning_rate': individual[0],\n",
    "        'layers': individual[1:]\n",
    "    }\n",
    "    model = create_model(params)\n",
    "    history = model.fit(X_train_scaled, y_train, epochs=100, batch_size=50, verbose=0, validation_split=0.2)\n",
    "    \n",
    "    y_pred = model.predict(X_test_scaled)\n",
    "    mse = mean_squared_error(y_test, y_pred)\n",
    "    return mse,\n",
    "\n",
    "# Genetic Algorithm setup\n",
    "creator.create(\"FitnessMin\", base.Fitness, weights=(-1.0,))\n",
    "creator.create(\"Individual\", list, fitness=creator.FitnessMin)\n",
    "\n",
    "toolbox = base.Toolbox()\n",
    "toolbox.register(\"attr_float\", np.random.uniform, 0.01, 0.1)\n",
    "toolbox.register(\"attr_int\", np.random.randint, 8, 128)\n",
    "toolbox.register(\"individual\", tools.initCycle, creator.Individual, (toolbox.attr_float, toolbox.attr_int, toolbox.attr_int, toolbox.attr_int, toolbox.attr_int, toolbox.attr_int), n=1)\n",
    "toolbox.register(\"population\", tools.initRepeat, list, toolbox.individual)\n",
    "\n",
    "toolbox.register(\"mate\", tools.cxTwoPoint)\n",
    "toolbox.register(\"mutate\", tools.mutGaussian, mu=0, sigma=1, indpb=0.2)\n",
    "toolbox.register(\"select\", tools.selTournament, tournsize=3)\n",
    "toolbox.register(\"evaluate\", evaluate_model)\n",
    "\n",
    "# Run Genetic Algorithm\n",
    "population = toolbox.population(n=20)\n",
    "ngen = 10\n",
    "cxpb = 0.5\n",
    "mutpb = 0.2\n",
    "\n",
    "algorithms.eaSimple(population, toolbox, cxpb=cxpb, mutpb=mutpb, ngen=ngen, verbose=True)\n",
    "\n",
    "best_individual = tools.selBest(population, 1)[0]\n",
    "best_params = {\n",
    "    'learning_rate': best_individual[0],\n",
    "    'layers': best_individual[1:]\n",
    "}\n",
    "\n",
    "print(f\"Best parameters: {best_params}\")\n",
    "\n",
    "# Train the final model with the best parameters\n",
    "final_model = create_model(best_params)\n",
    "final_model.fit(X_train_scaled, y_train, epochs=500, batch_size=50, validation_split=0.2)\n",
    "\n",
    "# Evaluate the final model\n",
    "loss, mae = final_model.evaluate(X_test_scaled, y_test)\n",
    "print(f\"Test Loss (MSE): {loss}\")\n",
    "\n",
    "# Predict on test set\n",
    "y_pred = final_model.predict(X_test_scaled)\n",
    "\n",
    "# Calculate additional metrics\n",
    "mse = mean_squared_error(y_test, y_pred)\n",
    "rmse = np.sqrt(mse)\n",
    "r2 = r2_score(y_test, y_pred)\n",
    "mape = np.mean(np.abs((y_test - y_pred.flatten()) / y_test)) * 100\n",
    "\n",
    "# Print metrics\n",
    "print(f\"MSE : {mse}\")\n",
    "print(f\"RMSE: {rmse}\")\n",
    "print(f\"MAE : {mae}\")\n",
    "print(f\"R2  : {r2}\")\n",
    "print(f\"MAPE: {mape}%\")\n",
    "\n",
    "final_model.save('trained_mlp_model_ga.h5')\n",
    "print(\"Model saved to trained_mlp_model_ga.h5\")\n"
   ]
  },
  {
   "cell_type": "code",
   "execution_count": 63,
   "id": "07618202-3700-482e-b952-fab31815d83c",
   "metadata": {},
   "outputs": [
    {
     "name": "stdout",
     "output_type": "stream",
     "text": [
      "Epoch 1/100\n"
     ]
    },
    {
     "name": "stderr",
     "output_type": "stream",
     "text": [
      "h:\\MODEL\\MLP\\M\\Lib\\site-packages\\keras\\engine\\data_adapter.py:1700: FutureWarning: The behavior of `series[i:j]` with an integer-dtype index is deprecated. In a future version, this will be treated as *label-based* indexing, consistent with e.g. `series[i]` lookups. To retain the old behavior, use `series.iloc[i:j]`. To get the future behavior, use `series.loc[i:j]`.\n",
      "  return t[start:end]\n"
     ]
    },
    {
     "name": "stdout",
     "output_type": "stream",
     "text": [
      "1/1 [==============================] - 1s 1s/step - loss: 8.7473 - mean_absolute_error: 2.7311 - val_loss: 0.8043 - val_mean_absolute_error: 0.7640\n",
      "Epoch 2/100\n",
      "1/1 [==============================] - 0s 35ms/step - loss: 1.7136 - mean_absolute_error: 1.0024 - val_loss: 0.4799 - val_mean_absolute_error: 0.5704\n",
      "Epoch 3/100\n",
      "1/1 [==============================] - 0s 36ms/step - loss: 1.3133 - mean_absolute_error: 0.9733 - val_loss: 0.5575 - val_mean_absolute_error: 0.5827\n",
      "Epoch 4/100\n",
      "1/1 [==============================] - 0s 34ms/step - loss: 1.2690 - mean_absolute_error: 0.9834 - val_loss: 0.5387 - val_mean_absolute_error: 0.5486\n",
      "Epoch 5/100\n",
      "1/1 [==============================] - 0s 36ms/step - loss: 1.1584 - mean_absolute_error: 0.9225 - val_loss: 0.5907 - val_mean_absolute_error: 0.5931\n",
      "Epoch 6/100\n",
      "1/1 [==============================] - 0s 40ms/step - loss: 1.1134 - mean_absolute_error: 0.8944 - val_loss: 0.7768 - val_mean_absolute_error: 0.7123\n",
      "Epoch 7/100\n",
      "1/1 [==============================] - 0s 39ms/step - loss: 1.0877 - mean_absolute_error: 0.8774 - val_loss: 0.9978 - val_mean_absolute_error: 0.8396\n",
      "Epoch 8/100\n",
      "1/1 [==============================] - 0s 33ms/step - loss: 1.0653 - mean_absolute_error: 0.8592 - val_loss: 1.1077 - val_mean_absolute_error: 0.8988\n",
      "Epoch 9/100\n",
      "1/1 [==============================] - 0s 36ms/step - loss: 1.0327 - mean_absolute_error: 0.8408 - val_loss: 1.1028 - val_mean_absolute_error: 0.8967\n",
      "Epoch 10/100\n",
      "1/1 [==============================] - 0s 32ms/step - loss: 0.9772 - mean_absolute_error: 0.8166 - val_loss: 1.0608 - val_mean_absolute_error: 0.8768\n",
      "Epoch 11/100\n",
      "1/1 [==============================] - 0s 66ms/step - loss: 0.8953 - mean_absolute_error: 0.7770 - val_loss: 1.0168 - val_mean_absolute_error: 0.8487\n",
      "Epoch 12/100\n",
      "1/1 [==============================] - 0s 46ms/step - loss: 0.7916 - mean_absolute_error: 0.7153 - val_loss: 0.9556 - val_mean_absolute_error: 0.8152\n",
      "Epoch 13/100\n",
      "1/1 [==============================] - 0s 42ms/step - loss: 0.6866 - mean_absolute_error: 0.6448 - val_loss: 0.8218 - val_mean_absolute_error: 0.7531\n",
      "Epoch 14/100\n",
      "1/1 [==============================] - 0s 41ms/step - loss: 0.5666 - mean_absolute_error: 0.5708 - val_loss: 0.7227 - val_mean_absolute_error: 0.7190\n",
      "Epoch 15/100\n",
      "1/1 [==============================] - 0s 38ms/step - loss: 0.4897 - mean_absolute_error: 0.5224 - val_loss: 0.7109 - val_mean_absolute_error: 0.7199\n",
      "Epoch 16/100\n",
      "1/1 [==============================] - 0s 36ms/step - loss: 0.4214 - mean_absolute_error: 0.4850 - val_loss: 0.7655 - val_mean_absolute_error: 0.7134\n",
      "Epoch 17/100\n",
      "1/1 [==============================] - 0s 33ms/step - loss: 0.3392 - mean_absolute_error: 0.3910 - val_loss: 0.8549 - val_mean_absolute_error: 0.7705\n",
      "Epoch 18/100\n",
      "1/1 [==============================] - 0s 35ms/step - loss: 0.2858 - mean_absolute_error: 0.3632 - val_loss: 0.8013 - val_mean_absolute_error: 0.7425\n",
      "Epoch 19/100\n",
      "1/1 [==============================] - 0s 34ms/step - loss: 0.2290 - mean_absolute_error: 0.3131 - val_loss: 0.6866 - val_mean_absolute_error: 0.6958\n",
      "Epoch 20/100\n",
      "1/1 [==============================] - 0s 37ms/step - loss: 0.1874 - mean_absolute_error: 0.2986 - val_loss: 0.5730 - val_mean_absolute_error: 0.6431\n",
      "Epoch 21/100\n",
      "1/1 [==============================] - 0s 41ms/step - loss: 0.1771 - mean_absolute_error: 0.2966 - val_loss: 0.5657 - val_mean_absolute_error: 0.6424\n",
      "Epoch 22/100\n",
      "1/1 [==============================] - 0s 37ms/step - loss: 0.1571 - mean_absolute_error: 0.2833 - val_loss: 0.6308 - val_mean_absolute_error: 0.6700\n",
      "Epoch 23/100\n",
      "1/1 [==============================] - 0s 34ms/step - loss: 0.1492 - mean_absolute_error: 0.2602 - val_loss: 0.6346 - val_mean_absolute_error: 0.6764\n",
      "Epoch 24/100\n",
      "1/1 [==============================] - 0s 41ms/step - loss: 0.1674 - mean_absolute_error: 0.3071 - val_loss: 0.6294 - val_mean_absolute_error: 0.6612\n",
      "Epoch 25/100\n",
      "1/1 [==============================] - 0s 38ms/step - loss: 0.1703 - mean_absolute_error: 0.3081 - val_loss: 0.5233 - val_mean_absolute_error: 0.6148\n",
      "Epoch 26/100\n",
      "1/1 [==============================] - 0s 44ms/step - loss: 0.1688 - mean_absolute_error: 0.3212 - val_loss: 0.4939 - val_mean_absolute_error: 0.6011\n",
      "Epoch 27/100\n",
      "1/1 [==============================] - 0s 35ms/step - loss: 0.1277 - mean_absolute_error: 0.2459 - val_loss: 0.4984 - val_mean_absolute_error: 0.6006\n",
      "Epoch 28/100\n",
      "1/1 [==============================] - 0s 35ms/step - loss: 0.1315 - mean_absolute_error: 0.2542 - val_loss: 0.5028 - val_mean_absolute_error: 0.6070\n",
      "Epoch 29/100\n",
      "1/1 [==============================] - 0s 37ms/step - loss: 0.1369 - mean_absolute_error: 0.2714 - val_loss: 0.5128 - val_mean_absolute_error: 0.6177\n",
      "Epoch 30/100\n",
      "1/1 [==============================] - 0s 36ms/step - loss: 0.1104 - mean_absolute_error: 0.2111 - val_loss: 0.5348 - val_mean_absolute_error: 0.6250\n",
      "Epoch 31/100\n",
      "1/1 [==============================] - 0s 36ms/step - loss: 0.1176 - mean_absolute_error: 0.2347 - val_loss: 0.5171 - val_mean_absolute_error: 0.6225\n",
      "Epoch 32/100\n",
      "1/1 [==============================] - 0s 32ms/step - loss: 0.0941 - mean_absolute_error: 0.1801 - val_loss: 0.5005 - val_mean_absolute_error: 0.6029\n",
      "Epoch 33/100\n",
      "1/1 [==============================] - 0s 35ms/step - loss: 0.1119 - mean_absolute_error: 0.2353 - val_loss: 0.4596 - val_mean_absolute_error: 0.5877\n",
      "Epoch 34/100\n",
      "1/1 [==============================] - 0s 36ms/step - loss: 0.0932 - mean_absolute_error: 0.1880 - val_loss: 0.4075 - val_mean_absolute_error: 0.5492\n",
      "Epoch 35/100\n",
      "1/1 [==============================] - 0s 33ms/step - loss: 0.0905 - mean_absolute_error: 0.1842 - val_loss: 0.3448 - val_mean_absolute_error: 0.4921\n",
      "Epoch 36/100\n",
      "1/1 [==============================] - 0s 32ms/step - loss: 0.0764 - mean_absolute_error: 0.1551 - val_loss: 0.3245 - val_mean_absolute_error: 0.4612\n",
      "Epoch 37/100\n",
      "1/1 [==============================] - 0s 34ms/step - loss: 0.0840 - mean_absolute_error: 0.1726 - val_loss: 0.3201 - val_mean_absolute_error: 0.4768\n",
      "Epoch 38/100\n",
      "1/1 [==============================] - 0s 65ms/step - loss: 0.0824 - mean_absolute_error: 0.1708 - val_loss: 0.3278 - val_mean_absolute_error: 0.4937\n",
      "Epoch 39/100\n",
      "1/1 [==============================] - 0s 42ms/step - loss: 0.0860 - mean_absolute_error: 0.1858 - val_loss: 0.3182 - val_mean_absolute_error: 0.4715\n",
      "Epoch 40/100\n",
      "1/1 [==============================] - 0s 32ms/step - loss: 0.0746 - mean_absolute_error: 0.1512 - val_loss: 0.3153 - val_mean_absolute_error: 0.4606\n",
      "Epoch 41/100\n",
      "1/1 [==============================] - 0s 33ms/step - loss: 0.0709 - mean_absolute_error: 0.1463 - val_loss: 0.3158 - val_mean_absolute_error: 0.4726\n",
      "Epoch 42/100\n",
      "1/1 [==============================] - 0s 32ms/step - loss: 0.0640 - mean_absolute_error: 0.1280 - val_loss: 0.3324 - val_mean_absolute_error: 0.4920\n",
      "Epoch 43/100\n",
      "1/1 [==============================] - 0s 31ms/step - loss: 0.0663 - mean_absolute_error: 0.1398 - val_loss: 0.3568 - val_mean_absolute_error: 0.5109\n",
      "Epoch 44/100\n",
      "1/1 [==============================] - 0s 32ms/step - loss: 0.0598 - mean_absolute_error: 0.1235 - val_loss: 0.3844 - val_mean_absolute_error: 0.5286\n",
      "Epoch 45/100\n",
      "1/1 [==============================] - 0s 32ms/step - loss: 0.0590 - mean_absolute_error: 0.1296 - val_loss: 0.3894 - val_mean_absolute_error: 0.5369\n",
      "Epoch 46/100\n",
      "1/1 [==============================] - 0s 32ms/step - loss: 0.0532 - mean_absolute_error: 0.1132 - val_loss: 0.3784 - val_mean_absolute_error: 0.5266\n",
      "Epoch 47/100\n",
      "1/1 [==============================] - 0s 36ms/step - loss: 0.0528 - mean_absolute_error: 0.1260 - val_loss: 0.3635 - val_mean_absolute_error: 0.5040\n",
      "Epoch 48/100\n",
      "1/1 [==============================] - 0s 33ms/step - loss: 0.0478 - mean_absolute_error: 0.1077 - val_loss: 0.3555 - val_mean_absolute_error: 0.4837\n",
      "Epoch 49/100\n",
      "1/1 [==============================] - 0s 33ms/step - loss: 0.0477 - mean_absolute_error: 0.1158 - val_loss: 0.3384 - val_mean_absolute_error: 0.4759\n",
      "Epoch 50/100\n",
      "1/1 [==============================] - 0s 35ms/step - loss: 0.0437 - mean_absolute_error: 0.1032 - val_loss: 0.3377 - val_mean_absolute_error: 0.4771\n",
      "Epoch 51/100\n",
      "1/1 [==============================] - 0s 32ms/step - loss: 0.0408 - mean_absolute_error: 0.1063 - val_loss: 0.3530 - val_mean_absolute_error: 0.4814\n",
      "Epoch 52/100\n",
      "1/1 [==============================] - 0s 33ms/step - loss: 0.0357 - mean_absolute_error: 0.0903 - val_loss: 0.3616 - val_mean_absolute_error: 0.4839\n",
      "Epoch 53/100\n",
      "1/1 [==============================] - 0s 38ms/step - loss: 0.0339 - mean_absolute_error: 0.0898 - val_loss: 0.3532 - val_mean_absolute_error: 0.4815\n",
      "Epoch 54/100\n",
      "1/1 [==============================] - 0s 32ms/step - loss: 0.0309 - mean_absolute_error: 0.0806 - val_loss: 0.3467 - val_mean_absolute_error: 0.4738\n",
      "Epoch 55/100\n",
      "1/1 [==============================] - 0s 32ms/step - loss: 0.0298 - mean_absolute_error: 0.0879 - val_loss: 0.3469 - val_mean_absolute_error: 0.4639\n",
      "Epoch 56/100\n",
      "1/1 [==============================] - 0s 31ms/step - loss: 0.0274 - mean_absolute_error: 0.0823 - val_loss: 0.3442 - val_mean_absolute_error: 0.4552\n",
      "Epoch 57/100\n",
      "1/1 [==============================] - 0s 32ms/step - loss: 0.0259 - mean_absolute_error: 0.0853 - val_loss: 0.3339 - val_mean_absolute_error: 0.4491\n",
      "Epoch 58/100\n",
      "1/1 [==============================] - 0s 31ms/step - loss: 0.0232 - mean_absolute_error: 0.0728 - val_loss: 0.3289 - val_mean_absolute_error: 0.4436\n",
      "Epoch 59/100\n",
      "1/1 [==============================] - 0s 37ms/step - loss: 0.0216 - mean_absolute_error: 0.0683 - val_loss: 0.3290 - val_mean_absolute_error: 0.4369\n",
      "Epoch 60/100\n",
      "1/1 [==============================] - 0s 31ms/step - loss: 0.0199 - mean_absolute_error: 0.0647 - val_loss: 0.3240 - val_mean_absolute_error: 0.4303\n",
      "Epoch 61/100\n",
      "1/1 [==============================] - 0s 31ms/step - loss: 0.0192 - mean_absolute_error: 0.0660 - val_loss: 0.3124 - val_mean_absolute_error: 0.4258\n",
      "Epoch 62/100\n",
      "1/1 [==============================] - 0s 30ms/step - loss: 0.0183 - mean_absolute_error: 0.0654 - val_loss: 0.3095 - val_mean_absolute_error: 0.4251\n",
      "Epoch 63/100\n",
      "1/1 [==============================] - 0s 30ms/step - loss: 0.0177 - mean_absolute_error: 0.0648 - val_loss: 0.3167 - val_mean_absolute_error: 0.4287\n",
      "Epoch 64/100\n",
      "1/1 [==============================] - 0s 32ms/step - loss: 0.0168 - mean_absolute_error: 0.0652 - val_loss: 0.3198 - val_mean_absolute_error: 0.4341\n",
      "Epoch 65/100\n",
      "1/1 [==============================] - 0s 34ms/step - loss: 0.0160 - mean_absolute_error: 0.0620 - val_loss: 0.3176 - val_mean_absolute_error: 0.4380\n",
      "Epoch 66/100\n",
      "1/1 [==============================] - 0s 33ms/step - loss: 0.0153 - mean_absolute_error: 0.0597 - val_loss: 0.3197 - val_mean_absolute_error: 0.4394\n",
      "Epoch 67/100\n",
      "1/1 [==============================] - 0s 32ms/step - loss: 0.0142 - mean_absolute_error: 0.0537 - val_loss: 0.3226 - val_mean_absolute_error: 0.4378\n",
      "Epoch 68/100\n",
      "1/1 [==============================] - 0s 38ms/step - loss: 0.0138 - mean_absolute_error: 0.0538 - val_loss: 0.3151 - val_mean_absolute_error: 0.4325\n",
      "Epoch 69/100\n",
      "1/1 [==============================] - 0s 33ms/step - loss: 0.0129 - mean_absolute_error: 0.0472 - val_loss: 0.3083 - val_mean_absolute_error: 0.4262\n",
      "Epoch 70/100\n",
      "1/1 [==============================] - 0s 38ms/step - loss: 0.0127 - mean_absolute_error: 0.0511 - val_loss: 0.3086 - val_mean_absolute_error: 0.4204\n",
      "Epoch 71/100\n",
      "1/1 [==============================] - 0s 35ms/step - loss: 0.0119 - mean_absolute_error: 0.0454 - val_loss: 0.3034 - val_mean_absolute_error: 0.4126\n",
      "Epoch 72/100\n",
      "1/1 [==============================] - 0s 33ms/step - loss: 0.0114 - mean_absolute_error: 0.0430 - val_loss: 0.2928 - val_mean_absolute_error: 0.4030\n",
      "Epoch 73/100\n",
      "1/1 [==============================] - 0s 33ms/step - loss: 0.0109 - mean_absolute_error: 0.0439 - val_loss: 0.2890 - val_mean_absolute_error: 0.3953\n",
      "Epoch 74/100\n",
      "1/1 [==============================] - 0s 33ms/step - loss: 0.0101 - mean_absolute_error: 0.0374 - val_loss: 0.2882 - val_mean_absolute_error: 0.3905\n",
      "Epoch 75/100\n",
      "1/1 [==============================] - 0s 35ms/step - loss: 0.0097 - mean_absolute_error: 0.0415 - val_loss: 0.2840 - val_mean_absolute_error: 0.3880\n",
      "Epoch 76/100\n",
      "1/1 [==============================] - 0s 39ms/step - loss: 0.0088 - mean_absolute_error: 0.0359 - val_loss: 0.2837 - val_mean_absolute_error: 0.3877\n",
      "Epoch 77/100\n",
      "1/1 [==============================] - 0s 34ms/step - loss: 0.0081 - mean_absolute_error: 0.0341 - val_loss: 0.2854 - val_mean_absolute_error: 0.3875\n",
      "Epoch 78/100\n",
      "1/1 [==============================] - 0s 35ms/step - loss: 0.0073 - mean_absolute_error: 0.0340 - val_loss: 0.2812 - val_mean_absolute_error: 0.3855\n",
      "Epoch 79/100\n",
      "1/1 [==============================] - 0s 34ms/step - loss: 0.0064 - mean_absolute_error: 0.0275 - val_loss: 0.2761 - val_mean_absolute_error: 0.3829\n",
      "Epoch 80/100\n",
      "1/1 [==============================] - 0s 34ms/step - loss: 0.0060 - mean_absolute_error: 0.0289 - val_loss: 0.2748 - val_mean_absolute_error: 0.3814\n",
      "Epoch 81/100\n",
      "1/1 [==============================] - 0s 35ms/step - loss: 0.0058 - mean_absolute_error: 0.0306 - val_loss: 0.2732 - val_mean_absolute_error: 0.3811\n",
      "Epoch 82/100\n",
      "1/1 [==============================] - 0s 32ms/step - loss: 0.0057 - mean_absolute_error: 0.0308 - val_loss: 0.2717 - val_mean_absolute_error: 0.3813\n",
      "Epoch 83/100\n",
      "1/1 [==============================] - 0s 34ms/step - loss: 0.0054 - mean_absolute_error: 0.0319 - val_loss: 0.2729 - val_mean_absolute_error: 0.3816\n",
      "Epoch 84/100\n",
      "1/1 [==============================] - 0s 34ms/step - loss: 0.0049 - mean_absolute_error: 0.0306 - val_loss: 0.2731 - val_mean_absolute_error: 0.3811\n",
      "Epoch 85/100\n",
      "1/1 [==============================] - 0s 34ms/step - loss: 0.0044 - mean_absolute_error: 0.0302 - val_loss: 0.2717 - val_mean_absolute_error: 0.3800\n",
      "Epoch 86/100\n",
      "1/1 [==============================] - 0s 30ms/step - loss: 0.0040 - mean_absolute_error: 0.0280 - val_loss: 0.2724 - val_mean_absolute_error: 0.3793\n",
      "Epoch 87/100\n",
      "1/1 [==============================] - 0s 35ms/step - loss: 0.0036 - mean_absolute_error: 0.0242 - val_loss: 0.2730 - val_mean_absolute_error: 0.3786\n",
      "Epoch 88/100\n",
      "1/1 [==============================] - 0s 31ms/step - loss: 0.0034 - mean_absolute_error: 0.0268 - val_loss: 0.2723 - val_mean_absolute_error: 0.3782\n",
      "Epoch 89/100\n",
      "1/1 [==============================] - 0s 32ms/step - loss: 0.0031 - mean_absolute_error: 0.0236 - val_loss: 0.2735 - val_mean_absolute_error: 0.3782\n",
      "Epoch 90/100\n",
      "1/1 [==============================] - 0s 35ms/step - loss: 0.0028 - mean_absolute_error: 0.0210 - val_loss: 0.2749 - val_mean_absolute_error: 0.3786\n",
      "Epoch 91/100\n",
      "1/1 [==============================] - 0s 33ms/step - loss: 0.0026 - mean_absolute_error: 0.0232 - val_loss: 0.2745 - val_mean_absolute_error: 0.3784\n",
      "Epoch 92/100\n",
      "1/1 [==============================] - 0s 33ms/step - loss: 0.0025 - mean_absolute_error: 0.0265 - val_loss: 0.2734 - val_mean_absolute_error: 0.3769\n",
      "Epoch 93/100\n",
      "1/1 [==============================] - 0s 35ms/step - loss: 0.0022 - mean_absolute_error: 0.0232 - val_loss: 0.2700 - val_mean_absolute_error: 0.3735\n",
      "Epoch 94/100\n",
      "1/1 [==============================] - 0s 34ms/step - loss: 0.0019 - mean_absolute_error: 0.0185 - val_loss: 0.2653 - val_mean_absolute_error: 0.3693\n",
      "Epoch 95/100\n",
      "1/1 [==============================] - 0s 57ms/step - loss: 0.0016 - mean_absolute_error: 0.0154 - val_loss: 0.2629 - val_mean_absolute_error: 0.3658\n",
      "Epoch 96/100\n",
      "1/1 [==============================] - 0s 37ms/step - loss: 0.0015 - mean_absolute_error: 0.0160 - val_loss: 0.2616 - val_mean_absolute_error: 0.3636\n",
      "Epoch 97/100\n",
      "1/1 [==============================] - 0s 42ms/step - loss: 0.0014 - mean_absolute_error: 0.0166 - val_loss: 0.2610 - val_mean_absolute_error: 0.3624\n",
      "Epoch 98/100\n",
      "1/1 [==============================] - 0s 34ms/step - loss: 0.0013 - mean_absolute_error: 0.0181 - val_loss: 0.2617 - val_mean_absolute_error: 0.3615\n",
      "Epoch 99/100\n",
      "1/1 [==============================] - 0s 31ms/step - loss: 0.0012 - mean_absolute_error: 0.0169 - val_loss: 0.2611 - val_mean_absolute_error: 0.3606\n",
      "Epoch 100/100\n",
      "1/1 [==============================] - 0s 31ms/step - loss: 9.9232e-04 - mean_absolute_error: 0.0143 - val_loss: 0.2607 - val_mean_absolute_error: 0.3602\n",
      "1/1 [==============================] - 0s 69ms/step\n",
      "Validation Results on Small Subset:\n",
      "MSE: 2.0050100695049897\n",
      "RMSE: 1.4159837815119882\n",
      "MAE: 1.284511398077011\n",
      "R^2: -0.08594644469689228\n",
      "MAPE: 88.29567890194667 %\n",
      "Epoch 1/500\n"
     ]
    },
    {
     "name": "stderr",
     "output_type": "stream",
     "text": [
      "h:\\MODEL\\MLP\\M\\Lib\\site-packages\\keras\\engine\\data_adapter.py:1700: FutureWarning: The behavior of `series[i:j]` with an integer-dtype index is deprecated. In a future version, this will be treated as *label-based* indexing, consistent with e.g. `series[i]` lookups. To retain the old behavior, use `series.iloc[i:j]`. To get the future behavior, use `series.loc[i:j]`.\n",
      "  return t[start:end]\n"
     ]
    },
    {
     "name": "stdout",
     "output_type": "stream",
     "text": [
      "Epoch 2/500\n",
      "Epoch 3/500\n",
      "Epoch 4/500\n",
      "Epoch 5/500\n",
      "Epoch 6/500\n",
      "Epoch 7/500\n",
      "Epoch 8/500\n",
      "Epoch 9/500\n",
      "Epoch 10/500\n",
      "Epoch 11/500\n",
      "Epoch 12/500\n",
      "Epoch 13/500\n",
      "Epoch 14/500\n",
      "Epoch 15/500\n",
      "Epoch 16/500\n",
      "Epoch 17/500\n",
      "Epoch 18/500\n",
      "Epoch 19/500\n",
      "Epoch 20/500\n",
      "Epoch 21/500\n",
      "Epoch 22/500\n",
      "Epoch 23/500\n",
      "Epoch 24/500\n",
      "Epoch 25/500\n",
      "Epoch 26/500\n",
      "Epoch 27/500\n",
      "Epoch 28/500\n",
      "Epoch 29/500\n",
      "Epoch 30/500\n",
      "Epoch 31/500\n",
      "Epoch 32/500\n",
      "Epoch 33/500\n",
      "Epoch 34/500\n",
      "Epoch 35/500\n",
      "Epoch 36/500\n",
      "Epoch 37/500\n",
      "Epoch 38/500\n",
      "Epoch 39/500\n",
      "Epoch 40/500\n",
      "Epoch 41/500\n",
      "Epoch 42/500\n",
      "Epoch 43/500\n",
      "Epoch 44/500\n",
      "Epoch 45/500\n",
      "Epoch 46/500\n",
      "Epoch 47/500\n",
      "Epoch 48/500\n",
      "Epoch 49/500\n",
      "Epoch 50/500\n",
      "Epoch 51/500\n",
      "Epoch 52/500\n",
      "Epoch 53/500\n",
      "Epoch 54/500\n",
      "Epoch 55/500\n",
      "Epoch 56/500\n",
      "Epoch 57/500\n",
      "Epoch 58/500\n",
      "Epoch 59/500\n",
      "Epoch 60/500\n",
      "Epoch 61/500\n",
      "Epoch 62/500\n",
      "Epoch 63/500\n",
      "Epoch 64/500\n",
      "Epoch 65/500\n",
      "Epoch 66/500\n",
      "Epoch 67/500\n",
      "Epoch 68/500\n",
      "Epoch 69/500\n",
      "Epoch 70/500\n",
      "Epoch 71/500\n",
      "Epoch 72/500\n",
      "Epoch 73/500\n",
      "Epoch 74/500\n",
      "Epoch 75/500\n",
      "Epoch 76/500\n",
      "Epoch 77/500\n",
      "Epoch 78/500\n",
      "Epoch 79/500\n",
      "Epoch 80/500\n",
      "Epoch 81/500\n",
      "Epoch 82/500\n",
      "Epoch 83/500\n",
      "Epoch 84/500\n",
      "Epoch 85/500\n",
      "Epoch 86/500\n",
      "Epoch 87/500\n",
      "Epoch 88/500\n",
      "Epoch 89/500\n",
      "Epoch 90/500\n",
      "Epoch 91/500\n",
      "Epoch 92/500\n",
      "Epoch 93/500\n",
      "Epoch 94/500\n",
      "Epoch 95/500\n",
      "Epoch 96/500\n",
      "Epoch 97/500\n",
      "Epoch 98/500\n",
      "Epoch 99/500\n",
      "Epoch 100/500\n",
      "Epoch 101/500\n",
      "Epoch 102/500\n",
      "Epoch 103/500\n",
      "Epoch 104/500\n",
      "Epoch 105/500\n",
      "Epoch 106/500\n",
      "Epoch 107/500\n",
      "Epoch 108/500\n",
      "Epoch 109/500\n",
      "Epoch 110/500\n",
      "Epoch 111/500\n",
      "Epoch 112/500\n",
      "Epoch 113/500\n",
      "Epoch 114/500\n",
      "Epoch 115/500\n",
      "Epoch 116/500\n",
      "Epoch 117/500\n",
      "Epoch 118/500\n",
      "Epoch 119/500\n",
      "Epoch 120/500\n",
      "Epoch 121/500\n",
      "Epoch 122/500\n",
      "Epoch 123/500\n",
      "Epoch 124/500\n",
      "Epoch 125/500\n",
      "Epoch 126/500\n",
      "Epoch 127/500\n",
      "Epoch 128/500\n",
      "Epoch 129/500\n",
      "Epoch 130/500\n",
      "Epoch 131/500\n",
      "Epoch 132/500\n",
      "Epoch 133/500\n",
      "Epoch 134/500\n",
      "Epoch 135/500\n",
      "Epoch 136/500\n",
      "Epoch 137/500\n",
      "Epoch 138/500\n",
      "Epoch 139/500\n",
      "Epoch 140/500\n",
      "Epoch 141/500\n",
      "Epoch 142/500\n",
      "Epoch 143/500\n",
      "Epoch 144/500\n",
      "Epoch 145/500\n",
      "Epoch 146/500\n",
      "Epoch 147/500\n",
      "Epoch 148/500\n",
      "Epoch 149/500\n",
      "Epoch 150/500\n",
      "Epoch 151/500\n",
      "Epoch 152/500\n",
      "Epoch 153/500\n",
      "Epoch 154/500\n",
      "Epoch 155/500\n",
      "Epoch 156/500\n",
      "Epoch 157/500\n",
      "Epoch 158/500\n",
      "Epoch 159/500\n",
      "Epoch 160/500\n",
      "Epoch 161/500\n",
      "Epoch 162/500\n",
      "Epoch 163/500\n",
      "Epoch 164/500\n",
      "Epoch 165/500\n",
      "Epoch 166/500\n",
      "Epoch 167/500\n",
      "Epoch 168/500\n",
      "Epoch 169/500\n",
      "Epoch 170/500\n",
      "Epoch 171/500\n",
      "Epoch 172/500\n",
      "Epoch 173/500\n",
      "Epoch 174/500\n",
      "Epoch 175/500\n",
      "Epoch 176/500\n",
      "Epoch 177/500\n",
      "Epoch 178/500\n",
      "Epoch 179/500\n",
      "Epoch 180/500\n",
      "Epoch 181/500\n",
      "Epoch 182/500\n",
      "Epoch 183/500\n",
      "Epoch 184/500\n",
      "Epoch 185/500\n",
      "Epoch 186/500\n",
      "Epoch 187/500\n",
      "Epoch 188/500\n",
      "Epoch 189/500\n",
      "Epoch 190/500\n",
      "Epoch 191/500\n",
      "Epoch 192/500\n",
      "Epoch 193/500\n",
      "Epoch 194/500\n",
      "Epoch 195/500\n",
      "Epoch 196/500\n",
      "Epoch 197/500\n",
      "Epoch 198/500\n",
      "Epoch 199/500\n",
      "Epoch 200/500\n",
      "Epoch 201/500\n",
      "Epoch 202/500\n",
      "Epoch 203/500\n",
      "Epoch 204/500\n",
      "Epoch 205/500\n",
      "Epoch 206/500\n",
      "Epoch 207/500\n",
      "Epoch 208/500\n",
      "Epoch 209/500\n",
      "Epoch 210/500\n",
      "Epoch 211/500\n",
      "Epoch 212/500\n",
      "Epoch 213/500\n",
      "Epoch 214/500\n",
      "Epoch 215/500\n",
      "Epoch 216/500\n",
      "Epoch 217/500\n",
      "Epoch 218/500\n",
      "Epoch 219/500\n",
      "Epoch 220/500\n",
      "Epoch 221/500\n",
      "Epoch 222/500\n",
      "Epoch 223/500\n",
      "Epoch 224/500\n",
      "Epoch 225/500\n",
      "Epoch 226/500\n",
      "Epoch 227/500\n",
      "Epoch 228/500\n",
      "Epoch 229/500\n",
      "Epoch 230/500\n",
      "Epoch 231/500\n",
      "Epoch 232/500\n",
      "Epoch 233/500\n",
      "Epoch 234/500\n",
      "Epoch 235/500\n",
      "Epoch 236/500\n",
      "Epoch 237/500\n",
      "Epoch 238/500\n",
      "Epoch 239/500\n",
      "Epoch 240/500\n",
      "Epoch 241/500\n",
      "Epoch 242/500\n",
      "Epoch 243/500\n",
      "Epoch 244/500\n",
      "Epoch 245/500\n",
      "Epoch 246/500\n",
      "Epoch 247/500\n",
      "Epoch 248/500\n",
      "Epoch 249/500\n",
      "Epoch 250/500\n",
      "Epoch 251/500\n",
      "Epoch 252/500\n",
      "Epoch 253/500\n",
      "Epoch 254/500\n",
      "Epoch 255/500\n",
      "Epoch 256/500\n",
      "Epoch 257/500\n",
      "Epoch 258/500\n",
      "Epoch 259/500\n",
      "Epoch 260/500\n",
      "Epoch 261/500\n",
      "Epoch 262/500\n",
      "Epoch 263/500\n",
      "Epoch 264/500\n",
      "Epoch 265/500\n",
      "Epoch 266/500\n",
      "Epoch 267/500\n",
      "Epoch 268/500\n",
      "Epoch 269/500\n",
      "Epoch 270/500\n",
      "Epoch 271/500\n",
      "Epoch 272/500\n",
      "Epoch 273/500\n",
      "Epoch 274/500\n",
      "Epoch 275/500\n",
      "Epoch 276/500\n",
      "Epoch 277/500\n",
      "Epoch 278/500\n",
      "Epoch 279/500\n",
      "Epoch 280/500\n",
      "Epoch 281/500\n",
      "Epoch 282/500\n",
      "Epoch 283/500\n",
      "Epoch 284/500\n",
      "Epoch 285/500\n",
      "Epoch 286/500\n",
      "Epoch 287/500\n",
      "Epoch 288/500\n",
      "Epoch 289/500\n",
      "Epoch 290/500\n",
      "Epoch 291/500\n",
      "Epoch 292/500\n",
      "Epoch 293/500\n",
      "Epoch 294/500\n",
      "Epoch 295/500\n",
      "Epoch 296/500\n",
      "Epoch 297/500\n",
      "Epoch 298/500\n",
      "Epoch 299/500\n",
      "Epoch 300/500\n",
      "Epoch 301/500\n",
      "Epoch 302/500\n",
      "Epoch 303/500\n",
      "Epoch 304/500\n",
      "Epoch 305/500\n",
      "Epoch 306/500\n",
      "Epoch 307/500\n",
      "Epoch 308/500\n",
      "Epoch 309/500\n",
      "Epoch 310/500\n",
      "Epoch 311/500\n",
      "Epoch 312/500\n",
      "Epoch 313/500\n",
      "Epoch 314/500\n",
      "Epoch 315/500\n",
      "Epoch 316/500\n",
      "Epoch 317/500\n",
      "Epoch 318/500\n",
      "Epoch 319/500\n",
      "Epoch 320/500\n",
      "Epoch 321/500\n",
      "Epoch 322/500\n",
      "Epoch 323/500\n",
      "Epoch 324/500\n",
      "Epoch 325/500\n",
      "Epoch 326/500\n",
      "Epoch 327/500\n",
      "Epoch 328/500\n",
      "Epoch 329/500\n",
      "Epoch 330/500\n",
      "Epoch 331/500\n",
      "Epoch 332/500\n",
      "Epoch 333/500\n",
      "Epoch 334/500\n",
      "Epoch 335/500\n",
      "Epoch 336/500\n",
      "Epoch 337/500\n",
      "Epoch 338/500\n",
      "Epoch 339/500\n",
      "Epoch 340/500\n",
      "Epoch 341/500\n",
      "Epoch 342/500\n",
      "Epoch 343/500\n",
      "Epoch 344/500\n",
      "Epoch 345/500\n",
      "Epoch 346/500\n",
      "Epoch 347/500\n",
      "Epoch 348/500\n",
      "Epoch 349/500\n",
      "Epoch 350/500\n",
      "Epoch 351/500\n",
      "Epoch 352/500\n",
      "Epoch 353/500\n",
      "Epoch 354/500\n",
      "Epoch 355/500\n",
      "Epoch 356/500\n",
      "Epoch 357/500\n",
      "Epoch 358/500\n",
      "Epoch 359/500\n",
      "Epoch 360/500\n",
      "Epoch 361/500\n",
      "Epoch 362/500\n",
      "Epoch 363/500\n",
      "Epoch 364/500\n",
      "Epoch 365/500\n",
      "Epoch 366/500\n",
      "Epoch 367/500\n",
      "Epoch 368/500\n",
      "Epoch 369/500\n",
      "Epoch 370/500\n",
      "Epoch 371/500\n",
      "Epoch 372/500\n",
      "Epoch 373/500\n",
      "Epoch 374/500\n",
      "Epoch 375/500\n",
      "Epoch 376/500\n",
      "Epoch 377/500\n",
      "Epoch 378/500\n",
      "Epoch 379/500\n",
      "Epoch 380/500\n",
      "Epoch 381/500\n",
      "Epoch 382/500\n",
      "Epoch 383/500\n",
      "Epoch 384/500\n",
      "Epoch 385/500\n",
      "Epoch 386/500\n",
      "Epoch 387/500\n",
      "Epoch 388/500\n",
      "Epoch 389/500\n",
      "Epoch 390/500\n",
      "Epoch 391/500\n",
      "Epoch 392/500\n",
      "Epoch 393/500\n",
      "Epoch 394/500\n",
      "Epoch 395/500\n",
      "Epoch 396/500\n",
      "Epoch 397/500\n",
      "Epoch 398/500\n",
      "Epoch 399/500\n",
      "Epoch 400/500\n",
      "Epoch 401/500\n",
      "Epoch 402/500\n",
      "Epoch 403/500\n",
      "Epoch 404/500\n",
      "Epoch 405/500\n",
      "Epoch 406/500\n",
      "Epoch 407/500\n",
      "Epoch 408/500\n",
      "Epoch 409/500\n",
      "Epoch 410/500\n",
      "Epoch 411/500\n",
      "Epoch 412/500\n",
      "Epoch 413/500\n",
      "Epoch 414/500\n",
      "Epoch 415/500\n",
      "Epoch 416/500\n",
      "Epoch 417/500\n",
      "Epoch 418/500\n",
      "Epoch 419/500\n",
      "Epoch 420/500\n",
      "Epoch 421/500\n",
      "Epoch 422/500\n",
      "Epoch 423/500\n",
      "Epoch 424/500\n",
      "Epoch 425/500\n",
      "Epoch 426/500\n",
      "Epoch 427/500\n",
      "Epoch 428/500\n",
      "Epoch 429/500\n",
      "Epoch 430/500\n",
      "Epoch 431/500\n",
      "Epoch 432/500\n",
      "Epoch 433/500\n",
      "Epoch 434/500\n",
      "Epoch 435/500\n",
      "Epoch 436/500\n",
      "Epoch 437/500\n",
      "Epoch 438/500\n",
      "Epoch 439/500\n",
      "Epoch 440/500\n",
      "Epoch 441/500\n",
      "Epoch 442/500\n",
      "Epoch 443/500\n",
      "Epoch 444/500\n",
      "Epoch 445/500\n",
      "Epoch 446/500\n",
      "Epoch 447/500\n",
      "Epoch 448/500\n",
      "Epoch 449/500\n",
      "Epoch 450/500\n",
      "Epoch 451/500\n",
      "Epoch 452/500\n",
      "Epoch 453/500\n",
      "Epoch 454/500\n",
      "Epoch 455/500\n",
      "Epoch 456/500\n",
      "Epoch 457/500\n",
      "Epoch 458/500\n",
      "Epoch 459/500\n",
      "Epoch 460/500\n",
      "Epoch 461/500\n",
      "Epoch 462/500\n",
      "Epoch 463/500\n",
      "Epoch 464/500\n",
      "Epoch 465/500\n",
      "Epoch 466/500\n",
      "Epoch 467/500\n",
      "Epoch 468/500\n",
      "Epoch 469/500\n",
      "Epoch 470/500\n",
      "Epoch 471/500\n",
      "Epoch 472/500\n",
      "Epoch 473/500\n",
      "Epoch 474/500\n",
      "Epoch 475/500\n",
      "Epoch 476/500\n",
      "Epoch 477/500\n",
      "Epoch 478/500\n",
      "Epoch 479/500\n",
      "Epoch 480/500\n",
      "Epoch 481/500\n",
      "Epoch 482/500\n",
      "Epoch 483/500\n",
      "Epoch 484/500\n",
      "Epoch 485/500\n",
      "Epoch 486/500\n",
      "Epoch 487/500\n",
      "Epoch 488/500\n",
      "Epoch 489/500\n",
      "Epoch 490/500\n",
      "Epoch 491/500\n",
      "Epoch 492/500\n",
      "Epoch 493/500\n",
      "Epoch 494/500\n",
      "Epoch 495/500\n",
      "Epoch 496/500\n",
      "Epoch 497/500\n",
      "Epoch 498/500\n",
      "Epoch 499/500\n",
      "Epoch 500/500\n",
      "2/2 [==============================] - 0s 1000us/step\n",
      "Validation Results on Large Subset:\n",
      "MSE: 0.7743088206023844\n",
      "RMSE: 0.8799481919990428\n",
      "MAE: 0.5895157039165496\n",
      "R^2: 0.5501924557995832\n",
      "MAPE: 30.713780375124227 %\n",
      "Epoch 1/100\n"
     ]
    },
    {
     "name": "stderr",
     "output_type": "stream",
     "text": [
      "h:\\MODEL\\MLP\\M\\Lib\\site-packages\\keras\\engine\\data_adapter.py:1700: FutureWarning: The behavior of `series[i:j]` with an integer-dtype index is deprecated. In a future version, this will be treated as *label-based* indexing, consistent with e.g. `series[i]` lookups. To retain the old behavior, use `series.iloc[i:j]`. To get the future behavior, use `series.loc[i:j]`.\n",
      "  return t[start:end]\n"
     ]
    },
    {
     "name": "stdout",
     "output_type": "stream",
     "text": [
      "5/5 [==============================] - 1s 45ms/step - loss: 3.0639 - mean_absolute_error: 1.3813 - val_loss: 1.5374 - val_mean_absolute_error: 0.9442\n",
      "Epoch 2/100\n",
      "5/5 [==============================] - 0s 10ms/step - loss: 1.3656 - mean_absolute_error: 0.9003 - val_loss: 1.1820 - val_mean_absolute_error: 0.8217\n",
      "Epoch 3/100\n",
      "5/5 [==============================] - 0s 10ms/step - loss: 1.0104 - mean_absolute_error: 0.7548 - val_loss: 0.9251 - val_mean_absolute_error: 0.7082\n",
      "Epoch 4/100\n",
      "5/5 [==============================] - 0s 12ms/step - loss: 0.7512 - mean_absolute_error: 0.6290 - val_loss: 0.7968 - val_mean_absolute_error: 0.6254\n",
      "Epoch 5/100\n",
      "5/5 [==============================] - 0s 9ms/step - loss: 0.5574 - mean_absolute_error: 0.5539 - val_loss: 0.8455 - val_mean_absolute_error: 0.7143\n",
      "Epoch 6/100\n",
      "5/5 [==============================] - 0s 10ms/step - loss: 0.4714 - mean_absolute_error: 0.5142 - val_loss: 0.7169 - val_mean_absolute_error: 0.6262\n",
      "Epoch 7/100\n",
      "5/5 [==============================] - 0s 9ms/step - loss: 0.3810 - mean_absolute_error: 0.4567 - val_loss: 0.5959 - val_mean_absolute_error: 0.5686\n",
      "Epoch 8/100\n",
      "5/5 [==============================] - 0s 10ms/step - loss: 0.3614 - mean_absolute_error: 0.4489 - val_loss: 0.5443 - val_mean_absolute_error: 0.5658\n",
      "Epoch 9/100\n",
      "5/5 [==============================] - 0s 11ms/step - loss: 0.3152 - mean_absolute_error: 0.4194 - val_loss: 0.5416 - val_mean_absolute_error: 0.5499\n",
      "Epoch 10/100\n",
      "5/5 [==============================] - 0s 9ms/step - loss: 0.2982 - mean_absolute_error: 0.4000 - val_loss: 0.5776 - val_mean_absolute_error: 0.5643\n",
      "Epoch 11/100\n",
      "5/5 [==============================] - 0s 10ms/step - loss: 0.2760 - mean_absolute_error: 0.3984 - val_loss: 0.5828 - val_mean_absolute_error: 0.5804\n",
      "Epoch 12/100\n",
      "5/5 [==============================] - 0s 11ms/step - loss: 0.2293 - mean_absolute_error: 0.3497 - val_loss: 0.5632 - val_mean_absolute_error: 0.5413\n",
      "Epoch 13/100\n",
      "5/5 [==============================] - 0s 11ms/step - loss: 0.2110 - mean_absolute_error: 0.3537 - val_loss: 0.4879 - val_mean_absolute_error: 0.5319\n",
      "Epoch 14/100\n",
      "5/5 [==============================] - 0s 10ms/step - loss: 0.1831 - mean_absolute_error: 0.3203 - val_loss: 0.5944 - val_mean_absolute_error: 0.5693\n",
      "Epoch 15/100\n",
      "5/5 [==============================] - 0s 10ms/step - loss: 0.1716 - mean_absolute_error: 0.3053 - val_loss: 0.5116 - val_mean_absolute_error: 0.5192\n",
      "Epoch 16/100\n",
      "5/5 [==============================] - 0s 9ms/step - loss: 0.1880 - mean_absolute_error: 0.3264 - val_loss: 0.4740 - val_mean_absolute_error: 0.5029\n",
      "Epoch 17/100\n",
      "5/5 [==============================] - 0s 9ms/step - loss: 0.1643 - mean_absolute_error: 0.2943 - val_loss: 0.4686 - val_mean_absolute_error: 0.5083\n",
      "Epoch 18/100\n",
      "5/5 [==============================] - 0s 11ms/step - loss: 0.1744 - mean_absolute_error: 0.3340 - val_loss: 0.5617 - val_mean_absolute_error: 0.5583\n",
      "Epoch 19/100\n",
      "5/5 [==============================] - 0s 9ms/step - loss: 0.1477 - mean_absolute_error: 0.2978 - val_loss: 0.5455 - val_mean_absolute_error: 0.5414\n",
      "Epoch 20/100\n",
      "5/5 [==============================] - 0s 9ms/step - loss: 0.1155 - mean_absolute_error: 0.2567 - val_loss: 0.4729 - val_mean_absolute_error: 0.4890\n",
      "Epoch 21/100\n",
      "5/5 [==============================] - 0s 10ms/step - loss: 0.1062 - mean_absolute_error: 0.2409 - val_loss: 0.4848 - val_mean_absolute_error: 0.5095\n",
      "Epoch 22/100\n",
      "5/5 [==============================] - 0s 11ms/step - loss: 0.0968 - mean_absolute_error: 0.2348 - val_loss: 0.5681 - val_mean_absolute_error: 0.5757\n",
      "Epoch 23/100\n",
      "5/5 [==============================] - 0s 9ms/step - loss: 0.1426 - mean_absolute_error: 0.2780 - val_loss: 0.4267 - val_mean_absolute_error: 0.4776\n",
      "Epoch 24/100\n",
      "5/5 [==============================] - 0s 10ms/step - loss: 0.0842 - mean_absolute_error: 0.2196 - val_loss: 0.4382 - val_mean_absolute_error: 0.4578\n",
      "Epoch 25/100\n",
      "5/5 [==============================] - 0s 10ms/step - loss: 0.1040 - mean_absolute_error: 0.2482 - val_loss: 0.5279 - val_mean_absolute_error: 0.5470\n",
      "Epoch 26/100\n",
      "5/5 [==============================] - 0s 10ms/step - loss: 0.1101 - mean_absolute_error: 0.2521 - val_loss: 0.4116 - val_mean_absolute_error: 0.4461\n",
      "Epoch 27/100\n",
      "5/5 [==============================] - 0s 11ms/step - loss: 0.0916 - mean_absolute_error: 0.2226 - val_loss: 0.4766 - val_mean_absolute_error: 0.4851\n",
      "Epoch 28/100\n",
      "5/5 [==============================] - 0s 9ms/step - loss: 0.0738 - mean_absolute_error: 0.1922 - val_loss: 0.4479 - val_mean_absolute_error: 0.4811\n",
      "Epoch 29/100\n",
      "5/5 [==============================] - 0s 10ms/step - loss: 0.0570 - mean_absolute_error: 0.1637 - val_loss: 0.3788 - val_mean_absolute_error: 0.4237\n",
      "Epoch 30/100\n",
      "5/5 [==============================] - 0s 15ms/step - loss: 0.0582 - mean_absolute_error: 0.1715 - val_loss: 0.4524 - val_mean_absolute_error: 0.4674\n",
      "Epoch 31/100\n",
      "5/5 [==============================] - 0s 13ms/step - loss: 0.0426 - mean_absolute_error: 0.1428 - val_loss: 0.3999 - val_mean_absolute_error: 0.4415\n",
      "Epoch 32/100\n",
      "5/5 [==============================] - 0s 11ms/step - loss: 0.0395 - mean_absolute_error: 0.1379 - val_loss: 0.4172 - val_mean_absolute_error: 0.4495\n",
      "Epoch 33/100\n",
      "5/5 [==============================] - 0s 10ms/step - loss: 0.0401 - mean_absolute_error: 0.1420 - val_loss: 0.4212 - val_mean_absolute_error: 0.4578\n",
      "Epoch 34/100\n",
      "5/5 [==============================] - 0s 9ms/step - loss: 0.0350 - mean_absolute_error: 0.1330 - val_loss: 0.4936 - val_mean_absolute_error: 0.4982\n",
      "Epoch 35/100\n",
      "5/5 [==============================] - 0s 9ms/step - loss: 0.0415 - mean_absolute_error: 0.1501 - val_loss: 0.4459 - val_mean_absolute_error: 0.4497\n",
      "Epoch 36/100\n",
      "5/5 [==============================] - 0s 10ms/step - loss: 0.0334 - mean_absolute_error: 0.1269 - val_loss: 0.4417 - val_mean_absolute_error: 0.4569\n",
      "Epoch 37/100\n",
      "5/5 [==============================] - 0s 9ms/step - loss: 0.0301 - mean_absolute_error: 0.1254 - val_loss: 0.4551 - val_mean_absolute_error: 0.4742\n",
      "Epoch 38/100\n",
      "5/5 [==============================] - 0s 9ms/step - loss: 0.0332 - mean_absolute_error: 0.1320 - val_loss: 0.4340 - val_mean_absolute_error: 0.4510\n",
      "Epoch 39/100\n",
      "5/5 [==============================] - 0s 10ms/step - loss: 0.0277 - mean_absolute_error: 0.1178 - val_loss: 0.3911 - val_mean_absolute_error: 0.4229\n",
      "Epoch 40/100\n",
      "5/5 [==============================] - 0s 11ms/step - loss: 0.0335 - mean_absolute_error: 0.1319 - val_loss: 0.4350 - val_mean_absolute_error: 0.4432\n",
      "Epoch 41/100\n",
      "5/5 [==============================] - 0s 9ms/step - loss: 0.0267 - mean_absolute_error: 0.1171 - val_loss: 0.5016 - val_mean_absolute_error: 0.4941\n",
      "Epoch 42/100\n",
      "5/5 [==============================] - 0s 10ms/step - loss: 0.0353 - mean_absolute_error: 0.1435 - val_loss: 0.4031 - val_mean_absolute_error: 0.4184\n",
      "Epoch 43/100\n",
      "5/5 [==============================] - 0s 9ms/step - loss: 0.0231 - mean_absolute_error: 0.1056 - val_loss: 0.4005 - val_mean_absolute_error: 0.4330\n",
      "Epoch 44/100\n",
      "5/5 [==============================] - 0s 10ms/step - loss: 0.0246 - mean_absolute_error: 0.1126 - val_loss: 0.4105 - val_mean_absolute_error: 0.4381\n",
      "Epoch 45/100\n",
      "5/5 [==============================] - 0s 10ms/step - loss: 0.0222 - mean_absolute_error: 0.1048 - val_loss: 0.4104 - val_mean_absolute_error: 0.4254\n",
      "Epoch 46/100\n",
      "5/5 [==============================] - 0s 9ms/step - loss: 0.0212 - mean_absolute_error: 0.0977 - val_loss: 0.4047 - val_mean_absolute_error: 0.4307\n",
      "Epoch 47/100\n",
      "5/5 [==============================] - 0s 9ms/step - loss: 0.0182 - mean_absolute_error: 0.0891 - val_loss: 0.3976 - val_mean_absolute_error: 0.4209\n",
      "Epoch 48/100\n",
      "5/5 [==============================] - 0s 10ms/step - loss: 0.0190 - mean_absolute_error: 0.0929 - val_loss: 0.3850 - val_mean_absolute_error: 0.4121\n",
      "Epoch 49/100\n",
      "5/5 [==============================] - 0s 9ms/step - loss: 0.0168 - mean_absolute_error: 0.0846 - val_loss: 0.4053 - val_mean_absolute_error: 0.4276\n",
      "Epoch 50/100\n",
      "5/5 [==============================] - 0s 10ms/step - loss: 0.0161 - mean_absolute_error: 0.0848 - val_loss: 0.3924 - val_mean_absolute_error: 0.4177\n",
      "Epoch 51/100\n",
      "5/5 [==============================] - 0s 10ms/step - loss: 0.0140 - mean_absolute_error: 0.0725 - val_loss: 0.4067 - val_mean_absolute_error: 0.4250\n",
      "Epoch 52/100\n",
      "5/5 [==============================] - 0s 9ms/step - loss: 0.0128 - mean_absolute_error: 0.0678 - val_loss: 0.4006 - val_mean_absolute_error: 0.4201\n",
      "Epoch 53/100\n",
      "5/5 [==============================] - 0s 10ms/step - loss: 0.0132 - mean_absolute_error: 0.0698 - val_loss: 0.3881 - val_mean_absolute_error: 0.4144\n",
      "Epoch 54/100\n",
      "5/5 [==============================] - 0s 11ms/step - loss: 0.0135 - mean_absolute_error: 0.0782 - val_loss: 0.3973 - val_mean_absolute_error: 0.4126\n",
      "Epoch 55/100\n",
      "5/5 [==============================] - 0s 10ms/step - loss: 0.0125 - mean_absolute_error: 0.0727 - val_loss: 0.4035 - val_mean_absolute_error: 0.4304\n",
      "Epoch 56/100\n",
      "5/5 [==============================] - 0s 9ms/step - loss: 0.0132 - mean_absolute_error: 0.0771 - val_loss: 0.4002 - val_mean_absolute_error: 0.4196\n",
      "Epoch 57/100\n",
      "5/5 [==============================] - 0s 10ms/step - loss: 0.0129 - mean_absolute_error: 0.0767 - val_loss: 0.3964 - val_mean_absolute_error: 0.4097\n",
      "Epoch 58/100\n",
      "5/5 [==============================] - 0s 10ms/step - loss: 0.0113 - mean_absolute_error: 0.0672 - val_loss: 0.3950 - val_mean_absolute_error: 0.4123\n",
      "Epoch 59/100\n",
      "5/5 [==============================] - 0s 10ms/step - loss: 0.0098 - mean_absolute_error: 0.0610 - val_loss: 0.3787 - val_mean_absolute_error: 0.4046\n",
      "Epoch 60/100\n",
      "5/5 [==============================] - 0s 9ms/step - loss: 0.0116 - mean_absolute_error: 0.0695 - val_loss: 0.3724 - val_mean_absolute_error: 0.3972\n",
      "Epoch 61/100\n",
      "5/5 [==============================] - 0s 9ms/step - loss: 0.0133 - mean_absolute_error: 0.0802 - val_loss: 0.3802 - val_mean_absolute_error: 0.4055\n",
      "Epoch 62/100\n",
      "5/5 [==============================] - 0s 9ms/step - loss: 0.0120 - mean_absolute_error: 0.0777 - val_loss: 0.3743 - val_mean_absolute_error: 0.3875\n",
      "Epoch 63/100\n",
      "5/5 [==============================] - 0s 10ms/step - loss: 0.0129 - mean_absolute_error: 0.0839 - val_loss: 0.3837 - val_mean_absolute_error: 0.4112\n",
      "Epoch 64/100\n",
      "5/5 [==============================] - 0s 11ms/step - loss: 0.0135 - mean_absolute_error: 0.0833 - val_loss: 0.3843 - val_mean_absolute_error: 0.4011\n",
      "Epoch 65/100\n",
      "5/5 [==============================] - 0s 9ms/step - loss: 0.0150 - mean_absolute_error: 0.0828 - val_loss: 0.3788 - val_mean_absolute_error: 0.4016\n",
      "Epoch 66/100\n",
      "5/5 [==============================] - 0s 10ms/step - loss: 0.0182 - mean_absolute_error: 0.0911 - val_loss: 0.4156 - val_mean_absolute_error: 0.4344\n",
      "Epoch 67/100\n",
      "5/5 [==============================] - 0s 10ms/step - loss: 0.0256 - mean_absolute_error: 0.1087 - val_loss: 0.3633 - val_mean_absolute_error: 0.4095\n",
      "Epoch 68/100\n",
      "5/5 [==============================] - 0s 11ms/step - loss: 0.0216 - mean_absolute_error: 0.1031 - val_loss: 0.3950 - val_mean_absolute_error: 0.4140\n",
      "Epoch 69/100\n",
      "5/5 [==============================] - 0s 10ms/step - loss: 0.0178 - mean_absolute_error: 0.1021 - val_loss: 0.4201 - val_mean_absolute_error: 0.4434\n",
      "Epoch 70/100\n",
      "5/5 [==============================] - 0s 9ms/step - loss: 0.0233 - mean_absolute_error: 0.1152 - val_loss: 0.3769 - val_mean_absolute_error: 0.4177\n",
      "Epoch 71/100\n",
      "5/5 [==============================] - 0s 9ms/step - loss: 0.0211 - mean_absolute_error: 0.1112 - val_loss: 0.3737 - val_mean_absolute_error: 0.4037\n",
      "Epoch 72/100\n",
      "5/5 [==============================] - 0s 9ms/step - loss: 0.0163 - mean_absolute_error: 0.0937 - val_loss: 0.3928 - val_mean_absolute_error: 0.4233\n",
      "Epoch 73/100\n",
      "5/5 [==============================] - 0s 11ms/step - loss: 0.0150 - mean_absolute_error: 0.0916 - val_loss: 0.3838 - val_mean_absolute_error: 0.4206\n",
      "Epoch 74/100\n",
      "5/5 [==============================] - 0s 9ms/step - loss: 0.0153 - mean_absolute_error: 0.0943 - val_loss: 0.3930 - val_mean_absolute_error: 0.4169\n",
      "Epoch 75/100\n",
      "5/5 [==============================] - 0s 10ms/step - loss: 0.0134 - mean_absolute_error: 0.0886 - val_loss: 0.3871 - val_mean_absolute_error: 0.4146\n",
      "Epoch 76/100\n",
      "5/5 [==============================] - 0s 10ms/step - loss: 0.0093 - mean_absolute_error: 0.0694 - val_loss: 0.3697 - val_mean_absolute_error: 0.4056\n",
      "Epoch 77/100\n",
      "5/5 [==============================] - 0s 12ms/step - loss: 0.0094 - mean_absolute_error: 0.0670 - val_loss: 0.3616 - val_mean_absolute_error: 0.3940\n",
      "Epoch 78/100\n",
      "5/5 [==============================] - 0s 10ms/step - loss: 0.0099 - mean_absolute_error: 0.0711 - val_loss: 0.3745 - val_mean_absolute_error: 0.4080\n",
      "Epoch 79/100\n",
      "5/5 [==============================] - 0s 10ms/step - loss: 0.0115 - mean_absolute_error: 0.0783 - val_loss: 0.3719 - val_mean_absolute_error: 0.4004\n",
      "Epoch 80/100\n",
      "5/5 [==============================] - 0s 9ms/step - loss: 0.0126 - mean_absolute_error: 0.0839 - val_loss: 0.3696 - val_mean_absolute_error: 0.4104\n",
      "Epoch 81/100\n",
      "5/5 [==============================] - 0s 11ms/step - loss: 0.0119 - mean_absolute_error: 0.0804 - val_loss: 0.3973 - val_mean_absolute_error: 0.4190\n",
      "Epoch 82/100\n",
      "5/5 [==============================] - 0s 11ms/step - loss: 0.0089 - mean_absolute_error: 0.0677 - val_loss: 0.3739 - val_mean_absolute_error: 0.4031\n",
      "Epoch 83/100\n",
      "5/5 [==============================] - 0s 10ms/step - loss: 0.0072 - mean_absolute_error: 0.0620 - val_loss: 0.3860 - val_mean_absolute_error: 0.4044\n",
      "Epoch 84/100\n",
      "5/5 [==============================] - 0s 10ms/step - loss: 0.0086 - mean_absolute_error: 0.0708 - val_loss: 0.3676 - val_mean_absolute_error: 0.4047\n",
      "Epoch 85/100\n",
      "5/5 [==============================] - 0s 9ms/step - loss: 0.0126 - mean_absolute_error: 0.0805 - val_loss: 0.3884 - val_mean_absolute_error: 0.4150\n",
      "Epoch 86/100\n",
      "5/5 [==============================] - 0s 11ms/step - loss: 0.0138 - mean_absolute_error: 0.0846 - val_loss: 0.3436 - val_mean_absolute_error: 0.3871\n",
      "Epoch 87/100\n",
      "5/5 [==============================] - 0s 9ms/step - loss: 0.0146 - mean_absolute_error: 0.0907 - val_loss: 0.3862 - val_mean_absolute_error: 0.4046\n",
      "Epoch 88/100\n",
      "5/5 [==============================] - 0s 10ms/step - loss: 0.0157 - mean_absolute_error: 0.0962 - val_loss: 0.3781 - val_mean_absolute_error: 0.4235\n",
      "Epoch 89/100\n",
      "5/5 [==============================] - 0s 9ms/step - loss: 0.0238 - mean_absolute_error: 0.1255 - val_loss: 0.3290 - val_mean_absolute_error: 0.3826\n",
      "Epoch 90/100\n",
      "5/5 [==============================] - 0s 10ms/step - loss: 0.0249 - mean_absolute_error: 0.1232 - val_loss: 0.3488 - val_mean_absolute_error: 0.3918\n",
      "Epoch 91/100\n",
      "5/5 [==============================] - 0s 10ms/step - loss: 0.0232 - mean_absolute_error: 0.1164 - val_loss: 0.3873 - val_mean_absolute_error: 0.4248\n",
      "Epoch 92/100\n",
      "5/5 [==============================] - 0s 10ms/step - loss: 0.0141 - mean_absolute_error: 0.0888 - val_loss: 0.3679 - val_mean_absolute_error: 0.4093\n",
      "Epoch 93/100\n",
      "5/5 [==============================] - 0s 20ms/step - loss: 0.0119 - mean_absolute_error: 0.0772 - val_loss: 0.3615 - val_mean_absolute_error: 0.3923\n",
      "Epoch 94/100\n",
      "5/5 [==============================] - 0s 10ms/step - loss: 0.0104 - mean_absolute_error: 0.0727 - val_loss: 0.3816 - val_mean_absolute_error: 0.4063\n",
      "Epoch 95/100\n",
      "5/5 [==============================] - 0s 11ms/step - loss: 0.0086 - mean_absolute_error: 0.0687 - val_loss: 0.3777 - val_mean_absolute_error: 0.4071\n",
      "Epoch 96/100\n",
      "5/5 [==============================] - 0s 9ms/step - loss: 0.0062 - mean_absolute_error: 0.0583 - val_loss: 0.3776 - val_mean_absolute_error: 0.4022\n",
      "Epoch 97/100\n",
      "5/5 [==============================] - 0s 9ms/step - loss: 0.0053 - mean_absolute_error: 0.0525 - val_loss: 0.3784 - val_mean_absolute_error: 0.4068\n",
      "Epoch 98/100\n",
      "5/5 [==============================] - 0s 10ms/step - loss: 0.0049 - mean_absolute_error: 0.0487 - val_loss: 0.3744 - val_mean_absolute_error: 0.4080\n",
      "Epoch 99/100\n",
      "5/5 [==============================] - 0s 9ms/step - loss: 0.0053 - mean_absolute_error: 0.0499 - val_loss: 0.3818 - val_mean_absolute_error: 0.4121\n",
      "Epoch 100/100\n",
      "5/5 [==============================] - 0s 9ms/step - loss: 0.0062 - mean_absolute_error: 0.0577 - val_loss: 0.3493 - val_mean_absolute_error: 0.3865\n",
      "3/3 [==============================] - 0s 2ms/step\n",
      "Test Results on Full Dataset:\n",
      "MSE: 0.47159959354705505\n",
      "RMSE: 0.6867310926025231\n",
      "MAE: 0.48372850703887454\n",
      "R^2: 0.7250920746919118\n",
      "MAPE: 39.7671406238593 %\n",
      "Model saved to trained_mlp_model_tiering.h5\n"
     ]
    }
   ],
   "source": [
    "import pandas as pd\n",
    "import numpy as np\n",
    "from sklearn.model_selection import train_test_split\n",
    "from sklearn.preprocessing import StandardScaler\n",
    "from sklearn.metrics import mean_squared_error, mean_absolute_error, r2_score\n",
    "from tensorflow.keras.models import Sequential\n",
    "from tensorflow.keras.layers import Dense\n",
    "from tensorflow.keras.optimizers import Adam\n",
    "\n",
    "# Load the datasets\n",
    "gunao = pd.read_csv('gunao_surface.csv')\n",
    "tikob = pd.read_csv('tikub_surface_bottom.csv')\n",
    "\n",
    "# Filter for surface data in tikob dataset\n",
    "tikob_surface = tikob[tikob['COLLECTION'] == 'Surface']\n",
    "\n",
    "# Columns to exclude\n",
    "columns_to_exclude = ['DATE', 'MONTH', 'YEAR', 'STATION', 'REPLICATE', 'COLLECTION', 'Latitude', 'Longtitude']\n",
    "\n",
    "# Filter columns for both datasets\n",
    "tikob_fil = tikob_surface.drop(columns=columns_to_exclude)\n",
    "gunao_fil = gunao.drop(columns=columns_to_exclude)\n",
    "\n",
    "# Define feature columns and target column\n",
    "feature_columns = [\n",
    "    'pH', 'DO (mg/L)', 'TDS (mg/L)', 'Salinity (ppt)', 'Cond (uS/cm)', 'Temp (°C)', 'TSS (mg/L)', \n",
    "    'NO2 (ppm)', 'NO3 (ppm)', 'PO4  (ppm)', 'NH4 (ppm)', 'TN (ppm)', 'TP (ppm)', 'BGA-PC (ug/L)', \n",
    "    'Chlorophyll (ug/L)', 'Turbidity (FNU)', 'Coliform (CFU/100ml)', 'Cu (ppm)', 'Fe (ppm)', \n",
    "    'Mn(ppm)', 'Zn(ppm)', 'Cr(ppm)', 'Cd(ppm)', 'Hg(ppm)', 'As(ppm)', 'Pb(ppm)'\n",
    "]\n",
    "target_column = 'BOD (mg/L)'\n",
    "\n",
    "# Extract features and target from both datasets\n",
    "X_tikob = tikob_fil[feature_columns]\n",
    "y_tikob = tikob_fil[target_column]\n",
    "X_gunao = gunao_fil[feature_columns]\n",
    "y_gunao = gunao_fil[target_column]\n",
    "\n",
    "# Combine the datasets\n",
    "X_combined = pd.concat([X_tikob, X_gunao], axis=0)\n",
    "y_combined = pd.concat([y_tikob, y_gunao], axis=0)\n",
    "\n",
    "# Standardize the features\n",
    "scaler = StandardScaler()\n",
    "X_combined_scaled = scaler.fit_transform(X_combined)\n",
    "\n",
    "# First tier: small subset for initial parameter tuning\n",
    "X_small, X_rest, y_small, y_rest = train_test_split(X_combined_scaled, y_combined, test_size=0.9, random_state=3)\n",
    "\n",
    "# Train-test split for small subset\n",
    "X_train_small, X_val_small, y_train_small, y_val_small = train_test_split(X_small, y_small, test_size=0.2, random_state=3)\n",
    "\n",
    "# Function to create the model\n",
    "def create_model():\n",
    "    model = Sequential()\n",
    "    model.add(Dense(128, input_dim=X_train_small.shape[1], activation='relu'))\n",
    "    model.add(Dense(64, activation='tanh'))\n",
    "    model.add(Dense(64, activation='tanh'))\n",
    "    model.add(Dense(16, activation='tanh'))\n",
    "    model.add(Dense(8, activation='tanh'))\n",
    "    model.add(Dense(1, activation='linear'))\n",
    "    model.compile(loss='mean_squared_error', optimizer=Adam(learning_rate=0.01, epsilon=1e-8), metrics=['mean_absolute_error'])\n",
    "    return model\n",
    "\n",
    "# Train model on small subset\n",
    "model_small = create_model()\n",
    "model_small.fit(X_train_small, y_train_small, epochs=100, batch_size=50, validation_split=0.2, verbose=1)\n",
    "\n",
    "# Evaluate on validation set\n",
    "val_predictions_small = model_small.predict(X_val_small)\n",
    "val_mse_small = mean_squared_error(y_val_small, val_predictions_small)\n",
    "val_rmse_small = np.sqrt(val_mse_small)\n",
    "val_mae_small = mean_absolute_error(y_val_small, val_predictions_small)\n",
    "val_r2_small = r2_score(y_val_small, val_predictions_small)\n",
    "val_mape_small = np.mean(np.abs((y_val_small - val_predictions_small.flatten()) / y_val_small)) * 100\n",
    "\n",
    "print('Validation Results on Small Subset:')\n",
    "print('MSE:', val_mse_small)\n",
    "print('RMSE:', val_rmse_small)\n",
    "print('MAE:', val_mae_small)\n",
    "print('R^2:', val_r2_small)\n",
    "print('MAPE:', val_mape_small, '%')\n",
    "\n",
    "# Second tier: larger subset for more refined training\n",
    "X_large, _, y_large, _ = train_test_split(X_combined_scaled, y_combined, test_size=0.5, random_state=1)\n",
    "\n",
    "# Train-test split for large subset\n",
    "X_train_large, X_val_large, y_train_large, y_val_large = train_test_split(X_large, y_large, test_size=0.2, random_state=1)\n",
    "\n",
    "# Train model on large subset\n",
    "model_large = create_model()\n",
    "model_large.fit(X_train_large, y_train_large, epochs=500, batch_size=50, validation_split=0.2, verbose=0.5)\n",
    "\n",
    "# Evaluate on validation set\n",
    "val_predictions_large = model_large.predict(X_val_large)\n",
    "val_mse_large = mean_squared_error(y_val_large, val_predictions_large)\n",
    "val_rmse_large = np.sqrt(val_mse_large)\n",
    "val_mae_large = mean_absolute_error(y_val_large, val_predictions_large)\n",
    "val_r2_large = r2_score(y_val_large, val_predictions_large)\n",
    "val_mape_large = np.mean(np.abs((y_val_large - val_predictions_large.flatten()) / y_val_large)) * 100\n",
    "\n",
    "print('Validation Results on Large Subset:')\n",
    "print('MSE:', val_mse_large)\n",
    "print('RMSE:', val_rmse_large)\n",
    "print('MAE:', val_mae_large)\n",
    "print('R^2:', val_r2_large)\n",
    "print('MAPE:', val_mape_large, '%')\n",
    "\n",
    "# Third tier: full dataset for final training and testing\n",
    "# Train-test split for full dataset\n",
    "X_train_full, X_test_full, y_train_full, y_test_full = train_test_split(X_combined_scaled, y_combined, test_size=0.2, random_state=2)\n",
    "\n",
    "# Train model on full dataset\n",
    "model_full = create_model()\n",
    "model_full.fit(X_train_full, y_train_full, epochs=100, batch_size=50, validation_split=0.2, verbose=1)\n",
    "\n",
    "# Evaluate on test set\n",
    "test_predictions_full = model_full.predict(X_test_full)\n",
    "test_mse_full = mean_squared_error(y_test_full, test_predictions_full)\n",
    "test_rmse_full = np.sqrt(test_mse_full)\n",
    "test_mae_full = mean_absolute_error(y_test_full, test_predictions_full)\n",
    "test_r2_full = r2_score(y_test_full, test_predictions_full)\n",
    "test_mape_full = np.mean(np.abs((y_test_full - test_predictions_full.flatten()) / y_test_full)) * 100\n",
    "\n",
    "print('Test Results on Full Dataset:')\n",
    "print('MSE:', test_mse_full)\n",
    "print('RMSE:', test_rmse_full)\n",
    "print('MAE:', test_mae_full)\n",
    "print('R^2:', test_r2_full)\n",
    "print('MAPE:', test_mape_full, '%')\n",
    "\n",
    "model_full.save('trained_mlp_model_tiering.h5')\n",
    "print(\"Model saved to trained_mlp_model_tiering.h5\")\n"
   ]
  },
  {
   "cell_type": "code",
   "execution_count": null,
   "id": "48b1c3b3-8b93-4ceb-a471-8b9d5091b3d0",
   "metadata": {},
   "outputs": [],
   "source": []
  }
 ],
 "metadata": {
  "kernelspec": {
   "display_name": "M",
   "language": "python",
   "name": "m"
  },
  "language_info": {
   "codemirror_mode": {
    "name": "ipython",
    "version": 3
   },
   "file_extension": ".py",
   "mimetype": "text/x-python",
   "name": "python",
   "nbconvert_exporter": "python",
   "pygments_lexer": "ipython3",
   "version": "3.11.0"
  }
 },
 "nbformat": 4,
 "nbformat_minor": 5
}
